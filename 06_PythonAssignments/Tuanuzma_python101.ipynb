{
 "cells": [
  {
   "cell_type": "markdown",
   "metadata": {
    "id": "88K4xIYJ2HAZ"
   },
   "source": [
    "# This exercise is to test your knowledge in\n",
    "1. Input/Output functions\n",
    "2. Variables and Literals\n",
    "3. Assignment Operators\n",
    "4. Arithmetic Operators"
   ]
  },
  {
   "cell_type": "markdown",
   "metadata": {
    "id": "E5VsUoZWLUdd"
   },
   "source": [
    "**Exercise 1: Print Function**\n",
    "\n",
    "Write a Python program to print the following string in a specific format (see the output).\n",
    "\n",
    "```\n",
    "Twinkle, twinkle, little star,\n",
    "\tHow I wonder what you are!\n",
    "\t\tUp above the world so high,\n",
    "\t\tLike a diamond in the sky.\n",
    "Twinkle, twinkle, little star,\n",
    "\tHow I wonder what you are\n",
    "```\n",
    "\n"
   ]
  },
  {
   "cell_type": "code",
   "execution_count": 1,
   "metadata": {
    "colab": {
     "base_uri": "https://localhost:8080/"
    },
    "id": "VQH9eSOELiVR",
    "outputId": "64ceb267-e0f2-4ecd-8395-4e6c915e4e48"
   },
   "outputs": [
    {
     "name": "stdout",
     "output_type": "stream",
     "text": [
      "Twinkle, twinkle, little star,\n",
      "\tHow I wonder what you are!\n",
      "\t\tUp above the world so high,\n",
      "\t\tLike a diamond in the sky.\n",
      "Twinkle, twinkle, little star,\n",
      "\tHow I wonder what you are\n"
     ]
    }
   ],
   "source": [
    "print(\"Twinkle, twinkle, little star,\")\n",
    "print(\"\\tHow I wonder what you are!\")\n",
    "print(\"\\t\\tUp above the world so high,\")\n",
    "print(\"\\t\\tLike a diamond in the sky.\")\n",
    "print(\"Twinkle, twinkle, little star,\")\n",
    "print(\"\\tHow I wonder what you are\")"
   ]
  },
  {
   "cell_type": "markdown",
   "metadata": {
    "id": "S0odYwMJL5-k"
   },
   "source": [
    "**Exercise 2: Input and Print Function**\n",
    "\n",
    "Write a Python program that accepts the user's first and last name and prints them in reverse order with a space between them.\n",
    "\n",
    "Sample Output\n",
    "\n",
    "```\n",
    "Input your First Name: Dany\n",
    "Input your Last Name : Boon\n",
    "Hello  Boon Dany\n",
    "\n",
    "```\n",
    "\n"
   ]
  },
  {
   "cell_type": "code",
   "execution_count": 2,
   "metadata": {
    "colab": {
     "base_uri": "https://localhost:8080/"
    },
    "id": "-b2jsb362QGd",
    "outputId": "5f1def9f-1db0-4f89-ddaa-1b98a327006a"
   },
   "outputs": [
    {
     "name": "stdin",
     "output_type": "stream",
     "text": [
      "Input your First Name:  Dany\n",
      "Input your Last Name:  Boon\n"
     ]
    },
    {
     "name": "stdout",
     "output_type": "stream",
     "text": [
      "Hello Boon Dany\n"
     ]
    }
   ],
   "source": [
    "first_name = input(\"Input your First Name: \")\n",
    "last_name = input(\"Input your Last Name: \")\n",
    "print(\"Hello\", last_name, first_name)"
   ]
  },
  {
   "cell_type": "markdown",
   "metadata": {
    "id": "k0lMUYCZ2s7t"
   },
   "source": [
    "**Exercise 3: Basic Arithmetic Operations**\n",
    "\n",
    "Write a Python program that does the following:\n",
    "\n",
    "Prompts the user to enter two numbers.\n",
    "Stores these numbers in two variables.\n",
    "Performs and prints the results of addition, subtraction, multiplication, and division of these two numbers."
   ]
  },
  {
   "cell_type": "code",
   "execution_count": null,
   "metadata": {
    "colab": {
     "base_uri": "https://localhost:8080/"
    },
    "id": "3U8nbO3SsxFp",
    "outputId": "40daf606-f716-4438-f1f7-7d65e59bc386"
   },
   "outputs": [
    {
     "name": "stdout",
     "output_type": "stream",
     "text": [
      "20\n",
      "-10\n",
      "75\n",
      "0.3333333333333333\n"
     ]
    }
   ],
   "source": [
    "num1 = 5\n",
    "num2 = 15\n",
    "print(num1 + num2) # addition\n",
    "print(num1 - num2) # subtraction\n",
    "print(num1 * num2) # multiplication\n",
    "print(num1 / num2) # division"
   ]
  },
  {
   "cell_type": "code",
   "execution_count": 4,
   "metadata": {},
   "outputs": [
    {
     "name": "stdin",
     "output_type": "stream",
     "text": [
      "Enter the first number:  5\n",
      "Enter the second number:  15\n"
     ]
    },
    {
     "name": "stdout",
     "output_type": "stream",
     "text": [
      "The addition of 5.0 and 15.0 is: 20.0\n",
      "The subtraction of 5.0 from 15.0 is: -10.0\n",
      "The multiplication of 5.0 and 15.0 is: 75.0\n",
      "The division of 5.0 by 15.0 is: 0.3333333333333333\n"
     ]
    }
   ],
   "source": [
    "# Python program to perform basic arithmetic operations\n",
    "\n",
    "# Prompt user to enter two numbers\n",
    "num1 = float(input(\"Enter the first number: \"))\n",
    "num2 = float(input(\"Enter the second number: \"))\n",
    "\n",
    "# Perform operations\n",
    "addition = num1 + num2\n",
    "subtraction = num1 - num2\n",
    "multiplication = num1 * num2\n",
    "division = num1 / num2 if num2 != 0 else \"Undefined (division by zero)\"\n",
    "\n",
    "# Print the results\n",
    "print(f\"The addition of {num1} and {num2} is: {addition}\")\n",
    "print(f\"The subtraction of {num1} from {num2} is: {subtraction}\")\n",
    "print(f\"The multiplication of {num1} and {num2} is: {multiplication}\")\n",
    "print(f\"The division of {num1} by {num2} is: {division}\")"
   ]
  },
  {
   "cell_type": "markdown",
   "metadata": {
    "id": "AyMAwVTIMnS1"
   },
   "source": [
    "**Exercise 4: Basic Series Problem**\n",
    "\n",
    "Write a Python program that accepts an integer (n) and computes the value of n+nn+nnn.\n",
    "\n",
    "```\n",
    "Sample value of n is 5\n",
    "Expected Result : 615\n",
    "```\n",
    "\n"
   ]
  },
  {
   "cell_type": "code",
   "execution_count": 4,
   "metadata": {
    "colab": {
     "base_uri": "https://localhost:8080/"
    },
    "id": "NOk2uSqyM0Ke",
    "outputId": "910e1af0-f0eb-417d-e3ee-d700f98b0ddf"
   },
   "outputs": [
    {
     "name": "stdout",
     "output_type": "stream",
     "text": [
      "Result: 615\n"
     ]
    }
   ],
   "source": [
    "# Read the number n from the user\n",
    "n = int(input(\"Enter a number n: \"))\n",
    "\n",
    "# Compute n+nn+nnn\n",
    "result = n + (n * 10 + n) + (n * 100 + n * 10 + n)\n",
    "\n",
    "# Print the result\n",
    "print(\"Result:\", result)"
   ]
  },
  {
   "cell_type": "code",
   "execution_count": 5,
   "metadata": {},
   "outputs": [
    {
     "name": "stdin",
     "output_type": "stream",
     "text": [
      "Enter an integer:  5\n"
     ]
    },
    {
     "name": "stdout",
     "output_type": "stream",
     "text": [
      "The result of n + nn + nnn is: 615\n"
     ]
    }
   ],
   "source": [
    "# Prompt the user to input an integer\n",
    "n = input(\"Enter an integer: \")\n",
    "\n",
    "# Compute n, nn, nnn\n",
    "nn = n * 2\n",
    "nnn = n * 3\n",
    "\n",
    "# Convert to integer and compute the result\n",
    "result = int(n) + int(nn) + int(nnn)\n",
    "\n",
    "# Print the result\n",
    "print(\"The result of n + nn + nnn is:\", result)"
   ]
  },
  {
   "cell_type": "markdown",
   "metadata": {
    "id": "zXjvrX8c2RE4"
   },
   "source": [
    "**Exercise 5: Temperature Converter**\n",
    "\n",
    "Write a Python program that:\n",
    "\n",
    "Prompts the user to enter a temperature in Celsius.\n",
    "Converts the temperature to Fahrenheit.\n",
    "Prints the temperature in Fahrenheit.\n",
    "\n",
    "(Hint: The formula to convert Celsius to Fahrenheit is: F = C * 9/5 + 32)"
   ]
  },
  {
   "cell_type": "code",
   "execution_count": 6,
   "metadata": {},
   "outputs": [
    {
     "name": "stdin",
     "output_type": "stream",
     "text": [
      "Enter temperature in Celsius:  25\n"
     ]
    },
    {
     "name": "stdout",
     "output_type": "stream",
     "text": [
      "The temperature in Fahrenheit is: 77.0\n"
     ]
    }
   ],
   "source": [
    "# Prompt the user to enter a temperature in Celsius\n",
    "celsius = float(input(\"Enter temperature in Celsius: \"))\n",
    "\n",
    "# Convert Celsius to Fahrenheit\n",
    "fahrenheit = celsius * 9 / 5 + 32\n",
    "\n",
    "# Print the temperature in Fahrenheit\n",
    "print(\"The temperature in Fahrenheit is:\", fahrenheit)"
   ]
  },
  {
   "cell_type": "markdown",
   "metadata": {
    "id": "5JvZykyG2VQ_"
   },
   "source": [
    "**Exercise 6: Area and Perimeter of a Rectangle**\n",
    "\n",
    "Write a Python program that:\n",
    "\n",
    "Prompts the user to enter the length and width of a rectangle.\n",
    "Calculates the area and perimeter of the rectangle.\n",
    "Prints the area and perimeter of the rectangle."
   ]
  },
  {
   "cell_type": "code",
   "execution_count": 7,
   "metadata": {},
   "outputs": [
    {
     "name": "stdin",
     "output_type": "stream",
     "text": [
      "Enter the length of the rectangle:  5\n",
      "Enter the width of the rectangle:  3\n"
     ]
    },
    {
     "name": "stdout",
     "output_type": "stream",
     "text": [
      "The area of the rectangle is: 15.0\n",
      "The perimeter of the rectangle is: 16.0\n"
     ]
    }
   ],
   "source": [
    "# Prompt the user to enter the length and width of the rectangle\n",
    "length = float(input(\"Enter the length of the rectangle: \"))\n",
    "width = float(input(\"Enter the width of the rectangle: \"))\n",
    "\n",
    "# Calculate the area and perimeter\n",
    "area = length * width\n",
    "perimeter = 2 * (length + width)\n",
    "\n",
    "# Print the results\n",
    "print(\"The area of the rectangle is:\", area)\n",
    "print(\"The perimeter of the rectangle is:\", perimeter)"
   ]
  },
  {
   "cell_type": "markdown",
   "metadata": {
    "id": "mm2wwUDzNT8x"
   },
   "source": [
    "**Example 7: Volume of a Sphere**\n",
    "\n",
    "A sphere is a three-dimensional solid with no face, no edge, no base and no vertex. It is a round body with all points on its surface equidistant from the center. The volume of a sphere is measured in cubic units.\n",
    "\n",
    "The volume of the sphere is : V = 4/3 × π × r3 = π × d3/6.\n",
    "\n",
    "![sphere.png](data:image/png;base64,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)"
   ]
  },
  {
   "cell_type": "code",
   "execution_count": 8,
   "metadata": {
    "colab": {
     "base_uri": "https://localhost:8080/"
    },
    "id": "2d-PB8WANTdG",
    "outputId": "a0bed890-fc77-47ad-e57b-87ded61679cd"
   },
   "outputs": [
    {
     "name": "stdout",
     "output_type": "stream",
     "text": [
      "The volume of the sphere using radius:  523.6666666666666\n"
     ]
    }
   ],
   "source": [
    "# Define the value of pi and assign 3.142\n",
    "pi = 3.142\n",
    "\n",
    "radius = float(input(\"Enter the radius of the sphere: \"))\n",
    "volume = (4/3) * pi * (radius ** 3)\n",
    "print(\"The volume of the sphere using radius: \", float(volume))\n",
    "\n"
   ]
  },
  {
   "cell_type": "markdown",
   "metadata": {
    "id": "VjYxX0Pl2Y5a"
   },
   "source": [
    "**Exercise 8: Simple Interest Calculator**\n",
    "\n",
    "Write a Python program that:\n",
    "\n",
    "Prompts the user to enter the principal amount, rate of interest, and time in years.\n",
    "Calculates the simple interest amount and print the total amount to be paid.\n",
    "\n",
    "(Hint: The formula to calculate simple interest is: SI = (P * R * T) / 100\n",
    "\n",
    "Please note you suppose to print the total amount which is principle + simple interest)"
   ]
  },
  {
   "cell_type": "code",
   "execution_count": 8,
   "metadata": {},
   "outputs": [
    {
     "name": "stdin",
     "output_type": "stream",
     "text": [
      "Enter the principal amount:  100\n",
      "Enter the rate of interest:  3.1\n",
      "Enter the time in years:  12\n"
     ]
    },
    {
     "name": "stdout",
     "output_type": "stream",
     "text": [
      "The simple interest is: 37.2\n",
      "The total amount to be paid is: 137.2\n"
     ]
    }
   ],
   "source": [
    "# Simple Interest Calculator\n",
    "\n",
    "# Prompt the user for input\n",
    "principal = float(input(\"Enter the principal amount: \"))\n",
    "rate_of_interest = float(input(\"Enter the rate of interest: \"))\n",
    "time_in_years = float(input(\"Enter the time in years: \"))\n",
    "\n",
    "# Calculate the simple interest\n",
    "simple_interest = (principal * rate_of_interest * time_in_years) / 100\n",
    "\n",
    "# Calculate the total amount to be paid\n",
    "total_amount = principal + simple_interest\n",
    "\n",
    "# Print the results\n",
    "print(f\"The simple interest is: {simple_interest}\")\n",
    "print(f\"The total amount to be paid is: {total_amount}\")"
   ]
  },
  {
   "cell_type": "markdown",
   "metadata": {
    "id": "hyNTbeMN2cYD"
   },
   "source": [
    "**Exercise 10: Swapping Two Variables**\n",
    "\n",
    "Write a Python program that:\n",
    "\n",
    "Prompts the user to enter two numbers.\n",
    "Swaps the values of the two variables.\n",
    "Prints the values before and after swapping."
   ]
  },
  {
   "cell_type": "code",
   "execution_count": 9,
   "metadata": {
    "colab": {
     "base_uri": "https://localhost:8080/"
    },
    "id": "OsNKfn1Y2e4x",
    "outputId": "92aba057-add4-412f-81c3-0ed37cedff84"
   },
   "outputs": [
    {
     "name": "stdin",
     "output_type": "stream",
     "text": [
      "Enter the first number:  3\n",
      "Enter the second number:  6\n"
     ]
    },
    {
     "name": "stdout",
     "output_type": "stream",
     "text": [
      "Before swapping:  3.0 6.0\n",
      "After swapping:  6.0 3.0\n"
     ]
    }
   ],
   "source": [
    "# Program to swap two numbers\n",
    "\n",
    "# Prompt the user to enter two numbers\n",
    "num1 = float(input(\"Enter the first number: \"))\n",
    "num2 = float(input(\"Enter the second number: \"))\n",
    "\n",
    "# Print values before swapping\n",
    "print(\"Before swapping: \", num1, num2)\n",
    "\n",
    "# Swap the values of the two variables\n",
    "num1, num2 = num2, num1\n",
    "\n",
    "# Print values after swapping\n",
    "print(\"After swapping: \", num1, num2)"
   ]
  },
  {
   "cell_type": "markdown",
   "metadata": {
    "id": "uQKP9hMA2ksS"
   },
   "source": [
    "**Exercise 11: Square and Cube**\n",
    "\n",
    "Write a Python program that:\n",
    "\n",
    "Prompts the user to enter a number.\n",
    "Calculates the square and cube of the number.\n",
    "Prints the square and cube of the entered number.\n",
    "\n",
    "\n",
    "```\n",
    "Enter a number givennumber 3\n",
    "Square of 3:  9\n",
    "Cube of 3: 27\n",
    "```\n",
    "\n",
    "\n",
    "\n",
    "\n",
    "\n",
    "\n",
    "\n"
   ]
  },
  {
   "cell_type": "code",
   "execution_count": 11,
   "metadata": {
    "colab": {
     "base_uri": "https://localhost:8080/"
    },
    "id": "-03LSJtR4e_8",
    "outputId": "2d93f09b-7a77-4469-8f9b-2ffd16214206"
   },
   "outputs": [
    {
     "name": "stdout",
     "output_type": "stream",
     "text": [
      "Square of 10 : 100\n",
      "Cube of 10 : 1000\n"
     ]
    }
   ],
   "source": [
    "# Prompts the user to enter a number\n",
    "given_number = int(input(\"Enter a number givennumber: \"))\n",
    "\n",
    "# Calculates square and cube of givennumber\n",
    "square_of_given_number = (given_number * given_number)\n",
    "cube_of_given_number = (given_number * given_number * given_number)\n",
    "\n",
    "# Print the square and cube of the input number\n",
    "print(\"Square of\", given_number, \":\", square_of_given_number)\n",
    "print(\"Cube of\", given_number, \":\", cube_of_given_number)"
   ]
  },
  {
   "cell_type": "code",
   "execution_count": 11,
   "metadata": {},
   "outputs": [
    {
     "name": "stdin",
     "output_type": "stream",
     "text": [
      "Enter a number:  10\n"
     ]
    },
    {
     "name": "stdout",
     "output_type": "stream",
     "text": [
      "Square of 10.0: 100.0\n",
      "Cube of 10.0: 1000.0\n"
     ]
    }
   ],
   "source": [
    "# Program to calculate the square and cube of a number\n",
    "\n",
    "# Prompt the user to enter a number\n",
    "number = float(input(\"Enter a number: \"))\n",
    "\n",
    "# Calculate the square and cube of the number\n",
    "square = number ** 2\n",
    "cube = number ** 3\n",
    "\n",
    "# Print the square and cube\n",
    "print(f\"Square of {number}: {square}\")\n",
    "print(f\"Cube of {number}: {cube}\")"
   ]
  },
  {
   "cell_type": "markdown",
   "metadata": {
    "id": "qTSAl9Hw4iiL"
   },
   "source": [
    "**Exercise 12: Calculate BMI**\n",
    "\n",
    "Write a Python program that:\n",
    "\n",
    "Prompts the user to enter their weight in kilograms and height in meters.\n",
    "Calculates the Body Mass Index (BMI).\n",
    "Prints the BMI.\n",
    "\n",
    "Hint: The formula to calculate BMI is: BMI = weight / (height * height)\n"
   ]
  },
  {
   "cell_type": "code",
   "execution_count": 12,
   "metadata": {
    "colab": {
     "base_uri": "https://localhost:8080/"
    },
    "id": "JSsnmqY64k4D",
    "outputId": "09a64c4f-356d-4c59-d238-59e2237eb812"
   },
   "outputs": [
    {
     "name": "stdout",
     "output_type": "stream",
     "text": [
      "Your BMI is:  0.002109619051482819\n"
     ]
    }
   ],
   "source": [
    "# Prompts the user to enter their weight in kilograms and height in meters.\n",
    "weight = float(input(\"Enter your weight in kilograms: \"))\n",
    "height = float(input(\"Enter you height in meters: \"))\n",
    "\n",
    "# Calculates the Body Mass Index(BMI)\n",
    "# The Formula of BMI given is: BMI = weight/height * height\n",
    "BMI = (weight / (height * height))\n",
    "\n",
    "# Print the value of BMI\n",
    "print(\"Your BMI is: \", BMI)\n"
   ]
  },
  {
   "cell_type": "code",
   "execution_count": 16,
   "metadata": {},
   "outputs": [
    {
     "name": "stdin",
     "output_type": "stream",
     "text": [
      "Enter your weight in kilograms:  53\n",
      "Enter your height in meters:  1.57\n"
     ]
    },
    {
     "name": "stdout",
     "output_type": "stream",
     "text": [
      "Your Body Mass Index (BMI) is: 21.50\n"
     ]
    }
   ],
   "source": [
    "# BMI Calculator\n",
    "\n",
    "# Prompt the user to enter their weight and height\n",
    "weight = float(input(\"Enter your weight in kilograms: \"))\n",
    "height = float(input(\"Enter your height in meters: \"))\n",
    "\n",
    "# Calculate the BMI\n",
    "bmi = weight / (height * height)\n",
    "\n",
    "# Print the BMI\n",
    "print(f\"Your Body Mass Index (BMI) is: {bmi:.2f}\")"
   ]
  },
  {
   "cell_type": "markdown",
   "metadata": {
    "id": "iafLGivo4nJ9"
   },
   "source": [
    "**Exercise 13: Compound Interest Calculator**\n",
    "\n",
    "Write a Python program that:\n",
    "\n",
    "Prompts the user to enter the principal amount, rate of interest, time in years, and number of times interest is compounded per year. Calculates the compound interest. Prints the compound interest.\n",
    "\n",
    "(Hint: The formula to calculate compound interest is:\n",
    "**A=P(1+R/100n)nt**\n",
    "where\n",
    "A is the amount,\n",
    "P is the principal amount,\n",
    "R is the annual interest rate,\n",
    "t is the time the money is invested for, and\n",
    "n is the number of times interest is compounded per year)"
   ]
  },
  {
   "cell_type": "code",
   "execution_count": 17,
   "metadata": {},
   "outputs": [
    {
     "name": "stdin",
     "output_type": "stream",
     "text": [
      "Enter the principal amount:  1000\n",
      "Enter the annual rate of interest (in %):  3.1\n",
      "Enter the time in years:  12\n",
      "Enter the number of times interest is compounded per year:  12\n"
     ]
    },
    {
     "name": "stdout",
     "output_type": "stream",
     "text": [
      "The compound interest is: 449.94\n"
     ]
    }
   ],
   "source": [
    "# Compound Interest Calculator\n",
    "\n",
    "# Prompt the user to enter the principal amount, rate of interest, time, and number of times compounded per year\n",
    "principal = float(input(\"Enter the principal amount: \"))\n",
    "rate_of_interest = float(input(\"Enter the annual rate of interest (in %): \"))\n",
    "time_in_years = float(input(\"Enter the time in years: \"))\n",
    "compounding_frequency = int(input(\"Enter the number of times interest is compounded per year: \"))\n",
    "\n",
    "# Calculate the compound interest\n",
    "amount = principal * (1 + (rate_of_interest / (100 * compounding_frequency))) ** (compounding_frequency * time_in_years)\n",
    "compound_interest = amount - principal\n",
    "\n",
    "# Print the compound interest\n",
    "print(\"The compound interest is: {:.2f}\".format(compound_interest))"
   ]
  },
  {
   "cell_type": "markdown",
   "metadata": {
    "id": "Bb1AM1tZ9co_"
   },
   "source": [
    "**Exercise 14: Digital Root**\n",
    "\n",
    "Compute the digital root of 97865. The digital root is the single-digit value obtained by iteratively summing the digits of the number until a single digit is obtained. Digital Root of 97865 is 8\n",
    "\n"
   ]
  },
  {
   "cell_type": "code",
   "execution_count": 15,
   "metadata": {
    "colab": {
     "base_uri": "https://localhost:8080/"
    },
    "id": "xPPr30qD99nZ",
    "outputId": "08a2a98c-e637-4c21-80bf-a7b07304ada3"
   },
   "outputs": [
    {
     "name": "stdout",
     "output_type": "stream",
     "text": [
      "8\n"
     ]
    }
   ],
   "source": [
    "digital_root = 97865\n",
    "sum_of_digits = 0\n",
    "\n",
    "# Calculate the sum of digits given\n",
    "digital_root = str(9 + 7 + 8 + 6 + 5)\n",
    "sum_of_digits = str(3 + 5)\n",
    "print(sum_of_digits)"
   ]
  },
  {
   "cell_type": "code",
   "execution_count": 18,
   "metadata": {},
   "outputs": [
    {
     "name": "stdout",
     "output_type": "stream",
     "text": [
      "The digital root of 97865 is 8\n"
     ]
    }
   ],
   "source": [
    "# Function to calculate the digital root\n",
    "def digital_root(number):\n",
    "    while number >= 10:  # Continue until it's a single-digit number\n",
    "        number = sum(int(digit) for digit in str(number))\n",
    "    return number\n",
    "\n",
    "# Example\n",
    "number = 97865\n",
    "result = digital_root(number)\n",
    "print(f\"The digital root of {number} is {result}\")"
   ]
  },
  {
   "cell_type": "markdown",
   "metadata": {
    "id": "b9ilNd-s-LW6"
   },
   "source": [
    "**Exercise 15: Calculate the number of bits**\n",
    "\n",
    "Calculate how many bits are needed to represent 35 in binary."
   ]
  },
  {
   "cell_type": "code",
   "execution_count": 16,
   "metadata": {
    "colab": {
     "base_uri": "https://localhost:8080/"
    },
    "id": "NIqJttlx-i0F",
    "outputId": "9017810c-7f4d-4670-ee23-25024f8732a1"
   },
   "outputs": [
    {
     "name": "stdout",
     "output_type": "stream",
     "text": [
      "The binary number for 35 is:  100011\n",
      "6 bits\n"
     ]
    }
   ],
   "source": [
    "given_number = 35\n",
    "temp_number = str(given_number)\n",
    "binary_output = 0\n",
    "\n",
    "# calculatebinarynumber = (35 // 2 = 17, 35 % 2 = 1)\n",
    "# calculatebinarynumber = (17 // 2 = 8, 17 % 2 = 1)\n",
    "# calculatebinarynumber = (8 // 2 = 4, 8 % 2 = 0)\n",
    "# calculatebinarynumber = (4 // 2 = 2, 4 % 2 = 0)\n",
    "# calculatebinarynumber = (2 // 2 = 1, 2 % 2 = 0)\n",
    "# calculatebinarynumber = (1 // 2 = 0, 1 % 2 = 1)\n",
    "\n",
    "temp_number_a = given_number % 2\n",
    "given_number = given_number // 2\n",
    "\n",
    "temp_number_b = given_number % 2\n",
    "given_number = given_number // 2\n",
    "\n",
    "temp_number_c = given_number % 2\n",
    "given_number = given_number // 2\n",
    "\n",
    "temp_number_d = given_number % 2\n",
    "given_number = given_number // 2\n",
    "\n",
    "temp_number_e = given_number % 2\n",
    "given_number = given_number // 2\n",
    "\n",
    "temp_number_f = given_number % 2\n",
    "given_number = given_number // 2\n",
    "\n",
    "binary_output = str(temp_number_f) + str(temp_number_e) + str(temp_number_d) + \\\n",
    "                str(temp_number_c) + str(temp_number_b) + str(temp_number_a)\n",
    "\n",
    "print(\"The binary number for 35 is: \", binary_output)\n",
    "print(len(binary_output), \"bits\")"
   ]
  },
  {
   "cell_type": "markdown",
   "metadata": {
    "id": "wz8US3RI-lBD"
   },
   "source": [
    "**Exercise 16: Find Position**\n",
    "\n",
    "Find the Position of the First Occurrence of a Digit. Find the position of the first occurrence of a 8 in 97865. Positions are zero-based. Since it is zero-based, 8 is in position 2"
   ]
  },
  {
   "cell_type": "code",
   "execution_count": 17,
   "metadata": {
    "colab": {
     "base_uri": "https://localhost:8080/"
    },
    "id": "XuT5R4UWQ_tA",
    "outputId": "479c41bb-a896-488e-a276-cff74a40f88c"
   },
   "outputs": [
    {
     "name": "stdout",
     "output_type": "stream",
     "text": [
      "The position of digit 8 is:  2\n"
     ]
    }
   ],
   "source": [
    "given_number = 97865\n",
    "temp_number = str(given_number)\n",
    "position = 0\n",
    "\n",
    "position = len(temp_number)\n",
    "\n",
    "position_a = given_number % 2\n",
    "given_number = given_number // 2\n",
    "position_a = position_a - 1\n",
    "\n",
    "position_b = given_number % 2\n",
    "given_number = given_number // 2\n",
    "position_b = position_b + 1\n",
    "\n",
    "position_c = given_number % 2\n",
    "given_number = given_number // 2\n",
    "position_c = position_c + 2\n",
    "\n",
    "print(\"The position of digit 8 is: \", position_c)"
   ]
  },
  {
   "cell_type": "code",
   "execution_count": 18,
   "metadata": {
    "colab": {
     "base_uri": "https://localhost:8080/"
    },
    "id": "NulP0L-uQ7kE",
    "outputId": "31e21b1f-dd2f-437a-8d1e-f060da852b6e"
   },
   "outputs": [
    {
     "name": "stdout",
     "output_type": "stream",
     "text": [
      "The position of digit 8 is:  2\n"
     ]
    }
   ],
   "source": [
    "given_number = 97865\n",
    "temp_number = str(given_number)\n",
    "number_to_find = 8\n",
    "result = 0\n",
    "\n",
    "current_position = 0\n",
    "remainder = given_number % 10\n",
    "\n",
    "if (remainder == 8):\n",
    "    current_position = 4\n",
    "else:\n",
    "    current_position = current_position\n",
    "temp_number = given_number % 10\n",
    "given_number = given_number // 10\n",
    "\n",
    "if (remainder == 8):\n",
    "    current_position = 3\n",
    "else:\n",
    "    current_position = current_position + 1\n",
    "temp_number = given_number % 10\n",
    "given_number = given_number // 10\n",
    "\n",
    "if (remainder == 8):\n",
    "    current_position = 2\n",
    "else:\n",
    "    current_position = current_position + 1\n",
    "temp_number = given_number % 10\n",
    "given_number = given_number // 10\n",
    "\n",
    "result = current_position\n",
    "\n",
    "print(\"The position of digit 8 is: \", result)"
   ]
  },
  {
   "cell_type": "code",
   "execution_count": 19,
   "metadata": {},
   "outputs": [
    {
     "name": "stdout",
     "output_type": "stream",
     "text": [
      "The position of the first occurrence of 8 in 97865 is 2.\n"
     ]
    }
   ],
   "source": [
    "# Function to find the position of the first occurrence of a digit\n",
    "def find_first_occurrence(number, digit):\n",
    "    number_str = str(number)  # Convert the number to a string\n",
    "    return number_str.index(str(digit))  # Find the index of the digit\n",
    "\n",
    "# Example\n",
    "number = 97865\n",
    "digit = 8\n",
    "position = find_first_occurrence(number, digit)\n",
    "print(f\"The position of the first occurrence of {digit} in {number} is {position}.\")"
   ]
  },
  {
   "cell_type": "markdown",
   "metadata": {
    "id": "dp7Yh2Aj_UY8"
   },
   "source": [
    "**Exercise 17: Find Number of Full Weeks and Extra Days**\n",
    "\n",
    "Number of days 18, determine how many full weeks and extra days that number represents.\n",
    "\n",
    "Result: 2 weeks 4 days"
   ]
  },
  {
   "cell_type": "code",
   "execution_count": 19,
   "metadata": {
    "colab": {
     "base_uri": "https://localhost:8080/"
    },
    "id": "tPfcNsfjoCpr",
    "outputId": "487fc584-14a3-4833-812f-54d01697b6d5"
   },
   "outputs": [
    {
     "name": "stdout",
     "output_type": "stream",
     "text": [
      "2 weeks 4 days\n"
     ]
    }
   ],
   "source": [
    "number_of_days = 18\n",
    "weeks = number_of_days // 7\n",
    "days = number_of_days % 7\n",
    "print(weeks, \"weeks\", days, \"days\")"
   ]
  },
  {
   "cell_type": "code",
   "execution_count": 20,
   "metadata": {},
   "outputs": [
    {
     "name": "stdout",
     "output_type": "stream",
     "text": [
      "18 days = 2 weeks and 4 days\n"
     ]
    }
   ],
   "source": [
    "# Function to calculate full weeks and extra days\n",
    "def calculate_weeks_and_days(days):\n",
    "    weeks = days // 7  # Calculate full weeks\n",
    "    extra_days = days % 7  # Calculate remaining days\n",
    "    return weeks, extra_days\n",
    "\n",
    "# Example\n",
    "days = 18\n",
    "weeks, extra_days = calculate_weeks_and_days(days)\n",
    "print(f\"{days} days = {weeks} weeks and {extra_days} days\")"
   ]
  },
  {
   "cell_type": "markdown",
   "metadata": {
    "id": "479yM1mRALJ3"
   },
   "source": [
    "**Exercise 18: Convert Seconds to Hours, Minutes and Seconds**\n",
    "\n",
    "Convert 3665 seconds into hours, minutes, and seconds.\n",
    "\n",
    "Result: 1 Hours 1 Minutes 5 Seconds"
   ]
  },
  {
   "cell_type": "code",
   "execution_count": 20,
   "metadata": {
    "colab": {
     "base_uri": "https://localhost:8080/"
    },
    "id": "U0D6PdLmAqDX",
    "outputId": "7a3da4cc-6673-455b-db00-ba3da8c8fd80"
   },
   "outputs": [
    {
     "name": "stdout",
     "output_type": "stream",
     "text": [
      "1 Hours 1 Minutes 5 Seconds\n"
     ]
    }
   ],
   "source": [
    "seconds = 3665\n",
    "\n",
    "# Convert seconds to hours, minutes and seconds\n",
    "hours = seconds // 3600\n",
    "seconds = seconds % 3600\n",
    "minutes = seconds // 60\n",
    "seconds = seconds % 60\n",
    "\n",
    "# Print the results\n",
    "print(hours, \"Hours\", minutes, \"Minutes\", seconds, \"Seconds\")\n"
   ]
  },
  {
   "cell_type": "code",
   "execution_count": 21,
   "metadata": {},
   "outputs": [
    {
     "name": "stdout",
     "output_type": "stream",
     "text": [
      "3665 seconds = 1 Hours, 1 Minutes, 5 Seconds\n"
     ]
    }
   ],
   "source": [
    "# Function to convert seconds into hours, minutes, and seconds\n",
    "def convert_seconds(total_seconds):\n",
    "    hours = total_seconds // 3600  # Calculate hours\n",
    "    remaining_seconds = total_seconds % 3600\n",
    "    minutes = remaining_seconds // 60  # Calculate minutes\n",
    "    seconds = remaining_seconds % 60  # Calculate remaining seconds\n",
    "    return hours, minutes, seconds\n",
    "\n",
    "# Example\n",
    "total_seconds = 3665\n",
    "hours, minutes, seconds = convert_seconds(total_seconds)\n",
    "print(f\"{total_seconds} seconds = {hours} Hours, {minutes} Minutes, {seconds} Seconds\")"
   ]
  },
  {
   "cell_type": "markdown",
   "metadata": {
    "id": "ddxP9dXd6Kat"
   },
   "source": [
    "**Exercise 19: Convert 97409 to Binary**\n",
    "\n",
    "Write a Python program that:\n",
    "\n",
    "Converts the given integer 97409 to its binary representation.\n",
    "Prints the binary representation."
   ]
  },
  {
   "cell_type": "code",
   "execution_count": 21,
   "metadata": {
    "colab": {
     "base_uri": "https://localhost:8080/"
    },
    "id": "mytSAmndctGj",
    "outputId": "0951f7e1-8212-4054-8747-7ae9fbfea19b"
   },
   "outputs": [
    {
     "name": "stdout",
     "output_type": "stream",
     "text": [
      "The integer value given is:  97409\n",
      "The binary number is: 10111110010000001\n"
     ]
    }
   ],
   "source": [
    "given_number = 97409\n",
    "temp_number = str(given_number)\n",
    "print(\"The integer value given is: \", temp_number)\n",
    "\n",
    "temp_number_a = given_number % 2\n",
    "given_number = given_number // 2\n",
    "\n",
    "temp_number_b = given_number % 2\n",
    "given_number = given_number // 2\n",
    "\n",
    "temp_number_c = given_number % 2\n",
    "given_number = given_number // 2\n",
    "\n",
    "temp_number_d = given_number % 2\n",
    "given_number = given_number // 2\n",
    "\n",
    "temp_number_e = given_number % 2\n",
    "given_number = given_number // 2\n",
    "\n",
    "temp_number_f = given_number % 2\n",
    "given_number = given_number // 2\n",
    "\n",
    "temp_number_g = given_number % 2\n",
    "given_number = given_number // 2\n",
    "\n",
    "temp_number_h = given_number % 2\n",
    "given_number = given_number // 2\n",
    "\n",
    "temp_number_i = given_number % 2\n",
    "given_number = given_number // 2\n",
    "\n",
    "temp_number_j = given_number % 2\n",
    "given_number = given_number // 2\n",
    "\n",
    "temp_number_k = given_number % 2\n",
    "given_number = given_number // 2\n",
    "\n",
    "temp_number_l = given_number % 2\n",
    "given_number = given_number // 2\n",
    "\n",
    "temp_number_m = given_number % 2\n",
    "given_number = given_number // 2\n",
    "\n",
    "temp_number_n = given_number % 2\n",
    "given_number = given_number // 2\n",
    "\n",
    "temp_number_o = given_number % 2\n",
    "given_number = given_number // 2\n",
    "\n",
    "temp_number_p = given_number % 2\n",
    "given_number = given_number // 2\n",
    "\n",
    "temp_number_q = given_number % 2\n",
    "given_number = given_number // 2\n",
    "\n",
    "print(\"The binary number is: \", temp_number_q, temp_number_p, temp_number_o, \\\n",
    "temp_number_n, temp_number_m, temp_number_l, temp_number_k, temp_number_j, \\\n",
    "temp_number_i, temp_number_h, temp_number_g, temp_number_f, temp_number_e, \\\n",
    "temp_number_d, temp_number_c, temp_number_b, temp_number_a, sep=\"\")"
   ]
  },
  {
   "cell_type": "code",
   "execution_count": 22,
   "metadata": {
    "colab": {
     "base_uri": "https://localhost:8080/"
    },
    "id": "vxcpe-zkB4lK",
    "outputId": "21b66c58-a8ab-41aa-9cd8-4aca46580e2b"
   },
   "outputs": [
    {
     "name": "stdout",
     "output_type": "stream",
     "text": [
      "The integer value given is:  97409\n",
      "1\n",
      "0\n",
      "0\n",
      "0\n",
      "0\n",
      "0\n",
      "0\n",
      "1\n",
      "0\n",
      "0\n",
      "1\n",
      "1\n",
      "1\n",
      "1\n",
      "1\n",
      "0\n",
      "1\n",
      "The binary number is:  10111110010000001\n"
     ]
    }
   ],
   "source": [
    "given_number = 97409\n",
    "temp_number = str(given_number)\n",
    "print(\"The integer value given is: \", temp_number)\n",
    "binary_output = 0\n",
    "\n",
    "temp_number_a = given_number % 2\n",
    "given_number = given_number // 2\n",
    "print(temp_number_a)\n",
    "\n",
    "temp_number_b = given_number % 2\n",
    "given_number = given_number // 2\n",
    "print(temp_number_b)\n",
    "\n",
    "temp_number_c = given_number % 2\n",
    "given_number = given_number // 2\n",
    "print(temp_number_c)\n",
    "\n",
    "temp_number_d = given_number % 2\n",
    "given_number = given_number // 2\n",
    "print(temp_number_d)\n",
    "\n",
    "temp_number_e = given_number % 2\n",
    "given_number = given_number // 2\n",
    "print(temp_number_e)\n",
    "\n",
    "temp_number_f = given_number % 2\n",
    "given_number = given_number // 2\n",
    "print(temp_number_f)\n",
    "\n",
    "temp_number_g = given_number % 2\n",
    "given_number = given_number // 2\n",
    "print(temp_number_g)\n",
    "\n",
    "temp_number_h = given_number % 2\n",
    "given_number = given_number // 2\n",
    "print(temp_number_h)\n",
    "\n",
    "temp_number_i = given_number % 2\n",
    "given_number = given_number // 2\n",
    "print(temp_number_i)\n",
    "\n",
    "temp_number_j = given_number % 2\n",
    "given_number = given_number // 2\n",
    "print(temp_number_j)\n",
    "\n",
    "temp_number_k = given_number % 2\n",
    "given_number = given_number // 2\n",
    "print(temp_number_k)\n",
    "\n",
    "temp_number_l = given_number % 2\n",
    "given_number = given_number // 2\n",
    "print(temp_number_l)\n",
    "\n",
    "temp_number_m = given_number % 2\n",
    "given_number = given_number // 2\n",
    "print(temp_number_m)\n",
    "\n",
    "temp_number_n = given_number % 2\n",
    "given_number = given_number // 2\n",
    "print(temp_number_n)\n",
    "\n",
    "temp_number_o = given_number % 2\n",
    "given_number = given_number // 2\n",
    "print(temp_number_o)\n",
    "\n",
    "temp_number_p = given_number % 2\n",
    "given_number = given_number // 2\n",
    "print(temp_number_p)\n",
    "\n",
    "temp_number_q = given_number % 2\n",
    "given_number = given_number // 2\n",
    "print(temp_number_q)\n",
    "\n",
    "binary_output = str(temp_number_q) + str(temp_number_p) + str(temp_number_o) + \\\n",
    "                str(temp_number_n) + str(temp_number_m) + str(temp_number_l) + str(temp_number_k) + \\\n",
    "                str(temp_number_j) + str(temp_number_i) + str(temp_number_h) + str(temp_number_g) \\\n",
    "                + str(temp_number_f) + str(temp_number_e) + str(temp_number_d) + str(temp_number_c) \\\n",
    "                + str(temp_number_b) + str(temp_number_a)\n",
    "\n",
    "print(\"The binary number is: \", binary_output)"
   ]
  },
  {
   "cell_type": "code",
   "execution_count": 22,
   "metadata": {},
   "outputs": [
    {
     "name": "stdout",
     "output_type": "stream",
     "text": [
      "The binary representation of 97409 is 10111110010000001\n"
     ]
    }
   ],
   "source": [
    "# Convert an integer to binary\n",
    "number = 97409\n",
    "binary_representation = bin(number)[2:]  # Convert to binary and remove the '0b' prefix\n",
    "print(f\"The binary representation of {number} is {binary_representation}\")"
   ]
  },
  {
   "cell_type": "markdown",
   "metadata": {
    "id": "e_VISMqg6327"
   },
   "source": [
    "**Exercise 20: Convert 1011 to Decimal**\n",
    "\n",
    "Write a Python program that:\n",
    "\n",
    "Converts the given binary 1011 to its decimal representation. Prints the decimal representation."
   ]
  },
  {
   "cell_type": "code",
   "execution_count": 23,
   "metadata": {
    "colab": {
     "base_uri": "https://localhost:8080/"
    },
    "id": "xFh3wWwW7OiO",
    "outputId": "1a0fb9cb-2e90-49f6-f63e-2f696862ddb5"
   },
   "outputs": [
    {
     "name": "stdout",
     "output_type": "stream",
     "text": [
      "The decimal value is:  11\n"
     ]
    }
   ],
   "source": [
    "# State the given binary number is\n",
    "binary_number = 1011\n",
    "temp_number = int(binary_number)\n",
    "decimal = 0\n",
    "\n",
    "# Arithmetic expresion to get Remainder and Quotient value\n",
    "# Steps to calculate the remainder of a division operation between two numbers\n",
    "# Steps to allows you to force certain arguments by position\n",
    "\n",
    "temp_number_a = binary_number % 10\n",
    "binary_number = binary_number // 10\n",
    "\n",
    "temp_number_b = binary_number % 10\n",
    "binary_number = binary_number // 10\n",
    "\n",
    "temp_number_c = binary_number % 10\n",
    "binary_number = binary_number // 10\n",
    "\n",
    "temp_number_d = binary_number % 10\n",
    "binary_number = binary_number // 10\n",
    "\n",
    "# Convert binary to decimal using formula\n",
    "# 1 X 2^0 = 1 X 1 = 1 (decimal_d)\n",
    "# 1 X 2^1 = 1 X 2 = 2 (decimal_c)\n",
    "# 1 X 2^2 = 0 X 4 = 0 (decimal_b)\n",
    "# 1 X 2^3 = 1 X 8 = 8 (decimal_a)\n",
    "\n",
    "decimal_d = temp_number_d * (2**3)\n",
    "\n",
    "decimal_c = temp_number_c * (2**2)\n",
    "\n",
    "decimal_b = temp_number_b * (2**1)\n",
    "\n",
    "decimal_a = temp_number_a * (2**0)\n",
    "\n",
    "# Calculate sum of decimal value using addition operations.\n",
    "# Print the decimal value.\n",
    "sum = decimal_d + decimal_c + decimal_b + decimal_a\n",
    "print(\"The decimal value is: \", sum)"
   ]
  },
  {
   "cell_type": "code",
   "execution_count": 23,
   "metadata": {},
   "outputs": [
    {
     "name": "stdout",
     "output_type": "stream",
     "text": [
      "The decimal representation of binary 1011 is 11\n"
     ]
    }
   ],
   "source": [
    "# Convert a binary number to decimal\n",
    "binary_number = \"1011\"\n",
    "decimal_representation = int(binary_number, 2)  # Convert from base 2 to decimal\n",
    "print(f\"The decimal representation of binary {binary_number} is {decimal_representation}\")"
   ]
  }
 ],
 "metadata": {
  "colab": {
   "provenance": []
  },
  "kernelspec": {
   "display_name": "Python 3 (ipykernel)",
   "language": "python",
   "name": "python3"
  },
  "language_info": {
   "codemirror_mode": {
    "name": "ipython",
    "version": 3
   },
   "file_extension": ".py",
   "mimetype": "text/x-python",
   "name": "python",
   "nbconvert_exporter": "python",
   "pygments_lexer": "ipython3",
   "version": "3.13.0"
  }
 },
 "nbformat": 4,
 "nbformat_minor": 4
}
