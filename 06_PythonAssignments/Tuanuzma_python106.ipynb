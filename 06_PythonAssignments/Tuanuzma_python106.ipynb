{
 "cells": [
  {
   "cell_type": "markdown",
   "metadata": {
    "id": "QoMGXk6UXHB9"
   },
   "source": [
    "**Problem 1**\n",
    "\n",
    "A pangram is a sentence using every letter of the alphabet at least once. It is case insensitive, so it doesn't matter if a letter is lower-case (e.g. k) or upper-case (e.g. K).\n",
    "\n",
    "For this exercise, a sentence is a pangram if it contains each of the 26 letters in the English alphabet.\n",
    "\n",
    "Example: The quick brown fox jumps over the lazy dog.\n",
    "\n",
    "*Your task is to figure out if a sentence is a pangram.*"
   ]
  },
  {
   "cell_type": "code",
   "execution_count": null,
   "metadata": {
    "colab": {
     "base_uri": "https://localhost:8080/"
    },
    "id": "95Ao5ti9iHU1",
    "outputId": "5af4bf9a-8d22-46e4-bd00-82e6eec62ff7"
   },
   "outputs": [
    {
     "name": "stdout",
     "output_type": "stream",
     "text": [
      "True\n"
     ]
    }
   ],
   "source": [
    "def pangram(sentence):\n",
    "    # Convert the sentence to lowercase\n",
    "    sentence = sentence.lower()\n",
    "\n",
    "    # Define the alphabet set\n",
    "    alphabet = set('abcdefghijklmnopqrstuvwxyz')\n",
    "\n",
    "    # Create a set of letters found in the sentence\n",
    "    found_letters = {char for char in sentence if char in alphabet}\n",
    "\n",
    "    # Check if the found letters set contains all letters in the alphabet\n",
    "    return found_letters == alphabet\n",
    "\n",
    "# Test the function\n",
    "print(is_pangram(\"The quick brown fox jumps over the lazy dog\"))\n"
   ]
  },
  {
   "cell_type": "code",
   "execution_count": 1,
   "metadata": {},
   "outputs": [
    {
     "name": "stdout",
     "output_type": "stream",
     "text": [
      "The sentence is a pangram.\n"
     ]
    }
   ],
   "source": [
    "import string\n",
    "\n",
    "def is_pangram(sentence):\n",
    "    # Convert the sentence to lowercase and remove all non-alphabet characters\n",
    "    sentence = sentence.lower()\n",
    "    # Create a set of all letters in the alphabet\n",
    "    alphabet_set = set(string.ascii_lowercase)\n",
    "    # Create a set of all letters in the sentence\n",
    "    sentence_set = set(sentence)\n",
    "    # Check if the alphabet set is a subset of the sentence set\n",
    "    return alphabet_set.issubset(sentence_set)\n",
    "\n",
    "# Example usage\n",
    "sentence = \"The quick brown fox jumps over the lazy dog\"\n",
    "result = is_pangram(sentence)\n",
    "if result:\n",
    "    print(\"The sentence is a pangram.\")\n",
    "else:\n",
    "    print(\"The sentence is not a pangram.\")"
   ]
  },
  {
   "cell_type": "markdown",
   "metadata": {
    "id": "nx1PnYYdXomU"
   },
   "source": [
    "**Problem 2**\n",
    "\n",
    "An isogram (also known as a \"non-pattern word\") is a word or phrase without a repeating letter, however spaces and hyphens are allowed to appear multiple times.\n",
    "\n",
    "Examples of isograms:\n",
    "\n",
    "lumberjacks\n",
    "background\n",
    "downstream\n",
    "six-year-old\n",
    "\n",
    "The word isograms, however, is not an isogram, because the s repeats.\n",
    "\n",
    "*Your task is to figure out if the user input is isogram*"
   ]
  },
  {
   "cell_type": "code",
   "execution_count": null,
   "metadata": {
    "colab": {
     "base_uri": "https://localhost:8080/"
    },
    "id": "AtsxCdL8lSFb",
    "outputId": "cb0f9d4e-4537-46f4-fd7e-b778bf60f0d1"
   },
   "outputs": [
    {
     "name": "stdout",
     "output_type": "stream",
     "text": [
      "Enter a word or phrase: lumberjacks\n",
      "The input is an isogram.\n"
     ]
    }
   ],
   "source": [
    "def is_isogram(word):\n",
    "    # Convert the word to lowercase\n",
    "    word = word.lower()\n",
    "\n",
    "    # Initialize a set to keep track of seen letters\n",
    "    seen_letters = set()\n",
    "\n",
    "    # Iterate over each character in the word\n",
    "    for letter in word:\n",
    "        if letter.isalpha():  # Only consider alphabetic characters\n",
    "            if letter in seen_letters:\n",
    "                return False  # Letter is repeated\n",
    "            seen_letters.add(letter)\n",
    "\n",
    "    return True  # No repeating letters found\n",
    "\n",
    "# Ask input from user\n",
    "user_input = input(\"Enter a word or phrase: \")\n",
    "\n",
    "# Check if the input is an isogram and print the result\n",
    "if is_isogram(user_input):\n",
    "    print(\"The input is an isogram.\")\n",
    "else:\n",
    "    print(\"The input is not an isogram.\")\n"
   ]
  },
  {
   "cell_type": "code",
   "execution_count": 2,
   "metadata": {},
   "outputs": [
    {
     "name": "stdin",
     "output_type": "stream",
     "text": [
      "Enter a word or phrase:  lumberjacks background downstream six-year-old\n"
     ]
    },
    {
     "name": "stdout",
     "output_type": "stream",
     "text": [
      "'lumberjacks background downstream six-year-old' is not an isogram.\n"
     ]
    }
   ],
   "source": [
    "def is_isogram(word):\n",
    "    # Normalize the input: remove spaces and hyphens, and convert to lowercase\n",
    "    cleaned_word = word.replace(\" \", \"\").replace(\"-\", \"\").lower()\n",
    "    # Use a set to store seen characters and check for duplicates\n",
    "    seen_characters = set()\n",
    "    \n",
    "    for char in cleaned_word:\n",
    "        if char in seen_characters:\n",
    "            return False\n",
    "        seen_characters.add(char)\n",
    "    \n",
    "    return True\n",
    "\n",
    "# Example usage\n",
    "word = input(\"Enter a word or phrase: \")\n",
    "if is_isogram(word):\n",
    "    print(f\"'{word}' is an isogram.\")\n",
    "else:\n",
    "    print(f\"'{word}' is not an isogram.\")"
   ]
  },
  {
   "cell_type": "markdown",
   "metadata": {
    "id": "E96wh1LZYk-e"
   },
   "source": [
    "**Problem 3**\n",
    "\n",
    "Parse and evaluate simple math word problems returning the answer as an integer.\n",
    "\n",
    "\n",
    "```\n",
    "What is 5?    -> 5\n",
    "What is 5 plus 13?    -> 13\n",
    "What is 7 minus 5?    -> 2\n",
    "What is 6 multiplied by 4?     -> 24\n",
    "What is 25 divided by 5?       -> 5\n",
    "What is 5 plus 13 plus 6?      -> 24\n",
    "What is 3 plus 2 multiplied by 3?       -> 15\n",
    "```"
   ]
  },
  {
   "cell_type": "code",
   "execution_count": null,
   "metadata": {
    "colab": {
     "base_uri": "https://localhost:8080/"
    },
    "id": "3ymeewelEW_f",
    "outputId": "6832ca9b-ce4e-4653-e645-5aacf630ed22"
   },
   "outputs": [
    {
     "name": "stdout",
     "output_type": "stream",
     "text": [
      "5\n",
      "18\n",
      "2\n",
      "24\n",
      "5\n",
      "24\n",
      "9\n"
     ]
    }
   ],
   "source": [
    "def parse_math(question):\n",
    "    # Convert to lowercase and clean up the question\n",
    "    question = question.lower().strip()\n",
    "\n",
    "    # Replace words with symbols\n",
    "    question = question.replace(\"what is\", \"\").strip()\n",
    "    question = question.replace(\"plus\", \"+\")\n",
    "    question = question.replace(\"minus\", \"-\")\n",
    "    question = question.replace(\"multiplied by\", \"*\")\n",
    "    question = question.replace(\"divided by\", \"/\")\n",
    "\n",
    "    # Tokenize the expression\n",
    "    tokens = []\n",
    "    number = \"\"\n",
    "    for char in question:\n",
    "        if char.isdigit():\n",
    "            number += char\n",
    "        elif char in \"+-*/\":\n",
    "            if number:\n",
    "                tokens.append(int(number))\n",
    "                number = \"\"\n",
    "            tokens.append(char)\n",
    "\n",
    "    if number:\n",
    "        tokens.append(int(number))\n",
    "\n",
    "    # Function to evaluate the tokens considering operator precedence\n",
    "    def evaluate_tokens(tokens):\n",
    "        # First handle * and /\n",
    "        i = 0\n",
    "        while i < len(tokens):\n",
    "            if tokens[i] == '*':\n",
    "                result = tokens[i-1] * tokens[i+1]\n",
    "                tokens = tokens[:i-1] + [result] + tokens[i+2:]\n",
    "                i = 0\n",
    "            elif tokens[i] == '/':\n",
    "                result = tokens[i-1] // tokens[i+1]  # Integer division\n",
    "                tokens = tokens[:i-1] + [result] + tokens[i+2:]\n",
    "                i = 0\n",
    "            else:\n",
    "                i += 1\n",
    "\n",
    "        # Then handle + and -\n",
    "        result = tokens[0]\n",
    "        i = 1\n",
    "        while i < len(tokens):\n",
    "            if tokens[i] == '+':\n",
    "                result += tokens[i+1]\n",
    "            elif tokens[i] == '-':\n",
    "                result -= tokens[i+1]\n",
    "            i += 2\n",
    "\n",
    "        return result\n",
    "\n",
    "    return evaluate_tokens(tokens)\n",
    "\n",
    "# Example usage\n",
    "print(parse_math(\"What is 5?\"))                # 5\n",
    "print(parse_math(\"What is 5 plus 13?\"))        # 18\n",
    "print(parse_math(\"What is 7 minus 5?\"))        # 2\n",
    "print(parse_math(\"What is 6 multiplied by 4?\"))# 24\n",
    "print(parse_math(\"What is 25 divided by 5?\"))  # 5\n",
    "print(parse_math(\"What is 5 plus 13 plus 6?\")) # 24\n",
    "print(parse_math(\"What is 3 plus 2 multiplied by 3?\")) # 15\n"
   ]
  },
  {
   "cell_type": "code",
   "execution_count": 3,
   "metadata": {},
   "outputs": [
    {
     "name": "stdout",
     "output_type": "stream",
     "text": [
      "What is 5? -> 5\n",
      "What is 5 plus 13? -> 18\n",
      "What is 7 minus 5? -> 2\n",
      "What is 6 multiplied by 4? -> 24\n",
      "What is 25 divided by 5? -> 5\n",
      "What is 5 plus 13 plus 6? -> 24\n",
      "What is 3 plus 2 multiplied by 3? -> 9\n"
     ]
    }
   ],
   "source": [
    "def evaluate_math_problem(problem):\n",
    "    # Remove \"What is\" and question mark\n",
    "    problem = problem.lower().replace(\"what is \", \"\").replace(\"?\", \"\").strip()\n",
    "    \n",
    "    # Replace words with their mathematical equivalents\n",
    "    problem = problem.replace(\"plus\", \"+\").replace(\"minus\", \"-\")\n",
    "    problem = problem.replace(\"multiplied by\", \"*\").replace(\"divided by\", \"/\")\n",
    "    \n",
    "    try:\n",
    "        # Use Python's eval to calculate the result\n",
    "        result = eval(problem)\n",
    "        return int(result)  # Convert result to integer\n",
    "    except Exception as e:\n",
    "        return \"Invalid problem format.\"\n",
    "\n",
    "# Example Usage\n",
    "problems = [\n",
    "    \"What is 5?\",\n",
    "    \"What is 5 plus 13?\",\n",
    "    \"What is 7 minus 5?\",\n",
    "    \"What is 6 multiplied by 4?\",\n",
    "    \"What is 25 divided by 5?\",\n",
    "    \"What is 5 plus 13 plus 6?\",\n",
    "    \"What is 3 plus 2 multiplied by 3?\"\n",
    "]\n",
    "\n",
    "for p in problems:\n",
    "    print(f\"{p} -> {evaluate_math_problem(p)}\")"
   ]
  },
  {
   "cell_type": "markdown",
   "metadata": {
    "id": "hYxixq3Paw83"
   },
   "source": [
    "**Problem 4**\n",
    "\n",
    "For this exercise, you need to know two things about them:\n",
    "\n",
    "Each resistor has a resistance value.\n",
    "Resistors are small - so small in fact that if you printed the resistance value on them, it would be hard to read.\n",
    "To get around this problem, manufacturers print color-coded bands onto the resistors to denote their resistance values. Each band has a position and a numeric value.\n",
    "\n",
    "The first 2 bands of a resistor have a simple encoding scheme: each color maps to a single number. For example, if they printed a brown band (value 1) followed by a green band (value 5), it would translate to the number 15.\n",
    "\n",
    "In this exercise you are going to create a helpful program so that you don't have to remember the values of the bands. The program will take color names as input and output a two digit number, even if the input is more than two colors!\n",
    "\n",
    "The band colors are encoded as follows:\n",
    "\n",
    "```\n",
    "1.   Black: 0\n",
    "2.   Brown: 1\n",
    "3.   Red: 2\n",
    "4.   Orange: 3\n",
    "5.   Yellow: 4\n",
    "6.   Green: 5\n",
    "7.   Blue: 6\n",
    "8.   Violet: 7\n",
    "9.   Grey: 8\n",
    "10.  White: 9\n",
    "```\n",
    "\n",
    "*From the example above:*\n",
    "\n",
    "brown-green should return 15\n",
    "\n",
    "brown-green-violet should return 15 too, ignoring the third color"
   ]
  },
  {
   "cell_type": "code",
   "execution_count": null,
   "metadata": {
    "colab": {
     "base_uri": "https://localhost:8080/"
    },
    "id": "BfA1hgjGHhDK",
    "outputId": "1c2b2b6e-7391-4f83-dcd0-b2df9908023e"
   },
   "outputs": [
    {
     "name": "stdout",
     "output_type": "stream",
     "text": [
      "Enter the resistor colors separated by spaces: brown green\n",
      "The resistor value is: 15\n"
     ]
    }
   ],
   "source": [
    "# Using list comprehension for error handling\n",
    "\n",
    "def color_to_value(color):\n",
    "    color_map = {\n",
    "        'black': 0,\n",
    "        'brown': 1,\n",
    "        'red': 2,\n",
    "        'orange': 3,\n",
    "        'yellow': 4,\n",
    "        'green': 5,\n",
    "        'blue': 6,\n",
    "        'violet': 7,\n",
    "        'gray': 8,\n",
    "        'white': 9\n",
    "    }\n",
    "\n",
    "    value = color_map.get(color.lower(), -1)\n",
    "    if value == -1:\n",
    "        raise ValueError(f\"Unknown color: {color}\")\n",
    "    return value\n",
    "\n",
    "def resistor_value(colors):\n",
    "\n",
    "    # Calculate the resistor value from a list of color bands.\n",
    "\n",
    "    if len(colors) < 2:\n",
    "        raise ValueError(\"At least two colors are required to determine the resistor value.\")\n",
    "\n",
    "    try:\n",
    "        first_value, second_value = [color_to_value(color) for color in colors[:2]]\n",
    "    except ValueError as e:\n",
    "        raise ValueError(\"Invalid color name provided.\") from e\n",
    "\n",
    "    # Form the resistor value\n",
    "    return first_value * 10 + second_value\n",
    "\n",
    "# Example usage\n",
    "if __name__ == \"__main__\":\n",
    "    colors = input(\"Enter the resistor colors separated by spaces: \").split()\n",
    "    try:\n",
    "        value = resistor_value(colors)\n",
    "        print(f\"The resistor value is: {value}\")\n",
    "    except ValueError as e:\n",
    "        print(e)\n"
   ]
  },
  {
   "cell_type": "code",
   "execution_count": 4,
   "metadata": {},
   "outputs": [
    {
     "name": "stdout",
     "output_type": "stream",
     "text": [
      "15\n",
      "15\n",
      "23\n"
     ]
    }
   ],
   "source": [
    "def resistor_value(colors):\n",
    "    # Mapping color names to their numeric values\n",
    "    color_map = {\n",
    "        \"black\": 0, \"brown\": 1, \"red\": 2, \"orange\": 3, \n",
    "        \"yellow\": 4, \"green\": 5, \"blue\": 6, \"violet\": 7, \n",
    "        \"grey\": 8, \"white\": 9\n",
    "    }\n",
    "    \n",
    "    # Split the input into a list of colors\n",
    "    color_list = colors.lower().split(\"-\")\n",
    "    \n",
    "    # Validate the input\n",
    "    if len(color_list) < 2 or any(color not in color_map for color in color_list[:2]):\n",
    "        return \"Invalid color input. Provide at least two valid colors.\"\n",
    "    \n",
    "    # Get the first two color values\n",
    "    first_two_digits = \"\".join(str(color_map[color]) for color in color_list[:2])\n",
    "    \n",
    "    return int(first_two_digits)\n",
    "\n",
    "# Example Usage\n",
    "print(resistor_value(\"brown-green\"))          # 15\n",
    "print(resistor_value(\"brown-green-violet\"))  # 15\n",
    "print(resistor_value(\"red-orange-yellow\"))   # 23"
   ]
  },
  {
   "cell_type": "markdown",
   "metadata": {
    "id": "Lobv2LGbbX1D"
   },
   "source": [
    "**Problem 5**\n",
    "\n",
    "*Your task is to Validate Credit Card Number*\n",
    "\n",
    "Given a number determine whether or not it is valid per the Luhn formula.\n",
    "\n",
    "The Luhn algorithm is a simple checksum formula used to validate a variety of identification numbers, such as credit card numbers and Canadian Social Insurance Numbers.\n",
    "\n",
    "The task is to check if a given string is valid\n",
    "\n",
    "Valid credit card number\n",
    "\n",
    "4539 3195 0343 6467\n",
    "\n",
    "The first step of the Luhn algorithm is to double every second digit, starting from the right. We will be doubling\n",
    "\n",
    "4_3_ 3_9_ 0_4_ 6_6_\n",
    "\n",
    "If doubling the number results in a number greater than 9 then subtract 9 from the product. The results of our doubling:\n",
    "\n",
    "8569 6195 0383 3437\n",
    "\n",
    "Then sum all of the digits:\n",
    "\n",
    "8+5+6+9+6+1+9+5+0+3+8+3+3+4+3+7 = 80\n",
    "\n",
    "If the sum is evenly divisible by 10, then the number is valid. This number is valid!"
   ]
  },
  {
   "cell_type": "code",
   "execution_count": null,
   "metadata": {
    "colab": {
     "base_uri": "https://localhost:8080/"
    },
    "id": "KPL4xHGELbJl",
    "outputId": "33fe6469-a934-4eb6-90f9-89d364afc12b"
   },
   "outputs": [
    {
     "name": "stdout",
     "output_type": "stream",
     "text": [
      "Valid credit card number\n"
     ]
    }
   ],
   "source": [
    "def luhn_checksum(card_number):\n",
    "\n",
    "  # Remove spaces and convert to a list of digits\n",
    "  digits = [int(x) for x in card_number.replace(\" \", \"\")]\n",
    "\n",
    "  # Double every second digit from the right\n",
    "  for i in range(len(digits) - 2, -1, -2):\n",
    "    digits[i] *= 2\n",
    "    if digits[i] > 9:\n",
    "      digits[i] -= 9\n",
    "\n",
    "  # Sum all digits\n",
    "  total = sum(digits)\n",
    "\n",
    "  # Return True if the sum is divisible by 10, False otherwise\n",
    "  return total % 10 == 0\n",
    "\n",
    "# Example usage\n",
    "card_number = \"4539 3195 0343 6467\"\n",
    "if luhn_checksum(card_number):\n",
    "  print(\"Valid credit card number\")\n",
    "else:\n",
    "  print(\"Invalid credit card number\")\n"
   ]
  },
  {
   "cell_type": "code",
   "execution_count": 5,
   "metadata": {},
   "outputs": [
    {
     "name": "stdout",
     "output_type": "stream",
     "text": [
      "True\n",
      "False\n"
     ]
    }
   ],
   "source": [
    "def validate_credit_card(number):\n",
    "    # Remove spaces from the input number\n",
    "    number = number.replace(\" \", \"\")\n",
    "    \n",
    "    # Check if the input contains only digits\n",
    "    if not number.isdigit():\n",
    "        return \"Invalid input. Enter a valid numeric string.\"\n",
    "    \n",
    "    # Convert the number into a list of integers\n",
    "    digits = [int(digit) for digit in number]\n",
    "    \n",
    "    # Apply Luhn algorithm\n",
    "    for i in range(len(digits) - 2, -1, -2):  # Start from the second-last digit and move left\n",
    "        doubled = digits[i] * 2\n",
    "        digits[i] = doubled if doubled < 10 else doubled - 9  # Subtract 9 if the result is greater than 9\n",
    "    \n",
    "    # Calculate the total sum\n",
    "    total_sum = sum(digits)\n",
    "    \n",
    "    # Check divisibility by 10\n",
    "    return total_sum % 10 == 0\n",
    "\n",
    "# Example Usage\n",
    "print(validate_credit_card(\"4539 3195 0343 6467\"))  # True (Valid)\n",
    "print(validate_credit_card(\"8273 1232 7352 0569\"))  # False (Invalid)"
   ]
  },
  {
   "cell_type": "markdown",
   "metadata": {
    "id": "bHDdXXcjFmCe"
   },
   "source": [
    "**Problem 6**\n",
    "\n",
    "Write a Python class that has two methods: getString and printString , The getString accept a string from the user and printString prints the string in upper case."
   ]
  },
  {
   "cell_type": "code",
   "execution_count": null,
   "metadata": {
    "colab": {
     "base_uri": "https://localhost:8080/"
    },
    "id": "MEYplsjmKqpd",
    "outputId": "bd99a2c6-4067-4962-ff4e-1b530d8dcf41"
   },
   "outputs": [
    {
     "name": "stdout",
     "output_type": "stream",
     "text": [
      "Enter a string: \"The food here are very good and delicious which bring back old memories\"\n",
      "\"THE FOOD HERE ARE VERY GOOD AND DELICIOUS WHICH BRING BACK OLD MEMORIES\"\n"
     ]
    }
   ],
   "source": [
    "class StringManipulation:\n",
    "  def __init__(self):\n",
    "    self.string = \"\"\n",
    "\n",
    "  def getString(self):\n",
    "    self.string = input(\"Enter a string: \")\n",
    "\n",
    "  def printString(self):\n",
    "    print(self.string.upper())\n",
    "\n",
    "# Example usage\n",
    "string_obj = StringManipulation()\n",
    "string_obj.getString()\n",
    "string_obj.printString()"
   ]
  },
  {
   "cell_type": "code",
   "execution_count": 6,
   "metadata": {},
   "outputs": [
    {
     "name": "stdin",
     "output_type": "stream",
     "text": [
      "Enter a string:  \"The food here are very good and delicious which bring back old memories\"\n"
     ]
    },
    {
     "name": "stdout",
     "output_type": "stream",
     "text": [
      "\"THE FOOD HERE ARE VERY GOOD AND DELICIOUS WHICH BRING BACK OLD MEMORIES\"\n"
     ]
    }
   ],
   "source": [
    "class StringManipulator:\n",
    "    def __init__(self):\n",
    "        self.user_string = \"\"\n",
    "\n",
    "    def getString(self):\n",
    "        \"\"\"Method to get a string from the user.\"\"\"\n",
    "        self.user_string = input(\"Enter a string: \")\n",
    "\n",
    "    def printString(self):\n",
    "        \"\"\"Method to print the string in uppercase.\"\"\"\n",
    "        print(self.user_string.upper())\n",
    "\n",
    "\n",
    "# Example Usage\n",
    "if __name__ == \"__main__\":\n",
    "    string_obj = StringManipulator()\n",
    "    string_obj.getString()       # Prompts user to input a string\n",
    "    string_obj.printString()     # Prints the string in uppercase"
   ]
  },
  {
   "cell_type": "markdown",
   "metadata": {
    "id": "5-6cZZTw55Lt"
   },
   "source": [
    "**Problem 7**\n",
    "\n",
    "Create a class Temperature that has a property celsius to get and set the temperature in Celsius and another property fahrenheit to get and set the temperature in Fahrenheit. The fahrenheit property should convert the temperature to and from Celsius."
   ]
  },
  {
   "cell_type": "code",
   "execution_count": null,
   "metadata": {
    "colab": {
     "base_uri": "https://localhost:8080/"
    },
    "id": "JZR2tDfULxiL",
    "outputId": "e2195291-e2c0-4f89-a1f5-8c3702e889e5"
   },
   "outputs": [
    {
     "name": "stdout",
     "output_type": "stream",
     "text": [
      "77.0\n",
      "20.0\n"
     ]
    }
   ],
   "source": [
    "class Temperature:\n",
    "  def __init__(self, celsius=0):\n",
    "    self._celsius = celsius\n",
    "\n",
    "  @property\n",
    "  def celsius(self):\n",
    "    return self._celsius\n",
    "\n",
    "  @celsius.setter\n",
    "  def celsius(self, value):\n",
    "    self._celsius = value\n",
    "\n",
    "  @property\n",
    "  def fahrenheit(self):\n",
    "    return self._celsius * 9/5 + 32\n",
    "\n",
    "  @fahrenheit.setter\n",
    "  def fahrenheit(self, value):\n",
    "    self._celsius = (value - 32) * 5/9\n",
    "\n",
    "# Example usage\n",
    "temp = Temperature()\n",
    "temp.celsius = 25\n",
    "print(temp.fahrenheit)  # Output: 77.0\n",
    "\n",
    "temp.fahrenheit = 68\n",
    "print(temp.celsius)  # Output: 20.0"
   ]
  },
  {
   "cell_type": "code",
   "execution_count": 7,
   "metadata": {},
   "outputs": [
    {
     "name": "stdout",
     "output_type": "stream",
     "text": [
      "Temperature in Celsius: 25°C\n",
      "Temperature in Fahrenheit: 77.0°F\n",
      "Temperature in Fahrenheit: 98.6°F\n",
      "Temperature in Celsius: 37.0°C\n"
     ]
    }
   ],
   "source": [
    "class Temperature:\n",
    "    def __init__(self, celsius=0):\n",
    "        \"\"\"Initialize the temperature in Celsius.\"\"\"\n",
    "        self._celsius = celsius\n",
    "\n",
    "    @property\n",
    "    def celsius(self):\n",
    "        \"\"\"Get the temperature in Celsius.\"\"\"\n",
    "        return self._celsius\n",
    "\n",
    "    @celsius.setter\n",
    "    def celsius(self, value):\n",
    "        \"\"\"Set the temperature in Celsius.\"\"\"\n",
    "        self._celsius = value\n",
    "\n",
    "    @property\n",
    "    def fahrenheit(self):\n",
    "        \"\"\"Convert and get the temperature in Fahrenheit.\"\"\"\n",
    "        return (self._celsius * 9/5) + 32\n",
    "\n",
    "    @fahrenheit.setter\n",
    "    def fahrenheit(self, value):\n",
    "        \"\"\"Convert and set the temperature in Celsius from Fahrenheit.\"\"\"\n",
    "        self._celsius = (value - 32) * 5/9\n",
    "\n",
    "\n",
    "# Example Usage\n",
    "if __name__ == \"__main__\":\n",
    "    temp = Temperature()\n",
    "\n",
    "    # Setting temperature in Celsius\n",
    "    temp.celsius = 25\n",
    "    print(f\"Temperature in Celsius: {temp.celsius}°C\")\n",
    "    print(f\"Temperature in Fahrenheit: {temp.fahrenheit}°F\")\n",
    "\n",
    "    # Setting temperature in Fahrenheit\n",
    "    temp.fahrenheit = 98.6\n",
    "    print(f\"Temperature in Fahrenheit: {temp.fahrenheit}°F\")\n",
    "    print(f\"Temperature in Celsius: {temp.celsius}°C\")"
   ]
  },
  {
   "cell_type": "markdown",
   "metadata": {
    "id": "GeVVh-5p5gTT"
   },
   "source": [
    "**Problem 8**\n",
    "\n",
    "Create a class *Book* with attributes title, author, and pages. Ensure that the class constructor requires these attributes. Create multiple instances of Book and display their details.\n",
    "\n",
    "Add a method price that returns the price of the book using a formula pages * 10. Add another method that prints all the details of the book. Create an instance of the Book class and display the details."
   ]
  },
  {
   "cell_type": "code",
   "execution_count": null,
   "metadata": {
    "colab": {
     "base_uri": "https://localhost:8080/"
    },
    "id": "I3PXkT8j5nCt",
    "outputId": "6053a759-1273-4d58-f544-acfc9e806332"
   },
   "outputs": [
    {
     "name": "stdout",
     "output_type": "stream",
     "text": [
      "Title: The Hitchhiker's Guide to the Galaxy\n",
      "Author: Douglas Adams\n",
      "Pages: 224\n",
      "Price: 2240\n",
      "\n",
      "Title: Pride and Prejudice\n",
      "Author: Jane Austen\n",
      "Pages: 432\n",
      "Price: 4320\n",
      "\n",
      "Title: To Kill a Mockingbird\n",
      "Author: Harper Lee\n",
      "Pages: 336\n",
      "Price: 3360\n"
     ]
    }
   ],
   "source": [
    "class Book:\n",
    "  def __init__(self, title, author, pages):\n",
    "    self.title = title\n",
    "    self.author = author\n",
    "    self.pages = pages\n",
    "\n",
    "  def price(self):\n",
    "    return self.pages * 10\n",
    "\n",
    "  def print_details(self):\n",
    "    print(\"Title:\", self.title)\n",
    "    print(\"Author:\", self.author)\n",
    "    print(\"Pages:\", self.pages)\n",
    "    print(\"Price:\", self.price())\n",
    "\n",
    "# Create instances of Book\n",
    "book1 = Book(\"The Hitchhiker's Guide to the Galaxy\", \"Douglas Adams\", 224)\n",
    "book2 = Book(\"Pride and Prejudice\", \"Jane Austen\", 432)\n",
    "book3 = Book(\"To Kill a Mockingbird\", \"Harper Lee\", 336)\n",
    "\n",
    "# Display details of the books\n",
    "book1.print_details()\n",
    "print()  # Print an empty line for separation\n",
    "book2.print_details()\n",
    "print()\n",
    "book3.print_details()\n"
   ]
  },
  {
   "cell_type": "code",
   "execution_count": 8,
   "metadata": {},
   "outputs": [
    {
     "name": "stdout",
     "output_type": "stream",
     "text": [
      "Book 1 Details:\n",
      "Title: To Kill a Mockingbird\n",
      "Author: Harper Lee\n",
      "Pages: 281\n",
      "Price: 2810\n",
      "\n",
      "Book 2 Details:\n",
      "Title: 1984\n",
      "Author: George Orwell\n",
      "Pages: 328\n",
      "Price: 3280\n",
      "\n",
      "Book 3 Details:\n",
      "Title: The Great Gatsby\n",
      "Author: F. Scott Fitzgerald\n",
      "Pages: 180\n",
      "Price: 1800\n"
     ]
    }
   ],
   "source": [
    "class Book:\n",
    "    def __init__(self, title, author, pages):\n",
    "        \"\"\"\n",
    "        Initialize the Book object with title, author, and pages.\n",
    "        \"\"\"\n",
    "        self.title = title\n",
    "        self.author = author\n",
    "        self.pages = pages\n",
    "\n",
    "    def price(self):\n",
    "        \"\"\"\n",
    "        Calculate the price of the book based on the number of pages.\n",
    "        Formula: pages * 10\n",
    "        \"\"\"\n",
    "        return self.pages * 10\n",
    "\n",
    "    def display_details(self):\n",
    "        \"\"\"\n",
    "        Print all the details of the book.\n",
    "        \"\"\"\n",
    "        print(f\"Title: {self.title}\")\n",
    "        print(f\"Author: {self.author}\")\n",
    "        print(f\"Pages: {self.pages}\")\n",
    "        print(f\"Price: {self.price()}\")\n",
    "\n",
    "# Example Usage\n",
    "if __name__ == \"__main__\":\n",
    "    # Create multiple instances of the Book class\n",
    "    book1 = Book(\"To Kill a Mockingbird\", \"Harper Lee\", 281)\n",
    "    book2 = Book(\"1984\", \"George Orwell\", 328)\n",
    "    book3 = Book(\"The Great Gatsby\", \"F. Scott Fitzgerald\", 180)\n",
    "\n",
    "    # Display details of each book\n",
    "    print(\"Book 1 Details:\")\n",
    "    book1.display_details()\n",
    "    print(\"\\nBook 2 Details:\")\n",
    "    book2.display_details()\n",
    "    print(\"\\nBook 3 Details:\")\n",
    "    book3.display_details()"
   ]
  },
  {
   "cell_type": "markdown",
   "metadata": {
    "id": "OwNVg-Wf_slB"
   },
   "source": [
    "**Problem 9**\n",
    "\n",
    "Write a Python class Employee with properties id, name, salary, and department and methods like \\__init__ calculateSalary, assignDepartment and \\__str__.\n",
    "\n",
    "Sample Employee Data:\n",
    "\n",
    "```\n",
    "\"E7876\", \"ADAMS\", 50000, \"ACCOUNTING\"\n",
    "\"E7499\", \"JONES\", 45000, \"RESEARCH\"\n",
    "\"E7900\", \"MARTIN\", 50000, \"SALES\"\n",
    "\"E7698\", \"SMITH\", 55000, \"OPERATIONS\"\n",
    "```\n",
    "Use 'assignDepartment' method to change the department of an employee.\n",
    "\n",
    "Use '\\__str__' method to print the details of an employee.\n",
    "\n",
    "Use 'calculateSalary' method takes two arguments: salary and hours_worked, which is the number of hours worked by the employee. If the number of hours worked is more than 50, the method computes overtime and adds it to the salary.\n",
    "\n",
    "Overtime is calculated as following formula:\n",
    "overtime = hours_worked - 50\n",
    "Overtime amount = (overtime * (salary / 50))"
   ]
  },
  {
   "cell_type": "code",
   "execution_count": null,
   "metadata": {
    "colab": {
     "base_uri": "https://localhost:8080/"
    },
    "id": "jO4sMPH1N_BQ",
    "outputId": "6ee0dc85-28b8-4367-8e30-27f5548a154d"
   },
   "outputs": [
    {
     "name": "stdout",
     "output_type": "stream",
     "text": [
      "Employee ID: E7876\n",
      "Name: ADAMS\n",
      "Salary: 50000\n",
      "Department: ACCOUNTING\n",
      "\n",
      "Employee ID: E7499\n",
      "Name: JONES\n",
      "Salary: 45000\n",
      "Department: MARKETING\n",
      "\n",
      "Salary with overtime for MARTIN: 60000.0\n"
     ]
    }
   ],
   "source": [
    "class Employee:\n",
    "  def __init__(self, id, name, salary, department):\n",
    "    self.id = id\n",
    "    self.name = name\n",
    "    self.salary = salary\n",
    "    self.department = department\n",
    "\n",
    "  def calculateSalary(self, salary, hours_worked):\n",
    "    if hours_worked > 50:\n",
    "      overtime = hours_worked - 50\n",
    "      overtime_amount = (overtime * (salary / 50))\n",
    "      total_salary = salary + overtime_amount\n",
    "    else:\n",
    "      total_salary = salary\n",
    "    return total_salary\n",
    "\n",
    "  def assignDepartment(self, new_department):\n",
    "    self.department = new_department\n",
    "\n",
    "  def __str__(self):\n",
    "    return f\"Employee ID: {self.id}\\nName: {self.name}\\nSalary: {self.salary}\\nDepartment: {self.department}\"\n",
    "\n",
    "# Sample Employee Data\n",
    "employee1 = Employee(\"E7876\", \"ADAMS\", 50000, \"ACCOUNTING\")\n",
    "employee2 = Employee(\"E7499\", \"JONES\", 45000, \"RESEARCH\")\n",
    "employee3 = Employee(\"E7900\", \"MARTIN\", 50000, \"SALES\")\n",
    "employee4 = Employee(\"E7698\", \"SMITH\", 55000, \"OPERATIONS\")\n",
    "\n",
    "# Change department of an employee\n",
    "employee2.assignDepartment(\"MARKETING\")\n",
    "\n",
    "# Print details of an employee\n",
    "print(employee1)\n",
    "print()\n",
    "print(employee2)\n",
    "\n",
    "# Calculate salary with overtime\n",
    "salary_with_overtime = employee3.calculateSalary(50000, 60)\n",
    "print(f\"\\nSalary with overtime for {employee3.name}: {salary_with_overtime}\")\n"
   ]
  },
  {
   "cell_type": "code",
   "execution_count": 9,
   "metadata": {},
   "outputs": [
    {
     "name": "stdout",
     "output_type": "stream",
     "text": [
      "ID: E7876, Name: ADAMS, Salary: 50000, Department: ACCOUNTING\n",
      "ID: E7499, Name: JONES, Salary: 45000, Department: RESEARCH\n",
      "ID: E7900, Name: MARTIN, Salary: 50000, Department: SALES\n",
      "ID: E7698, Name: SMITH, Salary: 55000, Department: OPERATIONS\n",
      "\n",
      "After department reassignment:\n",
      "ID: E7876, Name: ADAMS, Salary: 50000, Department: FINANCE\n",
      "\n",
      "Salary Calculations with Overtime:\n",
      "ADAMS's total salary (52 hours): 52000.0\n",
      "JONES's total salary (48 hours): 45000\n",
      "SMITH's total salary (60 hours): 66000.0\n"
     ]
    }
   ],
   "source": [
    "class Employee:\n",
    "    def __init__(self, emp_id, name, salary, department):\n",
    "        \"\"\"\n",
    "        Initialize the Employee object with id, name, salary, and department.\n",
    "        \"\"\"\n",
    "        self.id = emp_id\n",
    "        self.name = name\n",
    "        self.salary = salary\n",
    "        self.department = department\n",
    "\n",
    "    def assignDepartment(self, new_department):\n",
    "        \"\"\"\n",
    "        Assign a new department to the employee.\n",
    "        \"\"\"\n",
    "        self.department = new_department\n",
    "\n",
    "    def calculateSalary(self, hours_worked):\n",
    "        \"\"\"\n",
    "        Calculate the total salary of the employee based on hours worked.\n",
    "        Add overtime pay if hours worked > 50.\n",
    "        \"\"\"\n",
    "        if hours_worked > 50:\n",
    "            overtime_hours = hours_worked - 50\n",
    "            overtime_amount = overtime_hours * (self.salary / 50)\n",
    "            total_salary = self.salary + overtime_amount\n",
    "        else:\n",
    "            total_salary = self.salary\n",
    "\n",
    "        return total_salary\n",
    "\n",
    "    def __str__(self):\n",
    "        \"\"\"\n",
    "        Return a string representation of the employee's details.\n",
    "        \"\"\"\n",
    "        return f\"ID: {self.id}, Name: {self.name}, Salary: {self.salary}, Department: {self.department}\"\n",
    "\n",
    "\n",
    "# Example Usage\n",
    "if __name__ == \"__main__\":\n",
    "    # Create employee instances\n",
    "    emp1 = Employee(\"E7876\", \"ADAMS\", 50000, \"ACCOUNTING\")\n",
    "    emp2 = Employee(\"E7499\", \"JONES\", 45000, \"RESEARCH\")\n",
    "    emp3 = Employee(\"E7900\", \"MARTIN\", 50000, \"SALES\")\n",
    "    emp4 = Employee(\"E7698\", \"SMITH\", 55000, \"OPERATIONS\")\n",
    "\n",
    "    # Print employee details\n",
    "    print(emp1)\n",
    "    print(emp2)\n",
    "    print(emp3)\n",
    "    print(emp4)\n",
    "\n",
    "    # Assign a new department to an employee\n",
    "    emp1.assignDepartment(\"FINANCE\")\n",
    "    print(\"\\nAfter department reassignment:\")\n",
    "    print(emp1)\n",
    "\n",
    "    # Calculate salary with overtime\n",
    "    print(\"\\nSalary Calculations with Overtime:\")\n",
    "    print(f\"{emp1.name}'s total salary (52 hours): {emp1.calculateSalary(52)}\")\n",
    "    print(f\"{emp2.name}'s total salary (48 hours): {emp2.calculateSalary(48)}\")\n",
    "    print(f\"{emp4.name}'s total salary (60 hours): {emp4.calculateSalary(60)}\")"
   ]
  },
  {
   "cell_type": "markdown",
   "metadata": {
    "id": "Q2R8aBS9BAlQ"
   },
   "source": [
    "**Problem 10**\n",
    "\n",
    "Write a Python class Inventory with attributes like id, productName, availableQuantity and price. Add methods like addItem, updateItem, and checkItem_details.\n",
    "\n",
    "Use a dictionary to store the item details, where the key is the id and the value is a dictionary containing the productName, availableQuantity and price.\n",
    "\n",
    "Sample Data:\n",
    "\n",
    "\n",
    "```\n",
    "{\n",
    "  \"97410\": {\n",
    "    \"name\": \"Television\",\n",
    "    \"availableQuantity\": 20,\n",
    "    \"price\": 1455.99\n",
    "  },\n",
    "  \"97411\": {\n",
    "    \"name\": \"Radio\",\n",
    "    \"availableQuantity\": 32,\n",
    "    \"price\": 654.25\n",
    "  }\n",
    "}\n",
    "```\n",
    "\n",
    "\n"
   ]
  },
  {
   "cell_type": "code",
   "execution_count": null,
   "metadata": {
    "colab": {
     "base_uri": "https://localhost:8080/"
    },
    "id": "2AtN1IClCEUS",
    "outputId": "8ca0050b-4803-491b-bb2d-debb7370fbbe"
   },
   "outputs": [
    {
     "name": "stdout",
     "output_type": "stream",
     "text": [
      "Item added successfully!\n",
      "Item added successfully!\n",
      "Item updated successfully!\n",
      "Item Details:\n",
      "ID: 97411\n",
      "Name: Radio\n",
      "Available Quantity: 32\n",
      "Price: 654.25\n"
     ]
    }
   ],
   "source": [
    "class Inventory:\n",
    "  def __init__(self):\n",
    "    self.inventory = {}\n",
    "\n",
    "  def addItem(self, id, productName, availableQuantity, price):\n",
    "    if id not in self.inventory:\n",
    "      self.inventory[id] = {\n",
    "        \"name\": productName,\n",
    "        \"availableQuantity\": availableQuantity,\n",
    "        \"price\": price\n",
    "      }\n",
    "      print(\"Item added successfully!\")\n",
    "    else:\n",
    "      print(\"Item with this ID already exists.\")\n",
    "\n",
    "  def updateItem(self, id, productName=None, availableQuantity=None, price=None):\n",
    "    if id in self.inventory:\n",
    "      if productName:\n",
    "        self.inventory[id][\"name\"] = productName\n",
    "      if availableQuantity:\n",
    "        self.inventory[id][\"availableQuantity\"] = availableQuantity\n",
    "      if price:\n",
    "        self.inventory[id][\"price\"] = price\n",
    "      print(\"Item updated successfully!\")\n",
    "    else:\n",
    "      print(\"Item not found.\")\n",
    "\n",
    "  def checkItem_details(self, id):\n",
    "    if id in self.inventory:\n",
    "      item = self.inventory[id]\n",
    "      print(\"Item Details:\")\n",
    "      print(\"ID:\", id)\n",
    "      print(\"Name:\", item[\"name\"])\n",
    "      print(\"Available Quantity:\", item[\"availableQuantity\"])\n",
    "      print(\"Price:\", item[\"price\"])\n",
    "    else:\n",
    "      print(\"Item not found.\")\n",
    "\n",
    "# Sample Data\n",
    "inventory = Inventory()\n",
    "inventory.addItem(\"97410\", \"Television\", 20, 1455.99)\n",
    "inventory.addItem(\"97411\", \"Radio\", 32, 654.25)\n",
    "\n",
    "# Update an item\n",
    "inventory.updateItem(\"97410\", availableQuantity=15)\n",
    "\n",
    "# Check item details\n",
    "inventory.checkItem_details(\"97411\")\n"
   ]
  },
  {
   "cell_type": "code",
   "execution_count": 10,
   "metadata": {},
   "outputs": [
    {
     "name": "stdout",
     "output_type": "stream",
     "text": [
      "Item 'Television' added successfully.\n",
      "Item 'Radio' added successfully.\n",
      "\n",
      "Checking item details:\n",
      "Item ID: 97410\n",
      "Name: Television\n",
      "Available Quantity: 20\n",
      "Price: $1455.99\n",
      "\n",
      "Updating an item:\n",
      "Item with ID 97410 updated successfully.\n",
      "\n",
      "Item details after update:\n",
      "Item ID: 97410\n",
      "Name: Television\n",
      "Available Quantity: 18\n",
      "Price: $1400.99\n",
      "\n",
      "Adding an item with the same ID:\n",
      "Item with ID 97410 already exists.\n",
      "\n",
      "Checking non-existent item:\n",
      "Item with ID 99999 does not exist.\n"
     ]
    }
   ],
   "source": [
    "class Inventory:\n",
    "    def __init__(self):\n",
    "        \"\"\"\n",
    "        Initialize the Inventory with an empty dictionary.\n",
    "        \"\"\"\n",
    "        self.items = {}\n",
    "\n",
    "    def addItem(self, item_id, product_name, available_quantity, price):\n",
    "        \"\"\"\n",
    "        Add a new item to the inventory.\n",
    "        \"\"\"\n",
    "        if item_id in self.items:\n",
    "            print(f\"Item with ID {item_id} already exists.\")\n",
    "        else:\n",
    "            self.items[item_id] = {\n",
    "                \"name\": product_name,\n",
    "                \"availableQuantity\": available_quantity,\n",
    "                \"price\": price\n",
    "            }\n",
    "            print(f\"Item '{product_name}' added successfully.\")\n",
    "\n",
    "    def updateItem(self, item_id, product_name=None, available_quantity=None, price=None):\n",
    "        \"\"\"\n",
    "        Update the details of an existing item in the inventory.\n",
    "        \"\"\"\n",
    "        if item_id not in self.items:\n",
    "            print(f\"Item with ID {item_id} does not exist.\")\n",
    "        else:\n",
    "            if product_name is not None:\n",
    "                self.items[item_id][\"name\"] = product_name\n",
    "            if available_quantity is not None:\n",
    "                self.items[item_id][\"availableQuantity\"] = available_quantity\n",
    "            if price is not None:\n",
    "                self.items[item_id][\"price\"] = price\n",
    "            print(f\"Item with ID {item_id} updated successfully.\")\n",
    "\n",
    "    def checkItem_details(self, item_id):\n",
    "        \"\"\"\n",
    "        Display the details of a specific item in the inventory.\n",
    "        \"\"\"\n",
    "        if item_id not in self.items:\n",
    "            print(f\"Item with ID {item_id} does not exist.\")\n",
    "        else:\n",
    "            details = self.items[item_id]\n",
    "            print(f\"Item ID: {item_id}\")\n",
    "            print(f\"Name: {details['name']}\")\n",
    "            print(f\"Available Quantity: {details['availableQuantity']}\")\n",
    "            print(f\"Price: ${details['price']:.2f}\")\n",
    "\n",
    "\n",
    "# Example Usage\n",
    "if __name__ == \"__main__\":\n",
    "    inventory = Inventory()\n",
    "\n",
    "    # Adding items\n",
    "    inventory.addItem(\"97410\", \"Television\", 20, 1455.99)\n",
    "    inventory.addItem(\"97411\", \"Radio\", 32, 654.25)\n",
    "\n",
    "    # Checking item details\n",
    "    print(\"\\nChecking item details:\")\n",
    "    inventory.checkItem_details(\"97410\")\n",
    "\n",
    "    # Updating an item\n",
    "    print(\"\\nUpdating an item:\")\n",
    "    inventory.updateItem(\"97410\", available_quantity=18, price=1400.99)\n",
    "\n",
    "    # Checking item details after update\n",
    "    print(\"\\nItem details after update:\")\n",
    "    inventory.checkItem_details(\"97410\")\n",
    "\n",
    "    # Adding an item with the same ID\n",
    "    print(\"\\nAdding an item with the same ID:\")\n",
    "    inventory.addItem(\"97410\", \"Laptop\", 10, 2500.00)\n",
    "\n",
    "    # Checking details of a non-existent item\n",
    "    print(\"\\nChecking non-existent item:\")\n",
    "    inventory.checkItem_details(\"99999\")"
   ]
  },
  {
   "cell_type": "markdown",
   "metadata": {
    "id": "v07XqqlWCeF3"
   },
   "source": [
    "**Problem 11**\n",
    "\n",
    "Write a  Python class BankAccount with attributes like accountNumber, openingBalance, currentBalance dateOfOpening and customerName. Add methods like deposit, withdraw, and checkBalance."
   ]
  },
  {
   "cell_type": "code",
   "execution_count": null,
   "metadata": {
    "colab": {
     "base_uri": "https://localhost:8080/"
    },
    "id": "QumPFVaFEm2N",
    "outputId": "229375b2-856f-40c7-f19c-1b1113a0d458"
   },
   "outputs": [
    {
     "name": "stdout",
     "output_type": "stream",
     "text": [
      "Bank Account Class:\n",
      "Account Number: 152121350875\n",
      "Opening Balance: 1000\n",
      "Current Balance: 1500\n",
      "Date of Opening: 2022-02-22\n",
      "Customer Name: Emma Watson\n",
      "Current Balance after deposit: 2000\n",
      "Current Balance after withdrawal: 1800\n",
      "Current Balance: 1800\n"
     ]
    }
   ],
   "source": [
    "class BankAccount:\n",
    "  def __init__(self, accountNumber, openingBalance, currentBalance, dateOfOpening, customerName):\n",
    "    self.accountNumber = accountNumber\n",
    "    self.openingBalance = openingBalance\n",
    "    self.currentBalance = currentBalance\n",
    "    self.dateOfOpening = dateOfOpening\n",
    "    self.customerName = customerName\n",
    "\n",
    "  #These methods need to be indented to be part of the class\n",
    "  def deposit(self, amount):\n",
    "    self.currentBalance += amount\n",
    "    return self.currentBalance\n",
    "\n",
    "  def withdraw(self, amount):\n",
    "    if amount <= self.currentBalance:\n",
    "      self.currentBalance -= amount\n",
    "      return self.currentBalance\n",
    "    else:\n",
    "      return \"Insufficient funds\"\n",
    "\n",
    "  def checkBalance(self):\n",
    "    return self.currentBalance\n",
    "    #These methods need to be indented to be part of the class\n",
    "\n",
    "#Example\n",
    "# Create an instance of the BankAccount class\n",
    "account = BankAccount(\"152121350875\", 1000, 1500, \"2022-02-22\", \"Emma Watson\")\n",
    "\n",
    "print(\"Bank Account Class:\")\n",
    "print(\"Account Number:\", account.accountNumber)\n",
    "print(\"Opening Balance:\", account.openingBalance)\n",
    "print(\"Current Balance:\", account.currentBalance)\n",
    "print(\"Date of Opening:\", account.dateOfOpening)\n",
    "print(\"Customer Name:\", account.customerName)\n",
    "\n",
    "# Deposit money\n",
    "account.deposit(500)\n",
    "print(\"Current Balance after deposit:\", account.currentBalance)\n",
    "\n",
    "# Withdraw money\n",
    "account.withdraw(200)\n",
    "print(\"Current Balance after withdrawal:\", account.currentBalance)\n",
    "\n",
    "# Check balance\n",
    "print(\"Current Balance:\", account.checkBalance())"
   ]
  },
  {
   "cell_type": "code",
   "execution_count": 11,
   "metadata": {},
   "outputs": [
    {
     "name": "stdout",
     "output_type": "stream",
     "text": [
      "Current balance: $1000\n",
      "Deposited $500. Current balance: $1500\n",
      "Withdrew $200. Current balance: $1300\n",
      "Insufficient funds.\n",
      "Current balance: $1300\n"
     ]
    }
   ],
   "source": [
    "class BankAccount:\n",
    "    def __init__(self, account_number, customer_name, opening_balance, date_of_opening):\n",
    "        \"\"\"\n",
    "        Initialize the BankAccount with necessary attributes.\n",
    "        \"\"\"\n",
    "        self.accountNumber = account_number\n",
    "        self.customerName = customer_name\n",
    "        self.openingBalance = opening_balance\n",
    "        self.currentBalance = opening_balance\n",
    "        self.dateOfOpening = date_of_opening\n",
    "\n",
    "    def deposit(self, amount):\n",
    "        \"\"\"\n",
    "        Deposit money into the account.\n",
    "        \"\"\"\n",
    "        if amount > 0:\n",
    "            self.currentBalance += amount\n",
    "            print(f\"Deposited ${amount}. Current balance: ${self.currentBalance}\")\n",
    "        else:\n",
    "            print(\"Deposit amount must be positive.\")\n",
    "\n",
    "    def withdraw(self, amount):\n",
    "        \"\"\"\n",
    "        Withdraw money from the account if sufficient balance exists.\n",
    "        \"\"\"\n",
    "        if amount > 0:\n",
    "            if amount <= self.currentBalance:\n",
    "                self.currentBalance -= amount\n",
    "                print(f\"Withdrew ${amount}. Current balance: ${self.currentBalance}\")\n",
    "            else:\n",
    "                print(\"Insufficient funds.\")\n",
    "        else:\n",
    "            print(\"Withdrawal amount must be positive.\")\n",
    "\n",
    "    def checkBalance(self):\n",
    "        \"\"\"\n",
    "        Check the current balance of the account.\n",
    "        \"\"\"\n",
    "        print(f\"Current balance: ${self.currentBalance}\")\n",
    "\n",
    "\n",
    "# Example Usage\n",
    "if __name__ == \"__main__\":\n",
    "    # Create a BankAccount instance\n",
    "    account = BankAccount(account_number=\"123456789\", customer_name=\"John Doe\", opening_balance=1000, date_of_opening=\"2024-12-01\")\n",
    "\n",
    "    # Check balance initially\n",
    "    account.checkBalance()\n",
    "\n",
    "    # Deposit money\n",
    "    account.deposit(500)\n",
    "\n",
    "    # Withdraw money\n",
    "    account.withdraw(200)\n",
    "\n",
    "    # Try withdrawing more than available balance\n",
    "    account.withdraw(1500)\n",
    "\n",
    "    # Check balance after transactions\n",
    "    account.checkBalance()"
   ]
  },
  {
   "cell_type": "markdown",
   "metadata": {
    "id": "KrpUr80GGgI-"
   },
   "source": [
    "**Problem 12**\n",
    "\n",
    "Write a Python class to check the validity of a string of parentheses,\n",
    "\n",
    "```\n",
    "'(', ')', '{', '}', '[' and '].\n",
    "```\n",
    "\n",
    "These brackets must be closed in the correct order,\n",
    "for example\n",
    "\n",
    "```\n",
    "\"()\" and \"()[]{}\" are valid\n",
    "\"[)\", \"({[)]\" and \"{{{\" are invalid.\n",
    "```"
   ]
  },
  {
   "cell_type": "code",
   "execution_count": null,
   "metadata": {
    "colab": {
     "base_uri": "https://localhost:8080/"
    },
    "id": "5NaskGz8GmNJ",
    "outputId": "d7962ab9-bec8-45bb-b1fd-9189bb4bf358"
   },
   "outputs": [
    {
     "name": "stdout",
     "output_type": "stream",
     "text": [
      "True\n",
      "True\n",
      "False\n",
      "False\n",
      "False\n"
     ]
    }
   ],
   "source": [
    "# prompt: Write a Python class to check the validity of a string of parantheses\n",
    "\n",
    "class ParenthesesChecker:\n",
    "  def is_valid(self, s):\n",
    "    stack = []\n",
    "    matching_brackets = {')': '(', '}': '{', ']': '['}\n",
    "\n",
    "    for char in s:\n",
    "      if char in matching_brackets:\n",
    "        if not stack or stack.pop() != matching_brackets[char]:\n",
    "          return False\n",
    "      else:\n",
    "        stack.append(char)\n",
    "\n",
    "    return not stack  # True if stack is empty (all brackets closed)\n",
    "\n",
    "# Example usage\n",
    "checker = ParenthesesChecker()\n",
    "print(checker.is_valid(\"()\"))  # True\n",
    "print(checker.is_valid(\"()[]{}\"))  # True\n",
    "print(checker.is_valid(\"[)\"))  # False\n",
    "print(checker.is_valid(\"({[)]\"))  # False\n",
    "print(checker.is_valid(\"{{{\"))  # False\n"
   ]
  },
  {
   "cell_type": "code",
   "execution_count": 12,
   "metadata": {},
   "outputs": [
    {
     "name": "stdout",
     "output_type": "stream",
     "text": [
      "'()': True\n",
      "'()[]{}': True\n",
      "'[)': False\n",
      "'({[)]': False\n",
      "'{{{': False\n"
     ]
    }
   ],
   "source": [
    "class ParenthesesValidator:\n",
    "    def __init__(self):\n",
    "        # Define a mapping of closing brackets to their corresponding opening brackets\n",
    "        self.pairs = {')': '(', '}': '{', ']': '['}\n",
    "\n",
    "    def isValid(self, s: str) -> bool:\n",
    "        stack = []\n",
    "\n",
    "        # Iterate through each character in the string\n",
    "        for char in s:\n",
    "            # If it's an opening bracket, push it onto the stack\n",
    "            if char in '({[':\n",
    "                stack.append(char)\n",
    "            # If it's a closing bracket, check for matching opening bracket\n",
    "            elif char in ')}]':\n",
    "                if not stack or stack[-1] != self.pairs[char]:\n",
    "                    return False\n",
    "                stack.pop()\n",
    "\n",
    "        # If the stack is empty, all brackets were matched correctly\n",
    "        return not stack\n",
    "\n",
    "\n",
    "# Example Usage\n",
    "if __name__ == \"__main__\":\n",
    "    validator = ParenthesesValidator()\n",
    "\n",
    "    # Test cases\n",
    "    test_cases = [\n",
    "        \"()\",              # Valid\n",
    "        \"()[]{}\",          # Valid\n",
    "        \"[)\",              # Invalid\n",
    "        \"({[)]\",           # Invalid\n",
    "        \"{{{\"              # Invalid\n",
    "    ]\n",
    "\n",
    "    for s in test_cases:\n",
    "        print(f\"'{s}': {validator.isValid(s)}\")"
   ]
  },
  {
   "cell_type": "markdown",
   "metadata": {
    "id": "jwjRL57P2kGe"
   },
   "source": [
    "**Problem 13**\n",
    "\n",
    "Create a base class Shape with a method area that returns 0. Then, create two subclasses Circle and Square, each with their own implementation of the area method. The Circle class should take a radius, and the Square class should take a side length. Demonstrate polymorphism by creating a list of shapes and iterating through them to print their areas"
   ]
  },
  {
   "cell_type": "code",
   "execution_count": null,
   "metadata": {
    "colab": {
     "base_uri": "https://localhost:8080/"
    },
    "id": "AtycZXMw2pOa",
    "outputId": "17dc190b-2ae6-44ae-bd6d-bc2e3f615ff8"
   },
   "outputs": [
    {
     "name": "stdout",
     "output_type": "stream",
     "text": [
      "78.53981633974483\n",
      "16\n",
      "19.634954084936208\n"
     ]
    }
   ],
   "source": [
    "from math import pi\n",
    "\n",
    "class Shape:\n",
    "  def area(self):\n",
    "    return 0\n",
    "\n",
    "class Circle(Shape):\n",
    "  def __init__(self, radius):\n",
    "    self.radius = radius\n",
    "\n",
    "  def area(self):\n",
    "    return pi * self.radius ** 2\n",
    "\n",
    "class Square(Shape):\n",
    "  def __init__(self, side):\n",
    "    self.side = side\n",
    "\n",
    "  def area(self):\n",
    "    return self.side ** 2\n",
    "\n",
    "# Demonstrate polymorphism\n",
    "shapes = [Circle(5), Square(4), Circle(2.5)]\n",
    "\n",
    "for shape in shapes:\n",
    "  print(shape.area())\n"
   ]
  },
  {
   "cell_type": "code",
   "execution_count": 13,
   "metadata": {},
   "outputs": [
    {
     "name": "stdout",
     "output_type": "stream",
     "text": [
      "Area: 78.53981633974483\n",
      "Area: 16\n",
      "Area: 314.1592653589793\n",
      "Area: 49\n"
     ]
    }
   ],
   "source": [
    "import math\n",
    "\n",
    "# Base class Shape\n",
    "class Shape:\n",
    "    def area(self):\n",
    "        return 0\n",
    "\n",
    "# Subclass Circle\n",
    "class Circle(Shape):\n",
    "    def __init__(self, radius):\n",
    "        self.radius = radius\n",
    "    \n",
    "    def area(self):\n",
    "        return math.pi * (self.radius ** 2)\n",
    "\n",
    "# Subclass Square\n",
    "class Square(Shape):\n",
    "    def __init__(self, side):\n",
    "        self.side = side\n",
    "    \n",
    "    def area(self):\n",
    "        return self.side ** 2\n",
    "\n",
    "# Demonstrate Polymorphism\n",
    "if __name__ == \"__main__\":\n",
    "    # Create a list of shapes (both Circle and Square)\n",
    "    shapes = [Circle(5), Square(4), Circle(10), Square(7)]\n",
    "    \n",
    "    # Iterate through the list and print the area of each shape\n",
    "    for shape in shapes:\n",
    "        print(f\"Area: {shape.area()}\")"
   ]
  },
  {
   "cell_type": "markdown",
   "metadata": {
    "id": "8sLaFxLd2qHX"
   },
   "source": [
    "**Problem 14**\n",
    "\n",
    "Create a class ComplexNumber that represents a complex number with attributes real and imaginary. Overload the + operator to add two complex numbers and the __str__ method to display the complex number in the form \"a + bi\". Test the addition of two complex numbers."
   ]
  },
  {
   "cell_type": "code",
   "execution_count": null,
   "metadata": {
    "colab": {
     "base_uri": "https://localhost:8080/"
    },
    "id": "3Vi5ywhS94wv",
    "outputId": "25193607-5e0b-413f-beab-7bd6ef206e48"
   },
   "outputs": [
    {
     "name": "stdout",
     "output_type": "stream",
     "text": [
      "4 - 5i\n"
     ]
    }
   ],
   "source": [
    "class ComplexNumber:\n",
    "    def __init__(self, real, imaginary):\n",
    "        self.real = real\n",
    "        self.imaginary = imaginary\n",
    "\n",
    "    def __add__(self, other):\n",
    "        # Add the real and imaginary parts separately\n",
    "        return ComplexNumber(self.real + other.real, self.imaginary + other.imaginary)\n",
    "\n",
    "    def __str__(self):\n",
    "        # Format the string to include the imaginary part with a sign\n",
    "        if self.imaginary >= 0:\n",
    "            return f\"{self.real} + {self.imaginary}i\"\n",
    "        else:\n",
    "            # Manually handle the negative imaginary part\n",
    "            return f\"{self.real} - {-self.imaginary}i\"\n",
    "\n",
    "# Test addition of two complex numbers\n",
    "c1 = ComplexNumber(3, 2)\n",
    "c2 = ComplexNumber(1, -7)\n",
    "c3 = c1 + c2\n",
    "print(c3)  # Output: 4 - 5i\n"
   ]
  },
  {
   "cell_type": "code",
   "execution_count": 14,
   "metadata": {},
   "outputs": [
    {
     "name": "stdout",
     "output_type": "stream",
     "text": [
      "Addition result: 4 + 6i\n"
     ]
    }
   ],
   "source": [
    "class ComplexNumber:\n",
    "    def __init__(self, real, imaginary):\n",
    "        self.real = real\n",
    "        self.imaginary = imaginary\n",
    "\n",
    "    # Overload the + operator to add two complex numbers\n",
    "    def __add__(self, other):\n",
    "        if isinstance(other, ComplexNumber):\n",
    "            # Add the real and imaginary parts separately\n",
    "            real_part = self.real + other.real\n",
    "            imaginary_part = self.imaginary + other.imaginary\n",
    "            return ComplexNumber(real_part, imaginary_part)\n",
    "        return NotImplemented\n",
    "\n",
    "    # Overload the str method to display the complex number in the form \"a + bi\"\n",
    "    def __str__(self):\n",
    "        return f\"{self.real} + {self.imaginary}i\"\n",
    "\n",
    "# Test the addition of two complex numbers\n",
    "if __name__ == \"__main__\":\n",
    "    # Create two complex numbers\n",
    "    complex1 = ComplexNumber(3, 4)  # 3 + 4i\n",
    "    complex2 = ComplexNumber(1, 2)  # 1 + 2i\n",
    "\n",
    "    # Add the two complex numbers\n",
    "    result = complex1 + complex2\n",
    "\n",
    "    # Print the result of the addition\n",
    "    print(f\"Addition result: {result}\")"
   ]
  },
  {
   "cell_type": "markdown",
   "metadata": {
    "id": "wiwfjv6f27og"
   },
   "source": [
    "**Problem 15**\n",
    "\n",
    "Create a class Engine with an attribute horsepower. Then, create a class Car that has an attribute engine of type Engine. Demonstrate aggregation by creating a Car with a Engine object, and print the car's horsepower. Demonstrate your understanding of Aggregation, Composition and has a relationship in this problem by adding all necessary properties and methods."
   ]
  },
  {
   "cell_type": "code",
   "execution_count": null,
   "metadata": {
    "colab": {
     "base_uri": "https://localhost:8080/"
    },
    "id": "JTV5h_Jx3YUY",
    "outputId": "f7302bdf-3d27-4ae1-ef76-ed32aed2364d"
   },
   "outputs": [
    {
     "name": "stdout",
     "output_type": "stream",
     "text": [
      "The Honda HRV has 158 horsepower.\n"
     ]
    }
   ],
   "source": [
    "class Engine:\n",
    "  def __init__(self, horsepower):\n",
    "    self.horsepower = horsepower\n",
    "\n",
    "class Car:\n",
    "  def __init__(self, engine, make, model):\n",
    "    self.engine = engine  # Aggregation: Car \"has-a\" Engine\n",
    "    self.make = make\n",
    "    self.model = model\n",
    "\n",
    "  def get_horsepower(self):\n",
    "    return self.engine.horsepower\n",
    "\n",
    "# Create an Engine object\n",
    "engine = Engine(158)\n",
    "\n",
    "# Create a Car object with the Engine\n",
    "car = Car(engine, \"Honda\", \"HRV\")\n",
    "\n",
    "# Print the car's horsepower\n",
    "print(f\"The {car.make} {car.model} has {car.get_horsepower()} horsepower.\")"
   ]
  },
  {
   "cell_type": "code",
   "execution_count": 15,
   "metadata": {},
   "outputs": [
    {
     "name": "stdout",
     "output_type": "stream",
     "text": [
      "The car's engine has 150 horsepower.\n"
     ]
    }
   ],
   "source": [
    "# Engine class with horsepower attribute\n",
    "class Engine:\n",
    "    def __init__(self, horsepower):\n",
    "        self.horsepower = horsepower\n",
    "    \n",
    "    def get_horsepower(self):\n",
    "        return self.horsepower\n",
    "\n",
    "# Car class with an engine (demonstrating aggregation)\n",
    "class Car:\n",
    "    def __init__(self, engine):\n",
    "        self.engine = engine  # The car has an engine (Aggregation)\n",
    "    \n",
    "    def print_car_horsepower(self):\n",
    "        print(f\"The car's engine has {self.engine.get_horsepower()} horsepower.\")\n",
    "\n",
    "# Demonstrating Aggregation\n",
    "if __name__ == \"__main__\":\n",
    "    # Create an Engine object\n",
    "    engine = Engine(150)  # Engine with 150 horsepower\n",
    "\n",
    "    # Create a Car object that has the Engine object\n",
    "    car = Car(engine)\n",
    "\n",
    "    # Print the car's horsepower by accessing the engine's horsepower\n",
    "    car.print_car_horsepower()"
   ]
  },
  {
   "cell_type": "markdown",
   "metadata": {
    "id": "Yfi1NKVG3dbY"
   },
   "source": [
    "**Problem 16**\n",
    "\n",
    "Create a class Time with attributes hours and minutes. Implement the __str__, __add__, and __sub__ magic methods to display the time, add two Time objects, and subtract one Time object from another, respectively. Ensure that the time is displayed in hh:mm format."
   ]
  },
  {
   "cell_type": "code",
   "execution_count": null,
   "metadata": {
    "colab": {
     "base_uri": "https://localhost:8080/"
    },
    "id": "NyHkzoclAJmm",
    "outputId": "54150840-b78a-4c5b-e761-dadea2357279"
   },
   "outputs": [
    {
     "name": "stdout",
     "output_type": "stream",
     "text": [
      "Time 1: 02:30\n",
      "Time 2: 01:45\n",
      "Time 1 + Time 2: 04:15\n",
      "Time 1 - Time 2: 00:45\n"
     ]
    }
   ],
   "source": [
    "class Time:\n",
    "    def __init__(self, hours, minutes):\n",
    "        self.hours = hours\n",
    "        self.minutes = minutes\n",
    "\n",
    "    def __str__(self):\n",
    "        return f\"{self.hours:02d}:{self.minutes:02d}\"\n",
    "\n",
    "    def __add__(self, other):\n",
    "        total_minutes = (self.hours * 60 + self.minutes) + (other.hours * 60 + other.minutes)\n",
    "        new_hours = (total_minutes // 60) % 24  # Normalize to 24-hour format\n",
    "        new_minutes = total_minutes % 60\n",
    "        return Time(new_hours, new_minutes)\n",
    "\n",
    "    def __sub__(self, other):\n",
    "        total_minutes = (self.hours * 60 + self.minutes) - (other.hours * 60 + other.minutes)\n",
    "        # Ensure time is positive\n",
    "        if total_minutes < 0:\n",
    "            total_minutes += 24 * 60  # Add a day worth of minutes if negative\n",
    "        new_hours = (total_minutes // 60) % 24  # Normalize to 24-hour format\n",
    "        new_minutes = total_minutes % 60\n",
    "        return Time(new_hours, new_minutes)\n",
    "\n",
    "# Example usage\n",
    "time1 = Time(2, 30)\n",
    "time2 = Time(1, 45)\n",
    "\n",
    "print(\"Time 1:\", time1)  # Output: 02:30\n",
    "print(\"Time 2:\", time2)  # Output: 01:45\n",
    "\n",
    "time3 = time1 + time2\n",
    "print(\"Time 1 + Time 2:\", time3)  # Output: 04:15\n",
    "\n",
    "time4 = time1 - time2\n",
    "print(\"Time 1 - Time 2:\", time4)  # Output: 00:45\n"
   ]
  },
  {
   "cell_type": "code",
   "execution_count": 16,
   "metadata": {},
   "outputs": [
    {
     "name": "stdout",
     "output_type": "stream",
     "text": [
      "Time 1: 05:45\n",
      "Time 2: 03:30\n",
      "Sum of Time 1 and Time 2: 09:15\n",
      "Difference between Time 1 and Time 2: 02:15\n"
     ]
    }
   ],
   "source": [
    "class Time:\n",
    "    def __init__(self, hours, minutes):\n",
    "        self.hours = hours\n",
    "        self.minutes = minutes\n",
    "    \n",
    "    def __str__(self):\n",
    "        # Return the time in hh:mm format\n",
    "        return f\"{self.hours:02}:{self.minutes:02}\"\n",
    "\n",
    "    def __add__(self, other):\n",
    "        # Adding two Time objects\n",
    "        total_minutes = self.hours * 60 + self.minutes + other.hours * 60 + other.minutes\n",
    "        hours = total_minutes // 60\n",
    "        minutes = total_minutes % 60\n",
    "        return Time(hours, minutes)\n",
    "\n",
    "    def __sub__(self, other):\n",
    "        # Subtracting two Time objects\n",
    "        total_minutes = (self.hours * 60 + self.minutes) - (other.hours * 60 + other.minutes)\n",
    "        \n",
    "        # Ensure the result is not negative (handle time difference properly)\n",
    "        if total_minutes < 0:\n",
    "            total_minutes += 24 * 60  # Wrap around the time (24 hours format)\n",
    "\n",
    "        hours = total_minutes // 60\n",
    "        minutes = total_minutes % 60\n",
    "        return Time(hours, minutes)\n",
    "\n",
    "# Testing the Time class\n",
    "if __name__ == \"__main__\":\n",
    "    t1 = Time(5, 45)  # 5:45\n",
    "    t2 = Time(3, 30)  # 3:30\n",
    "    \n",
    "    print(f\"Time 1: {t1}\")\n",
    "    print(f\"Time 2: {t2}\")\n",
    "    \n",
    "    # Adding two Time objects\n",
    "    t3 = t1 + t2\n",
    "    print(f\"Sum of Time 1 and Time 2: {t3}\")\n",
    "    \n",
    "    # Subtracting two Time objects\n",
    "    t4 = t1 - t2\n",
    "    print(f\"Difference between Time 1 and Time 2: {t4}\")"
   ]
  },
  {
   "cell_type": "markdown",
   "metadata": {
    "id": "zzyeegwU3lR-"
   },
   "source": [
    "**Problem 17**\n",
    "\n",
    "Create a custom exception class InsufficientFundsError that inherits from the base Exception class. Use this exception in the BankAccount class created earlier to raise an error when someone tries to withdraw more money than is available in the account.\n",
    "\n",
    "These problems cover a wide range of class-related topics and will help build a strong foundation in object-oriented programming using Python."
   ]
  },
  {
   "cell_type": "code",
   "execution_count": null,
   "metadata": {
    "colab": {
     "base_uri": "https://localhost:8080/"
    },
    "id": "qJ8aEqph3r1U",
    "outputId": "a59b5b5d-9a35-41f5-cf9d-e8d946dfea3a"
   },
   "outputs": [
    {
     "name": "stdout",
     "output_type": "stream",
     "text": [
      "Insufficient funds in the account\n"
     ]
    }
   ],
   "source": [
    "# Custom exception class\n",
    "class InsufficientFundsError(Exception):\n",
    "  def __init__(self, message=\"Insufficient funds in the account\"):\n",
    "    self.message = message\n",
    "    super().__init__(self.message)\n",
    "\n",
    "# Updated BankAccount class with exception handling\n",
    "class BankAccount:\n",
    "  def __init__(self, accountNumber, openingBalance, currentBalance, dateOfOpening, customerName):\n",
    "    self.accountNumber = accountNumber\n",
    "    self.openingBalance = openingBalance\n",
    "    self.currentBalance = currentBalance\n",
    "    self.dateOfOpening = dateOfOpening\n",
    "    self.customerName = customerName\n",
    "\n",
    "  def deposit(self, amount):\n",
    "    self.currentBalance += amount\n",
    "    return self.currentBalance\n",
    "\n",
    "  def withdraw(self, amount):\n",
    "    if amount <= self.currentBalance:\n",
    "      self.currentBalance -= amount\n",
    "      return self.currentBalance\n",
    "    else:\n",
    "      raise InsufficientFundsError()  # Raise the custom exception\n",
    "\n",
    "  def checkBalance(self):\n",
    "    return self.currentBalance\n",
    "\n",
    "# Example usage\n",
    "account = BankAccount(\"152121350875\", 1000, 1500, \"2022-02-22\", \"Emma Watson\")\n",
    "\n",
    "try:\n",
    "  account.withdraw(2000)  # Attempt to withdraw more than available\n",
    "except InsufficientFundsError as e:\n",
    "  print(e.message)  # Output: Insufficient funds in the account\n"
   ]
  },
  {
   "cell_type": "code",
   "execution_count": 17,
   "metadata": {},
   "outputs": [
    {
     "name": "stdout",
     "output_type": "stream",
     "text": [
      "Account Number: E7876\n",
      "Customer Name: ADAMS\n",
      "Balance: 50000\n",
      "Deposited: 1000. New balance: 51000\n",
      "Cannot withdraw 55000. Available balance is 51000.\n",
      "Current balance: 51000\n",
      "Cannot withdraw 60000. Available balance is 51000.\n"
     ]
    }
   ],
   "source": [
    "# Custom Exception class for Insufficient Funds\n",
    "class InsufficientFundsError(Exception):\n",
    "    def __init__(self, message=\"Insufficient funds in your account for this transaction.\"):\n",
    "        self.message = message\n",
    "        super().__init__(self.message)\n",
    "\n",
    "# BankAccount class that uses the custom exception\n",
    "class BankAccount:\n",
    "    def __init__(self, accountNumber, openingBalance, customerName, dateOfOpening):\n",
    "        self.accountNumber = accountNumber\n",
    "        self.openingBalance = openingBalance\n",
    "        self.currentBalance = openingBalance\n",
    "        self.customerName = customerName\n",
    "        self.dateOfOpening = dateOfOpening\n",
    "    \n",
    "    def deposit(self, amount):\n",
    "        if amount > 0:\n",
    "            self.currentBalance += amount\n",
    "            print(f\"Deposited: {amount}. New balance: {self.currentBalance}\")\n",
    "        else:\n",
    "            print(\"Deposit amount must be positive.\")\n",
    "    \n",
    "    def withdraw(self, amount):\n",
    "        # Check if withdrawal amount is greater than current balance\n",
    "        if amount > self.currentBalance:\n",
    "            # Raise custom exception if insufficient funds\n",
    "            raise InsufficientFundsError(f\"Cannot withdraw {amount}. Available balance is {self.currentBalance}.\")\n",
    "        elif amount > 0:\n",
    "            self.currentBalance -= amount\n",
    "            print(f\"Withdrew: {amount}. New balance: {self.currentBalance}\")\n",
    "        else:\n",
    "            print(\"Withdrawal amount must be positive.\")\n",
    "    \n",
    "    def checkBalance(self):\n",
    "        return f\"Current balance: {self.currentBalance}\"\n",
    "    \n",
    "    def __str__(self):\n",
    "        return f\"Account Number: {self.accountNumber}\\nCustomer Name: {self.customerName}\\nBalance: {self.currentBalance}\"\n",
    "\n",
    "# Example usage of the BankAccount class with custom exception\n",
    "\n",
    "if __name__ == \"__main__\":\n",
    "    # Create a bank account instance\n",
    "    account = BankAccount(\"E7876\", 50000, \"ADAMS\", \"01-01-2020\")\n",
    "    print(account)\n",
    "    \n",
    "    # Test deposit method\n",
    "    account.deposit(1000)\n",
    "    \n",
    "    # Test withdrawal method\n",
    "    try:\n",
    "        account.withdraw(55000)\n",
    "    except InsufficientFundsError as e:\n",
    "        print(e)\n",
    "\n",
    "    # Check balance\n",
    "    print(account.checkBalance())\n",
    "    \n",
    "    # Test invalid withdrawal\n",
    "    try:\n",
    "        account.withdraw(60000)\n",
    "    except InsufficientFundsError as e:\n",
    "        print(e)"
   ]
  },
  {
   "cell_type": "markdown",
   "metadata": {
    "id": "zkr5vlOR35R4"
   },
   "source": [
    "**Problem 18**\n",
    "\n",
    "Create a class TemperatureConverter with a static method celsius_to_fahrenheit that converts Celsius to Fahrenheit and another static method fahrenheit_to_celsius that converts Fahrenheit to Celsius. Demonstrate the usage of these methods without creating an instance of the class.\n",
    "\n",
    "Bonus: Add a class method that keeps track of how many conversions have been performed."
   ]
  },
  {
   "cell_type": "code",
   "execution_count": null,
   "metadata": {
    "colab": {
     "base_uri": "https://localhost:8080/"
    },
    "id": "lLr6A2Jf3_r3",
    "outputId": "ca4aaaf5-a81c-46a2-fb96-7d586a9fb1c1"
   },
   "outputs": [
    {
     "name": "stdout",
     "output_type": "stream",
     "text": [
      "25°C is 77.0°F\n",
      "77°F is 25.0°C\n",
      "Total conversions performed: 2\n",
      "SomeClass instance: <__main__.SomeClass object at 0x7c5102724220>\n"
     ]
    }
   ],
   "source": [
    "class TemperatureConverter:\n",
    "    conversion_count = 0\n",
    "\n",
    "    @staticmethod\n",
    "    def celsius_to_fahrenheit(celsius):\n",
    "        \"\"\"Convert Celsius to Fahrenheit.\"\"\"\n",
    "        fahrenheit = (celsius * 9/5) + 32\n",
    "        TemperatureConverter.conversion_count += 1\n",
    "        return fahrenheit\n",
    "\n",
    "    @staticmethod\n",
    "    def fahrenheit_to_celsius(fahrenheit):\n",
    "        \"\"\"Convert Fahrenheit to Celsius.\"\"\"\n",
    "        celsius = (fahrenheit - 32) * 5/9\n",
    "        TemperatureConverter.conversion_count += 1\n",
    "        return celsius\n",
    "\n",
    "    @classmethod\n",
    "    def get_conversion_count(cls):\n",
    "        \"\"\"Return the total number of conversions performed.\"\"\"\n",
    "        return cls.conversion_count\n",
    "\n",
    "class SomeClass:\n",
    "    pass\n",
    "\n",
    "# Demonstrate the usage of static methods without creating an instance\n",
    "celsius = 25\n",
    "fahrenheit = 77\n",
    "\n",
    "# Convert Celsius to Fahrenheit\n",
    "print(f\"{celsius}°C is {TemperatureConverter.celsius_to_fahrenheit(celsius)}°F\")\n",
    "\n",
    "# Convert Fahrenheit to Celsius\n",
    "print(f\"{fahrenheit}°F is {TemperatureConverter.fahrenheit_to_celsius(fahrenheit)}°C\")\n",
    "\n",
    "# Print the number of conversions performed\n",
    "print(f\"Total conversions performed: {TemperatureConverter.get_conversion_count()}\")\n",
    "\n",
    "# Example of interacting with SomeClass\n",
    "some_instance = SomeClass()\n",
    "print(f\"SomeClass instance: {some_instance}\")\n"
   ]
  },
  {
   "cell_type": "code",
   "execution_count": 18,
   "metadata": {},
   "outputs": [
    {
     "name": "stdout",
     "output_type": "stream",
     "text": [
      "25°C to Fahrenheit: 77.0°F\n",
      "77°F to Celsius: 25.0°C\n",
      "Total conversions performed: 2\n"
     ]
    }
   ],
   "source": [
    "class TemperatureConverter:\n",
    "    conversion_counter = 0  # Class variable to track conversions\n",
    "    \n",
    "    @staticmethod\n",
    "    def celsius_to_fahrenheit(celsius):\n",
    "        \"\"\"Converts Celsius to Fahrenheit.\"\"\"\n",
    "        TemperatureConverter.conversion_counter += 1  # Increment conversion count\n",
    "        return (celsius * 9/5) + 32\n",
    "    \n",
    "    @staticmethod\n",
    "    def fahrenheit_to_celsius(fahrenheit):\n",
    "        \"\"\"Converts Fahrenheit to Celsius.\"\"\"\n",
    "        TemperatureConverter.conversion_counter += 1  # Increment conversion count\n",
    "        return (fahrenheit - 32) * 5/9\n",
    "    \n",
    "    @classmethod\n",
    "    def get_conversion_count(cls):\n",
    "        \"\"\"Class method to get the total number of conversions.\"\"\"\n",
    "        return cls.conversion_counter\n",
    "\n",
    "# Demonstrating usage without creating an instance of the class\n",
    "\n",
    "# Convert 25°C to Fahrenheit\n",
    "temp_fahrenheit = TemperatureConverter.celsius_to_fahrenheit(25)\n",
    "print(f\"25°C to Fahrenheit: {temp_fahrenheit}°F\")\n",
    "\n",
    "# Convert 77°F to Celsius\n",
    "temp_celsius = TemperatureConverter.fahrenheit_to_celsius(77)\n",
    "print(f\"77°F to Celsius: {temp_celsius}°C\")\n",
    "\n",
    "# Display the total number of conversions performed\n",
    "print(f\"Total conversions performed: {TemperatureConverter.get_conversion_count()}\")"
   ]
  },
  {
   "cell_type": "markdown",
   "metadata": {
    "id": "cwbjKzva4Eov"
   },
   "source": [
    "**Problem 19**\n",
    "\n",
    "Create a class BankAccount with a private attribute balance. Add methods to deposit and withdraw money from the account. Ensure that the balance cannot be directly accessed from outside the class but can be modified through the deposit and withdraw methods. Also, add a method get_balance to view the balance."
   ]
  },
  {
   "cell_type": "code",
   "execution_count": null,
   "metadata": {
    "colab": {
     "base_uri": "https://localhost:8080/"
    },
    "id": "ozuXOW1WJETT",
    "outputId": "4b5a8eee-cd78-493c-b24d-b9e765aab4a7"
   },
   "outputs": [
    {
     "name": "stdout",
     "output_type": "stream",
     "text": [
      "Deposited $500. New balance: $1500\n",
      "Withdrew $200. New balance: $1300\n",
      "Current balance: 1300\n"
     ]
    }
   ],
   "source": [
    "class BankAccount:\n",
    "  def __init__(self, initial_balance=0):\n",
    "    self.__balance = initial_balance  # Private attribute with double underscore\n",
    "\n",
    "  def deposit(self, amount):\n",
    "    if amount > 0:\n",
    "      self.__balance += amount\n",
    "      print(f\"Deposited ${amount}. New balance: ${self.__balance}\")\n",
    "    else:\n",
    "      print(\"Invalid deposit amount.\")\n",
    "\n",
    "  def withdraw(self, amount):\n",
    "    if 0 < amount <= self.__balance:\n",
    "      self.__balance -= amount\n",
    "      print(f\"Withdrew ${amount}. New balance: ${self.__balance}\")\n",
    "    else:\n",
    "      print(\"Insufficient funds or invalid withdrawal amount.\")\n",
    "\n",
    "  def get_balance(self):\n",
    "    return self.__balance\n",
    "\n",
    "# Example usage\n",
    "account = BankAccount(1000)\n",
    "account.deposit(500)\n",
    "account.withdraw(200)\n",
    "print(\"Current balance:\", account.get_balance())\n",
    "# Trying to access balance directly will result in an error\n",
    "# print(account.__balance)  # AttributeError: 'BankAccount' object has no attribute '__balance'\n"
   ]
  },
  {
   "cell_type": "code",
   "execution_count": 19,
   "metadata": {},
   "outputs": [
    {
     "name": "stdout",
     "output_type": "stream",
     "text": [
      "Deposited: $50. New balance: $150.\n",
      "Withdrew: $30. New balance: $120.\n",
      "Current balance: $120\n"
     ]
    }
   ],
   "source": [
    "class BankAccount:\n",
    "    def __init__(self, initial_balance=0):\n",
    "        \"\"\"Initialize the BankAccount with an optional initial balance.\"\"\"\n",
    "        self.__balance = initial_balance  # Private attribute for balance\n",
    "    \n",
    "    def deposit(self, amount):\n",
    "        \"\"\"Deposit money into the account. Ensure the amount is positive.\"\"\"\n",
    "        if amount > 0:\n",
    "            self.__balance += amount\n",
    "            print(f\"Deposited: ${amount}. New balance: ${self.__balance}.\")\n",
    "        else:\n",
    "            print(\"Deposit amount must be positive.\")\n",
    "    \n",
    "    def withdraw(self, amount):\n",
    "        \"\"\"Withdraw money from the account. Ensure the amount is positive and there's enough balance.\"\"\"\n",
    "        if amount > 0:\n",
    "            if amount <= self.__balance:\n",
    "                self.__balance -= amount\n",
    "                print(f\"Withdrew: ${amount}. New balance: ${self.__balance}.\")\n",
    "            else:\n",
    "                print(\"Insufficient funds.\")\n",
    "        else:\n",
    "            print(\"Withdrawal amount must be positive.\")\n",
    "    \n",
    "    def get_balance(self):\n",
    "        \"\"\"Get the current balance of the account.\"\"\"\n",
    "        return self.__balance\n",
    "\n",
    "# Example usage:\n",
    "\n",
    "# Creating a BankAccount object with an initial balance of 100\n",
    "account = BankAccount(100)\n",
    "\n",
    "# Depositing money\n",
    "account.deposit(50)\n",
    "\n",
    "# Withdrawing money\n",
    "account.withdraw(30)\n",
    "\n",
    "# Checking balance\n",
    "print(f\"Current balance: ${account.get_balance()}\")"
   ]
  },
  {
   "cell_type": "markdown",
   "metadata": {
    "id": "p3F77PJ-4ImX"
   },
   "source": [
    "**Problem 20**\n",
    "\n",
    "Create a base class Person with attributes name and age, and a method display_info that prints the name and age. Then, create a subclass Student that inherits from Person and adds the attribute student_id. Override the display_info method to also display the student_id. Create an instance of Student and call the display_info method."
   ]
  },
  {
   "cell_type": "code",
   "execution_count": null,
   "metadata": {
    "colab": {
     "base_uri": "https://localhost:8080/"
    },
    "id": "SwWAhdyp4SJ3",
    "outputId": "f9e455af-46ab-4588-f5f1-d1b8cf1be9c3"
   },
   "outputs": [
    {
     "name": "stdout",
     "output_type": "stream",
     "text": [
      "Name: Uzma\n",
      "Age: 27\n",
      "Student ID: 12345\n"
     ]
    }
   ],
   "source": [
    "class Person:\n",
    "  def __init__(self, name, age):\n",
    "    self.name = name\n",
    "    self.age = age\n",
    "\n",
    "  def display_info(self):\n",
    "    print(f\"Name: {self.name}\")\n",
    "    print(f\"Age: {self.age}\")\n",
    "\n",
    "class Student(Person):\n",
    "  def __init__(self, name, age, student_id):\n",
    "    super().__init__(name, age)\n",
    "    self.student_id = student_id\n",
    "\n",
    "  def display_info(self):\n",
    "    super().display_info()\n",
    "    print(f\"Student ID: {self.student_id}\")\n",
    "\n",
    "# Create an instance of Student\n",
    "student = Student(\"Uzma\", 27, \"12345\")\n",
    "\n",
    "# Call the display_info method\n",
    "student.display_info()"
   ]
  },
  {
   "cell_type": "code",
   "execution_count": 20,
   "metadata": {},
   "outputs": [
    {
     "name": "stdout",
     "output_type": "stream",
     "text": [
      "Name: Alice\n",
      "Age: 20\n",
      "Student ID: S12345\n"
     ]
    }
   ],
   "source": [
    "# Base class Person\n",
    "class Person:\n",
    "    def __init__(self, name, age):\n",
    "        \"\"\"Initialize the Person with name and age.\"\"\"\n",
    "        self.name = name\n",
    "        self.age = age\n",
    "    \n",
    "    def display_info(self):\n",
    "        \"\"\"Display the name and age.\"\"\"\n",
    "        print(f\"Name: {self.name}\")\n",
    "        print(f\"Age: {self.age}\")\n",
    "\n",
    "# Subclass Student that inherits from Person\n",
    "class Student(Person):\n",
    "    def __init__(self, name, age, student_id):\n",
    "        \"\"\"Initialize the Student with name, age, and student_id.\"\"\"\n",
    "        # Call the parent class's constructor\n",
    "        super().__init__(name, age)\n",
    "        self.student_id = student_id\n",
    "    \n",
    "    def display_info(self):\n",
    "        \"\"\"Override the display_info method to also include student_id.\"\"\"\n",
    "        # Call the parent class's display_info method\n",
    "        super().display_info()\n",
    "        print(f\"Student ID: {self.student_id}\")\n",
    "\n",
    "# Example usage:\n",
    "\n",
    "# Create an instance of Student\n",
    "student = Student(\"Alice\", 20, \"S12345\")\n",
    "\n",
    "# Call the display_info method\n",
    "student.display_info()"
   ]
  }
 ],
 "metadata": {
  "colab": {
   "provenance": []
  },
  "kernelspec": {
   "display_name": "Python 3 (ipykernel)",
   "language": "python",
   "name": "python3"
  },
  "language_info": {
   "codemirror_mode": {
    "name": "ipython",
    "version": 3
   },
   "file_extension": ".py",
   "mimetype": "text/x-python",
   "name": "python",
   "nbconvert_exporter": "python",
   "pygments_lexer": "ipython3",
   "version": "3.13.0"
  }
 },
 "nbformat": 4,
 "nbformat_minor": 4
}
