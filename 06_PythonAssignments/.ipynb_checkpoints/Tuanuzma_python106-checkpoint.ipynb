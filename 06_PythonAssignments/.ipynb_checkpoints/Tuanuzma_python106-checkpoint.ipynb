{
  "nbformat": 4,
  "nbformat_minor": 0,
  "metadata": {
    "colab": {
      "provenance": []
    },
    "kernelspec": {
      "name": "python3",
      "display_name": "Python 3"
    },
    "language_info": {
      "name": "python"
    }
  },
  "cells": [
    {
      "cell_type": "markdown",
      "source": [
        "**Problem 1**\n",
        "\n",
        "A pangram is a sentence using every letter of the alphabet at least once. It is case insensitive, so it doesn't matter if a letter is lower-case (e.g. k) or upper-case (e.g. K).\n",
        "\n",
        "For this exercise, a sentence is a pangram if it contains each of the 26 letters in the English alphabet.\n",
        "\n",
        "Example: The quick brown fox jumps over the lazy dog.\n",
        "\n",
        "*Your task is to figure out if a sentence is a pangram.*"
      ],
      "metadata": {
        "id": "QoMGXk6UXHB9"
      }
    },
    {
      "cell_type": "code",
      "source": [
        "def pangram(sentence):\n",
        "    # Convert the sentence to lowercase\n",
        "    sentence = sentence.lower()\n",
        "\n",
        "    # Define the alphabet set\n",
        "    alphabet = set('abcdefghijklmnopqrstuvwxyz')\n",
        "\n",
        "    # Create a set of letters found in the sentence\n",
        "    found_letters = {char for char in sentence if char in alphabet}\n",
        "\n",
        "    # Check if the found letters set contains all letters in the alphabet\n",
        "    return found_letters == alphabet\n",
        "\n",
        "# Test the function\n",
        "print(is_pangram(\"The quick brown fox jumps over the lazy dog\"))\n"
      ],
      "metadata": {
        "colab": {
          "base_uri": "https://localhost:8080/"
        },
        "id": "95Ao5ti9iHU1",
        "outputId": "5af4bf9a-8d22-46e4-bd00-82e6eec62ff7"
      },
      "execution_count": null,
      "outputs": [
        {
          "output_type": "stream",
          "name": "stdout",
          "text": [
            "True\n"
          ]
        }
      ]
    },
    {
      "cell_type": "markdown",
      "source": [
        "**Problem 2**\n",
        "\n",
        "An isogram (also known as a \"non-pattern word\") is a word or phrase without a repeating letter, however spaces and hyphens are allowed to appear multiple times.\n",
        "\n",
        "Examples of isograms:\n",
        "\n",
        "lumberjacks\n",
        "background\n",
        "downstream\n",
        "six-year-old\n",
        "\n",
        "The word isograms, however, is not an isogram, because the s repeats.\n",
        "\n",
        "*Your task is to figure out if the user input is isogram*"
      ],
      "metadata": {
        "id": "nx1PnYYdXomU"
      }
    },
    {
      "cell_type": "code",
      "source": [
        "def is_isogram(word):\n",
        "    # Convert the word to lowercase\n",
        "    word = word.lower()\n",
        "\n",
        "    # Initialize a set to keep track of seen letters\n",
        "    seen_letters = set()\n",
        "\n",
        "    # Iterate over each character in the word\n",
        "    for letter in word:\n",
        "        if letter.isalpha():  # Only consider alphabetic characters\n",
        "            if letter in seen_letters:\n",
        "                return False  # Letter is repeated\n",
        "            seen_letters.add(letter)\n",
        "\n",
        "    return True  # No repeating letters found\n",
        "\n",
        "# Ask input from user\n",
        "user_input = input(\"Enter a word or phrase: \")\n",
        "\n",
        "# Check if the input is an isogram and print the result\n",
        "if is_isogram(user_input):\n",
        "    print(\"The input is an isogram.\")\n",
        "else:\n",
        "    print(\"The input is not an isogram.\")\n"
      ],
      "metadata": {
        "colab": {
          "base_uri": "https://localhost:8080/"
        },
        "id": "AtsxCdL8lSFb",
        "outputId": "cb0f9d4e-4537-46f4-fd7e-b778bf60f0d1"
      },
      "execution_count": null,
      "outputs": [
        {
          "output_type": "stream",
          "name": "stdout",
          "text": [
            "Enter a word or phrase: lumberjacks\n",
            "The input is an isogram.\n"
          ]
        }
      ]
    },
    {
      "cell_type": "markdown",
      "source": [
        "**Problem 3**\n",
        "\n",
        "Parse and evaluate simple math word problems returning the answer as an integer.\n",
        "\n",
        "\n",
        "```\n",
        "What is 5?    -> 5\n",
        "What is 5 plus 13?    -> 13\n",
        "What is 7 minus 5?    -> 2\n",
        "What is 6 multiplied by 4?     -> 24\n",
        "What is 25 divided by 5?       -> 5\n",
        "What is 5 plus 13 plus 6?      -> 24\n",
        "What is 3 plus 2 multiplied by 3?       -> 15\n",
        "```"
      ],
      "metadata": {
        "id": "E96wh1LZYk-e"
      }
    },
    {
      "cell_type": "code",
      "source": [
        "def parse_math(question):\n",
        "    # Convert to lowercase and clean up the question\n",
        "    question = question.lower().strip()\n",
        "\n",
        "    # Replace words with symbols\n",
        "    question = question.replace(\"what is\", \"\").strip()\n",
        "    question = question.replace(\"plus\", \"+\")\n",
        "    question = question.replace(\"minus\", \"-\")\n",
        "    question = question.replace(\"multiplied by\", \"*\")\n",
        "    question = question.replace(\"divided by\", \"/\")\n",
        "\n",
        "    # Tokenize the expression\n",
        "    tokens = []\n",
        "    number = \"\"\n",
        "    for char in question:\n",
        "        if char.isdigit():\n",
        "            number += char\n",
        "        elif char in \"+-*/\":\n",
        "            if number:\n",
        "                tokens.append(int(number))\n",
        "                number = \"\"\n",
        "            tokens.append(char)\n",
        "\n",
        "    if number:\n",
        "        tokens.append(int(number))\n",
        "\n",
        "    # Function to evaluate the tokens considering operator precedence\n",
        "    def evaluate_tokens(tokens):\n",
        "        # First handle * and /\n",
        "        i = 0\n",
        "        while i < len(tokens):\n",
        "            if tokens[i] == '*':\n",
        "                result = tokens[i-1] * tokens[i+1]\n",
        "                tokens = tokens[:i-1] + [result] + tokens[i+2:]\n",
        "                i = 0\n",
        "            elif tokens[i] == '/':\n",
        "                result = tokens[i-1] // tokens[i+1]  # Integer division\n",
        "                tokens = tokens[:i-1] + [result] + tokens[i+2:]\n",
        "                i = 0\n",
        "            else:\n",
        "                i += 1\n",
        "\n",
        "        # Then handle + and -\n",
        "        result = tokens[0]\n",
        "        i = 1\n",
        "        while i < len(tokens):\n",
        "            if tokens[i] == '+':\n",
        "                result += tokens[i+1]\n",
        "            elif tokens[i] == '-':\n",
        "                result -= tokens[i+1]\n",
        "            i += 2\n",
        "\n",
        "        return result\n",
        "\n",
        "    return evaluate_tokens(tokens)\n",
        "\n",
        "# Example usage\n",
        "print(parse_math(\"What is 5?\"))                # 5\n",
        "print(parse_math(\"What is 5 plus 13?\"))        # 18\n",
        "print(parse_math(\"What is 7 minus 5?\"))        # 2\n",
        "print(parse_math(\"What is 6 multiplied by 4?\"))# 24\n",
        "print(parse_math(\"What is 25 divided by 5?\"))  # 5\n",
        "print(parse_math(\"What is 5 plus 13 plus 6?\")) # 24\n",
        "print(parse_math(\"What is 3 plus 2 multiplied by 3?\")) # 15\n"
      ],
      "metadata": {
        "colab": {
          "base_uri": "https://localhost:8080/"
        },
        "id": "3ymeewelEW_f",
        "outputId": "6832ca9b-ce4e-4653-e645-5aacf630ed22"
      },
      "execution_count": null,
      "outputs": [
        {
          "output_type": "stream",
          "name": "stdout",
          "text": [
            "5\n",
            "18\n",
            "2\n",
            "24\n",
            "5\n",
            "24\n",
            "9\n"
          ]
        }
      ]
    },
    {
      "cell_type": "markdown",
      "source": [
        "**Problem 4**\n",
        "\n",
        "For this exercise, you need to know two things about them:\n",
        "\n",
        "Each resistor has a resistance value.\n",
        "Resistors are small - so small in fact that if you printed the resistance value on them, it would be hard to read.\n",
        "To get around this problem, manufacturers print color-coded bands onto the resistors to denote their resistance values. Each band has a position and a numeric value.\n",
        "\n",
        "The first 2 bands of a resistor have a simple encoding scheme: each color maps to a single number. For example, if they printed a brown band (value 1) followed by a green band (value 5), it would translate to the number 15.\n",
        "\n",
        "In this exercise you are going to create a helpful program so that you don't have to remember the values of the bands. The program will take color names as input and output a two digit number, even if the input is more than two colors!\n",
        "\n",
        "The band colors are encoded as follows:\n",
        "\n",
        "```\n",
        "1.   Black: 0\n",
        "2.   Brown: 1\n",
        "3.   Red: 2\n",
        "4.   Orange: 3\n",
        "5.   Yellow: 4\n",
        "6.   Green: 5\n",
        "7.   Blue: 6\n",
        "8.   Violet: 7\n",
        "9.   Grey: 8\n",
        "10.  White: 9\n",
        "```\n",
        "\n",
        "*From the example above:*\n",
        "\n",
        "brown-green should return 15\n",
        "\n",
        "brown-green-violet should return 15 too, ignoring the third color"
      ],
      "metadata": {
        "id": "hYxixq3Paw83"
      }
    },
    {
      "cell_type": "code",
      "source": [
        "# Using list comprehension for error handling\n",
        "\n",
        "def color_to_value(color):\n",
        "    color_map = {\n",
        "        'black': 0,\n",
        "        'brown': 1,\n",
        "        'red': 2,\n",
        "        'orange': 3,\n",
        "        'yellow': 4,\n",
        "        'green': 5,\n",
        "        'blue': 6,\n",
        "        'violet': 7,\n",
        "        'gray': 8,\n",
        "        'white': 9\n",
        "    }\n",
        "\n",
        "    value = color_map.get(color.lower(), -1)\n",
        "    if value == -1:\n",
        "        raise ValueError(f\"Unknown color: {color}\")\n",
        "    return value\n",
        "\n",
        "def resistor_value(colors):\n",
        "\n",
        "    # Calculate the resistor value from a list of color bands.\n",
        "\n",
        "    if len(colors) < 2:\n",
        "        raise ValueError(\"At least two colors are required to determine the resistor value.\")\n",
        "\n",
        "    try:\n",
        "        first_value, second_value = [color_to_value(color) for color in colors[:2]]\n",
        "    except ValueError as e:\n",
        "        raise ValueError(\"Invalid color name provided.\") from e\n",
        "\n",
        "    # Form the resistor value\n",
        "    return first_value * 10 + second_value\n",
        "\n",
        "# Example usage\n",
        "if __name__ == \"__main__\":\n",
        "    colors = input(\"Enter the resistor colors separated by spaces: \").split()\n",
        "    try:\n",
        "        value = resistor_value(colors)\n",
        "        print(f\"The resistor value is: {value}\")\n",
        "    except ValueError as e:\n",
        "        print(e)\n"
      ],
      "metadata": {
        "colab": {
          "base_uri": "https://localhost:8080/"
        },
        "id": "BfA1hgjGHhDK",
        "outputId": "1c2b2b6e-7391-4f83-dcd0-b2df9908023e"
      },
      "execution_count": null,
      "outputs": [
        {
          "output_type": "stream",
          "name": "stdout",
          "text": [
            "Enter the resistor colors separated by spaces: brown green\n",
            "The resistor value is: 15\n"
          ]
        }
      ]
    },
    {
      "cell_type": "markdown",
      "source": [
        "**Problem 5**\n",
        "\n",
        "*Your task is to Validate Credit Card Number*\n",
        "\n",
        "Given a number determine whether or not it is valid per the Luhn formula.\n",
        "\n",
        "The Luhn algorithm is a simple checksum formula used to validate a variety of identification numbers, such as credit card numbers and Canadian Social Insurance Numbers.\n",
        "\n",
        "The task is to check if a given string is valid\n",
        "\n",
        "Valid credit card number\n",
        "\n",
        "4539 3195 0343 6467\n",
        "\n",
        "The first step of the Luhn algorithm is to double every second digit, starting from the right. We will be doubling\n",
        "\n",
        "4_3_ 3_9_ 0_4_ 6_6_\n",
        "\n",
        "If doubling the number results in a number greater than 9 then subtract 9 from the product. The results of our doubling:\n",
        "\n",
        "8569 6195 0383 3437\n",
        "\n",
        "Then sum all of the digits:\n",
        "\n",
        "8+5+6+9+6+1+9+5+0+3+8+3+3+4+3+7 = 80\n",
        "\n",
        "If the sum is evenly divisible by 10, then the number is valid. This number is valid!"
      ],
      "metadata": {
        "id": "Lobv2LGbbX1D"
      }
    },
    {
      "cell_type": "code",
      "source": [
        "def luhn_checksum(card_number):\n",
        "\n",
        "  # Remove spaces and convert to a list of digits\n",
        "  digits = [int(x) for x in card_number.replace(\" \", \"\")]\n",
        "\n",
        "  # Double every second digit from the right\n",
        "  for i in range(len(digits) - 2, -1, -2):\n",
        "    digits[i] *= 2\n",
        "    if digits[i] > 9:\n",
        "      digits[i] -= 9\n",
        "\n",
        "  # Sum all digits\n",
        "  total = sum(digits)\n",
        "\n",
        "  # Return True if the sum is divisible by 10, False otherwise\n",
        "  return total % 10 == 0\n",
        "\n",
        "# Example usage\n",
        "card_number = \"4539 3195 0343 6467\"\n",
        "if luhn_checksum(card_number):\n",
        "  print(\"Valid credit card number\")\n",
        "else:\n",
        "  print(\"Invalid credit card number\")\n"
      ],
      "metadata": {
        "colab": {
          "base_uri": "https://localhost:8080/"
        },
        "id": "KPL4xHGELbJl",
        "outputId": "33fe6469-a934-4eb6-90f9-89d364afc12b"
      },
      "execution_count": null,
      "outputs": [
        {
          "output_type": "stream",
          "name": "stdout",
          "text": [
            "Valid credit card number\n"
          ]
        }
      ]
    },
    {
      "cell_type": "markdown",
      "source": [
        "**Problem 6**\n",
        "\n",
        "Write a Python class that has two methods: getString and printString , The getString accept a string from the user and printString prints the string in upper case."
      ],
      "metadata": {
        "id": "bHDdXXcjFmCe"
      }
    },
    {
      "cell_type": "code",
      "source": [
        "class StringManipulation:\n",
        "  def __init__(self):\n",
        "    self.string = \"\"\n",
        "\n",
        "  def getString(self):\n",
        "    self.string = input(\"Enter a string: \")\n",
        "\n",
        "  def printString(self):\n",
        "    print(self.string.upper())\n",
        "\n",
        "# Example usage\n",
        "string_obj = StringManipulation()\n",
        "string_obj.getString()\n",
        "string_obj.printString()"
      ],
      "metadata": {
        "colab": {
          "base_uri": "https://localhost:8080/"
        },
        "id": "MEYplsjmKqpd",
        "outputId": "bd99a2c6-4067-4962-ff4e-1b530d8dcf41"
      },
      "execution_count": null,
      "outputs": [
        {
          "output_type": "stream",
          "name": "stdout",
          "text": [
            "Enter a string: \"The food here are very good and delicious which bring back old memories\"\n",
            "\"THE FOOD HERE ARE VERY GOOD AND DELICIOUS WHICH BRING BACK OLD MEMORIES\"\n"
          ]
        }
      ]
    },
    {
      "cell_type": "markdown",
      "source": [
        "**Problem 7**\n",
        "\n",
        "Create a class Temperature that has a property celsius to get and set the temperature in Celsius and another property fahrenheit to get and set the temperature in Fahrenheit. The fahrenheit property should convert the temperature to and from Celsius."
      ],
      "metadata": {
        "id": "5-6cZZTw55Lt"
      }
    },
    {
      "cell_type": "code",
      "source": [
        "class Temperature:\n",
        "  def __init__(self, celsius=0):\n",
        "    self._celsius = celsius\n",
        "\n",
        "  @property\n",
        "  def celsius(self):\n",
        "    return self._celsius\n",
        "\n",
        "  @celsius.setter\n",
        "  def celsius(self, value):\n",
        "    self._celsius = value\n",
        "\n",
        "  @property\n",
        "  def fahrenheit(self):\n",
        "    return self._celsius * 9/5 + 32\n",
        "\n",
        "  @fahrenheit.setter\n",
        "  def fahrenheit(self, value):\n",
        "    self._celsius = (value - 32) * 5/9\n",
        "\n",
        "# Example usage\n",
        "temp = Temperature()\n",
        "temp.celsius = 25\n",
        "print(temp.fahrenheit)  # Output: 77.0\n",
        "\n",
        "temp.fahrenheit = 68\n",
        "print(temp.celsius)  # Output: 20.0"
      ],
      "metadata": {
        "colab": {
          "base_uri": "https://localhost:8080/"
        },
        "id": "JZR2tDfULxiL",
        "outputId": "e2195291-e2c0-4f89-a1f5-8c3702e889e5"
      },
      "execution_count": null,
      "outputs": [
        {
          "output_type": "stream",
          "name": "stdout",
          "text": [
            "77.0\n",
            "20.0\n"
          ]
        }
      ]
    },
    {
      "cell_type": "markdown",
      "source": [
        "**Problem 8**\n",
        "\n",
        "Create a class *Book* with attributes title, author, and pages. Ensure that the class constructor requires these attributes. Create multiple instances of Book and display their details.\n",
        "\n",
        "Add a method price that returns the price of the book using a formula pages * 10. Add another method that prints all the details of the book. Create an instance of the Book class and display the details."
      ],
      "metadata": {
        "id": "GeVVh-5p5gTT"
      }
    },
    {
      "cell_type": "code",
      "source": [
        "class Book:\n",
        "  def __init__(self, title, author, pages):\n",
        "    self.title = title\n",
        "    self.author = author\n",
        "    self.pages = pages\n",
        "\n",
        "  def price(self):\n",
        "    return self.pages * 10\n",
        "\n",
        "  def print_details(self):\n",
        "    print(\"Title:\", self.title)\n",
        "    print(\"Author:\", self.author)\n",
        "    print(\"Pages:\", self.pages)\n",
        "    print(\"Price:\", self.price())\n",
        "\n",
        "# Create instances of Book\n",
        "book1 = Book(\"The Hitchhiker's Guide to the Galaxy\", \"Douglas Adams\", 224)\n",
        "book2 = Book(\"Pride and Prejudice\", \"Jane Austen\", 432)\n",
        "book3 = Book(\"To Kill a Mockingbird\", \"Harper Lee\", 336)\n",
        "\n",
        "# Display details of the books\n",
        "book1.print_details()\n",
        "print()  # Print an empty line for separation\n",
        "book2.print_details()\n",
        "print()\n",
        "book3.print_details()\n"
      ],
      "metadata": {
        "id": "I3PXkT8j5nCt",
        "colab": {
          "base_uri": "https://localhost:8080/"
        },
        "outputId": "6053a759-1273-4d58-f544-acfc9e806332"
      },
      "execution_count": null,
      "outputs": [
        {
          "output_type": "stream",
          "name": "stdout",
          "text": [
            "Title: The Hitchhiker's Guide to the Galaxy\n",
            "Author: Douglas Adams\n",
            "Pages: 224\n",
            "Price: 2240\n",
            "\n",
            "Title: Pride and Prejudice\n",
            "Author: Jane Austen\n",
            "Pages: 432\n",
            "Price: 4320\n",
            "\n",
            "Title: To Kill a Mockingbird\n",
            "Author: Harper Lee\n",
            "Pages: 336\n",
            "Price: 3360\n"
          ]
        }
      ]
    },
    {
      "cell_type": "markdown",
      "source": [
        "**Problem 9**\n",
        "\n",
        "Write a Python class Employee with properties id, name, salary, and department and methods like \\__init__ calculateSalary, assignDepartment and \\__str__.\n",
        "\n",
        "Sample Employee Data:\n",
        "\n",
        "```\n",
        "\"E7876\", \"ADAMS\", 50000, \"ACCOUNTING\"\n",
        "\"E7499\", \"JONES\", 45000, \"RESEARCH\"\n",
        "\"E7900\", \"MARTIN\", 50000, \"SALES\"\n",
        "\"E7698\", \"SMITH\", 55000, \"OPERATIONS\"\n",
        "```\n",
        "Use 'assignDepartment' method to change the department of an employee.\n",
        "\n",
        "Use '\\__str__' method to print the details of an employee.\n",
        "\n",
        "Use 'calculateSalary' method takes two arguments: salary and hours_worked, which is the number of hours worked by the employee. If the number of hours worked is more than 50, the method computes overtime and adds it to the salary.\n",
        "\n",
        "Overtime is calculated as following formula:\n",
        "overtime = hours_worked - 50\n",
        "Overtime amount = (overtime * (salary / 50))"
      ],
      "metadata": {
        "id": "OwNVg-Wf_slB"
      }
    },
    {
      "cell_type": "code",
      "source": [
        "class Employee:\n",
        "  def __init__(self, id, name, salary, department):\n",
        "    self.id = id\n",
        "    self.name = name\n",
        "    self.salary = salary\n",
        "    self.department = department\n",
        "\n",
        "  def calculateSalary(self, salary, hours_worked):\n",
        "    if hours_worked > 50:\n",
        "      overtime = hours_worked - 50\n",
        "      overtime_amount = (overtime * (salary / 50))\n",
        "      total_salary = salary + overtime_amount\n",
        "    else:\n",
        "      total_salary = salary\n",
        "    return total_salary\n",
        "\n",
        "  def assignDepartment(self, new_department):\n",
        "    self.department = new_department\n",
        "\n",
        "  def __str__(self):\n",
        "    return f\"Employee ID: {self.id}\\nName: {self.name}\\nSalary: {self.salary}\\nDepartment: {self.department}\"\n",
        "\n",
        "# Sample Employee Data\n",
        "employee1 = Employee(\"E7876\", \"ADAMS\", 50000, \"ACCOUNTING\")\n",
        "employee2 = Employee(\"E7499\", \"JONES\", 45000, \"RESEARCH\")\n",
        "employee3 = Employee(\"E7900\", \"MARTIN\", 50000, \"SALES\")\n",
        "employee4 = Employee(\"E7698\", \"SMITH\", 55000, \"OPERATIONS\")\n",
        "\n",
        "# Change department of an employee\n",
        "employee2.assignDepartment(\"MARKETING\")\n",
        "\n",
        "# Print details of an employee\n",
        "print(employee1)\n",
        "print()\n",
        "print(employee2)\n",
        "\n",
        "# Calculate salary with overtime\n",
        "salary_with_overtime = employee3.calculateSalary(50000, 60)\n",
        "print(f\"\\nSalary with overtime for {employee3.name}: {salary_with_overtime}\")\n"
      ],
      "metadata": {
        "colab": {
          "base_uri": "https://localhost:8080/"
        },
        "id": "jO4sMPH1N_BQ",
        "outputId": "6ee0dc85-28b8-4367-8e30-27f5548a154d"
      },
      "execution_count": null,
      "outputs": [
        {
          "output_type": "stream",
          "name": "stdout",
          "text": [
            "Employee ID: E7876\n",
            "Name: ADAMS\n",
            "Salary: 50000\n",
            "Department: ACCOUNTING\n",
            "\n",
            "Employee ID: E7499\n",
            "Name: JONES\n",
            "Salary: 45000\n",
            "Department: MARKETING\n",
            "\n",
            "Salary with overtime for MARTIN: 60000.0\n"
          ]
        }
      ]
    },
    {
      "cell_type": "markdown",
      "source": [
        "**Problem 10**\n",
        "\n",
        "Write a Python class Inventory with attributes like id, productName, availableQuantity and price. Add methods like addItem, updateItem, and checkItem_details.\n",
        "\n",
        "Use a dictionary to store the item details, where the key is the id and the value is a dictionary containing the productName, availableQuantity and price.\n",
        "\n",
        "Sample Data:\n",
        "\n",
        "\n",
        "```\n",
        "{\n",
        "  \"97410\": {\n",
        "    \"name\": \"Television\",\n",
        "    \"availableQuantity\": 20,\n",
        "    \"price\": 1455.99\n",
        "  },\n",
        "  \"97411\": {\n",
        "    \"name\": \"Radio\",\n",
        "    \"availableQuantity\": 32,\n",
        "    \"price\": 654.25\n",
        "  }\n",
        "}\n",
        "```\n",
        "\n",
        "\n"
      ],
      "metadata": {
        "id": "Q2R8aBS9BAlQ"
      }
    },
    {
      "cell_type": "code",
      "source": [
        "class Inventory:\n",
        "  def __init__(self):\n",
        "    self.inventory = {}\n",
        "\n",
        "  def addItem(self, id, productName, availableQuantity, price):\n",
        "    if id not in self.inventory:\n",
        "      self.inventory[id] = {\n",
        "        \"name\": productName,\n",
        "        \"availableQuantity\": availableQuantity,\n",
        "        \"price\": price\n",
        "      }\n",
        "      print(\"Item added successfully!\")\n",
        "    else:\n",
        "      print(\"Item with this ID already exists.\")\n",
        "\n",
        "  def updateItem(self, id, productName=None, availableQuantity=None, price=None):\n",
        "    if id in self.inventory:\n",
        "      if productName:\n",
        "        self.inventory[id][\"name\"] = productName\n",
        "      if availableQuantity:\n",
        "        self.inventory[id][\"availableQuantity\"] = availableQuantity\n",
        "      if price:\n",
        "        self.inventory[id][\"price\"] = price\n",
        "      print(\"Item updated successfully!\")\n",
        "    else:\n",
        "      print(\"Item not found.\")\n",
        "\n",
        "  def checkItem_details(self, id):\n",
        "    if id in self.inventory:\n",
        "      item = self.inventory[id]\n",
        "      print(\"Item Details:\")\n",
        "      print(\"ID:\", id)\n",
        "      print(\"Name:\", item[\"name\"])\n",
        "      print(\"Available Quantity:\", item[\"availableQuantity\"])\n",
        "      print(\"Price:\", item[\"price\"])\n",
        "    else:\n",
        "      print(\"Item not found.\")\n",
        "\n",
        "# Sample Data\n",
        "inventory = Inventory()\n",
        "inventory.addItem(\"97410\", \"Television\", 20, 1455.99)\n",
        "inventory.addItem(\"97411\", \"Radio\", 32, 654.25)\n",
        "\n",
        "# Update an item\n",
        "inventory.updateItem(\"97410\", availableQuantity=15)\n",
        "\n",
        "# Check item details\n",
        "inventory.checkItem_details(\"97411\")\n"
      ],
      "metadata": {
        "id": "2AtN1IClCEUS",
        "colab": {
          "base_uri": "https://localhost:8080/"
        },
        "outputId": "8ca0050b-4803-491b-bb2d-debb7370fbbe"
      },
      "execution_count": null,
      "outputs": [
        {
          "output_type": "stream",
          "name": "stdout",
          "text": [
            "Item added successfully!\n",
            "Item added successfully!\n",
            "Item updated successfully!\n",
            "Item Details:\n",
            "ID: 97411\n",
            "Name: Radio\n",
            "Available Quantity: 32\n",
            "Price: 654.25\n"
          ]
        }
      ]
    },
    {
      "cell_type": "markdown",
      "source": [
        "**Problem 11**\n",
        "\n",
        "Write a  Python class BankAccount with attributes like accountNumber, openingBalance, currentBalance dateOfOpening and customerName. Add methods like deposit, withdraw, and checkBalance."
      ],
      "metadata": {
        "id": "v07XqqlWCeF3"
      }
    },
    {
      "cell_type": "code",
      "source": [
        "class BankAccount:\n",
        "  def __init__(self, accountNumber, openingBalance, currentBalance, dateOfOpening, customerName):\n",
        "    self.accountNumber = accountNumber\n",
        "    self.openingBalance = openingBalance\n",
        "    self.currentBalance = currentBalance\n",
        "    self.dateOfOpening = dateOfOpening\n",
        "    self.customerName = customerName\n",
        "\n",
        "  #These methods need to be indented to be part of the class\n",
        "  def deposit(self, amount):\n",
        "    self.currentBalance += amount\n",
        "    return self.currentBalance\n",
        "\n",
        "  def withdraw(self, amount):\n",
        "    if amount <= self.currentBalance:\n",
        "      self.currentBalance -= amount\n",
        "      return self.currentBalance\n",
        "    else:\n",
        "      return \"Insufficient funds\"\n",
        "\n",
        "  def checkBalance(self):\n",
        "    return self.currentBalance\n",
        "    #These methods need to be indented to be part of the class\n",
        "\n",
        "#Example\n",
        "# Create an instance of the BankAccount class\n",
        "account = BankAccount(\"152121350875\", 1000, 1500, \"2022-02-22\", \"Emma Watson\")\n",
        "\n",
        "print(\"Bank Account Class:\")\n",
        "print(\"Account Number:\", account.accountNumber)\n",
        "print(\"Opening Balance:\", account.openingBalance)\n",
        "print(\"Current Balance:\", account.currentBalance)\n",
        "print(\"Date of Opening:\", account.dateOfOpening)\n",
        "print(\"Customer Name:\", account.customerName)\n",
        "\n",
        "# Deposit money\n",
        "account.deposit(500)\n",
        "print(\"Current Balance after deposit:\", account.currentBalance)\n",
        "\n",
        "# Withdraw money\n",
        "account.withdraw(200)\n",
        "print(\"Current Balance after withdrawal:\", account.currentBalance)\n",
        "\n",
        "# Check balance\n",
        "print(\"Current Balance:\", account.checkBalance())"
      ],
      "metadata": {
        "id": "QumPFVaFEm2N",
        "colab": {
          "base_uri": "https://localhost:8080/"
        },
        "outputId": "229375b2-856f-40c7-f19c-1b1113a0d458"
      },
      "execution_count": null,
      "outputs": [
        {
          "output_type": "stream",
          "name": "stdout",
          "text": [
            "Bank Account Class:\n",
            "Account Number: 152121350875\n",
            "Opening Balance: 1000\n",
            "Current Balance: 1500\n",
            "Date of Opening: 2022-02-22\n",
            "Customer Name: Emma Watson\n",
            "Current Balance after deposit: 2000\n",
            "Current Balance after withdrawal: 1800\n",
            "Current Balance: 1800\n"
          ]
        }
      ]
    },
    {
      "cell_type": "markdown",
      "source": [
        "**Problem 12**\n",
        "\n",
        "Write a Python class to check the validity of a string of parentheses,\n",
        "\n",
        "```\n",
        "'(', ')', '{', '}', '[' and '].\n",
        "```\n",
        "\n",
        "These brackets must be closed in the correct order,\n",
        "for example\n",
        "\n",
        "```\n",
        "\"()\" and \"()[]{}\" are valid\n",
        "\"[)\", \"({[)]\" and \"{{{\" are invalid.\n",
        "```"
      ],
      "metadata": {
        "id": "KrpUr80GGgI-"
      }
    },
    {
      "cell_type": "code",
      "source": [
        "# prompt: Write a Python class to check the validity of a string of parantheses\n",
        "\n",
        "class ParenthesesChecker:\n",
        "  def is_valid(self, s):\n",
        "    stack = []\n",
        "    matching_brackets = {')': '(', '}': '{', ']': '['}\n",
        "\n",
        "    for char in s:\n",
        "      if char in matching_brackets:\n",
        "        if not stack or stack.pop() != matching_brackets[char]:\n",
        "          return False\n",
        "      else:\n",
        "        stack.append(char)\n",
        "\n",
        "    return not stack  # True if stack is empty (all brackets closed)\n",
        "\n",
        "# Example usage\n",
        "checker = ParenthesesChecker()\n",
        "print(checker.is_valid(\"()\"))  # True\n",
        "print(checker.is_valid(\"()[]{}\"))  # True\n",
        "print(checker.is_valid(\"[)\"))  # False\n",
        "print(checker.is_valid(\"({[)]\"))  # False\n",
        "print(checker.is_valid(\"{{{\"))  # False\n"
      ],
      "metadata": {
        "id": "5NaskGz8GmNJ",
        "colab": {
          "base_uri": "https://localhost:8080/"
        },
        "outputId": "d7962ab9-bec8-45bb-b1fd-9189bb4bf358"
      },
      "execution_count": null,
      "outputs": [
        {
          "output_type": "stream",
          "name": "stdout",
          "text": [
            "True\n",
            "True\n",
            "False\n",
            "False\n",
            "False\n"
          ]
        }
      ]
    },
    {
      "cell_type": "markdown",
      "source": [
        "**Problem 13**\n",
        "\n",
        "Create a base class Shape with a method area that returns 0. Then, create two subclasses Circle and Square, each with their own implementation of the area method. The Circle class should take a radius, and the Square class should take a side length. Demonstrate polymorphism by creating a list of shapes and iterating through them to print their areas"
      ],
      "metadata": {
        "id": "jwjRL57P2kGe"
      }
    },
    {
      "cell_type": "code",
      "source": [
        "from math import pi\n",
        "\n",
        "class Shape:\n",
        "  def area(self):\n",
        "    return 0\n",
        "\n",
        "class Circle(Shape):\n",
        "  def __init__(self, radius):\n",
        "    self.radius = radius\n",
        "\n",
        "  def area(self):\n",
        "    return pi * self.radius ** 2\n",
        "\n",
        "class Square(Shape):\n",
        "  def __init__(self, side):\n",
        "    self.side = side\n",
        "\n",
        "  def area(self):\n",
        "    return self.side ** 2\n",
        "\n",
        "# Demonstrate polymorphism\n",
        "shapes = [Circle(5), Square(4), Circle(2.5)]\n",
        "\n",
        "for shape in shapes:\n",
        "  print(shape.area())\n"
      ],
      "metadata": {
        "id": "AtycZXMw2pOa",
        "colab": {
          "base_uri": "https://localhost:8080/"
        },
        "outputId": "17dc190b-2ae6-44ae-bd6d-bc2e3f615ff8"
      },
      "execution_count": null,
      "outputs": [
        {
          "output_type": "stream",
          "name": "stdout",
          "text": [
            "78.53981633974483\n",
            "16\n",
            "19.634954084936208\n"
          ]
        }
      ]
    },
    {
      "cell_type": "markdown",
      "source": [
        "**Problem 14**\n",
        "\n",
        "Create a class ComplexNumber that represents a complex number with attributes real and imaginary. Overload the + operator to add two complex numbers and the __str__ method to display the complex number in the form \"a + bi\". Test the addition of two complex numbers."
      ],
      "metadata": {
        "id": "8sLaFxLd2qHX"
      }
    },
    {
      "cell_type": "code",
      "source": [
        "class ComplexNumber:\n",
        "    def __init__(self, real, imaginary):\n",
        "        self.real = real\n",
        "        self.imaginary = imaginary\n",
        "\n",
        "    def __add__(self, other):\n",
        "        # Add the real and imaginary parts separately\n",
        "        return ComplexNumber(self.real + other.real, self.imaginary + other.imaginary)\n",
        "\n",
        "    def __str__(self):\n",
        "        # Format the string to include the imaginary part with a sign\n",
        "        if self.imaginary >= 0:\n",
        "            return f\"{self.real} + {self.imaginary}i\"\n",
        "        else:\n",
        "            # Manually handle the negative imaginary part\n",
        "            return f\"{self.real} - {-self.imaginary}i\"\n",
        "\n",
        "# Test addition of two complex numbers\n",
        "c1 = ComplexNumber(3, 2)\n",
        "c2 = ComplexNumber(1, -7)\n",
        "c3 = c1 + c2\n",
        "print(c3)  # Output: 4 - 5i\n"
      ],
      "metadata": {
        "colab": {
          "base_uri": "https://localhost:8080/"
        },
        "id": "3Vi5ywhS94wv",
        "outputId": "25193607-5e0b-413f-beab-7bd6ef206e48"
      },
      "execution_count": null,
      "outputs": [
        {
          "output_type": "stream",
          "name": "stdout",
          "text": [
            "4 - 5i\n"
          ]
        }
      ]
    },
    {
      "cell_type": "markdown",
      "source": [
        "**Problem 15**\n",
        "\n",
        "Create a class Engine with an attribute horsepower. Then, create a class Car that has an attribute engine of type Engine. Demonstrate aggregation by creating a Car with a Engine object, and print the car's horsepower. Demonstrate your understanding of Aggregation, Composition and has a relationship in this problem by adding all necessary properties and methods."
      ],
      "metadata": {
        "id": "wiwfjv6f27og"
      }
    },
    {
      "cell_type": "code",
      "source": [
        "class Engine:\n",
        "  def __init__(self, horsepower):\n",
        "    self.horsepower = horsepower\n",
        "\n",
        "class Car:\n",
        "  def __init__(self, engine, make, model):\n",
        "    self.engine = engine  # Aggregation: Car \"has-a\" Engine\n",
        "    self.make = make\n",
        "    self.model = model\n",
        "\n",
        "  def get_horsepower(self):\n",
        "    return self.engine.horsepower\n",
        "\n",
        "# Create an Engine object\n",
        "engine = Engine(158)\n",
        "\n",
        "# Create a Car object with the Engine\n",
        "car = Car(engine, \"Honda\", \"HRV\")\n",
        "\n",
        "# Print the car's horsepower\n",
        "print(f\"The {car.make} {car.model} has {car.get_horsepower()} horsepower.\")"
      ],
      "metadata": {
        "id": "JTV5h_Jx3YUY",
        "colab": {
          "base_uri": "https://localhost:8080/"
        },
        "outputId": "f7302bdf-3d27-4ae1-ef76-ed32aed2364d"
      },
      "execution_count": null,
      "outputs": [
        {
          "output_type": "stream",
          "name": "stdout",
          "text": [
            "The Honda HRV has 158 horsepower.\n"
          ]
        }
      ]
    },
    {
      "cell_type": "markdown",
      "source": [
        "**Problem 16**\n",
        "\n",
        "Create a class Time with attributes hours and minutes. Implement the __str__, __add__, and __sub__ magic methods to display the time, add two Time objects, and subtract one Time object from another, respectively. Ensure that the time is displayed in hh:mm format."
      ],
      "metadata": {
        "id": "Yfi1NKVG3dbY"
      }
    },
    {
      "cell_type": "code",
      "source": [
        "class Time:\n",
        "    def __init__(self, hours, minutes):\n",
        "        self.hours = hours\n",
        "        self.minutes = minutes\n",
        "\n",
        "    def __str__(self):\n",
        "        return f\"{self.hours:02d}:{self.minutes:02d}\"\n",
        "\n",
        "    def __add__(self, other):\n",
        "        total_minutes = (self.hours * 60 + self.minutes) + (other.hours * 60 + other.minutes)\n",
        "        new_hours = (total_minutes // 60) % 24  # Normalize to 24-hour format\n",
        "        new_minutes = total_minutes % 60\n",
        "        return Time(new_hours, new_minutes)\n",
        "\n",
        "    def __sub__(self, other):\n",
        "        total_minutes = (self.hours * 60 + self.minutes) - (other.hours * 60 + other.minutes)\n",
        "        # Ensure time is positive\n",
        "        if total_minutes < 0:\n",
        "            total_minutes += 24 * 60  # Add a day worth of minutes if negative\n",
        "        new_hours = (total_minutes // 60) % 24  # Normalize to 24-hour format\n",
        "        new_minutes = total_minutes % 60\n",
        "        return Time(new_hours, new_minutes)\n",
        "\n",
        "# Example usage\n",
        "time1 = Time(2, 30)\n",
        "time2 = Time(1, 45)\n",
        "\n",
        "print(\"Time 1:\", time1)  # Output: 02:30\n",
        "print(\"Time 2:\", time2)  # Output: 01:45\n",
        "\n",
        "time3 = time1 + time2\n",
        "print(\"Time 1 + Time 2:\", time3)  # Output: 04:15\n",
        "\n",
        "time4 = time1 - time2\n",
        "print(\"Time 1 - Time 2:\", time4)  # Output: 00:45\n"
      ],
      "metadata": {
        "colab": {
          "base_uri": "https://localhost:8080/"
        },
        "id": "NyHkzoclAJmm",
        "outputId": "54150840-b78a-4c5b-e761-dadea2357279"
      },
      "execution_count": null,
      "outputs": [
        {
          "output_type": "stream",
          "name": "stdout",
          "text": [
            "Time 1: 02:30\n",
            "Time 2: 01:45\n",
            "Time 1 + Time 2: 04:15\n",
            "Time 1 - Time 2: 00:45\n"
          ]
        }
      ]
    },
    {
      "cell_type": "markdown",
      "source": [
        "**Problem 17**\n",
        "\n",
        "Create a custom exception class InsufficientFundsError that inherits from the base Exception class. Use this exception in the BankAccount class created earlier to raise an error when someone tries to withdraw more money than is available in the account.\n",
        "\n",
        "These problems cover a wide range of class-related topics and will help build a strong foundation in object-oriented programming using Python."
      ],
      "metadata": {
        "id": "zzyeegwU3lR-"
      }
    },
    {
      "cell_type": "code",
      "source": [
        "# Custom exception class\n",
        "class InsufficientFundsError(Exception):\n",
        "  def __init__(self, message=\"Insufficient funds in the account\"):\n",
        "    self.message = message\n",
        "    super().__init__(self.message)\n",
        "\n",
        "# Updated BankAccount class with exception handling\n",
        "class BankAccount:\n",
        "  def __init__(self, accountNumber, openingBalance, currentBalance, dateOfOpening, customerName):\n",
        "    self.accountNumber = accountNumber\n",
        "    self.openingBalance = openingBalance\n",
        "    self.currentBalance = currentBalance\n",
        "    self.dateOfOpening = dateOfOpening\n",
        "    self.customerName = customerName\n",
        "\n",
        "  def deposit(self, amount):\n",
        "    self.currentBalance += amount\n",
        "    return self.currentBalance\n",
        "\n",
        "  def withdraw(self, amount):\n",
        "    if amount <= self.currentBalance:\n",
        "      self.currentBalance -= amount\n",
        "      return self.currentBalance\n",
        "    else:\n",
        "      raise InsufficientFundsError()  # Raise the custom exception\n",
        "\n",
        "  def checkBalance(self):\n",
        "    return self.currentBalance\n",
        "\n",
        "# Example usage\n",
        "account = BankAccount(\"152121350875\", 1000, 1500, \"2022-02-22\", \"Emma Watson\")\n",
        "\n",
        "try:\n",
        "  account.withdraw(2000)  # Attempt to withdraw more than available\n",
        "except InsufficientFundsError as e:\n",
        "  print(e.message)  # Output: Insufficient funds in the account\n"
      ],
      "metadata": {
        "id": "qJ8aEqph3r1U",
        "colab": {
          "base_uri": "https://localhost:8080/"
        },
        "outputId": "a59b5b5d-9a35-41f5-cf9d-e8d946dfea3a"
      },
      "execution_count": null,
      "outputs": [
        {
          "output_type": "stream",
          "name": "stdout",
          "text": [
            "Insufficient funds in the account\n"
          ]
        }
      ]
    },
    {
      "cell_type": "markdown",
      "source": [
        "**Problem 18**\n",
        "\n",
        "Create a class TemperatureConverter with a static method celsius_to_fahrenheit that converts Celsius to Fahrenheit and another static method fahrenheit_to_celsius that converts Fahrenheit to Celsius. Demonstrate the usage of these methods without creating an instance of the class.\n",
        "\n",
        "Bonus: Add a class method that keeps track of how many conversions have been performed."
      ],
      "metadata": {
        "id": "zkr5vlOR35R4"
      }
    },
    {
      "cell_type": "code",
      "source": [
        "class TemperatureConverter:\n",
        "    conversion_count = 0\n",
        "\n",
        "    @staticmethod\n",
        "    def celsius_to_fahrenheit(celsius):\n",
        "        \"\"\"Convert Celsius to Fahrenheit.\"\"\"\n",
        "        fahrenheit = (celsius * 9/5) + 32\n",
        "        TemperatureConverter.conversion_count += 1\n",
        "        return fahrenheit\n",
        "\n",
        "    @staticmethod\n",
        "    def fahrenheit_to_celsius(fahrenheit):\n",
        "        \"\"\"Convert Fahrenheit to Celsius.\"\"\"\n",
        "        celsius = (fahrenheit - 32) * 5/9\n",
        "        TemperatureConverter.conversion_count += 1\n",
        "        return celsius\n",
        "\n",
        "    @classmethod\n",
        "    def get_conversion_count(cls):\n",
        "        \"\"\"Return the total number of conversions performed.\"\"\"\n",
        "        return cls.conversion_count\n",
        "\n",
        "class SomeClass:\n",
        "    pass\n",
        "\n",
        "# Demonstrate the usage of static methods without creating an instance\n",
        "celsius = 25\n",
        "fahrenheit = 77\n",
        "\n",
        "# Convert Celsius to Fahrenheit\n",
        "print(f\"{celsius}°C is {TemperatureConverter.celsius_to_fahrenheit(celsius)}°F\")\n",
        "\n",
        "# Convert Fahrenheit to Celsius\n",
        "print(f\"{fahrenheit}°F is {TemperatureConverter.fahrenheit_to_celsius(fahrenheit)}°C\")\n",
        "\n",
        "# Print the number of conversions performed\n",
        "print(f\"Total conversions performed: {TemperatureConverter.get_conversion_count()}\")\n",
        "\n",
        "# Example of interacting with SomeClass\n",
        "some_instance = SomeClass()\n",
        "print(f\"SomeClass instance: {some_instance}\")\n"
      ],
      "metadata": {
        "id": "lLr6A2Jf3_r3",
        "colab": {
          "base_uri": "https://localhost:8080/"
        },
        "outputId": "ca4aaaf5-a81c-46a2-fb96-7d586a9fb1c1"
      },
      "execution_count": null,
      "outputs": [
        {
          "output_type": "stream",
          "name": "stdout",
          "text": [
            "25°C is 77.0°F\n",
            "77°F is 25.0°C\n",
            "Total conversions performed: 2\n",
            "SomeClass instance: <__main__.SomeClass object at 0x7c5102724220>\n"
          ]
        }
      ]
    },
    {
      "cell_type": "markdown",
      "source": [
        "**Problem 19**\n",
        "\n",
        "Create a class BankAccount with a private attribute balance. Add methods to deposit and withdraw money from the account. Ensure that the balance cannot be directly accessed from outside the class but can be modified through the deposit and withdraw methods. Also, add a method get_balance to view the balance."
      ],
      "metadata": {
        "id": "cwbjKzva4Eov"
      }
    },
    {
      "cell_type": "code",
      "source": [
        "class BankAccount:\n",
        "  def __init__(self, initial_balance=0):\n",
        "    self.__balance = initial_balance  # Private attribute with double underscore\n",
        "\n",
        "  def deposit(self, amount):\n",
        "    if amount > 0:\n",
        "      self.__balance += amount\n",
        "      print(f\"Deposited ${amount}. New balance: ${self.__balance}\")\n",
        "    else:\n",
        "      print(\"Invalid deposit amount.\")\n",
        "\n",
        "  def withdraw(self, amount):\n",
        "    if 0 < amount <= self.__balance:\n",
        "      self.__balance -= amount\n",
        "      print(f\"Withdrew ${amount}. New balance: ${self.__balance}\")\n",
        "    else:\n",
        "      print(\"Insufficient funds or invalid withdrawal amount.\")\n",
        "\n",
        "  def get_balance(self):\n",
        "    return self.__balance\n",
        "\n",
        "# Example usage\n",
        "account = BankAccount(1000)\n",
        "account.deposit(500)\n",
        "account.withdraw(200)\n",
        "print(\"Current balance:\", account.get_balance())\n",
        "# Trying to access balance directly will result in an error\n",
        "# print(account.__balance)  # AttributeError: 'BankAccount' object has no attribute '__balance'\n"
      ],
      "metadata": {
        "colab": {
          "base_uri": "https://localhost:8080/"
        },
        "id": "ozuXOW1WJETT",
        "outputId": "4b5a8eee-cd78-493c-b24d-b9e765aab4a7"
      },
      "execution_count": null,
      "outputs": [
        {
          "output_type": "stream",
          "name": "stdout",
          "text": [
            "Deposited $500. New balance: $1500\n",
            "Withdrew $200. New balance: $1300\n",
            "Current balance: 1300\n"
          ]
        }
      ]
    },
    {
      "cell_type": "markdown",
      "source": [
        "**Problem 20**\n",
        "\n",
        "Create a base class Person with attributes name and age, and a method display_info that prints the name and age. Then, create a subclass Student that inherits from Person and adds the attribute student_id. Override the display_info method to also display the student_id. Create an instance of Student and call the display_info method."
      ],
      "metadata": {
        "id": "p3F77PJ-4ImX"
      }
    },
    {
      "cell_type": "code",
      "source": [
        "class Person:\n",
        "  def __init__(self, name, age):\n",
        "    self.name = name\n",
        "    self.age = age\n",
        "\n",
        "  def display_info(self):\n",
        "    print(f\"Name: {self.name}\")\n",
        "    print(f\"Age: {self.age}\")\n",
        "\n",
        "class Student(Person):\n",
        "  def __init__(self, name, age, student_id):\n",
        "    super().__init__(name, age)\n",
        "    self.student_id = student_id\n",
        "\n",
        "  def display_info(self):\n",
        "    super().display_info()\n",
        "    print(f\"Student ID: {self.student_id}\")\n",
        "\n",
        "# Create an instance of Student\n",
        "student = Student(\"Uzma\", 27, \"12345\")\n",
        "\n",
        "# Call the display_info method\n",
        "student.display_info()"
      ],
      "metadata": {
        "id": "SwWAhdyp4SJ3",
        "colab": {
          "base_uri": "https://localhost:8080/"
        },
        "outputId": "f9e455af-46ab-4588-f5f1-d1b8cf1be9c3"
      },
      "execution_count": null,
      "outputs": [
        {
          "output_type": "stream",
          "name": "stdout",
          "text": [
            "Name: Uzma\n",
            "Age: 27\n",
            "Student ID: 12345\n"
          ]
        }
      ]
    }
  ]
}