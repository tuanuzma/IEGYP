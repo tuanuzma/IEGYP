{
  "nbformat": 4,
  "nbformat_minor": 0,
  "metadata": {
    "colab": {
      "provenance": []
    },
    "kernelspec": {
      "name": "python3",
      "display_name": "Python 3"
    },
    "language_info": {
      "name": "python"
    }
  },
  "cells": [
    {
      "cell_type": "markdown",
      "source": [
        "# This exercise is to test your knowledge in\n",
        "\n",
        "1.   For Loop\n",
        "2.   While Loop\n",
        "\n"
      ],
      "metadata": {
        "id": "sh59bu-cmHQf"
      }
    },
    {
      "cell_type": "markdown",
      "source": [
        "**Problem 1**\n",
        "\n",
        "Print first 10 natural numbers using while loop"
      ],
      "metadata": {
        "id": "NUBr3r3Er9Ub"
      }
    },
    {
      "cell_type": "code",
      "execution_count": null,
      "metadata": {
        "id": "J-YS3jigr6bo",
        "colab": {
          "base_uri": "https://localhost:8080/"
        },
        "outputId": "405631bc-f5bc-4589-eaf6-9557d7ab6b71"
      },
      "outputs": [
        {
          "output_type": "stream",
          "name": "stdout",
          "text": [
            "1\n",
            "2\n",
            "3\n",
            "4\n",
            "5\n",
            "6\n",
            "7\n",
            "8\n",
            "9\n",
            "10\n"
          ]
        }
      ],
      "source": [
        "numbers = 1\n",
        "while numbers < 11:\n",
        "  print(numbers)\n",
        "  numbers += 1"
      ]
    },
    {
      "cell_type": "markdown",
      "source": [
        "**Problem 2**\n",
        "\n",
        "Print first 10 prime numbers using for loop"
      ],
      "metadata": {
        "id": "VSmefGGDsDr0"
      }
    },
    {
      "cell_type": "code",
      "source": [
        "# Prime number is number that can be divided by itself and 1.\n",
        "# Step 1: Loop through all the elements in the given range.\n",
        "# Step 2: Check for each number if it has any factor between 1 and itself.\n",
        "# Step 3: If yes, then the number is not prime number,\n",
        "# and it will move to the next number.\n",
        "# Step 4: If no, it is the prime number, and the program\n",
        "# will print it and check for the next number.\n",
        "\n",
        "# Define the range of numbers you want to check\n",
        "start = 1\n",
        "end = 10\n",
        "for num in range(start, end + 1): #Use range() to generate iterable numbers\n",
        "  if num > 1:\n",
        "    for a in range(2, num):\n",
        "      if (num % a) == 0:\n",
        "        break\n",
        "    else:\n",
        "      print(num)"
      ],
      "metadata": {
        "id": "xnXhQAK7sMRY",
        "colab": {
          "base_uri": "https://localhost:8080/"
        },
        "outputId": "02c3d805-97c3-4a4d-ac11-b6af7bf06105"
      },
      "execution_count": null,
      "outputs": [
        {
          "output_type": "stream",
          "name": "stdout",
          "text": [
            "2\n",
            "3\n",
            "5\n",
            "7\n"
          ]
        }
      ]
    },
    {
      "cell_type": "markdown",
      "source": [
        "**Problem 3**\n",
        "\n",
        "Get number of items as input and generate that many ADAM Numbers"
      ],
      "metadata": {
        "id": "9TXi2WCNsNTg"
      }
    },
    {
      "cell_type": "code",
      "source": [
        "number = int(input(\"enter a number: \"))\n",
        "adam_numbers = []\n",
        "num = 1\n",
        "while len(adam_numbers) < number:\n",
        "    reversed_num = 0\n",
        "    temp = num\n",
        "    while temp > 0:\n",
        "        reversed_num = reversed_num * 10 + temp % 10\n",
        "        temp = temp // 10\n",
        "\n",
        "    square = num * num\n",
        "    reversed_square = reversed_num * reversed_num\n",
        "\n",
        "    reversed_result = 0\n",
        "    temp = reversed_square\n",
        "    while temp > 0:\n",
        "        reversed_result = reversed_result * 10 + temp % 10\n",
        "        temp = temp // 10\n",
        "\n",
        "    if square == reversed_result:\n",
        "        adam_numbers.append(num)\n",
        "\n",
        "    num += 1\n",
        "\n",
        "print(\"ADAM Numbers:\", adam_numbers)"
      ],
      "metadata": {
        "colab": {
          "base_uri": "https://localhost:8080/"
        },
        "id": "tbdnHb5qajI3",
        "outputId": "67065bc0-ac15-451b-e3e7-c10ea481c55a"
      },
      "execution_count": null,
      "outputs": [
        {
          "output_type": "stream",
          "name": "stdout",
          "text": [
            "enter a number: 11\n",
            "ADAM Numbers: [1, 2, 3, 11, 12, 13, 21, 22, 31, 101, 102]\n"
          ]
        }
      ]
    },
    {
      "cell_type": "markdown",
      "source": [
        "**Problem 4**\n",
        "\n",
        "Get number of items as input and generate that many Armstrong Numbers"
      ],
      "metadata": {
        "id": "1NtR4H83sWRd"
      }
    },
    {
      "cell_type": "code",
      "source": [
        "# Get the number of Armstrong numbers to generate\n",
        "num_armstrong = int(input(\"Enter the number of Armstrong numbers to generate: \"))\n",
        "\n",
        "# Initialize variables\n",
        "count = 0\n",
        "num = 1\n",
        "\n",
        "# Generate Armstrong numbers\n",
        "while num_armstrong > 0:\n",
        "  order = len(str(num))\n",
        "  sum = 0\n",
        "  temp = num\n",
        "  while temp > 0:\n",
        "    digit = temp % 10\n",
        "    sum += digit ** order\n",
        "    temp //= 10\n",
        "\n",
        "  if num == sum:\n",
        "    print(num, end=\" \")\n",
        "    count += 1\n",
        "\n",
        "  num += 1"
      ],
      "metadata": {
        "id": "kTHyEZhosohS",
        "colab": {
          "base_uri": "https://localhost:8080/"
        },
        "outputId": "164dc01d-26bd-48a6-dc43-3f0f082d3251"
      },
      "execution_count": null,
      "outputs": [
        {
          "output_type": "stream",
          "name": "stdout",
          "text": [
            "Enter the number of Armstrong numbers to generate: 15\n",
            "1 2 3 4 5 6 7 8 9 153 370 371 407 1634 8208 "
          ]
        }
      ]
    },
    {
      "cell_type": "markdown",
      "source": [
        "**Problem 5**\n",
        "\n",
        "Write a program to print the following pattern using a loop.\n",
        "\n",
        "o\n",
        "\n",
        "oo\n",
        "\n",
        "ooo\n",
        "\n",
        "oooo\n",
        "\n",
        "ooooo"
      ],
      "metadata": {
        "id": "YSye6ju2s4Rd"
      }
    },
    {
      "cell_type": "code",
      "source": [
        "character = \"o\"\n",
        "for i in range(1,6):\n",
        "  print(character * i)"
      ],
      "metadata": {
        "id": "UY1ml3TotBI7",
        "colab": {
          "base_uri": "https://localhost:8080/"
        },
        "outputId": "b5f00dfd-22a6-420d-d9d5-6dc949f8d3d8"
      },
      "execution_count": null,
      "outputs": [
        {
          "output_type": "stream",
          "name": "stdout",
          "text": [
            "o\n",
            "oo\n",
            "ooo\n",
            "oooo\n",
            "ooooo\n"
          ]
        }
      ]
    },
    {
      "cell_type": "markdown",
      "source": [
        "**Problem 6**\n",
        "\n",
        "Write a program to print the following pattern using a loop\n",
        "\n",
        "1\n",
        "\n",
        "1 2\n",
        "\n",
        "1 2 3\n",
        "\n",
        "1 2 3 4\n",
        "\n",
        "1 2 3 4 5"
      ],
      "metadata": {
        "id": "1SkSXbQbtUEW"
      }
    },
    {
      "cell_type": "code",
      "source": [
        "# prompt: Write a program to print the following pattern using a loop\n",
        "\n",
        "for i in range(1, 6):\n",
        "  for j in range(1, i + 1):\n",
        "    print(j, end=\" \")\n",
        "  print()"
      ],
      "metadata": {
        "colab": {
          "base_uri": "https://localhost:8080/"
        },
        "id": "Skgk8etGesOi",
        "outputId": "0bb8f685-220a-4de7-e891-f82570f2c6de"
      },
      "execution_count": null,
      "outputs": [
        {
          "output_type": "stream",
          "name": "stdout",
          "text": [
            "1 \n",
            "1 2 \n",
            "1 2 3 \n",
            "1 2 3 4 \n",
            "1 2 3 4 5 \n"
          ]
        }
      ]
    },
    {
      "cell_type": "markdown",
      "source": [
        "**Problem 7**\n",
        "\n",
        "Get a number as input and calculate the sum of all numbers from 1 to the given number."
      ],
      "metadata": {
        "id": "WWKQLhpptmeb"
      }
    },
    {
      "cell_type": "code",
      "source": [
        "# Get the number as input\n",
        "number = int(input(\"Enter a number: \"))\n",
        "\n",
        "# Calculate the sum of all numbers from 1 to the given number\n",
        "sum = 0\n",
        "for i in range(1, number + 1):\n",
        "  sum += i\n",
        "\n",
        "# Print the sum\n",
        "print(\"The sum of all numbers from 1 to\", number, \"is:\", sum)\n",
        "\n"
      ],
      "metadata": {
        "id": "ps0pUcEDtzkb",
        "colab": {
          "base_uri": "https://localhost:8080/"
        },
        "outputId": "ef54d95a-05a4-41a6-a2f1-bc107f1a26d3"
      },
      "execution_count": null,
      "outputs": [
        {
          "output_type": "stream",
          "name": "stdout",
          "text": [
            "Enter a number: 25\n",
            "The sum of all numbers from 1 to 25 is: 325\n"
          ]
        }
      ]
    },
    {
      "cell_type": "markdown",
      "source": [
        "**Problem 8**\n",
        "\n",
        "Write a python program that takes few numbers as command line argument. Use a loop to display all elements. Use another loop to display all elements in the even position. Use another loop to display all elements in the odd position."
      ],
      "metadata": {
        "id": "S4OA1NOB1EBt"
      }
    },
    {
      "cell_type": "code",
      "source": [
        "%%writefile elements.py\n",
        "#!usr/bin/bash python\n",
        "\n",
        "import sys\n",
        "\n",
        "# Exclude the script name from the arguments\n",
        "numbers = sys.argv[1:]\n",
        "\n",
        "# Convert all arguments to integers\n",
        "numbers = [int(num) for num in numbers]\n",
        "\n",
        "# Display all elements\n",
        "print(\"All elements:\")\n",
        "for num in numbers:\n",
        "    print(num)\n",
        "\n",
        "# Display elements at even positions (index 0, 2, 4, ...)\n",
        "print(\"\\nElements in even positions (0-based index):\")\n",
        "for i in range(1, len(numbers), 2):\n",
        "    print(numbers[i])\n",
        "\n",
        "# Display elements at odd positions (index 1, 3, 5, ...)\n",
        "print(\"\\nElements in odd positions (0-based index):\")\n",
        "for i in range(0, len(numbers), 2):\n",
        "    print(numbers[i])"
      ],
      "metadata": {
        "colab": {
          "base_uri": "https://localhost:8080/"
        },
        "id": "Uqj0JJrFAYCy",
        "outputId": "0f46415d-bd22-4e45-fdde-43ba9a1538f6"
      },
      "execution_count": null,
      "outputs": [
        {
          "output_type": "stream",
          "name": "stdout",
          "text": [
            "Overwriting elements.py\n"
          ]
        }
      ]
    },
    {
      "cell_type": "code",
      "source": [
        "%run elements.py 1 2 3 4 5 6"
      ],
      "metadata": {
        "colab": {
          "base_uri": "https://localhost:8080/"
        },
        "id": "ZAs9VGn_CpxJ",
        "outputId": "e052873e-1e6a-4134-89ee-fee8c3e431cf"
      },
      "execution_count": null,
      "outputs": [
        {
          "output_type": "stream",
          "name": "stdout",
          "text": [
            "All elements:\n",
            "1\n",
            "2\n",
            "3\n",
            "4\n",
            "5\n",
            "6\n",
            "\n",
            "Elements in even positions (0-based index):\n",
            "2\n",
            "4\n",
            "6\n",
            "\n",
            "Elements in odd positions (0-based index):\n",
            "1\n",
            "3\n",
            "5\n"
          ]
        }
      ]
    },
    {
      "cell_type": "markdown",
      "source": [
        "**Problem 9**\n",
        "\n",
        "Write a python program that takes few numbers as command line argument. Find the average of those numbers."
      ],
      "metadata": {
        "id": "DAgEW9F75Jf2"
      }
    },
    {
      "cell_type": "code",
      "source": [
        "%%writefile average_calculator.py\n",
        "#!usr/bin/bash python\n",
        "\n",
        "\n",
        "import sys\n",
        "\n",
        "# Exclude the script name from the arguments\n",
        "numbers = sys.argv[1:]\n",
        "\n",
        "# Convert all arguments to integers\n",
        "numbers = [int(num) for num in numbers]\n",
        "\n",
        "# Calculate the sum of the numbers\n",
        "sum_numbers = sum(numbers)\n",
        "\n",
        "# Calculate the average\n",
        "average = sum_numbers / len(numbers) if numbers else 0  # Handle the case of no input numbers\n",
        "\n",
        "# Print the average\n",
        "print(\"Average:\", average)\n"
      ],
      "metadata": {
        "colab": {
          "base_uri": "https://localhost:8080/"
        },
        "id": "L0LrKrKFAl-f",
        "outputId": "18d1e959-6ccf-4650-bd3f-dcf87e5ccddd"
      },
      "execution_count": null,
      "outputs": [
        {
          "output_type": "stream",
          "name": "stdout",
          "text": [
            "Overwriting average_calculator.py\n"
          ]
        }
      ]
    },
    {
      "cell_type": "code",
      "source": [
        "%run average_calculator.py 10 20 30 40 50 60"
      ],
      "metadata": {
        "colab": {
          "base_uri": "https://localhost:8080/"
        },
        "id": "3AtzjEI4AzqX",
        "outputId": "876e783d-1a17-4b07-c946-811b1d371d34"
      },
      "execution_count": null,
      "outputs": [
        {
          "output_type": "stream",
          "name": "stdout",
          "text": [
            "Average: 35.0\n"
          ]
        }
      ]
    },
    {
      "cell_type": "markdown",
      "source": [
        "**Problem 10**\n",
        "\n",
        "Write a Python program that takes a string as input, which contains numbers separated by commas. Convert the string to a list of numbers and determine whether all the numbers are different from each other."
      ],
      "metadata": {
        "id": "rZP_eg_XuKwO"
      }
    },
    {
      "cell_type": "code",
      "source": [
        "# prompt: Write a Python program that takes a string as input, which contains numbers separated by commas. Convert the string to a list of numbers and determine whether all the numbers are different from each other.\n",
        "\n",
        "# Get the string input from the user\n",
        "numbers_string = input(\"Enter numbers separated by commas: \")\n",
        "\n",
        "# Split the string into a list of numbers\n",
        "numbers_list = [int(num) for num in numbers_string.split(\",\")]\n",
        "\n",
        "# Check if all numbers are different\n",
        "if len(numbers_list) == len(set(numbers_list)):\n",
        "  print(\"All numbers are different.\")\n",
        "else:\n",
        "  print(\"Not all numbers are different.\")\n"
      ],
      "metadata": {
        "colab": {
          "base_uri": "https://localhost:8080/"
        },
        "id": "bNPr3EahC-Hw",
        "outputId": "e2f7e5ca-ca1d-476a-d0f9-88389ad5b0fb"
      },
      "execution_count": null,
      "outputs": [
        {
          "output_type": "stream",
          "name": "stdout",
          "text": [
            "Enter numbers separated by commas: 17, 25, 10, 40, 33, 45\n",
            "All numbers are different.\n"
          ]
        }
      ]
    },
    {
      "cell_type": "markdown",
      "source": [
        "**Problem 11**\n",
        "\n",
        "Write a Python program that takes a string as input, which contains numbers separated by commas. Convert the string to a list of numbers. Now pick 3 unique numbers from the list whose sum is 100."
      ],
      "metadata": {
        "id": "KgTnX2_eu6l1"
      }
    },
    {
      "cell_type": "code",
      "source": [
        "# prompt: Write a Python program that takes a string as input, which contains numbers separated by commas. Convert the string to a list of numbers. Now pick 3 unique numbers from the list whose sum is 100.\n",
        "\n",
        "# Get the string input from the user\n",
        "numbers_string = input(\"Enter numbers separated by commas: \")\n",
        "\n",
        "# Split the string into a list of numbers\n",
        "numbers_list = [int(num) for num in numbers_string.split(\",\")]\n",
        "\n",
        "# Find three unique numbers that sum to 100\n",
        "found = False\n",
        "for i in range(len(numbers_list)):\n",
        "  for j in range(i + 1, len(numbers_list)):\n",
        "    for k in range(j + 1, len(numbers_list)):\n",
        "      if numbers_list[i] + numbers_list[j] + numbers_list[k] == 100:\n",
        "        print(numbers_list[i], numbers_list[j], numbers_list[k])\n",
        "        found = True\n",
        "        break\n",
        "    if found:\n",
        "      break\n",
        "  if found:\n",
        "    break\n",
        "\n",
        "if not found:\n",
        "  print(\"No three unique numbers found that sum to 100.\")\n"
      ],
      "metadata": {
        "colab": {
          "base_uri": "https://localhost:8080/"
        },
        "id": "4nqI8ovJE72e",
        "outputId": "db032906-6858-449a-fcec-c4e76f1e4e72"
      },
      "execution_count": null,
      "outputs": [
        {
          "output_type": "stream",
          "name": "stdout",
          "text": [
            "Enter numbers separated by commas: 25, 35, 45, 30, 20\n",
            "25 45 30\n"
          ]
        }
      ]
    },
    {
      "cell_type": "markdown",
      "source": [
        "**Problem 12**\n",
        "\n",
        "Write a Python program to get 2 positive numbers as input and multiply them without using the '*' operator."
      ],
      "metadata": {
        "id": "6tRt53BBz25I"
      }
    },
    {
      "cell_type": "code",
      "source": [
        "num1 = int(input(\"Enter first positive number1: \"))\n",
        "num2 = int(input(\"Enter second positive number2: \"))\n",
        "\n",
        "item = 0\n",
        "\n",
        "for i in range(1, num2 + 1):\n",
        "  item = item + num1\n",
        "\n",
        "print(\"The multiply of two positive number without using * operator is: \", item)\n"
      ],
      "metadata": {
        "id": "5WIRg5fw0Fi5",
        "colab": {
          "base_uri": "https://localhost:8080/"
        },
        "outputId": "1f138cf5-0361-4592-fdbc-2b959e24b9cd"
      },
      "execution_count": null,
      "outputs": [
        {
          "output_type": "stream",
          "name": "stdout",
          "text": [
            "Enter first positive number1: 6\n",
            "Enter second positive number2: 5\n",
            "The multiply of two positive number without using * operator is:  30\n"
          ]
        }
      ]
    },
    {
      "cell_type": "markdown",
      "source": [
        "**Problem 13**\n",
        "\n",
        "Write a python program to print first 10 terms in a Fibonacci series"
      ],
      "metadata": {
        "id": "EnXIYV3B0vEi"
      }
    },
    {
      "cell_type": "code",
      "source": [
        "# prompt: Write a python program to print first 10 terms in a Fibonacci series\n",
        "\n",
        "# Initialize the first two terms\n",
        "num1, num2 = 0, 1\n",
        "\n",
        "# Print the first 10 terms\n",
        "print(\"Fibonacci series: \")\n",
        "for i in range(10):\n",
        "  print(num1, end=\" \")\n",
        "  nth = num1 + num2\n",
        "  # Update values\n",
        "  num1 = num2\n",
        "  num2 = nth\n",
        "\n"
      ],
      "metadata": {
        "colab": {
          "base_uri": "https://localhost:8080/"
        },
        "id": "TUhnDqOPGS17",
        "outputId": "a963423e-115d-4207-d084-2de5e9abe146"
      },
      "execution_count": null,
      "outputs": [
        {
          "output_type": "stream",
          "name": "stdout",
          "text": [
            "Fibonacci series: \n",
            "0 1 1 2 3 5 8 13 21 34 "
          ]
        }
      ]
    },
    {
      "cell_type": "markdown",
      "source": [
        "**Problem 14**\n",
        "\n",
        "Write a python program which takes a number as input and convert the number to binary. Note: Don't use any builtin functions."
      ],
      "metadata": {
        "id": "UvfmEmtZ6_EW"
      }
    },
    {
      "cell_type": "code",
      "source": [
        "number = int(input(\"Enter a number: \"))\n",
        "binary = \" \"\n",
        "\n",
        "while number > 0:\n",
        "  remainder = number % 2\n",
        "  binary = str(remainder) + binary\n",
        "  number = number // 2\n",
        "\n",
        "print(\"The binary representation is: \", binary)"
      ],
      "metadata": {
        "colab": {
          "base_uri": "https://localhost:8080/"
        },
        "id": "0P3rYOV6IK_Z",
        "outputId": "952931c6-c98a-4e4f-e1bf-b0d2ec433802"
      },
      "execution_count": null,
      "outputs": [
        {
          "output_type": "stream",
          "name": "stdout",
          "text": [
            "Enter a number: 35\n",
            "The binary representation is:  100011 \n"
          ]
        }
      ]
    },
    {
      "cell_type": "markdown",
      "source": [
        "**Problem 15**\n",
        "\n",
        "Write a python program which takes a binary number as input and convert the number to decimal. Note: Don't use any builtin functions."
      ],
      "metadata": {
        "id": "mRHDuUD27_E-"
      }
    },
    {
      "cell_type": "code",
      "source": [
        "# prompt: Write a python program which takes a binary number as input and convert the number to decimal. Note: Don't use any builtin functions.\n",
        "\n",
        "binary_number = input(\"Enter a binary number: \")\n",
        "decimal = 0\n",
        "power = 0\n",
        "\n",
        "for digit in binary_number[::-1]:\n",
        "  decimal = decimal + int(digit) * (2 ** power)\n",
        "  power = power + 1\n",
        "\n",
        "print(\"The decimal representation is: \", decimal)\n"
      ],
      "metadata": {
        "colab": {
          "base_uri": "https://localhost:8080/"
        },
        "id": "ZvVJ0sbUJhrL",
        "outputId": "48e478f3-4ec1-4f1d-9fcc-373d119406f3"
      },
      "execution_count": null,
      "outputs": [
        {
          "output_type": "stream",
          "name": "stdout",
          "text": [
            "Enter a binary number: 1100011\n",
            "The decimal representation is:  99\n"
          ]
        }
      ]
    },
    {
      "cell_type": "markdown",
      "source": [
        "**Problem 16**\n",
        "\n",
        "Write a Python program that asks the user to input a positive integer n and then prints the multiplication table of n up to 12."
      ],
      "metadata": {
        "id": "Pn3i07JVHqEk"
      }
    },
    {
      "cell_type": "code",
      "source": [
        "# Get the user input\n",
        "n = int(input(\"Enter a positive integer: \"))\n",
        "\n",
        "# Print the multiplication table\n",
        "for i in range(1, 13):\n",
        "  print(n, \"x\", i, \"=\", n*i)"
      ],
      "metadata": {
        "id": "_VaYfi7lH01X",
        "colab": {
          "base_uri": "https://localhost:8080/"
        },
        "outputId": "2f418406-37f2-463d-8f7e-4e846a8cfb53"
      },
      "execution_count": null,
      "outputs": [
        {
          "output_type": "stream",
          "name": "stdout",
          "text": [
            "Enter a positive integer: 10\n",
            "10 x 1 = 10\n",
            "10 x 2 = 20\n",
            "10 x 3 = 30\n",
            "10 x 4 = 40\n",
            "10 x 5 = 50\n",
            "10 x 6 = 60\n",
            "10 x 7 = 70\n",
            "10 x 8 = 80\n",
            "10 x 9 = 90\n",
            "10 x 10 = 100\n",
            "10 x 11 = 110\n",
            "10 x 12 = 120\n"
          ]
        }
      ]
    },
    {
      "cell_type": "markdown",
      "source": [
        "**Problem 17**\n",
        "\n",
        "Write a Python program that asks the user to input a positive integer n and then counts and prints the number of digits in n."
      ],
      "metadata": {
        "id": "Uv1TuM37H18U"
      }
    },
    {
      "cell_type": "code",
      "source": [
        "# Get input from user\n",
        "n = int(input(\"Enter a positive integer: \"))\n",
        "\n",
        "# Initialize count to 0\n",
        "count = 0\n",
        "\n",
        "# Count the number of digits in n\n",
        "while n > 0:\n",
        "  n //= 10\n",
        "  count += 1\n",
        "\n",
        "# Print the count of digits\n",
        "print(\"The number of digits in\", n, \"is:\", count)"
      ],
      "metadata": {
        "id": "5nZOLEh9H_Cp",
        "colab": {
          "base_uri": "https://localhost:8080/"
        },
        "outputId": "73f9396d-ce0d-4164-b242-06feaf0c71d0"
      },
      "execution_count": null,
      "outputs": [
        {
          "output_type": "stream",
          "name": "stdout",
          "text": [
            "Enter a positive integer: 456\n",
            "The number of digits in 0 is: 3\n"
          ]
        }
      ]
    },
    {
      "cell_type": "markdown",
      "source": [
        "**Problem 18**\n",
        "\n",
        "Write a Python program that asks the user to input a positive integer n and then calculates and prints the sum of its digits."
      ],
      "metadata": {
        "id": "aTrir6SzIUc8"
      }
    },
    {
      "cell_type": "code",
      "source": [
        "# Get input from the user\n",
        "n = int(input(\"Enter a positive integer: \"))\n",
        "\n",
        "# Initialize sum to 0\n",
        "sum_of_digits = 0\n",
        "\n",
        "# Calculate the sum of digits\n",
        "while n > 0:\n",
        "  digit = n % 10\n",
        "  sum_of_digits += digit\n",
        "  n //= 10\n",
        "\n",
        "# Print the sum of digits\n",
        "print(\"The sum of the digits is:\", sum_of_digits)\n"
      ],
      "metadata": {
        "id": "F3QXAF4xIWrl",
        "colab": {
          "base_uri": "https://localhost:8080/"
        },
        "outputId": "27212546-1e37-468a-c436-1756ca3f5b58"
      },
      "execution_count": null,
      "outputs": [
        {
          "output_type": "stream",
          "name": "stdout",
          "text": [
            "Enter a positive integer: 53\n",
            "The sum of the digits is: 8\n"
          ]
        },
        {
          "output_type": "execute_result",
          "data": {
            "text/plain": [
              "int"
            ]
          },
          "metadata": {},
          "execution_count": 8
        }
      ]
    },
    {
      "cell_type": "markdown",
      "source": [
        "**Problem 19**\n",
        "\n",
        "Write a Python program that asks the user to input two positive integers a and b, and then calculates and prints the greatest common divisor (GCD) of a and b using a loop."
      ],
      "metadata": {
        "id": "SU0SPQYNIehv"
      }
    },
    {
      "cell_type": "code",
      "source": [
        "a = int(input(\"Enter first positive integer:\")) #24\n",
        "b = int(input(\"Enter second positive integer: \")) #18\n",
        "\n",
        "if a > b:\n",
        "  a, b = b, a #swap two positive integers\n",
        "\n",
        "while a != 0:\n",
        "  a, b = b % a, a\n",
        "\n",
        "print(\"The GCD of\", a, \"and\", b, \"is\", b)"
      ],
      "metadata": {
        "id": "BIEkSttXIgzP",
        "colab": {
          "base_uri": "https://localhost:8080/"
        },
        "outputId": "a240e94f-8351-432a-e4b4-8e44d4a62fc6"
      },
      "execution_count": null,
      "outputs": [
        {
          "output_type": "stream",
          "name": "stdout",
          "text": [
            "Enter first positive integer:24\n",
            "Enter second positive integer: 18\n",
            "The GCD of 0 and 6 is 6\n"
          ]
        }
      ]
    },
    {
      "cell_type": "markdown",
      "source": [
        "**Problem 20**\n",
        "\n",
        "Write a Python program that asks the user to input a positive integer n and then calculates and prints the sum of the following sequence:\n",
        "\n",
        "1 + 1/2 + 1/3 + ... + 1/n."
      ],
      "metadata": {
        "id": "w63hobswImCa"
      }
    },
    {
      "cell_type": "code",
      "source": [
        "# Get input from the user\n",
        "n = int(input(\"Enter a positive integer: \"))\n",
        "\n",
        "# Initialize sum to 0\n",
        "sum_of_sequence = 0\n",
        "\n",
        "# Calculate the sum of the sequence\n",
        "# The for loop is used to find the sum and the number is incremented for each iteration.\n",
        "# The numbers are added to the sum variable and this continues till\n",
        "# the value of i reaches the sum of sequence.\n",
        "for i in range(1, n+1):\n",
        "  sum_of_sequence += 1/i\n",
        "\n",
        "# Print the sum of the sequence\n",
        "print(\"The sum of the sequence is: \", sum_of_sequence)"
      ],
      "metadata": {
        "id": "ao5UL82nIoq-",
        "colab": {
          "base_uri": "https://localhost:8080/"
        },
        "outputId": "e11cdd90-a795-442a-9261-cc414f9e51fe"
      },
      "execution_count": null,
      "outputs": [
        {
          "output_type": "stream",
          "name": "stdout",
          "text": [
            "Enter a positive integer: 7\n",
            "The sum of the sequence is:  2.5928571428571425\n"
          ]
        }
      ]
    }
  ]
}