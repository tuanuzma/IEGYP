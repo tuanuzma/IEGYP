{
  "nbformat": 4,
  "nbformat_minor": 0,
  "metadata": {
    "colab": {
      "provenance": []
    },
    "kernelspec": {
      "name": "python3",
      "display_name": "Python 3"
    },
    "language_info": {
      "name": "python"
    }
  },
  "cells": [
    {
      "cell_type": "markdown",
      "source": [
        "# This exercise is to test your knowledge in\n",
        "\n",
        "1.   Operators\n",
        "2.   Decision making\n",
        "3.   Loops\n",
        "4.   Converting real world problems to mathematical expression\n",
        "5.   Bitwise Operator"
      ],
      "metadata": {
        "id": "z2FtjT4uuGrN"
      }
    },
    {
      "cell_type": "markdown",
      "source": [
        "**Problem 1 FizzBuzz:**\n",
        "\n",
        "Write a program that prints the numbers from 1 to 100. But for multiples of three, print \"Fizz\" instead of the number, and for the multiples of five, print \"Buzz\". For numbers which are multiples of both three and five, print \"FizzBuzz\"."
      ],
      "metadata": {
        "id": "hR2gbehu8NSW"
      }
    },
    {
      "cell_type": "code",
      "source": [
        "for num in range(1, 101):\n",
        "\n",
        "  if num % 3 == 0 and num % 5 == 0:\n",
        "    print(\"FizzBuzz\")\n",
        "\n",
        "  elif num % 3 == 0:\n",
        "    print(\"Fizz\")\n",
        "\n",
        "  elif num % 5 == 0:\n",
        "    print(\"Buzz\")\n",
        "\n",
        "  else:\n",
        "    print(num)"
      ],
      "metadata": {
        "id": "HbIADmFY8N-n",
        "colab": {
          "base_uri": "https://localhost:8080/"
        },
        "outputId": "7b9d194e-4aa7-4ea7-d748-8eb6965994d6"
      },
      "execution_count": null,
      "outputs": [
        {
          "output_type": "stream",
          "name": "stdout",
          "text": [
            "1\n",
            "2\n",
            "Fizz\n",
            "4\n",
            "Buzz\n",
            "Fizz\n",
            "7\n",
            "8\n",
            "Fizz\n",
            "Buzz\n",
            "11\n",
            "Fizz\n",
            "13\n",
            "14\n",
            "FizzBuzz\n",
            "16\n",
            "17\n",
            "Fizz\n",
            "19\n",
            "Buzz\n",
            "Fizz\n",
            "22\n",
            "23\n",
            "Fizz\n",
            "Buzz\n",
            "26\n",
            "Fizz\n",
            "28\n",
            "29\n",
            "FizzBuzz\n",
            "31\n",
            "32\n",
            "Fizz\n",
            "34\n",
            "Buzz\n",
            "Fizz\n",
            "37\n",
            "38\n",
            "Fizz\n",
            "Buzz\n",
            "41\n",
            "Fizz\n",
            "43\n",
            "44\n",
            "FizzBuzz\n",
            "46\n",
            "47\n",
            "Fizz\n",
            "49\n",
            "Buzz\n",
            "Fizz\n",
            "52\n",
            "53\n",
            "Fizz\n",
            "Buzz\n",
            "56\n",
            "Fizz\n",
            "58\n",
            "59\n",
            "FizzBuzz\n",
            "61\n",
            "62\n",
            "Fizz\n",
            "64\n",
            "Buzz\n",
            "Fizz\n",
            "67\n",
            "68\n",
            "Fizz\n",
            "Buzz\n",
            "71\n",
            "Fizz\n",
            "73\n",
            "74\n",
            "FizzBuzz\n",
            "76\n",
            "77\n",
            "Fizz\n",
            "79\n",
            "Buzz\n",
            "Fizz\n",
            "82\n",
            "83\n",
            "Fizz\n",
            "Buzz\n",
            "86\n",
            "Fizz\n",
            "88\n",
            "89\n",
            "FizzBuzz\n",
            "91\n",
            "92\n",
            "Fizz\n",
            "94\n",
            "Buzz\n",
            "Fizz\n",
            "97\n",
            "98\n",
            "Fizz\n",
            "Buzz\n"
          ]
        }
      ]
    },
    {
      "cell_type": "markdown",
      "source": [
        "**Problem 2**\n",
        "**Collatz Sequence:**\n",
        "\n",
        "Write a program that takes an integer input from the user and generates the Collatz sequence for that number. The Collatz sequence is defined as follows:\n",
        "\n",
        "Start with a number n. If n is even, the next number is n/2. If n is odd, the next number is 3n + 1. Repeat the process until n becomes 1."
      ],
      "metadata": {
        "id": "REwrKIbt87XC"
      }
    },
    {
      "cell_type": "code",
      "source": [
        "num = int(input(\"Enter a number (n) = \"))\n",
        "\n",
        "while num != 1:\n",
        "  print(num, end=\" \")\n",
        "\n",
        "  if num % 2 == 0:\n",
        "    num = num // 2\n",
        "    print(\"is an even number\")\n",
        "\n",
        "  else:\n",
        "    num = (3 * num) + 1\n",
        "    print(\"is an odd number\")"
      ],
      "metadata": {
        "colab": {
          "base_uri": "https://localhost:8080/"
        },
        "id": "RPJRjjAqrYIj",
        "outputId": "f02140a8-20ec-4320-a08a-07f3f0c20943"
      },
      "execution_count": null,
      "outputs": [
        {
          "output_type": "stream",
          "name": "stdout",
          "text": [
            "Enter a number (n) = 12\n",
            "12 is an even number\n",
            "6 is an even number\n",
            "3 is an odd number\n",
            "10 is an even number\n",
            "5 is an odd number\n",
            "16 is an even number\n",
            "8 is an even number\n",
            "4 is an even number\n",
            "2 is an even number\n"
          ]
        }
      ]
    },
    {
      "cell_type": "markdown",
      "source": [
        "**Problem 3 GCD Calculation:**\n",
        "\n",
        "Write a program that takes two integers from the user and calculates their greatest common divisor (GCD) using the Euclidean algorithm.\n",
        "\n",
        "You can refer this Link\n",
        "\n",
        "https://www.khanacademy.org/computing/computer-science/cryptography/modarithmetic/a/the-euclidean-algorithm"
      ],
      "metadata": {
        "id": "9roTdfzE9ML0"
      }
    },
    {
      "cell_type": "code",
      "source": [
        "num1 = int(input(\"Enter a number: \"))\n",
        "num2 = int(input(\"Enter a number: \"))\n",
        "\n",
        "while num2 != 0:\n",
        "  temp = num2\n",
        "  num2 = num1 % num2\n",
        "  num1 = temp\n",
        "\n",
        "print(\"The GCD of\", num1, \"and\", num2, \"is\", num1)"
      ],
      "metadata": {
        "id": "dx7AyN_rACLD",
        "colab": {
          "base_uri": "https://localhost:8080/"
        },
        "outputId": "a76f2ae4-b351-4950-fc1a-9dab8f51203a"
      },
      "execution_count": null,
      "outputs": [
        {
          "output_type": "stream",
          "name": "stdout",
          "text": [
            "Enter a number: 1701\n",
            "Enter a number: 3768\n",
            "The GCD of 3 and 0 is 3\n"
          ]
        }
      ]
    },
    {
      "cell_type": "markdown",
      "source": [
        "**Problem 4 Rock, Paper, Scissors:**\n",
        "\n",
        "Write a program that plays the game of Rock, Paper, Scissors with the user. The user makes a choice, the program randomly chooses, and the winner is determined.\n",
        "\n",
        "To generate random number use random module\n",
        "\n",
        "> import random\n",
        "\n",
        "> random.randint(1,3)\n"
      ],
      "metadata": {
        "id": "PWmw0P01EmxQ"
      }
    },
    {
      "cell_type": "code",
      "source": [
        "import random\n",
        "\n",
        "choices = [\"Rock\", \"Paper\", \"Scissors\"]\n",
        "userchoice = input(\"Choose Rock, Paper or Scissors: \")\n",
        "computerchoice = random.choice(choices)\n",
        "\n",
        "print(\"You chose: \", userchoice)\n",
        "print(\"Computer choose: \", computerchoice)\n",
        "\n",
        "if userchoice == computerchoice:\n",
        "  print(\"It's a tie\")\n",
        "elif userchoice == \"Rock\" and computerchoice == \"Scissors\":\n",
        "  print(\"You win, Computer lose\")\n",
        "elif userchoice == \"Scissors\" and computerchoice == \"Paper\":\n",
        "  print(\"You win, Computer lose\")\n",
        "elif userchoice == \"Paper\" and computerchoice == \"Rock\":\n",
        "  print(\"You win, Computer lose\")\n",
        "else:\n",
        "  print(\"Computer win, You lose\")"
      ],
      "metadata": {
        "colab": {
          "base_uri": "https://localhost:8080/"
        },
        "id": "tCdUavUXCWNP",
        "outputId": "9fbe2b7d-d233-4de8-d0f4-0e5eb9f3daf2"
      },
      "execution_count": null,
      "outputs": [
        {
          "output_type": "stream",
          "name": "stdout",
          "text": [
            "Choose Rock, Paper or Scissors: paper\n",
            "You chose:  paper\n",
            "Computer choose:  Rock\n",
            "Computer win, You lose\n"
          ]
        }
      ]
    },
    {
      "cell_type": "markdown",
      "source": [
        "**Problem 5 Number Guessing Game:**\n",
        "\n",
        "Write a program that randomly generates a number between 1 and 100. The user has to guess the number. After each guess, the program tells the user whether the guess is too high, too low, or correct. The game continues until the user guesses the correct number.\n",
        "\n",
        "To generate random number use random module\n",
        "\n",
        "> import random\n",
        "\n",
        "> random.randint(1,3)"
      ],
      "metadata": {
        "id": "FRcfLul_70p0"
      }
    },
    {
      "cell_type": "code",
      "source": [
        "import random\n",
        "\n",
        "number = random.randint(1, 100)\n",
        "guess = 0\n",
        "guess = int(input(\"Guess a number between 1 and 100: \"))\n",
        "\n",
        "while guess != number:\n",
        "  guess = int(input(\"Guess a number between 1 and 100: \"))\n",
        "  if guess < number:\n",
        "    print(\"Too low!\")\n",
        "  elif guess > number:\n",
        "    print(\"Too high!\")\n",
        "\n",
        "print(\"Correct!\")\n"
      ],
      "metadata": {
        "colab": {
          "base_uri": "https://localhost:8080/"
        },
        "id": "JYkU7UJgwqh5",
        "outputId": "e24ca78a-6832-4dce-cb93-6aa262743e7f"
      },
      "execution_count": null,
      "outputs": [
        {
          "output_type": "stream",
          "name": "stdout",
          "text": [
            "Guess a number between 1 and 100: 27\n",
            "Guess a number between 1 and 100: 43\n",
            "Too low!\n",
            "Guess a number between 1 and 100: 76\n",
            "Too low!\n",
            "Guess a number between 1 and 100: 92\n",
            "Too high!\n",
            "Guess a number between 1 and 100: 1\n",
            "Too low!\n",
            "Guess a number between 1 and 100: 100\n",
            "Too high!\n",
            "Guess a number between 1 and 100: 55\n",
            "Too low!\n",
            "Guess a number between 1 and 100: 80\n",
            "Too low!\n",
            "Guess a number between 1 and 100: 90\n",
            "Too high!\n",
            "Guess a number between 1 and 100: 85\n",
            "Too low!\n",
            "Guess a number between 1 and 100: 86\n",
            "Too low!\n",
            "Guess a number between 1 and 100: 87\n",
            "Too low!\n",
            "Guess a number between 1 and 100: 88\n",
            "Too low!\n",
            "Guess a number between 1 and 100: 89\n",
            "Correct!\n"
          ]
        }
      ]
    },
    {
      "cell_type": "markdown",
      "source": [
        "**Problem 6 Perfect Number:**\n",
        "Write a program that generates 10 perfect numbers.\n",
        "\n",
        "Example\n",
        "\n",
        "6: The divisors of 6 are 1, 2, 3, and 6. The sum of its proper divisors (excluding 6 itself) is 1 + 2 + 3 = 6.\n",
        "\n",
        "28: The divisors of 28 are 1, 2, 4, 7, 14, and 28. The sum of its proper divisors (excluding 28 itself) is 1 + 2 + 4 + 7 + 14 = 28.\n"
      ],
      "metadata": {
        "id": "_UJC4aSV9kiu"
      }
    },
    {
      "cell_type": "code",
      "source": [
        "# If you can convert to arithmetic expression, you can get 10 numbers\n",
        "def is_perfect(n):\n",
        "  sum_divisors = 1\n",
        "  for i in range(2, int(n**0.5) + 1):\n",
        "    if n % i == 0:\n",
        "      sum_divisors += i\n",
        "      if i != n // i:\n",
        "        sum_divisors += n // i\n",
        "  return sum_divisors == n\n",
        "\n",
        "count = 0\n",
        "num = 2\n",
        "while count < 4:\n",
        "  if is_perfect(num):\n",
        "    print(num)\n",
        "    count += 1\n",
        "  num += 1\n"
      ],
      "metadata": {
        "colab": {
          "base_uri": "https://localhost:8080/"
        },
        "id": "1IqXavnf_SSg",
        "outputId": "2a62a12d-3293-46f1-91ba-1e93e89307dd"
      },
      "execution_count": null,
      "outputs": [
        {
          "output_type": "stream",
          "name": "stdout",
          "text": [
            "6\n",
            "28\n",
            "496\n",
            "8128\n"
          ]
        }
      ]
    },
    {
      "cell_type": "markdown",
      "source": [
        "**Problem 7 Harmonic Series:**\n",
        "\n",
        "Write a program that calculates the sum of the first n terms of the harmonic series. Take the n as Input.\n",
        "\n",
        "Hn = 1 +  1/2 + 1/3 + 1/4 .... + 1/n"
      ],
      "metadata": {
        "id": "e4AP_UVU-H9a"
      }
    },
    {
      "cell_type": "code",
      "source": [
        "n = int(input(\"Enter a number: \"))\n",
        "sum = 0\n",
        "\n",
        "for a in range(1, n + 1):\n",
        "  sum = sum + (1 / a)\n",
        "\n",
        "print(\"The sum of the first\", n, \"terms of the harmonic series is\", sum)"
      ],
      "metadata": {
        "id": "uGlmxy8s-i03",
        "colab": {
          "base_uri": "https://localhost:8080/"
        },
        "outputId": "894542c3-3d12-4cc2-a6d9-f298896cf611"
      },
      "execution_count": null,
      "outputs": [
        {
          "output_type": "stream",
          "name": "stdout",
          "text": [
            "Enter a number: 5\n",
            "The sum of the first 5 terms of the harmonic series is 2.283333333333333\n"
          ]
        }
      ]
    },
    {
      "cell_type": "markdown",
      "source": [
        "**Problem 8 Number to Words:**\n",
        "\n",
        "Write a program that converts a number to its word representation (e.g., 123 to \"one hundred twenty-three\")."
      ],
      "metadata": {
        "id": "dxfP-dOC-_Av"
      }
    },
    {
      "cell_type": "code",
      "source": [
        "ones = {0: '', 1: 'One', 2: 'Two', 3: 'Three', 4: 'Four', 5: 'Five', 6: 'Six',\n",
        "        7: 'Seven', 8: 'Eight', 9: 'Nine', 10: 'Ten', 11: 'Eleven', 12: 'Twelve',\n",
        "        13: 'Thirteen', 14: 'Fourteen', 15: 'Fifteen', 16: 'Sixteen',\n",
        "        17: 'Seventeen', 18: 'Eighteen', 19: 'Nineteen'}\n",
        "tens = {2: 'Twenty', 3: 'Thirty', 4: 'Forty', 5: 'Fifty', 6: 'Sixty',\n",
        "        7: 'Seventy', 8: 'Eighty', 9: 'Ninety'}\n",
        "illions = {1: 'Thousand', 2: 'Million', 3: 'Billion'}\n",
        "\n",
        "def convertIntegerIntoWord(i):\n",
        "    if i == 0:\n",
        "        return 'zero'\n",
        "    return getNumberPosition(i)\n",
        "\n",
        "def getNumberPosition(i):\n",
        "    if i < 20:\n",
        "        return ones[i]\n",
        "    if i < 100:\n",
        "        return joinWords(tens[i // 10], ones[i % 10])\n",
        "    if i < 1000:\n",
        "        return divItems(i, 100, 'Hundred')\n",
        "    for inumber, iname in illions.items():\n",
        "        if i < 1000**(inumber + 1):\n",
        "            break\n",
        "    return divItems(i, 1000**inumber, iname)\n",
        "\n",
        "def divItems(position, inumber, iname):\n",
        "    return joinWords(\n",
        "        getNumberPosition(position // inumber),iname,getNumberPosition(position % inumber),\n",
        "    )\n",
        "\n",
        "def joinWords(*words):\n",
        "    return ' '.join(filter(bool, words))\n",
        "\n",
        "number = int(input())\n",
        "print(convertIntegerIntoWord(number))"
      ],
      "metadata": {
        "id": "yUXaOC48Fkzk",
        "colab": {
          "base_uri": "https://localhost:8080/"
        },
        "outputId": "3ba86004-1611-46f6-d131-2cf13f66f982"
      },
      "execution_count": null,
      "outputs": [
        {
          "output_type": "stream",
          "name": "stdout",
          "text": [
            "123\n",
            "One Hundred Twenty Three\n"
          ]
        }
      ]
    },
    {
      "cell_type": "markdown",
      "source": [
        "**Problem 9 Roman to Integer**\n",
        "\n",
        "Write a program to convert a Roman numeral to an integer and also convert integer to Roman numeral"
      ],
      "metadata": {
        "id": "3fhoTm-STYQH"
      }
    },
    {
      "cell_type": "code",
      "source": [
        "def roman_to_int(roman):\n",
        "    # Mapping of Roman numerals to integers\n",
        "    roman_to_int_map = {\n",
        "        'I': 1,\n",
        "        'V': 5,\n",
        "        'X': 10,\n",
        "        'L': 50,\n",
        "        'C': 100,\n",
        "        'D': 500,\n",
        "        'M': 1000\n",
        "    }\n",
        "\n",
        "    total = 0\n",
        "    prev_value = 0\n",
        "\n",
        "    # Iterate over the Roman numeral in reverse\n",
        "    for char in reversed(roman):\n",
        "        value = roman_to_int_map[char]\n",
        "        if value < prev_value:\n",
        "            total -= value\n",
        "        else:\n",
        "            total += value\n",
        "        prev_value = value\n",
        "\n",
        "    return total\n",
        "\n",
        "# Example usage\n",
        "roman_numeral = \"MCMXCIV\"\n",
        "integer_value = roman_to_int(roman_numeral)\n",
        "print(f\"Roman numeral '{roman_numeral}' is: {integer_value}\")"
      ],
      "metadata": {
        "colab": {
          "base_uri": "https://localhost:8080/"
        },
        "id": "ChkuzVvL_8UW",
        "outputId": "2ad0bf1e-c721-4d5d-ec64-b7ee28053183"
      },
      "execution_count": null,
      "outputs": [
        {
          "output_type": "stream",
          "name": "stdout",
          "text": [
            "Roman numeral 'MCMXCIV' is: 1994\n"
          ]
        }
      ]
    },
    {
      "cell_type": "code",
      "source": [
        "# Function to convert integer to Roman values\n",
        "def printRoman(number):\n",
        "    num = [1, 4, 5, 9, 10, 40, 50, 90, 100, 400, 500, 900, 1000]\n",
        "    sym = [\"I\", \"IV\", \"V\", \"IX\", \"X\", \"XL\", \"L\", \"XC\", \"C\", \"CD\", \"D\", \"CM\", \"M\"]\n",
        "    i = 12\n",
        "\n",
        "    while number:\n",
        "        div = number // num[i]\n",
        "        number %= num[i]\n",
        "\n",
        "        while div:\n",
        "            print(sym[i], end = \"\")\n",
        "            div -= 1\n",
        "        i -= 1\n",
        "\n",
        "# Driver code\n",
        "if __name__ == \"__main__\":\n",
        "    number = 1994\n",
        "    print(\"Roman value is:\", end = \" \")\n",
        "    printRoman(number)"
      ],
      "metadata": {
        "colab": {
          "base_uri": "https://localhost:8080/"
        },
        "id": "aZuvFjQI98DE",
        "outputId": "8f55a2d2-b7bf-428c-b913-a542dbaeda03"
      },
      "execution_count": null,
      "outputs": [
        {
          "output_type": "stream",
          "name": "stdout",
          "text": [
            "Roman value is: MCMXCIV"
          ]
        }
      ]
    },
    {
      "cell_type": "markdown",
      "source": [
        "**Problem 10 String Compression**\n",
        "\n",
        "Write a program to perform basic string compression using the counts of repeated characters (e.g., \"aabcccccaaa\" -> \"a2b1c5a3\")."
      ],
      "metadata": {
        "id": "XoxCmRh4T3gt"
      }
    },
    {
      "cell_type": "code",
      "source": [
        "# repeated characters = \"aabcccccaaa\" -> \"q2b1c5a3\"\n",
        "\n",
        "def compress_string(s):\n",
        "  compressed = \"\"\n",
        "  count = 0\n",
        "  current_char = None\n",
        "\n",
        "  for char in s:\n",
        "    if char == current_char:\n",
        "      count += 1\n",
        "    else:\n",
        "      if current_char:\n",
        "        compressed += current_char + str(count)\n",
        "      current_char = char\n",
        "      count = 1\n",
        "\n",
        "  if current_char:  # Handle the last character\n",
        "    compressed += current_char + str(count)\n",
        "\n",
        "  return compressed\n",
        "\n",
        "input_string = \"aabcccccaaa\"\n",
        "compressed_string = compress_string(input_string)\n",
        "print(compressed_string)  # Output: a2b1c5a3\n"
      ],
      "metadata": {
        "id": "h1PMlTKXT9s-",
        "colab": {
          "base_uri": "https://localhost:8080/"
        },
        "outputId": "753234c5-5e04-4baa-fbd9-d972adfff842"
      },
      "execution_count": null,
      "outputs": [
        {
          "output_type": "stream",
          "name": "stdout",
          "text": [
            "a2b1c5a3\n"
          ]
        }
      ]
    },
    {
      "cell_type": "markdown",
      "source": [
        "\n",
        "**Problem 11: Laboratory Problem**\n",
        "\n",
        "A laboratory technician always needs to prepare various solutions.\n",
        "\n",
        "Coming Sunday, he has to create a 20-liter solution that is 35% salt by mixing two available solutions. One solution (A) is 25% salt, and the other solution (B) is 50% salt. How many liters of each solution are required to achieve the desired concentration?\n",
        "\n",
        "Coming Monday, he has to create an 8-liter solution that is 25% sugar by mixing two available solutions. One solution (A) is 15% sugar, and the other solution (B) is 40% sugar. How many liters of each solution are required to achieve the desired concentration?\n",
        "\n",
        "Write a simple, generic Python program to assist the laboratory technician. The program must take all these numbers (20 liters, 35, 25, 50) as input and calculate the required liters of each solution and print them. Please note that the same program must work for the second problem as well (8 liters, 25, 15, 40).\n",
        "\n",
        "The maximum stock for solution (A) and solution (B) is always 3 liter only. After calculating/printing the required quantity of A and B, throw proper message. For example, required quantity of solution (A) is less than 3 liter say \"Solution (A) is available can proceed\". If required quantity of solution (B) is greater than 3 liter say \"Solution (B) is not available, please order 1.3 liter now\"."
      ],
      "metadata": {
        "id": "hbgf0GyxmMZm"
      }
    },
    {
      "cell_type": "code",
      "source": [
        "def calculate_solution(total_volume, desired_concentration, conc_A, conc_B):\n",
        "  # Let x be the volume of solution A\n",
        "  # Then (total_volume - x) is the volume of solution B\n",
        "\n",
        "  # Equation based on concentration:\n",
        "  # conc_A * x + conc_B * (total_volume - x) = desired_concentration * total_volume\n",
        "\n",
        "  # Solving for x:\n",
        "  x = (desired_concentration * total_volume - conc_B * total_volume) / (conc_A - conc_B)\n",
        "\n",
        "  # Volume of solution B:\n",
        "  y = total_volume - x\n",
        "\n",
        "  return x, y\n",
        "\n",
        "# Sunday's salt solution\n",
        "total_volume_sunday = 20\n",
        "desired_conc_sunday = 35\n",
        "conc_A_sunday = 25\n",
        "conc_B_sunday = 50\n",
        "\n",
        "sol_A_sunday, sol_B_sunday = calculate_solution(total_volume_sunday, desired_conc_sunday, conc_A_sunday, conc_B_sunday)\n",
        "\n",
        "print(\"For Sunday's salt solution:\")\n",
        "print(\"Required liters of solution A:\", sol_A_sunday)\n",
        "print(\"Required liters of solution B:\", sol_B_sunday)\n",
        "\n",
        "if sol_A_sunday <= 3:\n",
        "  print(\"Solution (A) is available, can proceed.\")\n",
        "else:\n",
        "  print(\"Solution (A) is not available, please order\", sol_A_sunday - 3, \"liters now.\")\n",
        "\n",
        "if sol_B_sunday <= 3:\n",
        "  print(\"Solution (B) is available, can proceed.\")\n",
        "else:\n",
        "  print(\"Solution (B) is not available, please order\", sol_B_sunday - 3, \"liters now.\")\n",
        "\n",
        "print(\"\\n\")\n",
        "\n",
        "# Monday's sugar solution\n",
        "total_volume_monday = 8\n",
        "desired_conc_monday = 25\n",
        "conc_A_monday = 15\n",
        "conc_B_monday = 40\n",
        "\n",
        "sol_A_monday, sol_B_monday = calculate_solution(total_volume_monday, desired_conc_monday, conc_A_monday, conc_B_monday)\n",
        "\n",
        "print(\"For Monday's sugar solution:\")\n",
        "print(\"Required liters of solution A:\", sol_A_monday)\n",
        "print(\"Required liters of solution B:\", sol_B_monday)\n",
        "\n",
        "if sol_A_monday <= 3:\n",
        "  print(\"Solution (A) is available, can proceed.\")\n",
        "else:\n",
        "  print(\"Solution (A) is not available, please order\", sol_A_monday - 3, \"liters now.\")\n",
        "\n",
        "if sol_B_monday <= 3:\n",
        "  print(\"Solution (B) is available, can proceed.\")\n",
        "else:\n",
        "  print(\"Solution (B) is not available, please order\", sol_B_monday - 3, \"liters now.\")\n"
      ],
      "metadata": {
        "id": "PLf1O05amOi4",
        "colab": {
          "base_uri": "https://localhost:8080/"
        },
        "outputId": "cdff220f-3e8e-48f3-e893-cb4e9e743d33"
      },
      "execution_count": null,
      "outputs": [
        {
          "output_type": "stream",
          "name": "stdout",
          "text": [
            "For Sunday's salt solution:\n",
            "Required liters of solution A: 12.0\n",
            "Required liters of solution B: 8.0\n",
            "Solution (A) is not available, please order 9.0 liters now.\n",
            "Solution (B) is not available, please order 5.0 liters now.\n",
            "\n",
            "\n",
            "For Monday's sugar solution:\n",
            "Required liters of solution A: 4.8\n",
            "Required liters of solution B: 3.2\n",
            "Solution (A) is not available, please order 1.7999999999999998 liters now.\n",
            "Solution (B) is not available, please order 0.20000000000000018 liters now.\n"
          ]
        }
      ]
    },
    {
      "cell_type": "markdown",
      "source": [
        "**Problem 12:**\n",
        "\n",
        "Initialize two variables, x = 0b10101100 and y = 0b11011001.\n",
        "\n",
        "Write Python code to:\n",
        "1. Extract the lower 4 bits from x.\n",
        "2. Check if y is even or odd.\n",
        "3. Clear the upper 4 bits of x.\n",
        "4. Check if the 5th bit of y is set."
      ],
      "metadata": {
        "id": "sOaa3j7TmXkZ"
      }
    },
    {
      "cell_type": "code",
      "source": [
        "# Initialize variables\n",
        "x = 0b10101100\n",
        "y = 0b11011001\n",
        "\n",
        "# 1. Extract lower 4 bits of x\n",
        "lower_4_bits_x = x & 0b00001111\n",
        "print(\"Lower 4 bits of x:\", bin(lower_4_bits_x))\n",
        "\n",
        "# 2. Check if y is even or odd\n",
        "if y & 1 == 0:\n",
        "  print(\"y is even\")\n",
        "else:\n",
        "  print(\"y is odd\")\n",
        "\n",
        "# 3. Clear upper 4 bits of x\n",
        "x &= 0b00001111\n",
        "print(\"x after clearing upper 4 bits:\", bin(x))\n",
        "\n",
        "# 4. Check if the 5th bit of y is set\n",
        "if (y >> 4) & 1:\n",
        "  print(\"The 5th bit of y is set\")\n",
        "else:\n",
        "  print(\"The 5th bit of y is not set\")\n"
      ],
      "metadata": {
        "id": "k6pAwElcmZ-L",
        "colab": {
          "base_uri": "https://localhost:8080/"
        },
        "outputId": "38d521b5-c36f-4089-a2d4-eee6a2e69329"
      },
      "execution_count": null,
      "outputs": [
        {
          "output_type": "stream",
          "name": "stdout",
          "text": [
            "Lower 4 bits of x: 0b1100\n",
            "y is odd\n",
            "x after clearing upper 4 bits: 0b1100\n",
            "The 5th bit of y is set\n"
          ]
        }
      ]
    },
    {
      "cell_type": "code",
      "source": [
        "# Initialize variables\n",
        "x = 0b10101100\n",
        "y = 0b11011001\n",
        "\n",
        "# 1. Extract the lower 4 bits from x\n",
        "lower_4_bits_x = x & 0b00001111\n",
        "print(f\"Lower 4 bits of x: {bin(lower_4_bits_x)}\")\n",
        "\n",
        "# 2. Check if y is even or odd\n",
        "y_is_even = (y & 1) == 0\n",
        "print(f\"y is {'even' if y_is_even else 'odd'}\")\n",
        "\n",
        "# 3. Clear the upper 4 bits of x\n",
        "x_cleared_upper_4 = x & 0b00001111\n",
        "print(f\"x with upper 4 bits cleared: {bin(x_cleared_upper_4)}\")\n",
        "\n",
        "# 4. Check if the 5th bit of y is set\n",
        "fifth_bit_y_set = (y & 0b00010000) != 0\n",
        "print(f\"The 5th bit of y is {'set' if fifth_bit_y_set else 'not set'}\")"
      ],
      "metadata": {
        "colab": {
          "base_uri": "https://localhost:8080/"
        },
        "id": "lKnvQvbsE1ZS",
        "outputId": "15127b37-fbd3-428b-c6e0-ed960bfd572f"
      },
      "execution_count": null,
      "outputs": [
        {
          "output_type": "stream",
          "name": "stdout",
          "text": [
            "Lower 4 bits of x: 0b1100\n",
            "y is odd\n",
            "x with upper 4 bits cleared: 0b1100\n",
            "The 5th bit of y is set\n"
          ]
        }
      ]
    },
    {
      "cell_type": "markdown",
      "source": [
        "**Problem 13: Construction Problem**\n",
        "\n",
        "A construction project requires two workers to complete. Worker A can complete the project in 12 hours, while Worker B can complete the same project in 16 hours. How long will it take for both workers to complete the project if they work together?\n",
        "\n",
        "Another project requires Worker C, who can complete it in 8 hours, and Worker D, who can complete it in 10 hours. How long will it take for both workers to complete this project if they work together?\n",
        "\n",
        "Write a simple, generic Python program to assist in calculating the time required for two workers to complete a project when working together. The program must take all these numbers (12, 16) as input and calculate the required time. Finally, print the result. Please note that the same program must work for the second problem as well (8, 10)."
      ],
      "metadata": {
        "id": "ILEDf4SdmcPU"
      }
    },
    {
      "cell_type": "code",
      "source": [
        "def time_to_complete(time_A, time_B):\n",
        "  \"\"\"Calculates the time required for two workers to complete a project together.\"\"\"\n",
        "  # Calculate the rate of work for each worker\n",
        "  rate_A = 1 / time_A\n",
        "  rate_B = 1 / time_B\n",
        "\n",
        "  # Calculate the combined rate of work\n",
        "  combined_rate = rate_A + rate_B\n",
        "\n",
        "  # Calculate the time required to complete the project together\n",
        "  time_together = 1 / combined_rate\n",
        "\n",
        "  return time_together\n",
        "\n",
        "# Project 1\n",
        "time_A = 12\n",
        "time_B = 16\n",
        "time_together_1 = time_to_complete(time_A, time_B)\n",
        "print(f\"Time required for Workers A and B to complete the project 1 together: {time_together_1:.2f} hours\")\n",
        "\n",
        "# Project 2\n",
        "time_C = 8\n",
        "time_D = 10\n",
        "time_together_2 = time_to_complete(time_C, time_D)\n",
        "print(f\"Time required for Workers C and D to complete the project 2 together: {time_together_2:.2f} hours\")\n"
      ],
      "metadata": {
        "id": "lnXHZQffmdSt",
        "colab": {
          "base_uri": "https://localhost:8080/"
        },
        "outputId": "4dc6768d-591b-4148-b728-b98508a9cf92"
      },
      "execution_count": null,
      "outputs": [
        {
          "output_type": "stream",
          "name": "stdout",
          "text": [
            "Time required for Workers A and B to complete the project 1 together: 6.86 hours\n",
            "Time required for Workers C and D to complete the project 2 together: 4.44 hours\n"
          ]
        }
      ]
    },
    {
      "cell_type": "markdown",
      "source": [
        "**Problem 14:**\n",
        "\n",
        "Initialize two variables, a = 0b10101000 and b = 0b01010100.\n",
        "\n",
        "Write Python code to:\n",
        "1. Set the lower 4 bits of a.\n",
        "2. Combine the bits of a and b using OR.\n",
        "3. Create a mask to set the 2nd and 6th bits of a."
      ],
      "metadata": {
        "id": "Qg2DmWWUmfxh"
      }
    },
    {
      "cell_type": "code",
      "source": [
        "# Initialize variables\n",
        "a = 0b10101000\n",
        "b = 0b01010100\n",
        "\n",
        "# 1. Set the lower 4 bits of a\n",
        "a |= 0b00001111\n",
        "print(f\"a after setting lower 4 bits: {bin(a)}\")\n",
        "\n",
        "# 2. Combine the bits of a and b using OR\n",
        "combined = a | b\n",
        "print(f\"Combined bits of a and b: {bin(combined)}\")\n",
        "\n",
        "# 3. Create a mask to set the 2nd and 6th bits of a\n",
        "mask = 0b00000100 | 0b01000000\n",
        "print(f\"Mask to set 2nd and 6th bits: {bin(mask)}\")\n"
      ],
      "metadata": {
        "id": "ASc78O4umiNS",
        "colab": {
          "base_uri": "https://localhost:8080/"
        },
        "outputId": "07807582-d764-425e-9a47-43d35b049a8a"
      },
      "execution_count": null,
      "outputs": [
        {
          "output_type": "stream",
          "name": "stdout",
          "text": [
            "a after setting lower 4 bits: 0b10101111\n",
            "Combined bits of a and b: 0b11111111\n",
            "Mask to set 2nd and 6th bits: 0b1000100\n"
          ]
        }
      ]
    },
    {
      "cell_type": "markdown",
      "source": [
        "**Problem 15: Investor Problem**\n",
        "\n",
        "An investor decides to invest a total of RM30,000 in two different accounts. The first account offers a 5% annual interest rate, while the second account offers a 7% annual interest rate. If the total annual interest earned is RM1,800, how much money was invested in each account?\n",
        "\n",
        "Another investor decides to invest a total of RM50,000 in two different accounts. The first account offers a 3% annual interest rate, while the second account offers a 6% annual interest rate. If the total annual interest earned is RM2,400, how much money was invested in each account?\n",
        "\n",
        "Write a simple, generic Python program to assist in calculating the amount of money invested in each account to achieve the desired total annual interest. The program must take all these numbers (30000, 5, 7, 1800) as input and calculate the required amounts. Finally, print the result. Please note that the same program must work for the second problem as well (50000, 3, 6, 2400)."
      ],
      "metadata": {
        "id": "eUca0KGQmjNk"
      }
    },
    {
      "cell_type": "code",
      "source": [
        "def calculate_investments(total_investment, interest_rate_1, interest_rate_2, total_interest):\n",
        "  \"\"\"Calculates the amount invested in each account.\"\"\"\n",
        "  # Let x be the amount invested in the first account\n",
        "  # Then (total_investment - x) is the amount invested in the second account\n",
        "\n",
        "  # Equation based on total interest:\n",
        "  # interest_rate_1 * x + interest_rate_2 * (total_investment - x) = total_interest\n",
        "\n",
        "  # Solving for x:\n",
        "  x = (total_interest - interest_rate_2 * total_investment) / (interest_rate_1 - interest_rate_2)\n",
        "\n",
        "  # Amount invested in the second account:\n",
        "  y = total_investment - x\n",
        "\n",
        "  return x, y\n",
        "\n",
        "# First investor\n",
        "total_investment_1 = 30000\n",
        "interest_rate_1_1 = 0.05\n",
        "interest_rate_2_1 = 0.07\n",
        "total_interest_1 = 1800\n",
        "\n",
        "investment_1_1, investment_2_1 = calculate_investments(total_investment_1, interest_rate_1_1, interest_rate_2_1, total_interest_1)\n",
        "\n",
        "print(\"For the first investor:\")\n",
        "print(f\"Amount invested in the first account (5% interest): RM{investment_1_1:.2f}\")\n",
        "print(f\"Amount invested in the second account (7% interest): RM{investment_2_1:.2f}\")\n",
        "\n",
        "print(\"\\n\")\n",
        "\n",
        "# Second investor\n",
        "total_investment_2 = 50000\n",
        "interest_rate_1_2 = 0.03\n",
        "interest_rate_2_2 = 0.06\n",
        "total_interest_2 = 2400\n",
        "\n",
        "investment_1_2, investment_2_2 = calculate_investments(total_investment_2, interest_rate_1_2, interest_rate_2_2, total_interest_2)\n",
        "\n",
        "print(\"For the second investor:\")\n",
        "print(f\"Amount invested in the first account (3% interest): RM{investment_1_2:.2f}\")\n",
        "print(f\"Amount invested in the second account (6% interest): RM{investment_2_2:.2f}\")\n"
      ],
      "metadata": {
        "id": "uuZ9deobmld5",
        "colab": {
          "base_uri": "https://localhost:8080/"
        },
        "outputId": "e0a25164-b748-4ead-ec0c-82f74f249323"
      },
      "execution_count": null,
      "outputs": [
        {
          "output_type": "stream",
          "name": "stdout",
          "text": [
            "For the first investor:\n",
            "Amount invested in the first account (5% interest): RM15000.00\n",
            "Amount invested in the second account (7% interest): RM15000.00\n",
            "\n",
            "\n",
            "For the second investor:\n",
            "Amount invested in the first account (3% interest): RM20000.00\n",
            "Amount invested in the second account (6% interest): RM30000.00\n"
          ]
        }
      ]
    },
    {
      "cell_type": "markdown",
      "source": [
        "**Problem 16:**\n",
        "\n",
        "Initialize two variables, x = 0b10101100 and y = 0b11010010.\n",
        "\n",
        "Write Python code to:\n",
        "1. Swap the values of x and y without using a temporary variable.\n",
        "2. Toggle the 3rd and 5th bits of x.\n",
        "3. Check if two given numbers a = 29 and b = 15 are different."
      ],
      "metadata": {
        "id": "aLcvZ-olmofE"
      }
    },
    {
      "cell_type": "code",
      "source": [
        "# Initialize variables\n",
        "x = 0b10101100\n",
        "y = 0b11010010\n",
        "\n",
        "# 1. Swap the values of x and y without using a temporary variable\n",
        "x ^= y\n",
        "y ^= x\n",
        "x ^= y\n",
        "print(f\"After swapping, x: {bin(x)}, y: {bin(y)}\")\n",
        "\n",
        "# 2. Toggle the 3rd and 5th bits of x\n",
        "x ^= (1 << 2) | (1 << 4)\n",
        "print(f\"After toggling 3rd and 5th bits, x: {bin(x)}\")\n",
        "\n",
        "# 3. Check if two given numbers a = 29 and b = 15 are different\n",
        "a = 29\n",
        "b = 15\n",
        "are_different = a != b\n",
        "print(f\"a and b are {'different' if are_different else 'the same'}\")\n"
      ],
      "metadata": {
        "id": "7aAn4K0amr4n",
        "colab": {
          "base_uri": "https://localhost:8080/"
        },
        "outputId": "a97518a4-dfcd-4c56-ce16-05c4cd9490f4"
      },
      "execution_count": null,
      "outputs": [
        {
          "output_type": "stream",
          "name": "stdout",
          "text": [
            "After swapping, x: 0b11010010, y: 0b10101100\n",
            "After toggling 3rd and 5th bits, x: 0b11000110\n",
            "a and b are different\n"
          ]
        }
      ]
    },
    {
      "cell_type": "markdown",
      "source": [
        "**Problem 17: LCM of 2 Numbers**\n",
        "\n",
        "Finding the LCM of Two Numbers\n",
        "Write a Python program that finds the least common multiple (LCM) of two numbers.\n",
        "\n",
        "Example:\n",
        "\n",
        "Input: a = 4, b = 6\n",
        "Output: LCM = 12"
      ],
      "metadata": {
        "id": "bAIqYWOgmsew"
      }
    },
    {
      "cell_type": "code",
      "source": [
        "def find_lcm(a, b):\n",
        "  \"\"\"Finds the least common multiple (LCM) of two numbers.\"\"\"\n",
        "  # Find the greater number\n",
        "  greater = max(a, b)\n",
        "\n",
        "  # Iterate until we find a number divisible by both a and b\n",
        "  lcm = greater\n",
        "  while True:\n",
        "    if lcm % a == 0 and lcm % b == 0:\n",
        "      break\n",
        "    lcm += greater\n",
        "\n",
        "  return lcm\n",
        "\n",
        "# Example usage\n",
        "a = 4\n",
        "b = 6\n",
        "lcm = find_lcm(a, b)\n",
        "print(f\"The LCM of {a} and {b} is {lcm}\")\n"
      ],
      "metadata": {
        "id": "YsJwv964m04F",
        "colab": {
          "base_uri": "https://localhost:8080/"
        },
        "outputId": "297605de-04a4-48f6-a4dc-419cfe9ced0f"
      },
      "execution_count": null,
      "outputs": [
        {
          "output_type": "stream",
          "name": "stdout",
          "text": [
            "The LCM of 4 and 6 is 12\n"
          ]
        }
      ]
    },
    {
      "cell_type": "markdown",
      "source": [
        "**Problem 18: Sum of Series**\n",
        "\n",
        "Finding the Sum of a Series\n",
        "Write a Python program that finds the sum of the series\n",
        "1 ^ 2 + 2 ^ 2 + 3 ^ 2 + ... + 𝑛 ^ 2\n",
        "\n",
        "Example:\n",
        "\n",
        "Input: n = 5\n",
        "Output: Sum = 55"
      ],
      "metadata": {
        "id": "wu5Ea9EEnNJN"
      }
    },
    {
      "cell_type": "code",
      "source": [
        "def sum_of_squares(n):\n",
        "  \"\"\"Finds the sum of the series 1^2 + 2^2 + ... + n^2.\"\"\"\n",
        "  sum = 0\n",
        "  for i in range(1, n + 1):\n",
        "    sum += i ** 2\n",
        "  return sum\n",
        "\n",
        "# Example usage\n",
        "n = 5\n",
        "sum = sum_of_squares(n)\n",
        "print(f\"The sum of the series 1^2 + 2^2 + ... + {n}^2 is {sum}\")\n"
      ],
      "metadata": {
        "id": "OSuzeOA8neTe",
        "colab": {
          "base_uri": "https://localhost:8080/"
        },
        "outputId": "29189263-043d-4e11-a9fc-0d5423e67c9f"
      },
      "execution_count": null,
      "outputs": [
        {
          "output_type": "stream",
          "name": "stdout",
          "text": [
            "The sum of the series 1^2 + 2^2 + ... + 5^2 is 55\n"
          ]
        }
      ]
    },
    {
      "cell_type": "markdown",
      "source": [
        "**Problem 19: Distance**\n",
        "\n",
        "\n",
        "Write a Python program that calculates the distance between a point (x0,y0) and a line given by the equation ax + by + c=0.\n",
        "\n",
        "Example:\n",
        "\n",
        "Input: x0 = 3, y0 = 4, a = 1, b = -2, c = -1\n",
        "Output: Distance = 4.47\n",
        "\n",
        "![image.png](data:image/png;base64,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)"
      ],
      "metadata": {
        "id": "EfPLAF_r9IFF"
      }
    },
    {
      "cell_type": "code",
      "source": [
        "# Output: Distance = 4.47\n",
        "\n",
        "def distance (x0, y0, a, b,c):\n",
        "    # Calculate the numerator of formula\n",
        "    numerator = abs(a * x0 + b * y0 + c)\n",
        "\n",
        "    # Calculate the denominator of formula\n",
        "    denominator = (a ** 2 + b ** 2) ** 0.5\n",
        "\n",
        "    # Calculate the distance\n",
        "    distance = numerator / denominator\n",
        "\n",
        "    return distance\n",
        "\n",
        "x0 = 3\n",
        "y0 = 4\n",
        "a = 1\n",
        "b = -2\n",
        "c = -1\n",
        "\n",
        "distance = distance(x0, y0, a, b, c)\n",
        "print(f\"Distance = {distance:.2f}\")"
      ],
      "metadata": {
        "colab": {
          "base_uri": "https://localhost:8080/"
        },
        "id": "KRlVXLl6raZT",
        "outputId": "15d252d0-7c9c-477e-c5cd-b403da79dccc"
      },
      "execution_count": null,
      "outputs": [
        {
          "output_type": "stream",
          "name": "stdout",
          "text": [
            "Distance = 2.68\n"
          ]
        }
      ]
    },
    {
      "cell_type": "markdown",
      "source": [
        "**Problem 20: Solving Cubic Equation**\n",
        "\n",
        "Write a Python program to solve a cubic equation of the form\n",
        "ax^3 + bx^2 + cx + d = 0.\n",
        "\n",
        "Example:\n",
        "\n",
        "Input: a = 1, b = -6, c = 11, d = -6\n",
        "Output: Roots are 1.0, 2.0, and 3.0"
      ],
      "metadata": {
        "id": "_Ee5kS0aKINr"
      }
    },
    {
      "cell_type": "code",
      "source": [
        "a = 1\n",
        "b = -6\n",
        "c = 11\n",
        "d = -6\n",
        "\n",
        "roots = []\n",
        "\n",
        "for x in range(-10, 11):\n",
        "    fx = a * x**3 + b * x**2 + c * x + d\n",
        "    if fx == 0:\n",
        "        roots.append(x)\n",
        "\n",
        "print(\"Roots are:\", \", \".join(map(str, roots)))\n"
      ],
      "metadata": {
        "id": "SS_idrhY3HuS",
        "colab": {
          "base_uri": "https://localhost:8080/"
        },
        "outputId": "77dd6cdc-ff0b-400d-ab0a-7f230fe868f4"
      },
      "execution_count": null,
      "outputs": [
        {
          "output_type": "stream",
          "name": "stdout",
          "text": [
            "Roots are: 1, 2, 3\n"
          ]
        }
      ]
    }
  ]
}