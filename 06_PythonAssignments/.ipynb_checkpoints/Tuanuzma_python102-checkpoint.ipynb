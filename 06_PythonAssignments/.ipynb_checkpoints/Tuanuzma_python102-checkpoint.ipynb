{
  "cells": [
    {
      "cell_type": "markdown",
      "metadata": {
        "id": "88K4xIYJ2HAZ"
      },
      "source": [
        "# This exercise is to test your knowledge in\n",
        "1. Input/Output functions\n",
        "2. Decision Making"
      ]
    },
    {
      "cell_type": "markdown",
      "metadata": {
        "id": "k0lMUYCZ2s7t"
      },
      "source": [
        "**Exercise 1: Check Even or Odd**\n",
        "\n",
        "Write a Python program that prompts for an integer. The program must check whether the number is even or odd and print the result."
      ]
    },
    {
      "cell_type": "code",
      "execution_count": null,
      "metadata": {
        "colab": {
          "base_uri": "https://localhost:8080/"
        },
        "id": "-b2jsb362QGd",
        "outputId": "2c03fc44-436c-4e48-c21c-5e38e52e35b6"
      },
      "outputs": [
        {
          "name": "stdout",
          "output_type": "stream",
          "text": [
            "Enter a number: 11\n",
            "The number is odd\n"
          ]
        }
      ],
      "source": [
        "# Prompt the user to enter three numbers\n",
        "\n",
        "num = int(input(\"Enter a number: \"))\n",
        "\n",
        "if num % 2 == 0:\n",
        "  print(\"The number is even\")\n",
        "\n",
        "else:\n",
        "  print(\"The number is odd\")"
      ]
    },
    {
      "cell_type": "markdown",
      "metadata": {
        "id": "Gg7tvgCBr2Ff"
      },
      "source": [
        "**Exercise 2: Senior Citizen Benefits**\n",
        "\n",
        "Write a Python program that determines if a person is eligible for senior citizen benefits. The program should take the person's age as input and print \"Eligible\" if the age is 60 or above, otherwise print \"Not Eligible\"."
      ]
    },
    {
      "cell_type": "code",
      "execution_count": null,
      "metadata": {
        "colab": {
          "base_uri": "https://localhost:8080/"
        },
        "id": "RcxAj8WFr-un",
        "outputId": "a81ac39c-3ab3-444c-cfa1-0656d40273c3"
      },
      "outputs": [
        {
          "name": "stdout",
          "output_type": "stream",
          "text": [
            "Enter age: 27\n",
            "Not eligible\n"
          ]
        }
      ],
      "source": [
        "# Prompt the user to enter three numbers\n",
        "age = int(input(\"Enter age: \"))\n",
        "\n",
        "if age >= 60:\n",
        "  print(\"Eligible\")\n",
        "\n",
        "else:\n",
        "  print(\"Not eligible\")"
      ]
    },
    {
      "cell_type": "markdown",
      "metadata": {
        "id": "wkTAsVLhrAJ0"
      },
      "source": [
        "**Exercise 3: Largest of Three Numbers**\n",
        "\n",
        "Write a Python program that takes three numbers as input and prints the largest of the three."
      ]
    },
    {
      "cell_type": "code",
      "execution_count": null,
      "metadata": {
        "colab": {
          "base_uri": "https://localhost:8080/"
        },
        "id": "gEzU2K3drMXb",
        "outputId": "763bfefb-f3de-4e2e-ab0e-913238974515"
      },
      "outputs": [
        {
          "name": "stdout",
          "output_type": "stream",
          "text": [
            "Enter first number: 11\n",
            "Enter second number: 22\n",
            "Enter third number: 33\n",
            "The largest number is:  33.0\n"
          ]
        }
      ],
      "source": [
        "# Prompt the user to enter three numbers\n",
        "a = float(input(\"Enter first number: \"))\n",
        "b = float(input(\"Enter second number: \"))\n",
        "c = float(input(\"Enter third number: \"))\n",
        "\n",
        "# Compare the numbers to find the largest\n",
        "if a >= b and a >= c:\n",
        "  largest = a\n",
        "\n",
        "elif b >= a and b >= c:\n",
        "  largest = b\n",
        "\n",
        "else:\n",
        "  largest = c\n",
        "\n",
        "# Display the greatest number\n",
        "print(\"The largest number is: \", largest)"
      ]
    },
    {
      "cell_type": "markdown",
      "metadata": {
        "id": "zXjvrX8c2RE4"
      },
      "source": [
        "**Exercise 4: Grade Evaluation**\n",
        "\n",
        "Write a Python program that takes a score (between 0 and 100) as input and prints the corresponding grade based on the following criteria:\n",
        "\n",
        "1. A for scores 90 and above\n",
        "2. B for scores 80-89\n",
        "3. C for scores 70-79\n",
        "4. D for scores 60-69\n",
        "5. F for scores below 60"
      ]
    },
    {
      "cell_type": "code",
      "execution_count": null,
      "metadata": {
        "colab": {
          "base_uri": "https://localhost:8080/"
        },
        "id": "S7evNjDH2UMK",
        "outputId": "a9453181-82f8-4133-8b4e-167fb6191455"
      },
      "outputs": [
        {
          "name": "stdout",
          "output_type": "stream",
          "text": [
            "Enter your scores: 55\n",
            "You are score F for the exam\n"
          ]
        }
      ],
      "source": [
        "scores = int(input(\"Enter your scores: \"))\n",
        "\n",
        "if scores >= 90 and scores <= 100:\n",
        "  print(\"You are score A for the exam\")\n",
        "\n",
        "elif scores >= 80 and scores < 90:\n",
        "  print(\"You are score B for the exam\")\n",
        "\n",
        "elif scores >= 70 and scores < 80:\n",
        "  print(\"You are score C for the exam\")\n",
        "\n",
        "elif scores >= 60 and scores < 70:\n",
        "  print(\"You are score D for the exam\")\n",
        "\n",
        "else:\n",
        "  print(\"You are score F for the exam\")\n"
      ]
    },
    {
      "cell_type": "markdown",
      "metadata": {
        "id": "5sA_WsIssN2d"
      },
      "source": [
        "**Exercise 5: Movie Ticket Pricing**\n",
        "\n",
        "Write a Python program that determines the price of a movie ticket based on the customer's age:\n",
        "\n",
        "1.  Age < 5: Free\n",
        "2.  Age 5-12: RM5\n",
        "3.  Age 13-60: RM10\n",
        "4.  Age > 60: RM7"
      ]
    },
    {
      "cell_type": "code",
      "execution_count": null,
      "metadata": {
        "colab": {
          "base_uri": "https://localhost:8080/"
        },
        "id": "wOHC_G0esdvT",
        "outputId": "c1c13020-0d9a-47a2-f4b0-445eed21a5f9"
      },
      "outputs": [
        {
          "name": "stdout",
          "output_type": "stream",
          "text": [
            "Enter your age: 27\n",
            "Movie ticket is (RM):  10\n"
          ]
        }
      ],
      "source": [
        "# Ask input from user\n",
        "age = int(input(\"Enter your age: \"))\n",
        "ticket_price = 0\n",
        "\n",
        "# Determine the ticket price based on age\n",
        "if age < 5:\n",
        "  ticket_price = \"Free\"\n",
        "  print(\"Movie ticket is: \", ticket_price)\n",
        "\n",
        "elif age >= 5 and age <= 12:\n",
        "  ticket_price = 5\n",
        "  print(\"Movie ticket is (RM): \", ticket_price)\n",
        "\n",
        "elif age >= 13 and age <= 60:\n",
        "  ticket_price = 10\n",
        "  print(\"Movie ticket is (RM): \", ticket_price)\n",
        "\n",
        "else:\n",
        "  ticket_price = 7\n",
        "  print(\"Movie ticket is (RM): \", ticket_price)"
      ]
    },
    {
      "cell_type": "markdown",
      "metadata": {
        "id": "8faNmniGss7a"
      },
      "source": [
        "**Exercise 6: Shop discount calculator**\n",
        "\n",
        "Write a Python program that calculates the discount on a purchase based on the amount spent:\n",
        "\n",
        "1.  Spend < RM100: No discount\n",
        "2.  Spend RM100-RM500: 10% discount\n",
        "3.  Spend > RM500: 20% discount\n",
        "\n",
        "Print the final amount to be paid after applying the discount."
      ]
    },
    {
      "cell_type": "code",
      "execution_count": null,
      "metadata": {
        "colab": {
          "background_save": true
        },
        "id": "ZQ2QwsT5s97n",
        "outputId": "83f5f9fb-a73f-4abf-91fe-e92aaa7be112"
      },
      "outputs": [
        {
          "name": "stdout",
          "output_type": "stream",
          "text": [
            "Discount 20%\n",
            "Final amount to be paid (RM):  491.391\n"
          ]
        }
      ],
      "source": [
        "spend = float(input(\"Enter your spend (RM): \"))\n",
        "final_amount = 0\n",
        "\n",
        "if spend < 100:\n",
        "  final_amount = spend\n",
        "  print(\"No discount\")\n",
        "\n",
        "elif spend >= 100 and spend <= 500:\n",
        "  final_amount = spend - (spend * 0.1)\n",
        "  print(\"Discount 10%\")\n",
        "\n",
        "else:\n",
        "  final_amount = spend - (spend * 0.2)\n",
        "  print(\"Discount 20%\")\n",
        "\n",
        "final_amount = spend - (spend * 0.1) or (spend * 0.2)\n",
        "print(\"Final amount to be paid (RM): \", final_amount)\n"
      ]
    },
    {
      "cell_type": "markdown",
      "metadata": {
        "id": "YKXYMUgSyaOp"
      },
      "source": [
        "**Exercise 7: Temperature Alert**\n",
        "\n",
        "Write a Python program that takes the current temperature as input and prints an alert message based on the temperature:\n",
        "\n",
        "1. Below 0°C: \"Freezing!\"\n",
        "2. 0°C to 10°C: \"Very Cold!\"\n",
        "3. 11°C to 20°C: \"Cold\"\n",
        "4. 21°C to 30°C: \"Warm\"\n",
        "5. Above 30°C: \"Hot!\""
      ]
    },
    {
      "cell_type": "code",
      "execution_count": null,
      "metadata": {
        "colab": {
          "base_uri": "https://localhost:8080/"
        },
        "id": "8Ja63fwayu46",
        "outputId": "d9af3c6d-85b7-4b94-bf48-39060b04686e"
      },
      "outputs": [
        {
          "name": "stdout",
          "output_type": "stream",
          "text": [
            "Enter the temperature: 26\n",
            "Warm\n"
          ]
        }
      ],
      "source": [
        "# Ask input from user\n",
        "temperature = (float(input(\"Enter the temperature: \")))\n",
        "\n",
        "if temperature < 0:\n",
        "  print(\"Freezing!\")\n",
        "\n",
        "elif temperature >= 0 and temperature <= 10:\n",
        "  print(\"Very Cold!\")\n",
        "\n",
        "elif temperature >= 11 and temperature <= 20:\n",
        "  print(\"Cold\")\n",
        "\n",
        "elif temperature >= 21 and temperature <= 30:\n",
        "  print(\"Warm\")\n",
        "\n",
        "else:\n",
        "  print(\"Hot!\")\n"
      ]
    },
    {
      "cell_type": "markdown",
      "metadata": {
        "id": "kO8Ry4zIqQAa"
      },
      "source": [
        "**Exercise 8: Day of the week**\n",
        "\n",
        "Write a Python program that takes an integer (1 to 7) as input and prints the corresponding day of the week. Assume 1 corresponds to Monday and 7 corresponds to Sunday. If the input is not in the range of 1 to 7, print \"Invalid day\"."
      ]
    },
    {
      "cell_type": "code",
      "execution_count": null,
      "metadata": {
        "id": "mV455H4iqcq0",
        "colab": {
          "base_uri": "https://localhost:8080/"
        },
        "outputId": "b6ce6270-9e1f-49dc-9167-77e1bbf5e99a"
      },
      "outputs": [
        {
          "output_type": "stream",
          "name": "stdout",
          "text": [
            " 5\n",
            "Friday\n"
          ]
        }
      ],
      "source": [
        "# Ask input from user\n",
        "givennumber = int(input(\" \"))\n",
        "\n",
        "if givennumber == 1:\n",
        "    print(\"Monday\")\n",
        "\n",
        "elif givennumber == 2:\n",
        "    print(\"Tuesday\")\n",
        "\n",
        "elif givennumber == 3:\n",
        "    print(\"Wednesday\")\n",
        "\n",
        "elif givennumber == 4:\n",
        "    print(\"Thursday\")\n",
        "\n",
        "elif givennumber == 5:\n",
        "    print(\"Friday\")\n",
        "\n",
        "elif givennumber == 6:\n",
        "    print(\"Saturday\")\n",
        "\n",
        "elif givennumber == 7:\n",
        "    print(\"Sunday\")\n",
        "\n",
        "else:\n",
        "    print(\"Invalid day\")"
      ]
    },
    {
      "cell_type": "markdown",
      "metadata": {
        "id": "MD4QwAz31k00"
      },
      "source": [
        "**Exercise 9: Time of Day Greeting**\n",
        "\n",
        "Write a Python program that takes the current hour (in 24-hour format) as input and prints an appropriate greeting:\n",
        "\n",
        "1. 0 ≤ hour < 12: \"Good Morning\"\n",
        "2. 12 ≤ hour < 18: \"Good Afternoon\"\n",
        "3. 18 ≤ hour < 24: \"Good Evening\"\n",
        "4. If the hour is not valid, print \"Invalid hour\""
      ]
    },
    {
      "cell_type": "code",
      "execution_count": null,
      "metadata": {
        "colab": {
          "base_uri": "https://localhost:8080/"
        },
        "id": "dVfpgB0E1vXe",
        "outputId": "c6095c6f-4ec4-4d16-ede9-dca4874512de"
      },
      "outputs": [
        {
          "name": "stdout",
          "output_type": "stream",
          "text": [
            "Enter the hour: 15\n",
            "Good Afternoon\n"
          ]
        }
      ],
      "source": [
        "hour = int(input(\"Enter the hour: \"))\n",
        "\n",
        "if hour >= 0 and hour < 12:\n",
        "  print(\"Good Morning\")\n",
        "\n",
        "elif hour >= 12 and hour < 18:\n",
        "  print(\"Good Afternoon\")\n",
        "\n",
        "elif hour >= 18 and hour < 24:\n",
        "  print(\"Good Evening\")\n",
        "\n",
        "else:\n",
        "  print(\"Invalid hour\")"
      ]
    },
    {
      "cell_type": "markdown",
      "metadata": {
        "id": "5JvZykyG2VQ_"
      },
      "source": [
        "**Exercise 10: Check Leap Year**\n",
        "\n",
        "Write a Python program that takes a year as input and checks whether it is a leap year.\n",
        "1. If the year is divisible by four, it's a leap year.\n",
        "2. But if the year can be divided by 100 as well as four, it's not a leap year.\n",
        "3. However, if the year is divisible by 400, it is a leap year."
      ]
    },
    {
      "cell_type": "code",
      "execution_count": null,
      "metadata": {
        "colab": {
          "base_uri": "https://localhost:8080/"
        },
        "id": "f3__sUit2X_t",
        "outputId": "29b6ed61-9584-45ae-9561-b28c81d8efa1"
      },
      "outputs": [
        {
          "output_type": "stream",
          "name": "stdout",
          "text": [
            "Enter the year: 1997\n",
            "  1997 is not a leap year\n"
          ]
        }
      ],
      "source": [
        "year = int(input(\"Enter the year: \"))\n",
        "\n",
        "if year % 4 == 0:\n",
        "  if year % 100 != 0:\n",
        "    if year % 400 == 0:\n",
        "      print(\"Leap year\")\n",
        "else:\n",
        "  print(\" \", year, \"is not a leap year\")"
      ]
    },
    {
      "cell_type": "markdown",
      "metadata": {
        "id": "VjYxX0Pl2Y5a"
      },
      "source": [
        "**Exercise 11: Number Comparison**\n",
        "\n",
        "Write a program that takes three numbers as input. Store the input into three variables and print the largest one. Create the if condition in a single line."
      ]
    },
    {
      "cell_type": "code",
      "execution_count": null,
      "metadata": {
        "colab": {
          "base_uri": "https://localhost:8080/"
        },
        "id": "gtjmqjgS2bYu",
        "outputId": "17dfb7d8-1610-492b-abcd-160c93c49d9d"
      },
      "outputs": [
        {
          "name": "stdout",
          "output_type": "stream",
          "text": [
            "Enter first number:25\n",
            "Enter second number: 10\n",
            "Enter third number: 37\n",
            "The largest number is:  37\n"
          ]
        }
      ],
      "source": [
        "num1 = int(input(\"Enter first number:\"))\n",
        "num2 = int(input(\"Enter second number: \"))\n",
        "num3 = int(input(\"Enter third number: \"))\n",
        "\n",
        "# Find the largest number using a single line if statement\n",
        "largest_number = num1 if num1 > num2 and num1 > num3 else num2 if num2 > num3 else num3\n",
        "print(\"The largest number is: \", largest_number)"
      ]
    },
    {
      "cell_type": "markdown",
      "metadata": {
        "id": "hyNTbeMN2cYD"
      },
      "source": [
        "**Exercise 12: Check Vowel or Consonant**\n",
        "\n",
        "Write a Python program that takes a single character as input and checks whether it is a vowel or consonant. Use the **in** operator.\n",
        "\n",
        "(Hint: Check whether the given character is inside the string of characters.)"
      ]
    },
    {
      "cell_type": "code",
      "execution_count": null,
      "metadata": {
        "colab": {
          "base_uri": "https://localhost:8080/"
        },
        "id": "OsNKfn1Y2e4x",
        "outputId": "34a84b2b-c9ab-4a23-c9ee-2ae8958d409c"
      },
      "outputs": [
        {
          "output_type": "stream",
          "name": "stdout",
          "text": [
            "Enter a character: u\n",
            "Vowel\n"
          ]
        }
      ],
      "source": [
        "character = str(input(\"Enter a character: \"))\n",
        "vowel = \"aeiouAEIOU\"\n",
        "consonant = \"bcdfghjklmnpqrstvwxyzBCDFGHJKLMNPQRSTVWXYZ\"\n",
        "\n",
        "if character in \"aeiouAEIOU\":\n",
        "  print(\"Vowel\")\n",
        "else:\n",
        "  print(\"Consonant\")\n"
      ]
    },
    {
      "cell_type": "markdown",
      "metadata": {
        "id": "l1JWPAJj93qo"
      },
      "source": [
        "**Exercise 13: BMI Calculator**\n",
        "\n",
        "Write a program that calculates the Body Mass Index (BMI) and categorizes the result into 4 different weight statuses. The formula for BMI is weight / height^2, where weight is in kilograms and height is in meters.\n",
        "\n",
        "*Categories:*\n",
        "\n",
        "1. Underweight: BMI < 18.5\n",
        "2. Normal weight: 18.5 <= BMI < 24.9\n",
        "3. Overweight: 25 <= BMI < 29.9\n",
        "4. Obesity: BMI >= 30"
      ]
    },
    {
      "cell_type": "code",
      "execution_count": null,
      "metadata": {
        "colab": {
          "base_uri": "https://localhost:8080/"
        },
        "id": "2nCyNavu94pg",
        "outputId": "9c64a761-d0ad-47b0-d4ff-146891d2f72c"
      },
      "outputs": [
        {
          "name": "stdout",
          "output_type": "stream",
          "text": [
            "Enter your weight (kg): 53.5\n",
            "Enter your height (meters): 1.57\n",
            "Normal weight\n"
          ]
        }
      ],
      "source": [
        "weight = float(input(\"Enter your weight (kg): \"))\n",
        "height = float(input(\"Enter your height (meters): \"))\n",
        "\n",
        "BMI = weight / (height ** 2)\n",
        "\n",
        "if BMI < 18.5:\n",
        "  print(\"Underweight\")\n",
        "\n",
        "elif BMI >= 18.5 and BMI < 24.9:\n",
        "    print(\"Normal weight\")\n",
        "\n",
        "elif BMI >= 25 and BMI < 29.9:\n",
        "    print(\"Overweight\")\n",
        "\n",
        "else:\n",
        "    print(\"Obesity\")"
      ]
    },
    {
      "cell_type": "markdown",
      "metadata": {
        "id": "LU3gswxx-Kys"
      },
      "source": [
        "**Exercise 14: Triangle Type Checker**\n",
        "\n",
        "Write a program that takes the lengths of three sides of a triangle and determines whether the triangle is equilateral, isosceles, or scalene.\n",
        "\n",
        "1. Equilateral: All three sides are equal.\n",
        "2. Isosceles: Exactly two sides are equal.\n",
        "3. Scalene: All three sides are different."
      ]
    },
    {
      "cell_type": "code",
      "execution_count": null,
      "metadata": {
        "colab": {
          "base_uri": "https://localhost:8080/"
        },
        "id": "t9A8jRIE-MXP",
        "outputId": "964c8313-2737-4b1b-8a5a-f5ec4ca32959"
      },
      "outputs": [
        {
          "name": "stdout",
          "output_type": "stream",
          "text": [
            "Enter the lengths of three sides of a triangle: 32\n",
            "Equilateral\n"
          ]
        }
      ],
      "source": [
        "lengths = input(\"Enter the lengths of three sides of a triangle: \")\n",
        "a = int(lengths)\n",
        "b = int(lengths)\n",
        "c = int(lengths)\n",
        "\n",
        "if a == b and a == c and b == c:\n",
        "  print(\"Equilateral\")\n",
        "\n",
        "elif a == b or a == c or b == c:\n",
        "  print(\"Isosceles\")\n",
        "\n",
        "else:\n",
        "  print(\"Scalene\")"
      ]
    },
    {
      "cell_type": "markdown",
      "metadata": {
        "id": "q3sE4RILlBxw"
      },
      "source": [
        "**Exercise 15: Quadratic Equation Roots**\n",
        "\n",
        "Write a python program that solves a quadratic equation of the form ![image.png](data:image/png;base64,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)\n",
        "\n",
        "The program should take the coefficients a, b and c as input and print the roots of the equation. Use the discriminant to determine the nature of the roots:\n",
        "\n",
        "If the discriminant   ![image.png](data:image/png;base64,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) > 0 print \"2 Distinct real roots\"\n",
        "\n",
        "If the discriminant    ![image.png](data:image/png;base64,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) == 0 print \"One real root\"\n",
        "\n",
        "If the discriminant    ![image.png](data:image/png;base64,iVBORw0KGgoAAAANSUhEUgAAAFAAAAAUCAYAAAAa2LrXAAAAAXNSR0IArs4c6QAAAARnQU1BAACxjwv8YQUAAAAJcEhZcwAADsMAAA7DAcdvqGQAAAbZSURBVFhH5ZhXiFRZEIarZ8aIihnFHBDECPogmFEUxPBgBBVRUTGgL4L6oAyooPhgRhGzCEYUEyJmzAEx55xzzqG2vto+vT1jz+w4y9i77A+X0/ecuvdU1fkr3I58+/ZNU1JS5FcQiUSiv/6CqkZ//b8Q+fHjh9r1503UMZnHeHz58kXu3bsnN2/elDdv3rhMnTp1pHr16r6emprqY7IQDjKR7nmBGPXYECYGNmalwMGDB6Vhw4by/v17adCggTx8+FBq1aolZ86cSbrzAHr/LueByPfv35UNr169KmfPnpXPnz9L8eLFpX379gkdsmfPHnn06JH07NnTnf369Wvp1auXtGvXTkaOHJlUJ8I+bCGiiJR8+fLluT4p4bTKly/vIdm7d2+5du1alhu3aNFCevTo4Yqa813JYsWKScGCBX/ryWcGTgvXpk2bZPTo0Z5m8hy2ocJCsH//fhKI7t692++zA8+B48ePqzlbz5075/fJQrDh9OnTbgOXRZTP5SViDAThxKpUqeJjZph8bOS5Z8+eycyZM2XVqlVSu3ZtP/1kAH1IJ0TQokWLpGrVqtGVxEA+2BIQP5fderwMSOEHzvj69asYi6Rv375StmxZX4wH4YqDrO3x+3fv3smcOXOkZcuW0qVLlwwFKBlAt40bN0qBAgU8fLMDtgQHBOCDeDIhg62MwXYQZGIjocjNixcv3BEUhKFDh3pBsXCQwoULS/Pmzd2pYVNeuHDhQvn06ZPLkv+SDfTt1KmT7NixQyytSJ8+fZwQtFjxCDZQZC5cuOAyHz58kIoVK0q9evXk9u3b3lUEe7kgBvKXL1+WS5cuua+KFCnidSMWwvfv35cDBw5IzZo1ZevWrTJ37lzZt2+fdO/eXaZPn+6bBJbt3LlT7t69K0OGDHHn4VAqc1YhHBQJyv8KcvIc0TBr1iyZMGGCG080gfBc/Ii9yGNf586dXRYnQxaiafz48TE5Lux99eqVzJ49W0aMGOHvqVGjhixevFjatm37ZxEBGzZsYBcdM2aMLl26VK09UcspOnbsWJ8/f/68y924cUMbNWqk27Zt89/W/qg5XCdPnqzWArlMZpiD1RSNFZ5fBc8nAvNcK1eu1I4dO+rz58993oxzna039Xv2DZcxSS31+PqxY8d8Hdy5c8fnjBRqZInOqpqzdeLEiWqMU2NsdFZ1xYoVOnz4cE3Dy/Zib10A1OzWrZuHrslJtWrVfJ6CAWCpOU6mTp3qPSDP0kTD0uxyIHI8B5PZMyeA2RSEEiVKRGcygv0Iw0GDBol1DlKyZEmfz/x+etv8+fO7/KlTp5xJS5YskcaNG7tezGNrmTJlpEKFCi4bcPjwYWflli1bvFCiE++3A/NemQfVviq0X79+WrlyZWcVCKc7f/58P5kjR474/OPHj9XyhJ8YY7iePn2aJcOY//jxo44bN87fZYr+7VW0aFGXNYOjb/kZFlo6ePBgnTZtmlo+dpYDq8T+LG2MEUMtvH2d734ihTXm0QsbAWxlfvXq1X4P8IvleG3WrJnbB5CPtzPNHhJblGXLlokp4i1M8DKnQ/yD0qVL+5ioQucEaWlpMmzYMBk4cGCOGWj6xZJ5omfsUGXBggXOwBkzZnjV5AOAIgLs8OXixYtSv359Z9nLly9l3bp1MmDAAClXrpy/N4DoAOTQgAcPHsi8efMkPT3dv87AT1GGF+3zzL1PXsO7IV/h9Q4dOqhtqG/fvkU0V+DUOP34k8speDawJDOuX7/uuu/duzd28TFAHsceC1O/p7kG5kyfnzRpkusTdILJ/fv311atWumTJ09cFli6cnnrc6MzP8MdGCgfki4vBnyRML9+/Xq/z40D/gnYLzd7WjS53vFJH5AOmDe2ZnAg9jE/atSoDAXEug2fp0iCQCwOlPBmTKGMX7lyxeREChUq5CNhQFhDX76NKe/JAGGb03CPhxmZcKQwAlowc56H46FDh7wwUiAoWDTiJ0+e9F6vVKlSLs8fLeYsT0OMu3bt8iJEb5hqFSndyrT/LVW3bl3PObdu3fJ8SOWdMmWKN5kokVuDfheMJH7wy5cvdye0bt3a/6fEcNboWXEMPV2lSpXkxIkTniOtgHoVxzmWqsTCXpo2bep5n04D/9A04yNqxfbt2z2PWrGTCHnEekD/l+Xo0aNi/Z4zsEmTJl6mEfovAAfRrqxdu9a/FviXCId07drV/7/kN3aZvWJ9rpOkTZs23kxTIDZv3ixr1qwRy4PexoXWCbbiHwoWcnyV8VysuBHX0JneB5ZBS6gNlUHY+N/MPICeYQyVMkQNDAxhzBppCzlsZp01nBH8gL1hLqxzOLwn+IU1VZU/AEkyZhuqZzKJAAAAAElFTkSuQmCC)  < 0  print \"No Real Roots\""
      ]
    },
    {
      "cell_type": "code",
      "execution_count": null,
      "metadata": {
        "colab": {
          "base_uri": "https://localhost:8080/"
        },
        "id": "qMrU2rr8oKdN",
        "outputId": "b5eb2c97-68d0-41c2-a2dc-a4b33a06fcc8"
      },
      "outputs": [
        {
          "output_type": "stream",
          "name": "stdout",
          "text": [
            "Enter a: 5\n",
            "Enter b: 8\n",
            "Enter c: 10\n",
            "No Real Roots\n"
          ]
        }
      ],
      "source": [
        "a = int(input(\"Enter a: \"))\n",
        "b = int(input(\"Enter b: \"))\n",
        "c = int(input(\"Enter c: \"))\n",
        "\n",
        "if (b ** 2) - (4 * a * c) > 0:\n",
        "  print(\"2 Distinct real roots\")\n",
        "elif (b ** 2) - (4 * a * c) == 0:\n",
        "  print(\"One real root\")\n",
        "else:\n",
        "  print(\"No Real Roots\")\n"
      ]
    },
    {
      "cell_type": "markdown",
      "metadata": {
        "id": "bZLUv3IrpAGK"
      },
      "source": [
        "**Exercise 16: Electricity Bill Calculator**\n",
        "\n",
        "Write a Python program that calculates the electricity bill based on the number of units consumed. Use the following tariff:\n",
        "\n",
        "1. For the first 100 units: RM0.50 per unit\n",
        "2. For the next 100 units: RM0.75 per unit\n",
        "3. For the next 100 units: RM1.20 per unit\n",
        "4. For units above 300: RM1.50 per unit\n",
        "\n",
        "The program should take the total units consumed as input and print the total bill."
      ]
    },
    {
      "cell_type": "code",
      "execution_count": null,
      "metadata": {
        "colab": {
          "base_uri": "https://localhost:8080/"
        },
        "id": "AIzAMHg-peex",
        "outputId": "1865620b-0ab2-4c71-dfd1-558ca58acdc0"
      },
      "outputs": [
        {
          "name": "stdout",
          "output_type": "stream",
          "text": [
            "Enter the total units consumed:547\n",
            "The total bill is (RM):  820.5\n"
          ]
        }
      ],
      "source": [
        "bill = 0\n",
        "calculates_bill = int(input(\"Enter the total units consumed:\"))\n",
        "\n",
        "if calculates_bill <= 100:\n",
        "  bill = calculates_bill * 0.50\n",
        "  print(\"The total bill is (RM): \", bill)\n",
        "\n",
        "elif calculates_bill > 100 and calculates_bill <= 200:\n",
        "  bill = calculates_bill * 0.75\n",
        "  print(\"The total bill is (RM): \", bill)\n",
        "\n",
        "elif calculates_bill > 200 and calculates_bill <= 300:\n",
        "  bill = calculates_bill * 1.20\n",
        "  print(\"The total bill is (RM): \", bill)\n",
        "\n",
        "else:\n",
        "  bill = calculates_bill * 1.50\n",
        "  print(\"The total bill is (RM): \", bill)"
      ]
    },
    {
      "cell_type": "markdown",
      "metadata": {
        "id": "ERDSa0sZpnCz"
      },
      "source": [
        "**Exercise 17: Password Strength Checker**\n",
        "\n",
        "Write a Python program that takes a password as input and checks its strength based on the following criteria:\n",
        "\n",
        "1. \"Strong\" if the password is at least 8 characters long, contains both uppercase and lowercase letters, and includes at least one number and one special character.\n",
        "2. \"Moderate\" if the password is at least 6 characters long and meets at least two of the above criteria.\n",
        "3. \"Weak\" if the password does not meet the criteria for \"Strong\" or \"Moderate\"."
      ]
    },
    {
      "cell_type": "code",
      "source": [
        "password = str(input(\"Enter a password: \"))\n",
        "character = len(password)\n",
        "\n",
        "upperchars = \"ABCDEFGHIJKLMNOPQRSTUVWXYZ\"\n",
        "lowerchars = \"abcdefghijklmnopqrstuvwxyz\"\n",
        "number = \"0123456789\"\n",
        "specialchars = \"!@#$%^&*()_+{}[]:;<>,.?/~\"\n",
        "\n",
        "upperchars = any([char in upperchars for char in password])  # Use 'char' to avoid confusion\n",
        "lowerchars = any([char in lowerchars for char in password])\n",
        "number = any([char in number for char in password])\n",
        "specialchars = any([char in specialchars for char in password])  # Iterate with 'char'\n",
        "\n",
        "if character >= 8:\n",
        "    if upperchars and lowerchars and number and specialchars:\n",
        "      print(\"Strong\")\n",
        "elif character >= 6:\n",
        "    if ((upperchars and lowerchars) or (number and specialchars) or \\\n",
        "       (upperchars and number) or (lowerchars and specialchars) or \\\n",
        "       (upperchars and specialchars) or (lowerchars and number) or \\\n",
        "       (upperchars or lowerchars) and (number or specialchars) or \\\n",
        "       (upperchars or number) and (lowerchars or specialchars) or \\\n",
        "       (upperchars or specialchars) and (lowerchars or number)):\n",
        "      print(\"Moderate\")\n",
        "    else:\n",
        "      print(\"Weak\")\n",
        "else:\n",
        "  print(\"Weak\")\n"
      ],
      "metadata": {
        "colab": {
          "base_uri": "https://localhost:8080/"
        },
        "id": "R7KT9R13iTbm",
        "outputId": "fa3225aa-f437-4a9d-c208-83d450abcfce"
      },
      "execution_count": null,
      "outputs": [
        {
          "output_type": "stream",
          "name": "stdout",
          "text": [
            "Enter a password: TIH.;[\n",
            "Moderate\n"
          ]
        }
      ]
    },
    {
      "cell_type": "markdown",
      "metadata": {
        "id": "U3_vgViN-_aG"
      },
      "source": [
        "**Exercise 18: ATM Withdrawal**\n",
        "\n",
        "Write a program that simulates an ATM withdrawal.\n",
        "\n",
        "The user enters the withdrawal amount and the program checks if the amount is a multiple of 10. If it is, the program prints the number of each denomination (50, 20, 10) required to dispense the amount. If not, it prints an error message.\n",
        "\n",
        "For example if the amount is 230 then it must print \"4 50 dollar bills, 1 20 dollar bills, 1 10 dollar bills"
      ]
    },
    {
      "cell_type": "code",
      "source": [
        "num = 230\n",
        "if num % 10 == 0:\n",
        "  fifty = num // 50\n",
        "  num = num % 50\n",
        "  twenty = num // 20\n",
        "  num = num % 20\n",
        "  ten = num // 10\n",
        "  print(fifty,\"50 dollar bills,\",twenty,\"20 dollar bills,\",ten,\"10 dollar bills\")\n",
        "else:\n",
        "  print(\"Error, amount must be a multiple of 10.\")"
      ],
      "metadata": {
        "colab": {
          "base_uri": "https://localhost:8080/"
        },
        "id": "MgmAP3IXJjX2",
        "outputId": "f7faf8c9-0592-47c9-d301-400a54d55a83"
      },
      "execution_count": null,
      "outputs": [
        {
          "output_type": "stream",
          "name": "stdout",
          "text": [
            "4 50 dollar bills, 1 20 dollar bills, 1 10 dollar bills\n"
          ]
        }
      ]
    },
    {
      "cell_type": "markdown",
      "metadata": {
        "id": "uQKP9hMA2ksS"
      },
      "source": [
        "**Exercise 19: Adam Number**\n",
        "\n",
        "Write a Python program to check whether 13 is an Adam number.\n",
        "\n",
        "An Adam number is a number for which the square of the number and the square of its reverse are themselves reverses of each other. In other words, if you take a number, reverse it, square both the original number and the reversed number, and the results are still reverse of each other, then the original number is called an Adam number. Make sure you reverse the number using modulus (%) and integer division operator (//).\n",
        "\n",
        "For example, 13 is an Adam because 13² = 169 and 31² = 961"
      ]
    },
    {
      "cell_type": "code",
      "source": [
        "# input = 13\n",
        "# output = Adamnumber\n",
        "# square of 13 = 169\n",
        "# reverse of 13 = 31\n",
        "# square of 31 = 961\n",
        "# reverse of 961 = 169\n",
        "# Now square of 13 and square of reverse of 13 are reversed of each other.\n",
        "# Therefore 13 is adam number\n",
        "\n",
        "given_number = 13\n",
        "\n",
        "reverse_number = (given_number % 10) * 10 + given_number // 10\n",
        "#print(reversenumber)\n",
        "\n",
        "square_given_num = given_number * given_number\n",
        "square_reverse_num = reverse_number * reverse_number\n",
        "#print(squaregivennum)\n",
        "#print(squarereversenum)\n",
        "\n",
        "if (square_given_num // 100 == square_reverse_num % 10):\n",
        "  square_given_num %= 100\n",
        "  square_reverse_num //= 10\n",
        "\n",
        "  if (square_given_num // 10 == square_reverse_num % 10):\n",
        "    square_given_num %= 10\n",
        "    square_reverse_num //= 10\n",
        "\n",
        "    if (square_given_num == square_reverse_num ):\n",
        "      print(\"\", given_number, \"is an Adam number\")\n",
        "\n",
        "    else:\n",
        "      print(\"\", given_number, \"not an Adam number\")\n",
        "\n",
        "  else:\n",
        "    print(\"\", given_number, \"not an Adam number\")\n",
        "\n",
        "else:\n",
        "  print(\"\", given_number, \"not an Adam number\")"
      ],
      "metadata": {
        "colab": {
          "base_uri": "https://localhost:8080/"
        },
        "id": "R2emTK4jhBmG",
        "outputId": "4ef18f6e-a58a-48ca-ee11-d176c5b6e0af"
      },
      "execution_count": null,
      "outputs": [
        {
          "output_type": "stream",
          "name": "stdout",
          "text": [
            " 13 is an Adam number\n"
          ]
        }
      ]
    },
    {
      "cell_type": "markdown",
      "metadata": {
        "id": "qTSAl9Hw4iiL"
      },
      "source": [
        "**Exercise 20: Armstrong Number**\n",
        "\n",
        "Write a Python program to check whether a given number is an Armstrong number.\n",
        "\n",
        "An Armstrong number (also known as a Narcissistic number or a Pluperfect number) is a number that is equal to the sum of its own digits each raised to the power of the number of digits.\n",
        "\n",
        "For example, 153 is an Armstrong number because 1 ** 3 + 5 ** 3 + 3 ** 3 = 153"
      ]
    },
    {
      "cell_type": "code",
      "source": [
        "# Input:153\n",
        "# Output: Yes\n",
        "# 153 is an Armstrong number.\n",
        "# sumofdigits = (1*1*1) + (5*5*5) + (3*3*3)\n",
        "# sumofdigits = 1 + 125 + 27\n",
        "# sumofdigits = 153\n",
        "\n",
        "num = 153\n",
        "temp = 0\n",
        "sum = 0\n",
        "\n",
        "temp = num\n",
        "num1 = temp % 10\n",
        "sum = sum + (num1 ** 3)\n",
        "temp //= 10\n",
        "\n",
        "num2 = temp % 10\n",
        "sum = sum + (num2 ** 3)\n",
        "temp //= 10\n",
        "\n",
        "num3 = temp % 10\n",
        "sum = sum + (num3 ** 3)\n",
        "temp //= 10\n",
        "\n",
        "if (num == sum):\n",
        "  print(\"\", num, \"is an Armstrong\")\n",
        "\n",
        "else:\n",
        "  print(\"\", num, \"not an Armstrong\")\n"
      ],
      "metadata": {
        "colab": {
          "base_uri": "https://localhost:8080/"
        },
        "id": "n60EoRXBkvBJ",
        "outputId": "bbcdade2-ff5b-4757-ce81-b36bbc88ca9c"
      },
      "execution_count": null,
      "outputs": [
        {
          "output_type": "stream",
          "name": "stdout",
          "text": [
            " 153 is an Armstrong\n"
          ]
        }
      ]
    }
  ],
  "metadata": {
    "colab": {
      "provenance": []
    },
    "kernelspec": {
      "display_name": "Python 3",
      "name": "python3"
    },
    "language_info": {
      "name": "python"
    }
  },
  "nbformat": 4,
  "nbformat_minor": 0
}