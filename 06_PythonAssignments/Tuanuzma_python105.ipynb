{
 "cells": [
  {
   "cell_type": "markdown",
   "metadata": {
    "id": "A0Bwrme6fTrE"
   },
   "source": [
    "**Problem 1**\n",
    "\n",
    "Write a python function that takes a number as parameter and prints the multiplication table of that number"
   ]
  },
  {
   "cell_type": "code",
   "execution_count": 1,
   "metadata": {
    "colab": {
     "base_uri": "https://localhost:8080/"
    },
    "id": "i81jHFkbCF8O",
    "outputId": "de3971c9-8ab2-4036-cf8c-aeb89b61bb04"
   },
   "outputs": [
    {
     "name": "stdout",
     "output_type": "stream",
     "text": [
      "5 x 1 = 5\n",
      "5 x 2 = 10\n",
      "5 x 3 = 15\n",
      "5 x 4 = 20\n",
      "5 x 5 = 25\n",
      "5 x 6 = 30\n",
      "5 x 7 = 35\n",
      "5 x 8 = 40\n",
      "5 x 9 = 45\n",
      "5 x 10 = 50\n",
      "5 x 11 = 55\n",
      "5 x 12 = 60\n"
     ]
    }
   ],
   "source": [
    "def print_multiplication_table(number):\n",
    "  for i in range(1,13):\n",
    "    print(f\"{number} x {i} = {number * i}\")\n",
    "\n",
    "print_multiplication_table(5)"
   ]
  },
  {
   "cell_type": "code",
   "execution_count": 2,
   "metadata": {},
   "outputs": [
    {
     "name": "stdin",
     "output_type": "stream",
     "text": [
      "Enter a number:  5\n"
     ]
    },
    {
     "name": "stdout",
     "output_type": "stream",
     "text": [
      "Multiplication Table for 5:\n",
      "5 x 1 = 5\n",
      "5 x 2 = 10\n",
      "5 x 3 = 15\n",
      "5 x 4 = 20\n",
      "5 x 5 = 25\n",
      "5 x 6 = 30\n",
      "5 x 7 = 35\n",
      "5 x 8 = 40\n",
      "5 x 9 = 45\n",
      "5 x 10 = 50\n",
      "5 x 11 = 55\n",
      "5 x 12 = 60\n"
     ]
    }
   ],
   "source": [
    "def multiplication_table(number):\n",
    "    \"\"\"Prints the multiplication table for the given number up to 12.\"\"\"\n",
    "    print(f\"Multiplication Table for {number}:\")\n",
    "    for i in range(1, 13):\n",
    "        print(f\"{number} x {i} = {number * i}\")\n",
    "\n",
    "# Example usage:\n",
    "num = int(input(\"Enter a number: \"))\n",
    "multiplication_table(num)"
   ]
  },
  {
   "cell_type": "markdown",
   "metadata": {
    "id": "hHsndVQCfZNT"
   },
   "source": [
    "**Problem 2**\n",
    "\n",
    "Write a simple python function that returns twin primes less than 1000. If two consecutive odd numbers are both prime then they are known as twin primes.\n",
    "\n",
    "Pairs of primes that differ by 2. For example, 3 and 5, 5 and 7, 11 and 13, and 17 and 19 are twin primes."
   ]
  },
  {
   "cell_type": "code",
   "execution_count": null,
   "metadata": {
    "colab": {
     "base_uri": "https://localhost:8080/"
    },
    "id": "DT9PXLVEAGjQ",
    "outputId": "6c1c3da2-21b1-4cb2-dd15-83c3570d7273"
   },
   "outputs": [
    {
     "name": "stdout",
     "output_type": "stream",
     "text": [
      "[(3, 5), (5, 7), (11, 13), (17, 19), (29, 31), (41, 43), (59, 61), (71, 73), (101, 103), (107, 109), (137, 139), (149, 151), (179, 181), (191, 193), (197, 199), (227, 229), (239, 241), (269, 271), (281, 283), (311, 313), (347, 349), (419, 421), (431, 433), (461, 463), (521, 523), (569, 571), (599, 601), (617, 619), (641, 643), (659, 661), (809, 811), (821, 823), (827, 829), (857, 859), (881, 883)]\n"
     ]
    }
   ],
   "source": [
    "# Print out the list of twin prime numbers from 1 to 1000.\n",
    "# [(3, 5), (5, 7), (11, 13), (17, 19), ........, (881, 883)]\n",
    "\n",
    "# This function checks if a number n is prime by testing divisibility from 2\n",
    "# up to the square root of n.\n",
    "def is_prime(n):\n",
    "  if n <= 1:\n",
    "    return False\n",
    "  if n <= 3:\n",
    "    return True\n",
    "  if n % 2 == 0 or n % 3 == 0:\n",
    "    return False\n",
    "  i = 5\n",
    "  while i * i <= n:\n",
    "    if n % i == 0 or n % (i + 2) == 0:\n",
    "      return False\n",
    "    i += 6\n",
    "  return True\n",
    "\n",
    "# This function iterates through all odd numbers up to the given limit and checks\n",
    "# if both the number and the number plus 2 are prime.\n",
    "# If they are, the pair is added to the list of twin primes.\n",
    "def get_twin_primes(limit):\n",
    "  twin_primes = []\n",
    "  for num in range(3, limit, 2):\n",
    "    if is_prime(num) and is_prime(num + 2):\n",
    "      twin_primes.append((num, num + 2))\n",
    "  return twin_primes\n",
    "\n",
    "# Find twin primes less than 1000\n",
    "twin_primes_list = get_twin_primes(1000)\n",
    "print(twin_primes_list)"
   ]
  },
  {
   "cell_type": "code",
   "execution_count": 3,
   "metadata": {},
   "outputs": [
    {
     "name": "stdout",
     "output_type": "stream",
     "text": [
      "Twin primes less than 1000:\n",
      "(3, 5)\n",
      "(5, 7)\n",
      "(11, 13)\n",
      "(17, 19)\n",
      "(29, 31)\n",
      "(41, 43)\n",
      "(59, 61)\n",
      "(71, 73)\n",
      "(101, 103)\n",
      "(107, 109)\n",
      "(137, 139)\n",
      "(149, 151)\n",
      "(179, 181)\n",
      "(191, 193)\n",
      "(197, 199)\n",
      "(227, 229)\n",
      "(239, 241)\n",
      "(269, 271)\n",
      "(281, 283)\n",
      "(311, 313)\n",
      "(347, 349)\n",
      "(419, 421)\n",
      "(431, 433)\n",
      "(461, 463)\n",
      "(521, 523)\n",
      "(569, 571)\n",
      "(599, 601)\n",
      "(617, 619)\n",
      "(641, 643)\n",
      "(659, 661)\n",
      "(809, 811)\n",
      "(821, 823)\n",
      "(827, 829)\n",
      "(857, 859)\n",
      "(881, 883)\n"
     ]
    }
   ],
   "source": [
    "def is_prime(n):\n",
    "    \"\"\"Check if a number is prime.\"\"\"\n",
    "    if n < 2:\n",
    "        return False\n",
    "    for i in range(2, int(n**0.5) + 1):\n",
    "        if n % i == 0:\n",
    "            return False\n",
    "    return True\n",
    "\n",
    "def find_twin_primes(limit):\n",
    "    \"\"\"Find and return all twin primes less than the given limit.\"\"\"\n",
    "    twin_primes = []\n",
    "    for num in range(2, limit - 1):\n",
    "        if is_prime(num) and is_prime(num + 2):\n",
    "            twin_primes.append((num, num + 2))\n",
    "    return twin_primes\n",
    "\n",
    "# Example usage:\n",
    "twin_primes = find_twin_primes(1000)\n",
    "print(\"Twin primes less than 1000:\")\n",
    "for pair in twin_primes:\n",
    "    print(pair)"
   ]
  },
  {
   "cell_type": "markdown",
   "metadata": {
    "id": "IuSDs-t6hN2I"
   },
   "source": [
    "**Problem 3**\n",
    "\n",
    "Write a simple python function that takes a number as parameter and returns  the prime factors of that number. Prime Factorization is finding which prime numbers multiply together to make the original number.\n",
    "\n",
    "Example: prime factors of 56 - 2, 2, 2, 7"
   ]
  },
  {
   "cell_type": "code",
   "execution_count": null,
   "metadata": {
    "colab": {
     "base_uri": "https://localhost:8080/"
    },
    "id": "_pELwjbdL5Bi",
    "outputId": "d6ef00dd-2e82-461a-e02d-e634cb637890"
   },
   "outputs": [
    {
     "name": "stdout",
     "output_type": "stream",
     "text": [
      "Prime factors of 56: [2, 2, 2, 7]\n"
     ]
    }
   ],
   "source": [
    "def get_prime_factors(n):\n",
    "  # Initialize an empty list to store the prime factors.\n",
    "  factors = []\n",
    "  # variable is initialized to 2, the smallest prime number.\n",
    "  i = 2\n",
    "  # The loop continues as long as the square of the current factor is less than or equal to n.\n",
    "  # Until n is no longer divisible by i, i will incremented by 1 to check the next potential prime factor.\n",
    "  while i * i <= n:\n",
    "    if n % i:\n",
    "      i += 1\n",
    "    else:\n",
    "      n //= i\n",
    "      factors.append(i)\n",
    "  if n > 1:\n",
    "    factors.append(n)\n",
    "  return factors\n",
    "\n",
    "number = 56\n",
    "prime_factors = get_prime_factors(number)\n",
    "print(f\"Prime factors of {number}: {prime_factors}\")"
   ]
  },
  {
   "cell_type": "code",
   "execution_count": 5,
   "metadata": {},
   "outputs": [
    {
     "name": "stdout",
     "output_type": "stream",
     "text": [
      "Prime factors of 84: [2, 2, 3, 7]\n"
     ]
    }
   ],
   "source": [
    "def prime_factors(n):\n",
    "    \"\"\"Return the list of prime factors of a given number.\"\"\"\n",
    "    factors = []\n",
    "    divisor = 2\n",
    "    while n > 1:\n",
    "        while n % divisor == 0:\n",
    "            factors.append(divisor)\n",
    "            n //= divisor\n",
    "        divisor += 1\n",
    "    return factors\n",
    "\n",
    "# Example usage:\n",
    "num = 84\n",
    "print(f\"Prime factors of {num}: {prime_factors(num)}\")"
   ]
  },
  {
   "cell_type": "markdown",
   "metadata": {
    "id": "TjZG6aCDiaR8"
   },
   "source": [
    "**Problem 4**\n",
    "\n",
    "Write a function that inputs a number and returns the product of digits of that number."
   ]
  },
  {
   "cell_type": "code",
   "execution_count": null,
   "metadata": {
    "colab": {
     "base_uri": "https://localhost:8080/"
    },
    "id": "cemJe9fMSPRa",
    "outputId": "25be47fd-0974-4d60-e27c-d0aece9e9065"
   },
   "outputs": [
    {
     "name": "stdout",
     "output_type": "stream",
     "text": [
      "Product of digits 12345: 120\n"
     ]
    }
   ],
   "source": [
    "# Initialize the product to 1, which hold the product of digits\n",
    "def product_of_digits(n):\n",
    "  product = 1\n",
    "  # Convert the n to a string to iterate through each digit\n",
    "  for digit in str(n):\n",
    "    # Convert the digit back to an integer and multiply it with the product\n",
    "    product *= int(digit)\n",
    "  return product\n",
    "\n",
    "# Return the multiplication of product of digits\n",
    "number = 12345\n",
    "product = product_of_digits(number)\n",
    "print(f\"Product of digits {number}: {product}\")"
   ]
  },
  {
   "cell_type": "code",
   "execution_count": 6,
   "metadata": {},
   "outputs": [
    {
     "name": "stdout",
     "output_type": "stream",
     "text": [
      "Product of digits of 234: 24\n"
     ]
    }
   ],
   "source": [
    "def product_of_digits(n):\n",
    "    \"\"\"Return the product of digits of the given number.\"\"\"\n",
    "    product = 1\n",
    "    while n > 0:\n",
    "        digit = n % 10  # Get the last digit\n",
    "        product *= digit  # Multiply the product by the digit\n",
    "        n //= 10  # Remove the last digit\n",
    "    return product\n",
    "\n",
    "# Example usage:\n",
    "num = 234\n",
    "print(f\"Product of digits of {num}: {product_of_digits(num)}\")"
   ]
  },
  {
   "cell_type": "markdown",
   "metadata": {
    "id": "dP39qvGMje7L"
   },
   "source": [
    "**Problem 5**\n",
    "\n",
    "Write a function that takes a number as parameter. The function finds the proper divisors of that number and then finds the sum of proper divisors. Proper divisors of a number are those numbers by which the number is divisible, except the number itself.\n",
    "\n",
    "For example proper divisors of 36 are 1, 2, 3, 4, 6, 9, 18"
   ]
  },
  {
   "cell_type": "code",
   "execution_count": null,
   "metadata": {
    "colab": {
     "base_uri": "https://localhost:8080/"
    },
    "id": "1ea6c6ciXEgb",
    "outputId": "cfd8403c-0157-4b42-ff66-9f25f265b219"
   },
   "outputs": [
    {
     "name": "stdout",
     "output_type": "stream",
     "text": [
      "Sum of proper divisors of 36: 55\n"
     ]
    }
   ],
   "source": [
    "# Proper divisors of 36 are 1, 2, 3, 4, 6, 9, 12 and 18\n",
    "\n",
    "def sum_of_proper_divisors(n):\n",
    "  divisors = [1]\n",
    "  for i in range(2, n):\n",
    "    if n % i == 0:\n",
    "      divisors.append(i)\n",
    "  return sum(divisors)\n",
    "\n",
    "number = 36\n",
    "sum_divisors = sum_of_proper_divisors(number)\n",
    "print(f\"Sum of proper divisors of {number}: {sum_divisors}\")\n"
   ]
  },
  {
   "cell_type": "code",
   "execution_count": 8,
   "metadata": {},
   "outputs": [
    {
     "name": "stdout",
     "output_type": "stream",
     "text": [
      "Sum of proper divisors of 28: 28\n"
     ]
    }
   ],
   "source": [
    "def sum_of_proper_divisors(n):\n",
    "    \"\"\"Return the sum of proper divisors of the given number.\"\"\"\n",
    "    proper_divisors = []\n",
    "    for i in range(1, n):\n",
    "        if n % i == 0:  # Check if i is a divisor of n\n",
    "            proper_divisors.append(i)  # Add the divisor to the list\n",
    "    return sum(proper_divisors)  # Return the sum of the divisors\n",
    "\n",
    "# Example usage:\n",
    "num = 28\n",
    "print(f\"Sum of proper divisors of {num}: {sum_of_proper_divisors(num)}\")"
   ]
  },
  {
   "cell_type": "markdown",
   "metadata": {
    "id": "mcVzyq8lj1Sr"
   },
   "source": [
    "**Problem 6**\n",
    "\n",
    "A number is called perfect if the sum of proper divisors of that number is equal to the number. For example 28 is perfect number, since 1+2+4+7+14=28. Write a program to print all the perfect numbers in a given range"
   ]
  },
  {
   "cell_type": "code",
   "execution_count": null,
   "metadata": {
    "colab": {
     "base_uri": "https://localhost:8080/"
    },
    "id": "XohTUgaoenmU",
    "outputId": "643a8078-a34e-4c20-f82d-7fbbbc3f2146"
   },
   "outputs": [
    {
     "name": "stdout",
     "output_type": "stream",
     "text": [
      "Perfect numbers between 1 and 10000 are: [6, 28, 496, 8128]\n"
     ]
    }
   ],
   "source": [
    "def sum_of_proper_divisors(n):\n",
    "    divisors_sum = 1  # 1 is a proper divisor of every number\n",
    "    for i in range(2, int(n**0.5) + 1):\n",
    "        if n % i == 0:\n",
    "            divisors_sum += i\n",
    "            if i != n // i:  # Add the quotient if it's different from i\n",
    "                divisors_sum += n // i\n",
    "    return divisors_sum\n",
    "\n",
    "def find_perfect_numbers(start, end):\n",
    "    perfect_numbers = []\n",
    "    for n in range(start, end + 1):\n",
    "        if n > 1 and sum_of_proper_divisors(n) == n:\n",
    "            perfect_numbers.append(n)\n",
    "    return perfect_numbers\n",
    "\n",
    "# Example usage:\n",
    "start_range = 1\n",
    "end_range = 10000\n",
    "perfect_numbers = find_perfect_numbers(start_range, end_range)\n",
    "print(f\"Perfect numbers between {start_range} and {end_range} are: {perfect_numbers}\")"
   ]
  },
  {
   "cell_type": "code",
   "execution_count": 9,
   "metadata": {},
   "outputs": [
    {
     "name": "stdout",
     "output_type": "stream",
     "text": [
      "6 is a perfect number\n",
      "28 is a perfect number\n",
      "496 is a perfect number\n",
      "8128 is a perfect number\n"
     ]
    }
   ],
   "source": [
    "def sum_of_proper_divisors(n):\n",
    "    \"\"\"Return the sum of proper divisors of the given number.\"\"\"\n",
    "    proper_divisors = []\n",
    "    for i in range(1, n):\n",
    "        if n % i == 0:  # Check if i is a divisor of n\n",
    "            proper_divisors.append(i)  # Add the divisor to the list\n",
    "    return sum(proper_divisors)  # Return the sum of the divisors\n",
    "\n",
    "def find_perfect_numbers(start, end):\n",
    "    \"\"\"Find and print all perfect numbers in the given range.\"\"\"\n",
    "    for num in range(start, end + 1):\n",
    "        if sum_of_proper_divisors(num) == num:\n",
    "            print(f\"{num} is a perfect number\")\n",
    "\n",
    "# Example usage:\n",
    "start = 1\n",
    "end = 10000\n",
    "find_perfect_numbers(start, end)"
   ]
  },
  {
   "cell_type": "markdown",
   "metadata": {
    "id": "Wv5N6tzvkMlN"
   },
   "source": [
    "**Problem 7**\n",
    "\n",
    "Write a python function that takes 2 parameters lower and upper (range). Let the function returns pairs of amicable numbers in that range.\n",
    "\n",
    "Two different numbers are called amicable numbers if the sum of the proper divisors of each is equal to the other number. For example 220 and 284 are amicable numbers.\n",
    "\n",
    "For example if we call that function: amicableNumbers(1, 1000)\n",
    "\n",
    "The function must return: **[220, 284]**\n",
    "\n",
    "\n",
    "*Why they are amicable numbers ?*\n",
    "\n",
    "Sum of proper divisors of **220** = 1+2+4+5+10+11+20+22+44+55+110 = **284**\n",
    "\n",
    "Sum of proper divisors of **284** = 1+2+4+71+142 = **220**\n",
    "\n",
    "\n",
    "\n"
   ]
  },
  {
   "cell_type": "code",
   "execution_count": null,
   "metadata": {
    "colab": {
     "base_uri": "https://localhost:8080/"
    },
    "id": "402wOy0fk6o9",
    "outputId": "70e91da4-ee97-4ca9-f54a-9af7225de5f7"
   },
   "outputs": [
    {
     "metadata": {
      "tags": null
     },
     "name": "stdout",
     "output_type": "stream",
     "text": [
      "Amicable numbers between 1 and 1000 are: [(220, 284)]\n"
     ]
    }
   ],
   "source": [
    "def sum_of_proper_divisors(n):\n",
    "  divisors_sum = 1  # 1 is a proper divisor of every number\n",
    "  for i in range(2, int(n**0.5) + 1):\n",
    "    if n % i == 0:\n",
    "      divisors_sum += i\n",
    "      if i != n // i:  # Add the quotient if it's different from i\n",
    "        divisors_sum += n // i\n",
    "  return divisors_sum\n",
    "\n",
    "def amicable_numbers(lower, upper):\n",
    "  amicable_pairs = []\n",
    "  for num1 in range(lower, upper + 1):\n",
    "    sum_divisors_num1 = sum_of_proper_divisors(num1)\n",
    "    num2 = sum_divisors_num1\n",
    "    if num1 < num2 and num2 <= upper and sum_of_proper_divisors(num2) == num1:\n",
    "      amicable_pairs.append((num1, num2))\n",
    "  return amicable_pairs\n",
    "\n",
    "# Example usage:\n",
    "lower_range = 1\n",
    "upper_range = 1000\n",
    "amicable_pairs = amicable_numbers(lower_range, upper_range)\n",
    "print(f\"Amicable numbers between {lower_range} and {upper_range} are: {amicable_pairs}\")\n"
   ]
  },
  {
   "cell_type": "code",
   "execution_count": 10,
   "metadata": {},
   "outputs": [
    {
     "name": "stdout",
     "output_type": "stream",
     "text": [
      "[[220, 284]]\n"
     ]
    }
   ],
   "source": [
    "def sum_of_proper_divisors(n):\n",
    "    \"\"\"Return the sum of proper divisors of the given number.\"\"\"\n",
    "    divisors_sum = 0\n",
    "    for i in range(1, n):\n",
    "        if n % i == 0:\n",
    "            divisors_sum += i\n",
    "    return divisors_sum\n",
    "\n",
    "def amicable_numbers(lower, upper):\n",
    "    \"\"\"Return a list of pairs of amicable numbers in the given range.\"\"\"\n",
    "    amicable_pairs = []\n",
    "    \n",
    "    for num1 in range(lower, upper + 1):\n",
    "        num2 = sum_of_proper_divisors(num1)\n",
    "        # Check if num2 is within the range, and num1 is not equal to num2\n",
    "        if num2 != num1 and sum_of_proper_divisors(num2) == num1:\n",
    "            # Add the pair to the list and avoid duplicates by ensuring num1 < num2\n",
    "            if num1 < num2:\n",
    "                amicable_pairs.append([num1, num2])\n",
    "    \n",
    "    return amicable_pairs\n",
    "\n",
    "# Example usage:\n",
    "lower = 1\n",
    "upper = 1000\n",
    "print(amicable_numbers(lower, upper))"
   ]
  },
  {
   "cell_type": "markdown",
   "metadata": {
    "id": "C0KGpzm73ZjE"
   },
   "source": [
    "**Problem 8**\n",
    "\n",
    "Write a python function that takes variable length parameters and returns maximum and minimum number in the parameter numbers.\n",
    "\n",
    "For example if we call the function: maximumMinimum(10, 20, 30, 40, 50)\n",
    "\n",
    "The function must return: **[10, 50]**"
   ]
  },
  {
   "cell_type": "code",
   "execution_count": null,
   "metadata": {
    "colab": {
     "base_uri": "https://localhost:8080/"
    },
    "id": "ZbarmCjQyLTL",
    "outputId": "b9691716-8ce0-4594-f4b4-a8b332c2dd7b"
   },
   "outputs": [
    {
     "name": "stdout",
     "output_type": "stream",
     "text": [
      "[10, 50]\n"
     ]
    }
   ],
   "source": [
    "def maximum_minimum(*args):\n",
    "    # Check if no arguments are provided\n",
    "    if not args:\n",
    "        return None  # or raise an exception, depending on your requirements\n",
    "\n",
    "    # Calculate the maximum and minimum from the arguments\n",
    "    max_value = max(args)\n",
    "    min_value = min(args)\n",
    "\n",
    "    return [min_value, max_value]\n",
    "\n",
    "# Example usage:\n",
    "result = maximum_minimum(10, 20, 30, 40, 50)\n",
    "print(result)  # Output: [10, 50]"
   ]
  },
  {
   "cell_type": "code",
   "execution_count": 11,
   "metadata": {},
   "outputs": [
    {
     "name": "stdout",
     "output_type": "stream",
     "text": [
      "[10, 50]\n"
     ]
    }
   ],
   "source": [
    "def maximumMinimum(*numbers):\n",
    "    \"\"\"Return the minimum and maximum numbers from the provided arguments.\"\"\"\n",
    "    if numbers:  # Check if numbers is not empty\n",
    "        return [min(numbers), max(numbers)]\n",
    "    else:\n",
    "        return None  # Return None if no numbers are passed\n",
    "\n",
    "# Example usage:\n",
    "result = maximumMinimum(10, 20, 30, 40, 50)\n",
    "print(result)  # Output: [10, 50]"
   ]
  },
  {
   "cell_type": "markdown",
   "metadata": {
    "id": "Fz9twS264CYO"
   },
   "source": [
    "**Problem 9**\n",
    "\n",
    "Write a simple Python function that takes a number(n) as a parameter. Then the function prints out the first n rows of Pascal's triangle. Note : Pascal's triangle is an arithmetic and geometric figure first imagined by Blaise Pascal.\n",
    "\n",
    "\n",
    "\n",
    "![pascaltriangle.png](data:image/png;base64,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)"
   ]
  },
  {
   "cell_type": "code",
   "execution_count": null,
   "metadata": {
    "colab": {
     "base_uri": "https://localhost:8080/"
    },
    "id": "-wbHovdMom2c",
    "outputId": "92972e27-09f6-4ce8-fa95-8ce081540aa5"
   },
   "outputs": [
    {
     "name": "stdout",
     "output_type": "stream",
     "text": [
      "1 \n",
      "1 1 \n",
      "1 2 1 \n",
      "1 3 3 1 \n",
      "1 4 6 4 1 \n"
     ]
    }
   ],
   "source": [
    "# prompt: Write a simple Python function that takes a number(n) as a parameter. Then the function prints out the first n rows of Pascal's triangle. Note : Pascal's triangle is an arithmetic and geometric figure first imagined by Blaise Pascal.\n",
    "\n",
    "def print_pascals_triangle(n):\n",
    "  for line in range(1, n + 1):\n",
    "    C = 1\n",
    "    for i in range(1, line + 1):\n",
    "      print(C, end=\" \")\n",
    "      C = int(C * (line - i) / i)\n",
    "    print(\"\")\n",
    "\n",
    "# Example usage:\n",
    "n = 5\n",
    "print_pascals_triangle(n)\n"
   ]
  },
  {
   "cell_type": "code",
   "execution_count": 12,
   "metadata": {},
   "outputs": [
    {
     "name": "stdin",
     "output_type": "stream",
     "text": [
      "Enter the number of rows for Pascal's Triangle:  5\n"
     ]
    },
    {
     "name": "stdout",
     "output_type": "stream",
     "text": [
      "1\n",
      "1 1\n",
      "1 2 1\n",
      "1 3 3 1\n",
      "1 4 6 4 1\n"
     ]
    }
   ],
   "source": [
    "def print_pascal_triangle(n):\n",
    "    \"\"\"Print first n rows of Pascal's Triangle.\"\"\"\n",
    "    # Start with the first row\n",
    "    triangle = []\n",
    "\n",
    "    for row in range(n):\n",
    "        # Initialize a row with 1's\n",
    "        new_row = [1] * (row + 1)\n",
    "\n",
    "        # Fill the inner elements of the row\n",
    "        for j in range(1, row):\n",
    "            new_row[j] = triangle[row - 1][j - 1] + triangle[row - 1][j]\n",
    "\n",
    "        # Add the new row to the triangle\n",
    "        triangle.append(new_row)\n",
    "\n",
    "    # Print each row\n",
    "    for row in triangle:\n",
    "        print(\" \".join(map(str, row)))\n",
    "\n",
    "# Example usage:\n",
    "n = int(input(\"Enter the number of rows for Pascal's Triangle: \"))\n",
    "print_pascal_triangle(n)"
   ]
  },
  {
   "cell_type": "markdown",
   "metadata": {
    "id": "_9cMELSZopF2"
   },
   "source": [
    "**Problem 10**\n",
    "\n",
    "Write a simple python function that accepts a hyphen-separated sequence of words as parameter and returns the words in a hyphen-separated sequence after sorting them alphabetically.\n",
    "\n",
    "Sample Items : green-red-yellow-black-white\n",
    "\n",
    "Expected Result : black-green-red-white-yellow"
   ]
  },
  {
   "cell_type": "code",
   "execution_count": null,
   "metadata": {
    "colab": {
     "base_uri": "https://localhost:8080/"
    },
    "id": "8YTu76gepE3D",
    "outputId": "a46ab75d-73c4-495e-fba8-183fdb002933"
   },
   "outputs": [
    {
     "name": "stdout",
     "output_type": "stream",
     "text": [
      "black-green-red-white-yellow\n"
     ]
    }
   ],
   "source": [
    "def sort_hyphen_separated_words(words_string):\n",
    "  # Split the input string into a list of words.\n",
    "  words = words_string.split('-')\n",
    "  # Sort the list of words alphabetically\n",
    "  words.sort()\n",
    "  # Join the sorted list of words into a single hyphen-separated string.\n",
    "  sorted_sequence = '-'.join(words)\n",
    "  return sorted_sequence\n",
    "\n",
    "words_string = \"green-red-yellow-black-white\"\n",
    "sorted_string = sort_hyphen_separated_words(words_string)\n",
    "print(sorted_string)\n"
   ]
  },
  {
   "cell_type": "code",
   "execution_count": 13,
   "metadata": {},
   "outputs": [
    {
     "name": "stdin",
     "output_type": "stream",
     "text": [
      "Enter a hyphen-separated sequence of words:  green-red-yellow-black-white\n"
     ]
    },
    {
     "name": "stdout",
     "output_type": "stream",
     "text": [
      "Sorted sequence: black-green-red-white-yellow\n"
     ]
    }
   ],
   "source": [
    "def sort_hyphen_sequence(sequence):\n",
    "    \"\"\"Sort a hyphen-separated sequence of words alphabetically.\"\"\"\n",
    "    # Step 1: Split the sequence into words\n",
    "    words = sequence.split('-')\n",
    "\n",
    "    # Step 2: Sort the list of words\n",
    "    words.sort()\n",
    "\n",
    "    # Step 3: Join the sorted words back with hyphens\n",
    "    return '-'.join(words)\n",
    "\n",
    "# Example usage:\n",
    "sequence = input(\"Enter a hyphen-separated sequence of words: \")\n",
    "sorted_sequence = sort_hyphen_sequence(sequence)\n",
    "print(\"Sorted sequence:\", sorted_sequence)"
   ]
  },
  {
   "cell_type": "markdown",
   "metadata": {
    "id": "Tv5Nit_g92W9"
   },
   "source": [
    "**Problem 11**\n",
    "\n",
    "Flatten a List of Lists\n",
    "Write a Python program to flatten the given list into a single list using list comprehension.\n",
    "\n",
    "Given list:\n",
    "[[1, 2, 3], [4, 5], [6, 7, 8, 9]]\n",
    "\n",
    "Expected result:\n",
    "[1, 2, 3, 4, 5, 6, 7, 8, 9]\n"
   ]
  },
  {
   "cell_type": "code",
   "execution_count": null,
   "metadata": {
    "colab": {
     "base_uri": "https://localhost:8080/"
    },
    "id": "QQr-OpRb-MVy",
    "outputId": "4389af65-84c9-4c1a-c5f1-2a3d2210e954"
   },
   "outputs": [
    {
     "name": "stdout",
     "output_type": "stream",
     "text": [
      "[1, 2, 3, 4, 5, 6, 7, 8, 9]\n"
     ]
    }
   ],
   "source": [
    "# Use a list comprehension to iterate over each sublist in the main list\n",
    "# Iterate over each element within these sublists to collect all elements into a single list.\n",
    "\n",
    "# Given list:\n",
    "list_of_lists = [[1, 2, 3], [4, 5], [6, 7, 8, 9]]\n",
    "\n",
    "# Flatten the list using list comprehension\n",
    "flattened_list = [item for sublist in list_of_lists for item in sublist]\n",
    "\n",
    "# Print the flattened list\n",
    "print(flattened_list)  # Output: [1, 2, 3, 4, 5, 6, 7, 8, 9]\n"
   ]
  },
  {
   "cell_type": "code",
   "execution_count": 14,
   "metadata": {},
   "outputs": [
    {
     "name": "stdout",
     "output_type": "stream",
     "text": [
      "Flattened List: [1, 2, 3, 4, 5, 6, 7, 8, 9]\n"
     ]
    }
   ],
   "source": [
    "# Given list of lists\n",
    "list_of_lists = [[1, 2, 3], [4, 5], [6, 7, 8, 9]]\n",
    "\n",
    "# Using list comprehension to flatten the list\n",
    "flattened_list = [item for sublist in list_of_lists for item in sublist]\n",
    "\n",
    "# Output the flattened list\n",
    "print(\"Flattened List:\", flattened_list)"
   ]
  },
  {
   "cell_type": "markdown",
   "metadata": {
    "id": "x512vHWn-QT1"
   },
   "source": [
    "**Problem 12:**\n",
    "\n",
    "Write a simple python function that accepts a sentence and extract all the vowels from the sentence using list comprehension.\n",
    "\n",
    "Input: \"The quick brown fox jumps over the lazy dog\"\n",
    "\n",
    "Expected Result: ['e', 'u', 'i', 'o', 'o', 'u', 'o', 'e', 'a', 'o']"
   ]
  },
  {
   "cell_type": "code",
   "execution_count": null,
   "metadata": {
    "colab": {
     "base_uri": "https://localhost:8080/"
    },
    "id": "JrydN2-f-vvO",
    "outputId": "9101ebe4-0a14-4e1b-905e-55881f0cd09f"
   },
   "outputs": [
    {
     "name": "stdout",
     "output_type": "stream",
     "text": [
      "['e', 'u', 'i', 'o', 'o', 'u', 'o', 'e', 'e', 'a', 'o']\n"
     ]
    }
   ],
   "source": [
    "def extract_vowels(sentence):\n",
    "  vowels = [char for char in sentence if char.lower() in 'aeiou']\n",
    "  return vowels\n",
    "\n",
    "input_sentence = \"The quick brown fox jumps over the lazy dog\"\n",
    "extracted_vowels = extract_vowels(input_sentence)\n",
    "print(extracted_vowels)  # Output: ['e', 'u', 'i', 'o', 'o', 'u', 'o', 'e', 'a', 'o']\n"
   ]
  },
  {
   "cell_type": "code",
   "execution_count": 15,
   "metadata": {},
   "outputs": [
    {
     "name": "stdout",
     "output_type": "stream",
     "text": [
      "Vowels in the sentence: ['e', 'u', 'i', 'o', 'o', 'u', 'o', 'e', 'e', 'a', 'o']\n"
     ]
    }
   ],
   "source": [
    "def extract_vowels(sentence):\n",
    "    # List comprehension to extract vowels (both uppercase and lowercase)\n",
    "    vowels = [char for char in sentence if char.lower() in 'aeiou']\n",
    "    return vowels\n",
    "\n",
    "# Input sentence\n",
    "sentence = \"The quick brown fox jumps over the lazy dog\"\n",
    "\n",
    "# Extract vowels\n",
    "result = extract_vowels(sentence)\n",
    "\n",
    "# Output the result\n",
    "print(\"Vowels in the sentence:\", result)"
   ]
  },
  {
   "cell_type": "markdown",
   "metadata": {
    "id": "ua7Txnrx-24j"
   },
   "source": [
    "**Problem 13:**\n",
    "\n",
    "Matrix Transposition\n",
    "\n",
    "Write a simple python function that accepts a 3x3 matrix and transpose the matrix using list comprehension.\n",
    "\n",
    "Input:\n",
    "\n",
    "1, 2, 3\n",
    "\n",
    "4, 5, 6\n",
    "\n",
    "7, 8, 9\n",
    "\n",
    "\n",
    "Expected Result:\n",
    "\n",
    "Given matrix: [\n",
    "  [1, 2, 3],\n",
    "  [4, 5, 6],\n",
    "  [7, 8, 9]\n",
    "]\n",
    "\n",
    "Transponsed Matrix: [\n",
    "    [1, 4, 7],\n",
    "    [2, 5, 8],\n",
    "    [3, 6, 9]\n",
    "]"
   ]
  },
  {
   "cell_type": "code",
   "execution_count": null,
   "metadata": {
    "colab": {
     "base_uri": "https://localhost:8080/"
    },
    "id": "C2EqlWj2_H9G",
    "outputId": "f43a6caf-ce89-46ae-ca85-4b980858b74c"
   },
   "outputs": [
    {
     "name": "stdout",
     "output_type": "stream",
     "text": [
      "Given matrix: [[1, 2, 3], [4, 5, 6], [7, 8, 9]]\n",
      "Transponsed Matrix: [[1, 4, 7], [2, 5, 8], [3, 6, 9]]\n"
     ]
    }
   ],
   "source": [
    "def transpose_matrix(matrix):\n",
    "  # Use list comprehension to transpose the matrix\n",
    "  transposed_matrix = [[row[i] for row in matrix] for i in range(len(matrix[0]))]\n",
    "  return transposed_matrix\n",
    "\n",
    "matrix = [[1, 2, 3], [4, 5, 6], [7, 8, 9]]\n",
    "transposed_matrix = transpose_matrix(matrix)\n",
    "\n",
    "print(\"Given matrix:\", matrix)\n",
    "print(\"Transponsed Matrix:\", transposed_matrix)\n"
   ]
  },
  {
   "cell_type": "code",
   "execution_count": 16,
   "metadata": {},
   "outputs": [
    {
     "name": "stdout",
     "output_type": "stream",
     "text": [
      "Given matrix: [[1, 2, 3], [4, 5, 6], [7, 8, 9]]\n",
      "Transposed matrix: [[1, 4, 7], [2, 5, 8], [3, 6, 9]]\n"
     ]
    }
   ],
   "source": [
    "def transpose_matrix(matrix):\n",
    "    # Transpose the matrix using list comprehension\n",
    "    transposed = [[matrix[j][i] for j in range(len(matrix))] for i in range(len(matrix[0]))]\n",
    "    return transposed\n",
    "\n",
    "# Input matrix\n",
    "matrix = [\n",
    "    [1, 2, 3],\n",
    "    [4, 5, 6],\n",
    "    [7, 8, 9]\n",
    "]\n",
    "\n",
    "# Transpose the matrix\n",
    "transposed_matrix = transpose_matrix(matrix)\n",
    "\n",
    "# Output the result\n",
    "print(\"Given matrix:\", matrix)\n",
    "print(\"Transposed matrix:\", transposed_matrix)"
   ]
  },
  {
   "cell_type": "markdown",
   "metadata": {
    "id": "gaarl3ez_SFf"
   },
   "source": [
    "**Problem 14:**\n",
    "\n",
    "Find Maximum Number\n",
    "\n",
    "Write a simple python function that accepts list of numbers and find the maximum number in a list using the reduce function.\n",
    "\n",
    "Input:\n",
    "3, 5, 2, 8, 1\n",
    "\n",
    "Expected Result: 8\n"
   ]
  },
  {
   "cell_type": "code",
   "execution_count": null,
   "metadata": {
    "colab": {
     "base_uri": "https://localhost:8080/"
    },
    "id": "8fDi5aSDA8BR",
    "outputId": "40d75669-07fa-4ba1-903f-dd668c410523"
   },
   "outputs": [
    {
     "name": "stdout",
     "output_type": "stream",
     "text": [
      "The maximum numbers in list is:  8\n"
     ]
    }
   ],
   "source": [
    "from functools import reduce\n",
    "\n",
    "def find_max(numbers):\n",
    "  # Use reduce to apply the max_func to the list of numbers\n",
    "  return reduce(lambda x, y: x if x > y else y, numbers)\n",
    "\n",
    "numbers = [3, 5, 2, 8, 1]\n",
    "max_number = find_max(numbers)\n",
    "print(\"The maximum numbers in list is: \", max_number)  # Output: 8\n"
   ]
  },
  {
   "cell_type": "code",
   "execution_count": 17,
   "metadata": {},
   "outputs": [
    {
     "name": "stdout",
     "output_type": "stream",
     "text": [
      "Maximum number: 8\n"
     ]
    }
   ],
   "source": [
    "from functools import reduce\n",
    "\n",
    "def find_maximum(numbers):\n",
    "    # Use reduce to find the maximum number in the list\n",
    "    return reduce(lambda x, y: x if x > y else y, numbers)\n",
    "\n",
    "# Input list of numbers\n",
    "numbers = [3, 5, 2, 8, 1]\n",
    "\n",
    "# Find the maximum number\n",
    "max_number = find_maximum(numbers)\n",
    "\n",
    "# Output the result\n",
    "print(\"Maximum number:\", max_number)"
   ]
  },
  {
   "cell_type": "markdown",
   "metadata": {
    "id": "VpAT6kWWA_tz"
   },
   "source": [
    "**Problem 15:**\n",
    "\n",
    "Filter Names Starting with a Specific Letter\n",
    "\n",
    "Write a simple python function that accepts list of names and filter out all names that start with the letter 'A' using the filter function.\n",
    "\n",
    "Input: \"Alice\", \"Bob\", \"Anna\", \"Charlie\", \"Annie\"\n",
    "\n",
    "Expected: 'Alice', 'Anna', 'Annie'"
   ]
  },
  {
   "cell_type": "code",
   "execution_count": null,
   "metadata": {
    "colab": {
     "base_uri": "https://localhost:8080/"
    },
    "id": "KvszZI7lBdrV",
    "outputId": "36444dec-5d9c-4a0c-c1a9-e7f5b7045a04"
   },
   "outputs": [
    {
     "name": "stdout",
     "output_type": "stream",
     "text": [
      "['Alice', 'Anna', 'Annie']\n"
     ]
    }
   ],
   "source": [
    "def filter_names_starting_with_A(names):\n",
    "  # Define a function that returns True if a name starts with 'A'\n",
    "  # Use filter to apply the names_starting_with_A function to the list of names\n",
    "  filtered_names = list(filter(lambda name: name.startswith('A'), names))\n",
    "  return filtered_names\n",
    "\n",
    "names = [\"Alice\", \"Bob\", \"Anna\", \"Charlie\", \"Annie\"]\n",
    "filtered_names = filter_names_starting_with_A(names)\n",
    "print(filtered_names)  # Output: ['Alice', 'Anna', 'Annie']\n"
   ]
  },
  {
   "cell_type": "code",
   "execution_count": 18,
   "metadata": {},
   "outputs": [
    {
     "name": "stdout",
     "output_type": "stream",
     "text": [
      "Names starting with 'A': ['Alice', 'Anna', 'Annie']\n"
     ]
    }
   ],
   "source": [
    "def filter_names(names):\n",
    "    # Use filter to get names starting with 'A'\n",
    "    return list(filter(lambda name: name.startswith('A'), names))\n",
    "\n",
    "# Input list of names\n",
    "names = [\"Alice\", \"Bob\", \"Anna\", \"Charlie\", \"Annie\"]\n",
    "\n",
    "# Filter names starting with 'A'\n",
    "filtered_names = filter_names(names)\n",
    "\n",
    "# Output the result\n",
    "print(\"Names starting with 'A':\", filtered_names)"
   ]
  },
  {
   "cell_type": "markdown",
   "metadata": {
    "id": "MLQ3NjuCBgfn"
   },
   "source": [
    "**Problem 16:**\n",
    "\n",
    "Square and Filter Odd Numbers\n",
    "\n",
    "Write a Python program that accepts list of numbers and create a list of squares of odd numbers from a given list of integers using map and filter functions.\n",
    "\n",
    "Input: 1, 2, 3, 4, 5, 6, 7, 8, 9, 10\n",
    "\n",
    "Expected Result: 1, 9, 25, 49, 81"
   ]
  },
  {
   "cell_type": "code",
   "execution_count": null,
   "metadata": {
    "colab": {
     "base_uri": "https://localhost:8080/"
    },
    "id": "ISeMQl-OCHrC",
    "outputId": "1b83d3fe-314d-4171-bf5f-29f428f3c8f2"
   },
   "outputs": [
    {
     "name": "stdout",
     "output_type": "stream",
     "text": [
      "[1, 9, 25, 49, 81]\n"
     ]
    }
   ],
   "source": [
    "# Input: 1, 2, 3, 4, 5, 6, 7, 8, 9, 10\n",
    "numbers = [1, 2, 3, 4, 5, 6, 7, 8, 9, 10]\n",
    "\n",
    "# Expected Result: 1, 9, 25, 49, 81\n",
    "# Filter odd numbers\n",
    "odd_numbers = list(filter(lambda x: x % 2 != 0, numbers))\n",
    "\n",
    "# Square the odd numbers\n",
    "squares_of_odd_numbers = list(map(lambda x: x ** 2, odd_numbers))\n",
    "\n",
    "# Print the result\n",
    "print(squares_of_odd_numbers)  # Output: [1, 9, 25, 49, 81]\n"
   ]
  },
  {
   "cell_type": "code",
   "execution_count": 19,
   "metadata": {},
   "outputs": [
    {
     "name": "stdout",
     "output_type": "stream",
     "text": [
      "Squares of odd numbers: [1, 9, 25, 49, 81]\n"
     ]
    }
   ],
   "source": [
    "def square_odd_numbers(numbers):\n",
    "    # Filter odd numbers from the list\n",
    "    odd_numbers = filter(lambda x: x % 2 != 0, numbers)\n",
    "    \n",
    "    # Square the filtered odd numbers\n",
    "    squares_of_odd_numbers = list(map(lambda x: x**2, odd_numbers))\n",
    "    \n",
    "    return squares_of_odd_numbers\n",
    "\n",
    "# Input list of numbers\n",
    "numbers = [1, 2, 3, 4, 5, 6, 7, 8, 9, 10]\n",
    "\n",
    "# Get the squares of odd numbers\n",
    "result = square_odd_numbers(numbers)\n",
    "\n",
    "# Output the result\n",
    "print(\"Squares of odd numbers:\", result)"
   ]
  },
  {
   "cell_type": "markdown",
   "metadata": {
    "id": "0efIH4hlCIST"
   },
   "source": [
    "**Problem 17:**\n",
    "\n",
    "Fibonacci Sequence\n",
    "\n",
    "Write a recursive Python function to find the n-th Fibonacci number. The Fibonacci sequence is defined as:\n",
    "\n",
    "1. F(0) = 0\n",
    "2. F(1) = 1\n",
    "3. F(n) = F(n-1) + F(n-2) for n > 1"
   ]
  },
  {
   "cell_type": "code",
   "execution_count": null,
   "metadata": {
    "colab": {
     "base_uri": "https://localhost:8080/"
    },
    "id": "Lifz9THJCgXq",
    "outputId": "ab616985-b829-4931-afc6-89801024ad6b"
   },
   "outputs": [
    {
     "name": "stdout",
     "output_type": "stream",
     "text": [
      "The 10-th Fibonacci number is: 55\n"
     ]
    }
   ],
   "source": [
    "def fibonacci(n):\n",
    "  if n <= 0:\n",
    "    return 0\n",
    "  elif n == 1:\n",
    "    return 1\n",
    "  else:\n",
    "    return fibonacci(n - 1) + fibonacci(n - 2)\n",
    "\n",
    "# Example usage:\n",
    "n = 10\n",
    "result = fibonacci(n)\n",
    "print(f\"The {n}-th Fibonacci number is: {result}\")\n"
   ]
  },
  {
   "cell_type": "code",
   "execution_count": 20,
   "metadata": {},
   "outputs": [
    {
     "name": "stdin",
     "output_type": "stream",
     "text": [
      "Enter the value of n:  6\n"
     ]
    },
    {
     "name": "stdout",
     "output_type": "stream",
     "text": [
      "The 6-th Fibonacci number is: 8\n"
     ]
    }
   ],
   "source": [
    "def fibonacci(n):\n",
    "    # Base case: F(0) = 0 and F(1) = 1\n",
    "    if n == 0:\n",
    "        return 0\n",
    "    elif n == 1:\n",
    "        return 1\n",
    "    # Recursive case: F(n) = F(n-1) + F(n-2)\n",
    "    else:\n",
    "        return fibonacci(n - 1) + fibonacci(n - 2)\n",
    "\n",
    "# Test the function with an example\n",
    "n = int(input(\"Enter the value of n: \"))\n",
    "result = fibonacci(n)\n",
    "\n",
    "print(f\"The {n}-th Fibonacci number is: {result}\")"
   ]
  },
  {
   "cell_type": "markdown",
   "metadata": {
    "id": "YGpZ6-koChFa"
   },
   "source": [
    "**Problem 18:**\n",
    "\n",
    "Write a recursive Python function to check if a given string is a palindrome (reads the same forwards and backwards).\n",
    "\n",
    "Input: \"radar\"\n",
    "\n",
    "Expected Result: True"
   ]
  },
  {
   "cell_type": "code",
   "execution_count": null,
   "metadata": {
    "colab": {
     "base_uri": "https://localhost:8080/"
    },
    "id": "kHsueLDQwEod",
    "outputId": "688aae5b-0e54-4823-e13c-771d339d9c2c"
   },
   "outputs": [
    {
     "metadata": {
      "tags": null
     },
     "name": "stdout",
     "output_type": "stream",
     "text": [
      "The string 'radar' is a palindrome: True\n"
     ]
    }
   ],
   "source": [
    "def is_palindrome(s):\n",
    "    # Base cases\n",
    "    if len(s) <= 1:\n",
    "        return True\n",
    "    if s[0] != s[-1]:\n",
    "        return False\n",
    "\n",
    "    # Recursive case\n",
    "    return is_palindrome(s[1:-1])\n",
    "\n",
    "# Example usage:\n",
    "input_string = \"radar\"\n",
    "result = is_palindrome(input_string)\n",
    "print(f\"The string '{input_string}' is a palindrome: {result}\")"
   ]
  },
  {
   "cell_type": "code",
   "execution_count": 21,
   "metadata": {},
   "outputs": [
    {
     "name": "stdin",
     "output_type": "stream",
     "text": [
      "Enter a string:  radar\n"
     ]
    },
    {
     "name": "stdout",
     "output_type": "stream",
     "text": [
      "Is the string 'radar' a palindrome? True\n"
     ]
    }
   ],
   "source": [
    "def is_palindrome(s):\n",
    "    # Base case: If the string has 0 or 1 character, it is a palindrome\n",
    "    if len(s) <= 1:\n",
    "        return True\n",
    "    # Check if the first and last characters are the same\n",
    "    if s[0] != s[-1]:\n",
    "        return False\n",
    "    # Recursively check the substring excluding the first and last characters\n",
    "    return is_palindrome(s[1:-1])\n",
    "\n",
    "# Test the function with an example\n",
    "input_string = input(\"Enter a string: \")\n",
    "result = is_palindrome(input_string)\n",
    "\n",
    "print(f\"Is the string '{input_string}' a palindrome? {result}\")"
   ]
  },
  {
   "cell_type": "markdown",
   "metadata": {
    "id": "M6EWsElNCyeq"
   },
   "source": [
    "**Problem 19:**\n",
    "\n",
    "Compose Functions\n",
    "\n",
    "Write a Python function *def compose (f, g)* that takes any two functions f and g as parameter, and returns a *new function h* such that h(x) = f(g(x)).\n",
    "\n",
    "Note: The function f and g are taking single parameter."
   ]
  },
  {
   "cell_type": "code",
   "execution_count": null,
   "metadata": {
    "colab": {
     "base_uri": "https://localhost:8080/"
    },
    "id": "3d977CO8xH6U",
    "outputId": "0e36aeb9-aa1b-41af-9ceb-971877d5705b"
   },
   "outputs": [
    {
     "name": "stdout",
     "output_type": "stream",
     "text": [
      "composed_function(6) = 49\n"
     ]
    }
   ],
   "source": [
    "def compose(f, g):\n",
    "    # Return a new function h that represents the composition of f and g\n",
    "    return lambda x: f(g(x))\n",
    "\n",
    "# Example functions\n",
    "def add_one(x):\n",
    "    return x + 1\n",
    "\n",
    "def square(x):\n",
    "    return x * x\n",
    "\n",
    "# Example usage:\n",
    "composed_function = compose(square, add_one)\n",
    "\n",
    "# Test the composed function\n",
    "input_value = 6\n",
    "result = composed_function(input_value)\n",
    "print(f\"composed_function({input_value}) = {result}\")"
   ]
  },
  {
   "cell_type": "code",
   "execution_count": 22,
   "metadata": {},
   "outputs": [
    {
     "name": "stdout",
     "output_type": "stream",
     "text": [
      "h(5) = 13\n"
     ]
    }
   ],
   "source": [
    "def compose(f, g):\n",
    "    # Return a new function h that applies f to the result of g(x)\n",
    "    def h(x):\n",
    "        return f(g(x))\n",
    "    return h\n",
    "\n",
    "# Example usage:\n",
    "\n",
    "# Define two simple functions f and g\n",
    "def f(x):\n",
    "    return x + 3\n",
    "\n",
    "def g(x):\n",
    "    return x * 2\n",
    "\n",
    "# Compose the functions\n",
    "h = compose(f, g)\n",
    "\n",
    "# Test the composed function with an input\n",
    "input_value = 5\n",
    "result = h(input_value)\n",
    "\n",
    "print(f\"h({input_value}) = {result}\")"
   ]
  },
  {
   "cell_type": "markdown",
   "metadata": {
    "id": "D1jlYGKPDvBb"
   },
   "source": [
    "##### **Problem 20**\n",
    "\n",
    "Implement a decorator called count_calls that keeps track of how many times a function has been called.\n",
    "\n",
    "*Decorator function*\n",
    "\n",
    "def count_calls(func):<br/>\n",
    "&nbsp;&nbsp;&nbsp;&nbsp;Your code here\n",
    "\n",
    "*Function with decorator*\n",
    "\n",
    "@count_calls<br/>\n",
    "def greet(name):<br/>\n",
    "&nbsp;&nbsp;&nbsp;&nbsp;print(f\"Hello, {name}!\")\n",
    "\n",
    "greet(\"Alice\")\n",
    "greet(\"Bob\")\n",
    "\n",
    "Expected Output:\n",
    "\n",
    "Function 'greet' was called 2 times."
   ]
  },
  {
   "cell_type": "code",
   "execution_count": null,
   "metadata": {
    "colab": {
     "base_uri": "https://localhost:8080/"
    },
    "id": "6xrgmwpQx11Z",
    "outputId": "d3ea92f9-0f5c-4964-9ed8-172f47a8f713"
   },
   "outputs": [
    {
     "name": "stdout",
     "output_type": "stream",
     "text": [
      "say_hello has been called 1 times\n",
      "Hello, Alice!\n",
      "say_hello has been called 2 times\n",
      "Hello, Bob!\n",
      "add has been called 1 times\n",
      "8\n",
      "add has been called 2 times\n",
      "17\n"
     ]
    }
   ],
   "source": [
    "def count_calls(func):\n",
    "    # Dictionary to keep track of the number of calls for each function\n",
    "    call_count = {}\n",
    "\n",
    "    def wrapper(*args, **kwargs):\n",
    "        # Increment the counter for the function\n",
    "        if func not in call_count:\n",
    "            call_count[func] = 0\n",
    "        call_count[func] += 1\n",
    "\n",
    "        # Print the number of times the function has been called\n",
    "        print(f\"{func.__name__} has been called {call_count[func]} times\")\n",
    "\n",
    "        # Call the original function and return its result\n",
    "        return func(*args, **kwargs)\n",
    "\n",
    "    return wrapper\n",
    "\n",
    "@count_calls\n",
    "def say_hello(name):\n",
    "    return f\"Hello, {name}!\"\n",
    "\n",
    "@count_calls\n",
    "def add(x, y):\n",
    "    return x + y\n",
    "\n",
    "# Test the decorator\n",
    "print(say_hello(\"Alice\"))\n",
    "print(say_hello(\"Bob\"))\n",
    "print(add(5, 3))\n",
    "print(add(10, 7))\n"
   ]
  },
  {
   "cell_type": "code",
   "execution_count": 23,
   "metadata": {},
   "outputs": [
    {
     "name": "stdout",
     "output_type": "stream",
     "text": [
      "Hello, Alice!\n",
      "Hello, Bob!\n",
      "Function 'greet' was called 2 times.\n"
     ]
    }
   ],
   "source": [
    "# Define the count_calls decorator\n",
    "def count_calls(func):\n",
    "    # Initialize the call count as 0\n",
    "    def wrapper(*args, **kwargs):\n",
    "        wrapper.call_count += 1  # Increment the call count each time the function is called\n",
    "        return func(*args, **kwargs)  # Call the original function\n",
    "\n",
    "    wrapper.call_count = 0  # Initialize the call count attribute\n",
    "    return wrapper  # Return the wrapper function\n",
    "\n",
    "# Apply the decorator to a function\n",
    "@count_calls\n",
    "def greet(name):\n",
    "    print(f\"Hello, {name}!\")\n",
    "\n",
    "# Call the function multiple times\n",
    "greet(\"Alice\")\n",
    "greet(\"Bob\")\n",
    "\n",
    "# After calling the function, print the number of calls\n",
    "print(f\"Function 'greet' was called {greet.call_count} times.\")"
   ]
  }
 ],
 "metadata": {
  "colab": {
   "provenance": []
  },
  "kernelspec": {
   "display_name": "Python 3 (ipykernel)",
   "language": "python",
   "name": "python3"
  },
  "language_info": {
   "codemirror_mode": {
    "name": "ipython",
    "version": 3
   },
   "file_extension": ".py",
   "mimetype": "text/x-python",
   "name": "python",
   "nbconvert_exporter": "python",
   "pygments_lexer": "ipython3",
   "version": "3.13.0"
  }
 },
 "nbformat": 4,
 "nbformat_minor": 4
}
