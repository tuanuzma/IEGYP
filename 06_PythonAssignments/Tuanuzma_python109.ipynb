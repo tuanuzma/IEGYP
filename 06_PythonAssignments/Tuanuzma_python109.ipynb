{
 "cells": [
  {
   "cell_type": "markdown",
   "metadata": {
    "id": "oo1OH-9j9hj-"
   },
   "source": [
    "Import the necessary libraries"
   ]
  },
  {
   "cell_type": "code",
   "execution_count": null,
   "metadata": {
    "id": "zlSKMV0v9aI_"
   },
   "outputs": [],
   "source": [
    "import numpy as np\n",
    "import pandas as pd\n",
    "import matplotlib.pyplot as plt\n",
    "import seaborn as sns\n",
    "\n",
    "from google.colab import files"
   ]
  },
  {
   "cell_type": "markdown",
   "metadata": {
    "id": "1u-4-kH-9t52"
   },
   "source": [
    "Download the data from the following URL\n",
    "\n",
    "https://drive.google.com/file/d/1yqoGqDRvv5xbfgkJKmp5nmquKYrdaLfl/view?usp=sharing\n",
    "\n",
    "Read and assign it to a variable called chipo."
   ]
  },
  {
   "cell_type": "code",
   "execution_count": null,
   "metadata": {
    "colab": {
     "base_uri": "https://localhost:8080/",
     "height": 556
    },
    "id": "6RAKVoXTw0NZ",
    "outputId": "bf9fb96a-4215-42e0-f190-9c92cbfc9203"
   },
   "outputs": [
    {
     "data": {
      "text/html": [
       "\n",
       "     <input type=\"file\" id=\"files-210168e5-3b64-4017-9720-31f7dad6ee6e\" name=\"files[]\" multiple disabled\n",
       "        style=\"border:none\" />\n",
       "     <output id=\"result-210168e5-3b64-4017-9720-31f7dad6ee6e\">\n",
       "      Upload widget is only available when the cell has been executed in the\n",
       "      current browser session. Please rerun this cell to enable.\n",
       "      </output>\n",
       "      <script>// Copyright 2017 Google LLC\n",
       "//\n",
       "// Licensed under the Apache License, Version 2.0 (the \"License\");\n",
       "// you may not use this file except in compliance with the License.\n",
       "// You may obtain a copy of the License at\n",
       "//\n",
       "//      http://www.apache.org/licenses/LICENSE-2.0\n",
       "//\n",
       "// Unless required by applicable law or agreed to in writing, software\n",
       "// distributed under the License is distributed on an \"AS IS\" BASIS,\n",
       "// WITHOUT WARRANTIES OR CONDITIONS OF ANY KIND, either express or implied.\n",
       "// See the License for the specific language governing permissions and\n",
       "// limitations under the License.\n",
       "\n",
       "/**\n",
       " * @fileoverview Helpers for google.colab Python module.\n",
       " */\n",
       "(function(scope) {\n",
       "function span(text, styleAttributes = {}) {\n",
       "  const element = document.createElement('span');\n",
       "  element.textContent = text;\n",
       "  for (const key of Object.keys(styleAttributes)) {\n",
       "    element.style[key] = styleAttributes[key];\n",
       "  }\n",
       "  return element;\n",
       "}\n",
       "\n",
       "// Max number of bytes which will be uploaded at a time.\n",
       "const MAX_PAYLOAD_SIZE = 100 * 1024;\n",
       "\n",
       "function _uploadFiles(inputId, outputId) {\n",
       "  const steps = uploadFilesStep(inputId, outputId);\n",
       "  const outputElement = document.getElementById(outputId);\n",
       "  // Cache steps on the outputElement to make it available for the next call\n",
       "  // to uploadFilesContinue from Python.\n",
       "  outputElement.steps = steps;\n",
       "\n",
       "  return _uploadFilesContinue(outputId);\n",
       "}\n",
       "\n",
       "// This is roughly an async generator (not supported in the browser yet),\n",
       "// where there are multiple asynchronous steps and the Python side is going\n",
       "// to poll for completion of each step.\n",
       "// This uses a Promise to block the python side on completion of each step,\n",
       "// then passes the result of the previous step as the input to the next step.\n",
       "function _uploadFilesContinue(outputId) {\n",
       "  const outputElement = document.getElementById(outputId);\n",
       "  const steps = outputElement.steps;\n",
       "\n",
       "  const next = steps.next(outputElement.lastPromiseValue);\n",
       "  return Promise.resolve(next.value.promise).then((value) => {\n",
       "    // Cache the last promise value to make it available to the next\n",
       "    // step of the generator.\n",
       "    outputElement.lastPromiseValue = value;\n",
       "    return next.value.response;\n",
       "  });\n",
       "}\n",
       "\n",
       "/**\n",
       " * Generator function which is called between each async step of the upload\n",
       " * process.\n",
       " * @param {string} inputId Element ID of the input file picker element.\n",
       " * @param {string} outputId Element ID of the output display.\n",
       " * @return {!Iterable<!Object>} Iterable of next steps.\n",
       " */\n",
       "function* uploadFilesStep(inputId, outputId) {\n",
       "  const inputElement = document.getElementById(inputId);\n",
       "  inputElement.disabled = false;\n",
       "\n",
       "  const outputElement = document.getElementById(outputId);\n",
       "  outputElement.innerHTML = '';\n",
       "\n",
       "  const pickedPromise = new Promise((resolve) => {\n",
       "    inputElement.addEventListener('change', (e) => {\n",
       "      resolve(e.target.files);\n",
       "    });\n",
       "  });\n",
       "\n",
       "  const cancel = document.createElement('button');\n",
       "  inputElement.parentElement.appendChild(cancel);\n",
       "  cancel.textContent = 'Cancel upload';\n",
       "  const cancelPromise = new Promise((resolve) => {\n",
       "    cancel.onclick = () => {\n",
       "      resolve(null);\n",
       "    };\n",
       "  });\n",
       "\n",
       "  // Wait for the user to pick the files.\n",
       "  const files = yield {\n",
       "    promise: Promise.race([pickedPromise, cancelPromise]),\n",
       "    response: {\n",
       "      action: 'starting',\n",
       "    }\n",
       "  };\n",
       "\n",
       "  cancel.remove();\n",
       "\n",
       "  // Disable the input element since further picks are not allowed.\n",
       "  inputElement.disabled = true;\n",
       "\n",
       "  if (!files) {\n",
       "    return {\n",
       "      response: {\n",
       "        action: 'complete',\n",
       "      }\n",
       "    };\n",
       "  }\n",
       "\n",
       "  for (const file of files) {\n",
       "    const li = document.createElement('li');\n",
       "    li.append(span(file.name, {fontWeight: 'bold'}));\n",
       "    li.append(span(\n",
       "        `(${file.type || 'n/a'}) - ${file.size} bytes, ` +\n",
       "        `last modified: ${\n",
       "            file.lastModifiedDate ? file.lastModifiedDate.toLocaleDateString() :\n",
       "                                    'n/a'} - `));\n",
       "    const percent = span('0% done');\n",
       "    li.appendChild(percent);\n",
       "\n",
       "    outputElement.appendChild(li);\n",
       "\n",
       "    const fileDataPromise = new Promise((resolve) => {\n",
       "      const reader = new FileReader();\n",
       "      reader.onload = (e) => {\n",
       "        resolve(e.target.result);\n",
       "      };\n",
       "      reader.readAsArrayBuffer(file);\n",
       "    });\n",
       "    // Wait for the data to be ready.\n",
       "    let fileData = yield {\n",
       "      promise: fileDataPromise,\n",
       "      response: {\n",
       "        action: 'continue',\n",
       "      }\n",
       "    };\n",
       "\n",
       "    // Use a chunked sending to avoid message size limits. See b/62115660.\n",
       "    let position = 0;\n",
       "    do {\n",
       "      const length = Math.min(fileData.byteLength - position, MAX_PAYLOAD_SIZE);\n",
       "      const chunk = new Uint8Array(fileData, position, length);\n",
       "      position += length;\n",
       "\n",
       "      const base64 = btoa(String.fromCharCode.apply(null, chunk));\n",
       "      yield {\n",
       "        response: {\n",
       "          action: 'append',\n",
       "          file: file.name,\n",
       "          data: base64,\n",
       "        },\n",
       "      };\n",
       "\n",
       "      let percentDone = fileData.byteLength === 0 ?\n",
       "          100 :\n",
       "          Math.round((position / fileData.byteLength) * 100);\n",
       "      percent.textContent = `${percentDone}% done`;\n",
       "\n",
       "    } while (position < fileData.byteLength);\n",
       "  }\n",
       "\n",
       "  // All done.\n",
       "  yield {\n",
       "    response: {\n",
       "      action: 'complete',\n",
       "    }\n",
       "  };\n",
       "}\n",
       "\n",
       "scope.google = scope.google || {};\n",
       "scope.google.colab = scope.google.colab || {};\n",
       "scope.google.colab._files = {\n",
       "  _uploadFiles,\n",
       "  _uploadFilesContinue,\n",
       "};\n",
       "})(self);\n",
       "</script> "
      ],
      "text/plain": [
       "<IPython.core.display.HTML object>"
      ]
     },
     "metadata": {},
     "output_type": "display_data"
    },
    {
     "name": "stdout",
     "output_type": "stream",
     "text": [
      "Saving chipotle.tsv to chipotle (6).tsv\n",
      "      order_id  quantity                              item_name  \\\n",
      "0            1         1           Chips and Fresh Tomato Salsa   \n",
      "1            1         1                                   Izze   \n",
      "2            1         1                       Nantucket Nectar   \n",
      "3            1         1  Chips and Tomatillo-Green Chili Salsa   \n",
      "4            2         2                           Chicken Bowl   \n",
      "...        ...       ...                                    ...   \n",
      "4617      1833         1                          Steak Burrito   \n",
      "4618      1833         1                          Steak Burrito   \n",
      "4619      1834         1                     Chicken Salad Bowl   \n",
      "4620      1834         1                     Chicken Salad Bowl   \n",
      "4621      1834         1                     Chicken Salad Bowl   \n",
      "\n",
      "                                     choice_description item_price  \n",
      "0                                                   NaN     $2.39   \n",
      "1                                          [Clementine]     $3.39   \n",
      "2                                               [Apple]     $3.39   \n",
      "3                                                   NaN     $2.39   \n",
      "4     [Tomatillo-Red Chili Salsa (Hot), [Black Beans...    $16.98   \n",
      "...                                                 ...        ...  \n",
      "4617  [Fresh Tomato Salsa, [Rice, Black Beans, Sour ...    $11.75   \n",
      "4618  [Fresh Tomato Salsa, [Rice, Sour Cream, Cheese...    $11.75   \n",
      "4619  [Fresh Tomato Salsa, [Fajita Vegetables, Pinto...    $11.25   \n",
      "4620  [Fresh Tomato Salsa, [Fajita Vegetables, Lettu...     $8.75   \n",
      "4621  [Fresh Tomato Salsa, [Fajita Vegetables, Pinto...     $8.75   \n",
      "\n",
      "[4622 rows x 5 columns]\n"
     ]
    }
   ],
   "source": [
    "uploaded = files.upload()\n",
    "chipo = pd.read_csv('chipotle.tsv', sep='\\t')\n",
    "print(chipo)"
   ]
  },
  {
   "cell_type": "markdown",
   "metadata": {
    "id": "V4tRXHxf-IeK"
   },
   "source": [
    "See the first 10 entries"
   ]
  },
  {
   "cell_type": "code",
   "execution_count": null,
   "metadata": {
    "colab": {
     "base_uri": "https://localhost:8080/"
    },
    "id": "rfwFWQtZuCkq",
    "outputId": "c4eabbc8-b655-4697-e2bc-746a023092a5"
   },
   "outputs": [
    {
     "name": "stdout",
     "output_type": "stream",
     "text": [
      "   order_id  quantity                              item_name  \\\n",
      "0         1         1           Chips and Fresh Tomato Salsa   \n",
      "1         1         1                                   Izze   \n",
      "2         1         1                       Nantucket Nectar   \n",
      "3         1         1  Chips and Tomatillo-Green Chili Salsa   \n",
      "4         2         2                           Chicken Bowl   \n",
      "5         3         1                           Chicken Bowl   \n",
      "6         3         1                          Side of Chips   \n",
      "7         4         1                          Steak Burrito   \n",
      "8         4         1                       Steak Soft Tacos   \n",
      "9         5         1                          Steak Burrito   \n",
      "\n",
      "                                  choice_description item_price  \n",
      "0                                                NaN     $2.39   \n",
      "1                                       [Clementine]     $3.39   \n",
      "2                                            [Apple]     $3.39   \n",
      "3                                                NaN     $2.39   \n",
      "4  [Tomatillo-Red Chili Salsa (Hot), [Black Beans...    $16.98   \n",
      "5  [Fresh Tomato Salsa (Mild), [Rice, Cheese, Sou...    $10.98   \n",
      "6                                                NaN     $1.69   \n",
      "7  [Tomatillo Red Chili Salsa, [Fajita Vegetables...    $11.75   \n",
      "8  [Tomatillo Green Chili Salsa, [Pinto Beans, Ch...     $9.25   \n",
      "9  [Fresh Tomato Salsa, [Rice, Black Beans, Pinto...     $9.25   \n"
     ]
    }
   ],
   "source": [
    "print(chipo.head(10))"
   ]
  },
  {
   "cell_type": "markdown",
   "metadata": {
    "id": "DaonO3GZ-JzN"
   },
   "source": [
    "What is the number of observations in the dataset ?\n",
    "\n",
    "Answer: 4622"
   ]
  },
  {
   "cell_type": "code",
   "execution_count": null,
   "metadata": {
    "colab": {
     "base_uri": "https://localhost:8080/"
    },
    "id": "p8T2FeetwAdT",
    "outputId": "3e4c05f2-cb10-4ed6-c64e-49fdcf289f9f"
   },
   "outputs": [
    {
     "data": {
      "text/plain": [
       "4622"
      ]
     },
     "execution_count": 100,
     "metadata": {},
     "output_type": "execute_result"
    }
   ],
   "source": [
    "# Get the number of rows (observations) in the dataset\n",
    "num_observations = chipo.shape[0]\n",
    "num_observations"
   ]
  },
  {
   "cell_type": "markdown",
   "metadata": {
    "id": "TMjgQNg_-O98"
   },
   "source": [
    "What is the number of columns in the dataset ?\n",
    "\n",
    "Answer: 5"
   ]
  },
  {
   "cell_type": "code",
   "execution_count": null,
   "metadata": {
    "colab": {
     "base_uri": "https://localhost:8080/"
    },
    "id": "uIF02JLk-RNq",
    "outputId": "7d1a95ba-6095-44af-8313-9f061ae355eb"
   },
   "outputs": [
    {
     "data": {
      "text/plain": [
       "5"
      ]
     },
     "execution_count": 101,
     "metadata": {},
     "output_type": "execute_result"
    }
   ],
   "source": [
    "# Get the number of columns in the dataset\n",
    "num_columns = chipo.shape[1]\n",
    "num_columns"
   ]
  },
  {
   "cell_type": "markdown",
   "metadata": {
    "id": "drzVytQ4-Ta7"
   },
   "source": [
    "Print the name of all the columns."
   ]
  },
  {
   "cell_type": "code",
   "execution_count": null,
   "metadata": {
    "colab": {
     "base_uri": "https://localhost:8080/"
    },
    "id": "ocs5akEx-UBo",
    "outputId": "8aff0ea3-340b-40ab-c012-5aa1f06d37d8"
   },
   "outputs": [
    {
     "data": {
      "text/plain": [
       "Index(['order_id', 'quantity', 'item_name', 'choice_description',\n",
       "       'item_price'],\n",
       "      dtype='object')"
      ]
     },
     "execution_count": 102,
     "metadata": {},
     "output_type": "execute_result"
    }
   ],
   "source": [
    "# Print the names of all the columns in the dataset\n",
    "column_names = chipo.columns\n",
    "column_names"
   ]
  },
  {
   "cell_type": "markdown",
   "metadata": {
    "id": "OIflI1dG-Xu3"
   },
   "source": [
    "How is the dataset indexed ?\n",
    "\n",
    "Answer: RangeIndex(start=0, stop=4622, step=1)"
   ]
  },
  {
   "cell_type": "code",
   "execution_count": null,
   "metadata": {
    "colab": {
     "base_uri": "https://localhost:8080/"
    },
    "id": "tHvCMD2V-YZR",
    "outputId": "ac2e19cd-0ec4-48c3-c2b6-02fa0f77dae6"
   },
   "outputs": [
    {
     "data": {
      "text/plain": [
       "RangeIndex(start=0, stop=4622, step=1)"
      ]
     },
     "execution_count": 103,
     "metadata": {},
     "output_type": "execute_result"
    }
   ],
   "source": [
    "chipo.index"
   ]
  },
  {
   "cell_type": "markdown",
   "metadata": {
    "id": "S4l3Ab8z-ahs"
   },
   "source": [
    "Which was the most-ordered item ?\n",
    "\n",
    "Answer: Chicken Bowl"
   ]
  },
  {
   "cell_type": "code",
   "execution_count": null,
   "metadata": {
    "colab": {
     "base_uri": "https://localhost:8080/"
    },
    "id": "Tv7FQn7m-bJW",
    "outputId": "b55c30ce-6e4c-46a1-97d6-79155748a9fc"
   },
   "outputs": [
    {
     "name": "stdout",
     "output_type": "stream",
     "text": [
      "Chicken Bowl\n"
     ]
    }
   ],
   "source": [
    "most_ordered_item = chipo.groupby('item_name').agg({'quantity': 'sum'}).sort_values(by='quantity', ascending=False)\n",
    "most_ordered_item_name = most_ordered_item.index[0]\n",
    "print(most_ordered_item_name)"
   ]
  },
  {
   "cell_type": "markdown",
   "metadata": {
    "id": "7Py8An-r-gfK"
   },
   "source": [
    "For the most-ordered item, how many items were ordered ?\n",
    "\n",
    "761"
   ]
  },
  {
   "cell_type": "code",
   "execution_count": null,
   "metadata": {
    "colab": {
     "base_uri": "https://localhost:8080/"
    },
    "id": "LCQXneGV-g3H",
    "outputId": "14b9e89b-c075-4c43-da11-e6f2b693cb62"
   },
   "outputs": [
    {
     "data": {
      "text/plain": [
       "761"
      ]
     },
     "execution_count": 105,
     "metadata": {},
     "output_type": "execute_result"
    }
   ],
   "source": [
    "most_ordered_item = chipo.groupby('item_name').agg({'quantity': 'sum'}).sort_values(by='quantity', ascending=False)\n",
    "most_ordered_item_quantity = most_ordered_item.iloc[0]['quantity']\n",
    "most_ordered_item_quantity"
   ]
  },
  {
   "cell_type": "markdown",
   "metadata": {
    "id": "GJVu9YX0-jFw"
   },
   "source": [
    "What was the most ordered item in the choice_description column ?\n",
    "\n",
    "Answer: [Diet Coke]"
   ]
  },
  {
   "cell_type": "code",
   "execution_count": null,
   "metadata": {
    "colab": {
     "base_uri": "https://localhost:8080/"
    },
    "id": "VJ_S7Hu3-jgQ",
    "outputId": "9fac267c-ea86-47db-a369-da0816e3b38c"
   },
   "outputs": [
    {
     "name": "stdout",
     "output_type": "stream",
     "text": [
      "[Diet Coke]\n"
     ]
    }
   ],
   "source": [
    "most_ordered_choice = chipo.groupby('choice_description').agg({'quantity': 'sum'}).sort_values(by='quantity', ascending=False)\n",
    "most_ordered_choice_description = most_ordered_choice.index[0]\n",
    "print(most_ordered_choice_description)"
   ]
  },
  {
   "cell_type": "markdown",
   "metadata": {
    "id": "ttiC-fuR-mkv"
   },
   "source": [
    "How many items were orderd in total ?\n",
    "\n",
    "Answer: 4972"
   ]
  },
  {
   "cell_type": "code",
   "execution_count": null,
   "metadata": {
    "colab": {
     "base_uri": "https://localhost:8080/"
    },
    "id": "OOWHqkxf-qCq",
    "outputId": "f91409e7-51d6-42c1-b4ab-757e5c127f45"
   },
   "outputs": [
    {
     "data": {
      "text/plain": [
       "4972"
      ]
     },
     "execution_count": 107,
     "metadata": {},
     "output_type": "execute_result"
    }
   ],
   "source": [
    "total_items_ordered = chipo['quantity'].sum()\n",
    "total_items_ordered"
   ]
  },
  {
   "cell_type": "markdown",
   "metadata": {
    "id": "NSXbDPV0-qZj"
   },
   "source": [
    "Turn the item price into a float"
   ]
  },
  {
   "cell_type": "code",
   "execution_count": null,
   "metadata": {
    "colab": {
     "base_uri": "https://localhost:8080/"
    },
    "id": "XjUBgtEZ-wWY",
    "outputId": "e2e8f3c6-41df-4844-dfd2-cd58119f93af"
   },
   "outputs": [
    {
     "name": "stdout",
     "output_type": "stream",
     "text": [
      "0     2.39\n",
      "1     3.39\n",
      "2     3.39\n",
      "3     2.39\n",
      "4    16.98\n",
      "Name: item_price, dtype: float64\n"
     ]
    }
   ],
   "source": [
    "chipo['item_price'] = chipo['item_price'].astype(str).str.replace('$', '').astype(float)\n",
    "print(chipo['item_price'].head())"
   ]
  },
  {
   "cell_type": "markdown",
   "metadata": {
    "id": "MFE7XknO-w-Z"
   },
   "source": [
    "How much was the revenue for the period in the dataset ?\n",
    "\n",
    "Answer: Revenue was: $39237.02"
   ]
  },
  {
   "cell_type": "code",
   "execution_count": null,
   "metadata": {
    "colab": {
     "base_uri": "https://localhost:8080/"
    },
    "id": "64qxkdj5-z2u",
    "outputId": "c1ca380a-ab19-4d6b-b859-bc9bd24f4a65"
   },
   "outputs": [
    {
     "name": "stdout",
     "output_type": "stream",
     "text": [
      "Revenue was:$39237.02\n"
     ]
    }
   ],
   "source": [
    "chipo['item_price'] = chipo['item_price'].astype(str).str.replace('$', '').astype(float)\n",
    "\n",
    "chipo['revenue'] = chipo['quantity'] * chipo['item_price']\n",
    "total_revenue = chipo['revenue'].sum()\n",
    "\n",
    "print(f\"Revenue was:${total_revenue:.2f}\")"
   ]
  },
  {
   "cell_type": "markdown",
   "metadata": {
    "id": "ZnXhv7Fq-1x_"
   },
   "source": [
    "How many orders were made in the period ?\n",
    "\n",
    "Answer: 1834"
   ]
  },
  {
   "cell_type": "code",
   "execution_count": null,
   "metadata": {
    "colab": {
     "base_uri": "https://localhost:8080/"
    },
    "id": "--UDYOs1-2pP",
    "outputId": "160d202a-e3ce-4a1a-90e5-47cc4de30b25"
   },
   "outputs": [
    {
     "data": {
      "text/plain": [
       "1834"
      ]
     },
     "execution_count": 110,
     "metadata": {},
     "output_type": "execute_result"
    }
   ],
   "source": [
    "total_orders = chipo['order_id'].nunique()\n",
    "total_orders"
   ]
  },
  {
   "cell_type": "markdown",
   "metadata": {
    "id": "Z1NIBixv-6D7"
   },
   "source": [
    "What is the average revenue amount per order ?"
   ]
  },
  {
   "cell_type": "code",
   "execution_count": null,
   "metadata": {
    "colab": {
     "base_uri": "https://localhost:8080/"
    },
    "id": "z9ey-W7a-6tx",
    "outputId": "9e7250d9-36c0-4c37-d4a2-616b9c0eee86"
   },
   "outputs": [
    {
     "name": "stdout",
     "output_type": "stream",
     "text": [
      "Average revenue per order:$21.39\n"
     ]
    }
   ],
   "source": [
    "total_revenue = chipo['quantity'] * chipo['item_price']\n",
    "total_revenue_sum = total_revenue.sum()\n",
    "\n",
    "total_orders = chipo['order_id'].nunique()\n",
    "\n",
    "average_revenue_per_order = total_revenue_sum / total_orders\n",
    "\n",
    "print(f\"Average revenue per order:${average_revenue_per_order:.2f}\")"
   ]
  },
  {
   "cell_type": "markdown",
   "metadata": {
    "id": "bEFEevgM-9R3"
   },
   "source": [
    "How many different items are sold ?\n",
    "\n",
    "Answer: 50"
   ]
  },
  {
   "cell_type": "code",
   "execution_count": null,
   "metadata": {
    "colab": {
     "base_uri": "https://localhost:8080/"
    },
    "id": "O1HmE0p1-928",
    "outputId": "c190a53b-ee5e-49b0-98c2-8af9267371dc"
   },
   "outputs": [
    {
     "data": {
      "text/plain": [
       "50"
      ]
     },
     "execution_count": 112,
     "metadata": {},
     "output_type": "execute_result"
    }
   ],
   "source": [
    "unique_items_sold = chipo['item_name'].nunique()\n",
    "unique_items_sold"
   ]
  },
  {
   "cell_type": "markdown",
   "metadata": {
    "id": "zCGMK56_AHiw"
   },
   "source": [
    "How many products cost more than $10.00 ?\n",
    "\n",
    "1. clean the item_price column and transform it in a float\n",
    "2. reassign the column with the cleaned prices\n",
    "3. delete the duplicates in item_name and quantity\n",
    "4. select only the products with quantity equals to 1\n",
    "\n",
    "Answer: 12"
   ]
  },
  {
   "cell_type": "code",
   "execution_count": null,
   "metadata": {
    "colab": {
     "base_uri": "https://localhost:8080/"
    },
    "id": "mq-7PBJzAIdJ",
    "outputId": "660cce42-7c7e-47d3-ac2c-80f2247548e2"
   },
   "outputs": [
    {
     "data": {
      "text/plain": [
       "12"
      ]
     },
     "execution_count": 113,
     "metadata": {},
     "output_type": "execute_result"
    }
   ],
   "source": [
    "# Step 1: Clean the item_price column and convert it to float\n",
    "chipo['item_price'] = chipo['item_price'].astype(str).str.replace('$', '').astype(float)\n",
    "\n",
    "# Step 2: Remove duplicates based on item_name and quantity\n",
    "chipo_unique = chipo.drop_duplicates(subset=['item_name', 'quantity'])\n",
    "\n",
    "# Step 3: Select only products with quantity equal to 1\n",
    "chipo_quantity_1 = chipo_unique[chipo_unique['quantity'] == 1]\n",
    "\n",
    "# Step 4: Filter for products with item_price > 10\n",
    "products_over_10 = chipo_quantity_1[chipo_quantity_1['item_price'] > 10]\n",
    "\n",
    "# Get the number of such products\n",
    "num_products_over_10 = products_over_10['item_name'].nunique()\n",
    "num_products_over_10"
   ]
  },
  {
   "cell_type": "markdown",
   "metadata": {
    "id": "VAL2-kz4AJEo"
   },
   "source": [
    "What is the price of each item ?\n",
    "\n",
    "1. delete the duplicates in item_name and quantity\n",
    "2. select only the products with quantity equals to 1\n",
    "3. select only the item_name and item_price columns\n",
    "4. sort the values from the most to less expensive"
   ]
  },
  {
   "cell_type": "code",
   "execution_count": null,
   "metadata": {
    "colab": {
     "base_uri": "https://localhost:8080/"
    },
    "id": "UYRzwL5oAKuL",
    "outputId": "a6ddab07-f8a6-4650-fa7a-636cb0e463d7"
   },
   "outputs": [
    {
     "name": "stdout",
     "output_type": "stream",
     "text": [
      "                                  item_name  item_price\n",
      "606                        Steak Salad Bowl       11.89\n",
      "1229                    Barbacoa Salad Bowl       11.89\n",
      "1132                    Carnitas Salad Bowl       11.89\n",
      "7                             Steak Burrito       11.75\n",
      "168                   Barbacoa Crispy Tacos       11.75\n",
      "39                            Barbacoa Bowl       11.75\n",
      "738                       Veggie Soft Tacos       11.25\n",
      "186                       Veggie Salad Bowl       11.25\n",
      "62                              Veggie Bowl       11.25\n",
      "57                           Veggie Burrito       11.25\n",
      "250                           Chicken Salad       10.98\n",
      "5                              Chicken Bowl       10.98\n",
      "8                          Steak Soft Tacos        9.25\n",
      "554                   Carnitas Crispy Tacos        9.25\n",
      "237                     Carnitas Soft Tacos        9.25\n",
      "56                      Barbacoa Soft Tacos        9.25\n",
      "92                       Steak Crispy Tacos        9.25\n",
      "664                             Steak Salad        8.99\n",
      "54                               Steak Bowl        8.99\n",
      "3750                         Carnitas Salad        8.99\n",
      "21                         Barbacoa Burrito        8.99\n",
      "27                         Carnitas Burrito        8.99\n",
      "33                            Carnitas Bowl        8.99\n",
      "11                     Chicken Crispy Tacos        8.75\n",
      "12                       Chicken Soft Tacos        8.75\n",
      "44                       Chicken Salad Bowl        8.75\n",
      "1653                    Veggie Crispy Tacos        8.49\n",
      "16                          Chicken Burrito        8.49\n",
      "1694                           Veggie Salad        8.49\n",
      "1414                                  Salad        7.40\n",
      "510                                 Burrito        7.40\n",
      "520                            Crispy Tacos        7.40\n",
      "673                                    Bowl        7.40\n",
      "298                       6 Pack Soft Drink        6.49\n",
      "10                      Chips and Guacamole        4.45\n",
      "1                                      Izze        3.39\n",
      "2                          Nantucket Nectar        3.39\n",
      "674       Chips and Mild Fresh Tomato Salsa        3.00\n",
      "111     Chips and Tomatillo Red Chili Salsa        2.95\n",
      "233      Chips and Roasted Chili Corn Salsa        2.95\n",
      "38    Chips and Tomatillo Green Chili Salsa        2.95\n",
      "3     Chips and Tomatillo-Green Chili Salsa        2.39\n",
      "300     Chips and Tomatillo-Red Chili Salsa        2.39\n",
      "191      Chips and Roasted Chili-Corn Salsa        2.39\n",
      "0              Chips and Fresh Tomato Salsa        2.39\n",
      "40                                    Chips        2.15\n",
      "6                             Side of Chips        1.69\n",
      "263                       Canned Soft Drink        1.25\n",
      "28                              Canned Soda        1.09\n",
      "34                            Bottled Water        1.09\n"
     ]
    }
   ],
   "source": [
    "# Step 1: Remove duplicates based on item_name and quantity\n",
    "chipo_unique = chipo.drop_duplicates(subset=['item_name', 'quantity'])\n",
    "\n",
    "# Step 2: Select only products with quantity equal to 1\n",
    "chipo_quantity_1 = chipo_unique[chipo_unique['quantity'] == 1]\n",
    "\n",
    "# Step 3: Select only item_name and item_price columns\n",
    "item_prices = chipo_quantity_1[['item_name', 'item_price']]\n",
    "\n",
    "# Step 4: Sort the values from most to least expensive\n",
    "sorted_item_prices = item_prices.sort_values(by='item_price', ascending=False)\n",
    "print(sorted_item_prices)"
   ]
  },
  {
   "cell_type": "markdown",
   "metadata": {
    "id": "vgF7KMe0ANB9"
   },
   "source": [
    "Sort by the name of the item"
   ]
  },
  {
   "cell_type": "code",
   "execution_count": null,
   "metadata": {
    "colab": {
     "base_uri": "https://localhost:8080/"
    },
    "id": "0XyeLYECANWP",
    "outputId": "c1c831b2-07aa-445c-9acd-4ddd5e4d78c7"
   },
   "outputs": [
    {
     "name": "stdout",
     "output_type": "stream",
     "text": [
      "                                  item_name  item_price\n",
      "298                       6 Pack Soft Drink        6.49\n",
      "39                            Barbacoa Bowl       11.75\n",
      "21                         Barbacoa Burrito        8.99\n",
      "168                   Barbacoa Crispy Tacos       11.75\n",
      "1229                    Barbacoa Salad Bowl       11.89\n",
      "56                      Barbacoa Soft Tacos        9.25\n",
      "34                            Bottled Water        1.09\n",
      "673                                    Bowl        7.40\n",
      "510                                 Burrito        7.40\n",
      "28                              Canned Soda        1.09\n",
      "263                       Canned Soft Drink        1.25\n",
      "33                            Carnitas Bowl        8.99\n",
      "27                         Carnitas Burrito        8.99\n",
      "554                   Carnitas Crispy Tacos        9.25\n",
      "3750                         Carnitas Salad        8.99\n",
      "1132                    Carnitas Salad Bowl       11.89\n",
      "237                     Carnitas Soft Tacos        9.25\n",
      "5                              Chicken Bowl       10.98\n",
      "16                          Chicken Burrito        8.49\n",
      "11                     Chicken Crispy Tacos        8.75\n",
      "250                           Chicken Salad       10.98\n",
      "44                       Chicken Salad Bowl        8.75\n",
      "12                       Chicken Soft Tacos        8.75\n",
      "40                                    Chips        2.15\n",
      "0              Chips and Fresh Tomato Salsa        2.39\n",
      "10                      Chips and Guacamole        4.45\n",
      "674       Chips and Mild Fresh Tomato Salsa        3.00\n",
      "233      Chips and Roasted Chili Corn Salsa        2.95\n",
      "191      Chips and Roasted Chili-Corn Salsa        2.39\n",
      "38    Chips and Tomatillo Green Chili Salsa        2.95\n",
      "111     Chips and Tomatillo Red Chili Salsa        2.95\n",
      "3     Chips and Tomatillo-Green Chili Salsa        2.39\n",
      "300     Chips and Tomatillo-Red Chili Salsa        2.39\n",
      "520                            Crispy Tacos        7.40\n",
      "1                                      Izze        3.39\n",
      "2                          Nantucket Nectar        3.39\n",
      "1414                                  Salad        7.40\n",
      "6                             Side of Chips        1.69\n",
      "54                               Steak Bowl        8.99\n",
      "7                             Steak Burrito       11.75\n",
      "92                       Steak Crispy Tacos        9.25\n",
      "664                             Steak Salad        8.99\n",
      "606                        Steak Salad Bowl       11.89\n",
      "8                          Steak Soft Tacos        9.25\n",
      "62                              Veggie Bowl       11.25\n",
      "57                           Veggie Burrito       11.25\n",
      "1653                    Veggie Crispy Tacos        8.49\n",
      "1694                           Veggie Salad        8.49\n",
      "186                       Veggie Salad Bowl       11.25\n",
      "738                       Veggie Soft Tacos       11.25\n"
     ]
    }
   ],
   "source": [
    "# Step 1: Remove duplicates based on item_name and quantity\n",
    "chipo_unique = chipo.drop_duplicates(subset=['item_name', 'quantity'])\n",
    "\n",
    "# Step 2: Select only products with quantity equal to 1\n",
    "chipo_quantity_1 = chipo_unique[chipo_unique['quantity'] == 1]\n",
    "\n",
    "# Step 3: Select only item_name and item_price columns\n",
    "item_prices = chipo_quantity_1[['item_name', 'item_price']]\n",
    "\n",
    "# Step 4: Sort the values by item name\n",
    "sorted_item_prices_by_name = item_prices.sort_values(by='item_name')\n",
    "print(sorted_item_prices_by_name)"
   ]
  },
  {
   "cell_type": "markdown",
   "metadata": {
    "id": "hP2_jykpAPoA"
   },
   "source": [
    "What was the quantity of the most expensive item ordered ?"
   ]
  },
  {
   "cell_type": "code",
   "execution_count": null,
   "metadata": {
    "colab": {
     "base_uri": "https://localhost:8080/"
    },
    "id": "A-epRHWYAP_R",
    "outputId": "2b91a5f0-f29e-4b15-ab69-671548aa24e6"
   },
   "outputs": [
    {
     "name": "stdout",
     "output_type": "stream",
     "text": [
      "Quantity of the most expensive item ordered: 1\n"
     ]
    }
   ],
   "source": [
    "# Step 1: Remove duplicates based on item_name and quantity\n",
    "chipo_unique = chipo.drop_duplicates(subset=['item_name', 'quantity'])\n",
    "\n",
    "# Step 2: Select only products with quantity equal to 1\n",
    "chipo_quantity_1 = chipo_unique[chipo_unique['quantity'] == 1]\n",
    "\n",
    "# Step 3: Select only item_name, item_price, and quantity columns\n",
    "item_prices = chipo_quantity_1[['item_name', 'item_price', 'quantity']]\n",
    "\n",
    "# Step 4: Sort by item_price in descending order\n",
    "most_expensive_item = item_prices.sort_values(by='item_price', ascending=False).head(1)\n",
    "print(f\"Quantity of the most expensive item ordered: {most_expensive_item['quantity'].values[0]}\")"
   ]
  },
  {
   "cell_type": "markdown",
   "metadata": {
    "id": "kb3VIujBAQ0L"
   },
   "source": [
    "How many times was a Veggie Salad Bowl ordered ?\n",
    "\n",
    "Answer: 18"
   ]
  },
  {
   "cell_type": "code",
   "execution_count": null,
   "metadata": {
    "colab": {
     "base_uri": "https://localhost:8080/"
    },
    "id": "d8NeH7MuASfo",
    "outputId": "af7c014c-1925-4365-c88c-e63e2500f6f7"
   },
   "outputs": [
    {
     "data": {
      "text/plain": [
       "18"
      ]
     },
     "execution_count": 117,
     "metadata": {},
     "output_type": "execute_result"
    }
   ],
   "source": [
    "veggie_salad_bowl_orders = chipo[chipo['item_name'] == 'Veggie Salad Bowl']\n",
    "veggie_salad_bowl_quantity = veggie_salad_bowl_orders['quantity'].sum()\n",
    "veggie_salad_bowl_quantity"
   ]
  },
  {
   "cell_type": "markdown",
   "metadata": {
    "id": "jhiKhLjCAZ19"
   },
   "source": [
    "How many times did someone order more than one Canned Soda ?\n",
    "\n",
    "Answer: 20"
   ]
  },
  {
   "cell_type": "code",
   "execution_count": null,
   "metadata": {
    "colab": {
     "base_uri": "https://localhost:8080/"
    },
    "id": "RX72dOaIAa-_",
    "outputId": "f8a919c1-0649-4249-9657-7a9de555d5ff"
   },
   "outputs": [
    {
     "data": {
      "text/plain": [
       "20"
      ]
     },
     "execution_count": 118,
     "metadata": {},
     "output_type": "execute_result"
    }
   ],
   "source": [
    "canned_soda_orders = chipo[(chipo['item_name'] == 'Canned Soda') & (chipo['quantity'] > 1)]\n",
    "num_canned_soda_orders = canned_soda_orders.shape[0]\n",
    "num_canned_soda_orders"
   ]
  },
  {
   "cell_type": "markdown",
   "metadata": {
    "id": "mCEtI1ZeEMfs"
   },
   "source": [
    "Create a histogram of the top 5 items bought"
   ]
  },
  {
   "cell_type": "code",
   "execution_count": null,
   "metadata": {
    "colab": {
     "base_uri": "https://localhost:8080/",
     "height": 410
    },
    "id": "k_L3xJKB8B6R",
    "outputId": "49bfc86c-8acd-4b84-a159-9917efda950c"
   },
   "outputs": [
    {
     "data": {
      "image/png": "[encoded data removed]",
      "text/plain": [
       "<Figure size 800x400 with 1 Axes>"
      ]
     },
     "metadata": {},
     "output_type": "display_data"
    }
   ],
   "source": [
    "# Group the data by 'item_name' and sum the 'quantity', then get the top 5 items\n",
    "top_items = chipo.groupby('item_name').agg({'quantity': 'sum'}).sort_values(by='quantity', ascending=False).head(5)\n",
    "\n",
    "# Plot a histogram of the top 5 most bought items\n",
    "plt.figure(figsize=(8, 4))\n",
    "plt.hist(top_items['quantity'], bins=5, color='blue', edgecolor='black')\n",
    "plt.title('Histogram of Quantities for Top 5 Most Bought Items')\n",
    "plt.xlabel('Quantity Ordered')\n",
    "plt.ylabel('Frequency')\n",
    "plt.show()\n"
   ]
  },
  {
   "cell_type": "code",
   "execution_count": null,
   "metadata": {
    "colab": {
     "base_uri": "https://localhost:8080/",
     "height": 514
    },
    "id": "mhJAgEwjEPOa",
    "outputId": "2d597240-9fa2-4ebc-f1f9-f85203b8a4cb"
   },
   "outputs": [
    {
     "data": {
      "image/png": "[encoded data removed]",
      "text/plain": [
       "<Figure size 800x400 with 1 Axes>"
      ]
     },
     "metadata": {},
     "output_type": "display_data"
    }
   ],
   "source": [
    "top_items = chipo.groupby('item_name').agg({'quantity': 'sum'}).sort_values(by='quantity', ascending=False).head(5)\n",
    "plt.figure(figsize=(8,4))\n",
    "top_items['quantity'].plot(kind='bar')\n",
    "plt.title('Top 5 Most Bought Items')\n",
    "plt.xlabel('Item Name')\n",
    "plt.ylabel('Quantity Ordered')\n",
    "plt.xticks(rotation=45)\n",
    "plt.show()"
   ]
  },
  {
   "cell_type": "markdown",
   "metadata": {
    "id": "oRF02EN_EO3r"
   },
   "source": [
    "Create a scatterplot with the number of items orderered per order price"
   ]
  },
  {
   "cell_type": "code",
   "execution_count": null,
   "metadata": {
    "colab": {
     "base_uri": "https://localhost:8080/",
     "height": 410
    },
    "id": "lDLQNKKqEOTy",
    "outputId": "233478c9-3f59-4b72-a67c-31117ee8d243"
   },
   "outputs": [
    {
     "data": {
      "image/png": "[encoded data removed]",
      "text/plain": [
       "<Figure size 600x400 with 1 Axes>"
      ]
     },
     "metadata": {},
     "output_type": "display_data"
    }
   ],
   "source": [
    "chipo['total_order_price'] = chipo['quantity'] * chipo['item_price']\n",
    "order_summary = chipo.groupby('order_id').agg({'quantity': 'sum', 'total_order_price': 'sum'})\n",
    "plt.figure(figsize=(6,4))\n",
    "plt.scatter(order_summary['total_order_price'], order_summary['quantity'], alpha=0.5)\n",
    "plt.title('Number of Items Ordered per Order Price')\n",
    "plt.xlabel('Order Price ($)')\n",
    "plt.ylabel('Number of Items Ordered')\n",
    "plt.show()"
   ]
  },
  {
   "cell_type": "markdown",
   "metadata": {
    "id": "eAL2eMI1EZFc"
   },
   "source": [
    "Create a question and a graph to answer your own question."
   ]
  },
  {
   "cell_type": "code",
   "execution_count": null,
   "metadata": {
    "colab": {
     "base_uri": "https://localhost:8080/",
     "height": 564
    },
    "id": "cB3c_kG3EYLx",
    "outputId": "ecc60057-3828-405b-cc89-6f60a1d89a56"
   },
   "outputs": [
    {
     "data": {
      "image/png": "[encoded data removed]",
      "text/plain": [
       "<Figure size 800x600 with 1 Axes>"
      ]
     },
     "metadata": {},
     "output_type": "display_data"
    }
   ],
   "source": [
    "# Question:\n",
    "# What is the distribution of the total order price across all orders, and how does it vary across different price ranges?\n",
    "\n",
    "order_summary_explicit = chipo.groupby('order_id').agg({\n",
    "    'quantity': 'sum',\n",
    "    'total_order_price': 'sum'\n",
    "})\n",
    "\n",
    "# Create histogram to show the distribution of total order prices\n",
    "plt.figure(figsize=(8, 6))\n",
    "plt.hist(order_summary_explicit['total_order_price'], bins=20, edgecolor='black', alpha=0.7)\n",
    "plt.title('Distribution of Total Order Prices')\n",
    "plt.xlabel('Total Order Price ($)')\n",
    "plt.ylabel('Frequency of Orders')\n",
    "plt.grid(True)\n",
    "plt.show()\n",
    "\n",
    "# The histogram shows the distribution of total order prices.\n",
    "# It indicates that most orders fall into a lower price range, with the majority being below $100.\n",
    "# Very few orders reach higher price ranges, such as over $200.\n",
    "# This analysis reveals that most customers tend to place smaller orders in terms of total price."
   ]
  },
  {
   "cell_type": "markdown",
   "metadata": {
    "id": "phCgJVdUBh8p"
   },
   "source": [
    "Download the data from the following URL\n",
    "\n",
    "https://drive.google.com/file/d/1IliBBnlvWdyqoNHpKsPWRrwynwlp69Sm/view?usp=sharing\n",
    "\n",
    "Read and assign it to a variable called users."
   ]
  },
  {
   "cell_type": "code",
   "execution_count": null,
   "metadata": {
    "colab": {
     "base_uri": "https://localhost:8080/",
     "height": 324
    },
    "id": "aFyBuniciWzv",
    "outputId": "b2779556-a022-41b8-e3fc-4b1d19a2700d"
   },
   "outputs": [
    {
     "data": {
      "text/html": [
       "\n",
       "     <input type=\"file\" id=\"files-7ab8a3f2-c8f9-492b-8782-d243458df379\" name=\"files[]\" multiple disabled\n",
       "        style=\"border:none\" />\n",
       "     <output id=\"result-7ab8a3f2-c8f9-492b-8782-d243458df379\">\n",
       "      Upload widget is only available when the cell has been executed in the\n",
       "      current browser session. Please rerun this cell to enable.\n",
       "      </output>\n",
       "      <script>// Copyright 2017 Google LLC\n",
       "//\n",
       "// Licensed under the Apache License, Version 2.0 (the \"License\");\n",
       "// you may not use this file except in compliance with the License.\n",
       "// You may obtain a copy of the License at\n",
       "//\n",
       "//      http://www.apache.org/licenses/LICENSE-2.0\n",
       "//\n",
       "// Unless required by applicable law or agreed to in writing, software\n",
       "// distributed under the License is distributed on an \"AS IS\" BASIS,\n",
       "// WITHOUT WARRANTIES OR CONDITIONS OF ANY KIND, either express or implied.\n",
       "// See the License for the specific language governing permissions and\n",
       "// limitations under the License.\n",
       "\n",
       "/**\n",
       " * @fileoverview Helpers for google.colab Python module.\n",
       " */\n",
       "(function(scope) {\n",
       "function span(text, styleAttributes = {}) {\n",
       "  const element = document.createElement('span');\n",
       "  element.textContent = text;\n",
       "  for (const key of Object.keys(styleAttributes)) {\n",
       "    element.style[key] = styleAttributes[key];\n",
       "  }\n",
       "  return element;\n",
       "}\n",
       "\n",
       "// Max number of bytes which will be uploaded at a time.\n",
       "const MAX_PAYLOAD_SIZE = 100 * 1024;\n",
       "\n",
       "function _uploadFiles(inputId, outputId) {\n",
       "  const steps = uploadFilesStep(inputId, outputId);\n",
       "  const outputElement = document.getElementById(outputId);\n",
       "  // Cache steps on the outputElement to make it available for the next call\n",
       "  // to uploadFilesContinue from Python.\n",
       "  outputElement.steps = steps;\n",
       "\n",
       "  return _uploadFilesContinue(outputId);\n",
       "}\n",
       "\n",
       "// This is roughly an async generator (not supported in the browser yet),\n",
       "// where there are multiple asynchronous steps and the Python side is going\n",
       "// to poll for completion of each step.\n",
       "// This uses a Promise to block the python side on completion of each step,\n",
       "// then passes the result of the previous step as the input to the next step.\n",
       "function _uploadFilesContinue(outputId) {\n",
       "  const outputElement = document.getElementById(outputId);\n",
       "  const steps = outputElement.steps;\n",
       "\n",
       "  const next = steps.next(outputElement.lastPromiseValue);\n",
       "  return Promise.resolve(next.value.promise).then((value) => {\n",
       "    // Cache the last promise value to make it available to the next\n",
       "    // step of the generator.\n",
       "    outputElement.lastPromiseValue = value;\n",
       "    return next.value.response;\n",
       "  });\n",
       "}\n",
       "\n",
       "/**\n",
       " * Generator function which is called between each async step of the upload\n",
       " * process.\n",
       " * @param {string} inputId Element ID of the input file picker element.\n",
       " * @param {string} outputId Element ID of the output display.\n",
       " * @return {!Iterable<!Object>} Iterable of next steps.\n",
       " */\n",
       "function* uploadFilesStep(inputId, outputId) {\n",
       "  const inputElement = document.getElementById(inputId);\n",
       "  inputElement.disabled = false;\n",
       "\n",
       "  const outputElement = document.getElementById(outputId);\n",
       "  outputElement.innerHTML = '';\n",
       "\n",
       "  const pickedPromise = new Promise((resolve) => {\n",
       "    inputElement.addEventListener('change', (e) => {\n",
       "      resolve(e.target.files);\n",
       "    });\n",
       "  });\n",
       "\n",
       "  const cancel = document.createElement('button');\n",
       "  inputElement.parentElement.appendChild(cancel);\n",
       "  cancel.textContent = 'Cancel upload';\n",
       "  const cancelPromise = new Promise((resolve) => {\n",
       "    cancel.onclick = () => {\n",
       "      resolve(null);\n",
       "    };\n",
       "  });\n",
       "\n",
       "  // Wait for the user to pick the files.\n",
       "  const files = yield {\n",
       "    promise: Promise.race([pickedPromise, cancelPromise]),\n",
       "    response: {\n",
       "      action: 'starting',\n",
       "    }\n",
       "  };\n",
       "\n",
       "  cancel.remove();\n",
       "\n",
       "  // Disable the input element since further picks are not allowed.\n",
       "  inputElement.disabled = true;\n",
       "\n",
       "  if (!files) {\n",
       "    return {\n",
       "      response: {\n",
       "        action: 'complete',\n",
       "      }\n",
       "    };\n",
       "  }\n",
       "\n",
       "  for (const file of files) {\n",
       "    const li = document.createElement('li');\n",
       "    li.append(span(file.name, {fontWeight: 'bold'}));\n",
       "    li.append(span(\n",
       "        `(${file.type || 'n/a'}) - ${file.size} bytes, ` +\n",
       "        `last modified: ${\n",
       "            file.lastModifiedDate ? file.lastModifiedDate.toLocaleDateString() :\n",
       "                                    'n/a'} - `));\n",
       "    const percent = span('0% done');\n",
       "    li.appendChild(percent);\n",
       "\n",
       "    outputElement.appendChild(li);\n",
       "\n",
       "    const fileDataPromise = new Promise((resolve) => {\n",
       "      const reader = new FileReader();\n",
       "      reader.onload = (e) => {\n",
       "        resolve(e.target.result);\n",
       "      };\n",
       "      reader.readAsArrayBuffer(file);\n",
       "    });\n",
       "    // Wait for the data to be ready.\n",
       "    let fileData = yield {\n",
       "      promise: fileDataPromise,\n",
       "      response: {\n",
       "        action: 'continue',\n",
       "      }\n",
       "    };\n",
       "\n",
       "    // Use a chunked sending to avoid message size limits. See b/62115660.\n",
       "    let position = 0;\n",
       "    do {\n",
       "      const length = Math.min(fileData.byteLength - position, MAX_PAYLOAD_SIZE);\n",
       "      const chunk = new Uint8Array(fileData, position, length);\n",
       "      position += length;\n",
       "\n",
       "      const base64 = btoa(String.fromCharCode.apply(null, chunk));\n",
       "      yield {\n",
       "        response: {\n",
       "          action: 'append',\n",
       "          file: file.name,\n",
       "          data: base64,\n",
       "        },\n",
       "      };\n",
       "\n",
       "      let percentDone = fileData.byteLength === 0 ?\n",
       "          100 :\n",
       "          Math.round((position / fileData.byteLength) * 100);\n",
       "      percent.textContent = `${percentDone}% done`;\n",
       "\n",
       "    } while (position < fileData.byteLength);\n",
       "  }\n",
       "\n",
       "  // All done.\n",
       "  yield {\n",
       "    response: {\n",
       "      action: 'complete',\n",
       "    }\n",
       "  };\n",
       "}\n",
       "\n",
       "scope.google = scope.google || {};\n",
       "scope.google.colab = scope.google.colab || {};\n",
       "scope.google.colab._files = {\n",
       "  _uploadFiles,\n",
       "  _uploadFilesContinue,\n",
       "};\n",
       "})(self);\n",
       "</script> "
      ],
      "text/plain": [
       "<IPython.core.display.HTML object>"
      ]
     },
     "metadata": {},
     "output_type": "display_data"
    },
    {
     "name": "stdout",
     "output_type": "stream",
     "text": [
      "Saving users.csv to users (2).csv\n",
      "     user_id  age gender     occupation zip_code\n",
      "0          1   24      M     technician    85711\n",
      "1          2   53      F          other    94043\n",
      "2          3   23      M         writer    32067\n",
      "3          4   24      M     technician    43537\n",
      "4          5   33      F          other    15213\n",
      "..       ...  ...    ...            ...      ...\n",
      "938      939   26      F        student    33319\n",
      "939      940   32      M  administrator    02215\n",
      "940      941   20      M        student    97229\n",
      "941      942   48      F      librarian    78209\n",
      "942      943   22      M        student    77841\n",
      "\n",
      "[943 rows x 5 columns]\n"
     ]
    }
   ],
   "source": [
    "uploaded = files.upload()\n",
    "users = pd.read_csv('users.csv', delimiter='|')\n",
    "print(users)"
   ]
  },
  {
   "cell_type": "code",
   "execution_count": null,
   "metadata": {
    "colab": {
     "base_uri": "https://localhost:8080/"
    },
    "id": "NcWPBa54BlUL",
    "outputId": "9565c26b-b23d-4b4d-80a1-27eeb6ed13d2"
   },
   "outputs": [
    {
     "data": {
      "text/plain": [
       "Index(['user_id', 'age', 'gender', 'occupation', 'zip_code'], dtype='object')"
      ]
     },
     "execution_count": 123,
     "metadata": {},
     "output_type": "execute_result"
    }
   ],
   "source": [
    "users.columns"
   ]
  },
  {
   "cell_type": "markdown",
   "metadata": {
    "id": "MwQQB2bFBmJE"
   },
   "source": [
    "Discover what is the mean age per occupation ?"
   ]
  },
  {
   "cell_type": "code",
   "execution_count": null,
   "metadata": {
    "colab": {
     "base_uri": "https://localhost:8080/"
    },
    "id": "KNUpYtuckLXS",
    "outputId": "5574d7cb-5fe7-49c6-9d2d-8aad64dac907"
   },
   "outputs": [
    {
     "name": "stdout",
     "output_type": "stream",
     "text": [
      "occupation\n",
      "administrator    38.746835\n",
      "artist           31.392857\n",
      "doctor           43.571429\n",
      "educator         42.010526\n",
      "engineer         36.388060\n",
      "entertainment    29.222222\n",
      "executive        38.718750\n",
      "healthcare       41.562500\n",
      "homemaker        32.571429\n",
      "lawyer           36.750000\n",
      "librarian        40.000000\n",
      "marketing        37.615385\n",
      "none             26.555556\n",
      "other            34.523810\n",
      "programmer       33.121212\n",
      "retired          63.071429\n",
      "salesman         35.666667\n",
      "scientist        35.548387\n",
      "student          22.081633\n",
      "technician       33.148148\n",
      "writer           36.311111\n",
      "Name: age, dtype: float64\n"
     ]
    }
   ],
   "source": [
    "mean_age_per_occupation = users.groupby('occupation')['age'].mean()\n",
    "print(mean_age_per_occupation)"
   ]
  },
  {
   "cell_type": "code",
   "execution_count": null,
   "metadata": {
    "colab": {
     "base_uri": "https://localhost:8080/"
    },
    "id": "eHw1NckyBpkL",
    "outputId": "44093b8b-847f-4906-e39c-99c73cc54874"
   },
   "outputs": [
    {
     "name": "stdout",
     "output_type": "stream",
     "text": [
      "occupation\n",
      "administrator    38.746835\n",
      "artist           31.392857\n",
      "doctor           43.571429\n",
      "educator         42.010526\n",
      "engineer         36.388060\n",
      "entertainment    29.222222\n",
      "executive        38.718750\n",
      "healthcare       41.562500\n",
      "homemaker        32.571429\n",
      "lawyer           36.750000\n",
      "librarian        40.000000\n",
      "marketing        37.615385\n",
      "none             26.555556\n",
      "other            34.523810\n",
      "programmer       33.121212\n",
      "retired          63.071429\n",
      "salesman         35.666667\n",
      "scientist        35.548387\n",
      "student          22.081633\n",
      "technician       33.148148\n",
      "writer           36.311111\n",
      "Name: age, dtype: float64\n"
     ]
    }
   ],
   "source": [
    "mean_age_per_occupation = users.groupby('occupation')['age'].mean()\n",
    "print(mean_age_per_occupation)"
   ]
  },
  {
   "cell_type": "markdown",
   "metadata": {
    "id": "amvzyTfJBra1"
   },
   "source": [
    "Discover the Male ratio per occupation and sort it from the most to the least"
   ]
  },
  {
   "cell_type": "code",
   "execution_count": null,
   "metadata": {
    "colab": {
     "base_uri": "https://localhost:8080/"
    },
    "id": "U0uviZtBBr_z",
    "outputId": "3e42d69d-7278-4347-ddcd-5651a2eb5979"
   },
   "outputs": [
    {
     "name": "stdout",
     "output_type": "stream",
     "text": [
      "occupation\n",
      "administrator   NaN\n",
      "artist          NaN\n",
      "doctor          NaN\n",
      "educator        NaN\n",
      "engineer        NaN\n",
      "entertainment   NaN\n",
      "executive       NaN\n",
      "healthcare      NaN\n",
      "homemaker       NaN\n",
      "lawyer          NaN\n",
      "librarian       NaN\n",
      "marketing       NaN\n",
      "none            NaN\n",
      "other           NaN\n",
      "programmer      NaN\n",
      "retired         NaN\n",
      "salesman        NaN\n",
      "scientist       NaN\n",
      "student         NaN\n",
      "technician      NaN\n",
      "writer          NaN\n",
      "dtype: float64\n"
     ]
    }
   ],
   "source": [
    "male_ratio_per_occupation = users[users['gender'] == 'Male'].groupby('occupation').size() / users.groupby('occupation').size()\n",
    "male_ratio_sorted = male_ratio_per_occupation.sort_values(ascending=False)\n",
    "print(male_ratio_sorted)"
   ]
  },
  {
   "cell_type": "markdown",
   "metadata": {
    "id": "kNfnfXuRBtG5"
   },
   "source": [
    "For each occupation, calculate the minimum and maximum ages"
   ]
  },
  {
   "cell_type": "code",
   "execution_count": null,
   "metadata": {
    "colab": {
     "base_uri": "https://localhost:8080/"
    },
    "id": "aX50Mul2BvTf",
    "outputId": "05a90ef0-db87-4516-edf9-5d5e43e8ce60"
   },
   "outputs": [
    {
     "name": "stdout",
     "output_type": "stream",
     "text": [
      "               min  max\n",
      "occupation             \n",
      "administrator   21   70\n",
      "artist          19   48\n",
      "doctor          28   64\n",
      "educator        23   63\n",
      "engineer        22   70\n",
      "entertainment   15   50\n",
      "executive       22   69\n",
      "healthcare      22   62\n",
      "homemaker       20   50\n",
      "lawyer          21   53\n",
      "librarian       23   69\n",
      "marketing       24   55\n",
      "none            11   55\n",
      "other           13   64\n",
      "programmer      20   63\n",
      "retired         51   73\n",
      "salesman        18   66\n",
      "scientist       23   55\n",
      "student          7   42\n",
      "technician      21   55\n",
      "writer          18   60\n"
     ]
    }
   ],
   "source": [
    "age_stats_per_occupation = users.groupby('occupation')['age'].agg(['min', 'max'])\n",
    "print(age_stats_per_occupation)"
   ]
  },
  {
   "cell_type": "markdown",
   "metadata": {
    "id": "W7sy1JfxBv7p"
   },
   "source": [
    "For each combination of occupation and gender, calculate the mean age"
   ]
  },
  {
   "cell_type": "code",
   "execution_count": null,
   "metadata": {
    "colab": {
     "base_uri": "https://localhost:8080/"
    },
    "id": "8xh9ffXDByO2",
    "outputId": "5cd9f686-2ae0-4bb1-ad14-0c432c1b1fe6"
   },
   "outputs": [
    {
     "name": "stdout",
     "output_type": "stream",
     "text": [
      "occupation     gender\n",
      "administrator  F         40.638889\n",
      "               M         37.162791\n",
      "artist         F         30.307692\n",
      "               M         32.333333\n",
      "doctor         M         43.571429\n",
      "educator       F         39.115385\n",
      "               M         43.101449\n",
      "engineer       F         29.500000\n",
      "               M         36.600000\n",
      "entertainment  F         31.000000\n",
      "               M         29.000000\n",
      "executive      F         44.000000\n",
      "               M         38.172414\n",
      "healthcare     F         39.818182\n",
      "               M         45.400000\n",
      "homemaker      F         34.166667\n",
      "               M         23.000000\n",
      "lawyer         F         39.500000\n",
      "               M         36.200000\n",
      "librarian      F         40.000000\n",
      "               M         40.000000\n",
      "marketing      F         37.200000\n",
      "               M         37.875000\n",
      "none           F         36.500000\n",
      "               M         18.600000\n",
      "other          F         35.472222\n",
      "               M         34.028986\n",
      "programmer     F         32.166667\n",
      "               M         33.216667\n",
      "retired        F         70.000000\n",
      "               M         62.538462\n",
      "salesman       F         27.000000\n",
      "               M         38.555556\n",
      "scientist      F         28.333333\n",
      "               M         36.321429\n",
      "student        F         20.750000\n",
      "               M         22.669118\n",
      "technician     F         38.000000\n",
      "               M         32.961538\n",
      "writer         F         37.631579\n",
      "               M         35.346154\n",
      "Name: age, dtype: float64\n"
     ]
    }
   ],
   "source": [
    "mean_age_per_occupation_gender = users.groupby(['occupation', 'gender'])['age'].mean()\n",
    "print(mean_age_per_occupation_gender)"
   ]
  },
  {
   "cell_type": "markdown",
   "metadata": {
    "id": "MiEwbUDlB0ae"
   },
   "source": [
    "For each occupation present the percentage of women and men"
   ]
  },
  {
   "cell_type": "code",
   "execution_count": null,
   "metadata": {
    "colab": {
     "base_uri": "https://localhost:8080/"
    },
    "id": "I5fFfdx5B0x0",
    "outputId": "1f202c03-d42d-4c35-9664-9b947c7fc926"
   },
   "outputs": [
    {
     "name": "stdout",
     "output_type": "stream",
     "text": [
      "gender                 F           M\n",
      "occupation                          \n",
      "administrator  45.569620   54.430380\n",
      "artist         46.428571   53.571429\n",
      "doctor               NaN  100.000000\n",
      "educator       27.368421   72.631579\n",
      "engineer        2.985075   97.014925\n",
      "entertainment  11.111111   88.888889\n",
      "executive       9.375000   90.625000\n",
      "healthcare     68.750000   31.250000\n",
      "homemaker      85.714286   14.285714\n",
      "lawyer         16.666667   83.333333\n",
      "librarian      56.862745   43.137255\n",
      "marketing      38.461538   61.538462\n",
      "none           44.444444   55.555556\n",
      "other          34.285714   65.714286\n",
      "programmer      9.090909   90.909091\n",
      "retired         7.142857   92.857143\n",
      "salesman       25.000000   75.000000\n",
      "scientist       9.677419   90.322581\n",
      "student        30.612245   69.387755\n",
      "technician      3.703704   96.296296\n",
      "writer         42.222222   57.777778\n"
     ]
    }
   ],
   "source": [
    "gender_counts = users.groupby(['occupation', 'gender']).size()\n",
    "occupation_counts = users.groupby('occupation').size()\n",
    "gender_percentage = (gender_counts / occupation_counts) * 100\n",
    "gender_percentage = gender_percentage.unstack()\n",
    "print(gender_percentage)"
   ]
  },
  {
   "cell_type": "markdown",
   "metadata": {
    "id": "Ejf2Be7eCIG8"
   },
   "source": [
    "Download the data from the following URL\n",
    "\n",
    "https://drive.google.com/file/d/1Nf5qPvISvBubc6e3vpiK7pYn4WOFXzij/view?usp=sharing\n",
    "\n",
    "Read and assign it to a variable called crimes."
   ]
  },
  {
   "cell_type": "code",
   "execution_count": null,
   "metadata": {
    "colab": {
     "base_uri": "https://localhost:8080/",
     "height": 1000
    },
    "id": "igpghWxuCJ7v",
    "outputId": "0ea4655e-8a70-4a66-9578-e60506988acc"
   },
   "outputs": [
    {
     "data": {
      "text/html": [
       "\n",
       "     <input type=\"file\" id=\"files-85927f14-f52a-48f5-9204-187436dfac2a\" name=\"files[]\" multiple disabled\n",
       "        style=\"border:none\" />\n",
       "     <output id=\"result-85927f14-f52a-48f5-9204-187436dfac2a\">\n",
       "      Upload widget is only available when the cell has been executed in the\n",
       "      current browser session. Please rerun this cell to enable.\n",
       "      </output>\n",
       "      <script>// Copyright 2017 Google LLC\n",
       "//\n",
       "// Licensed under the Apache License, Version 2.0 (the \"License\");\n",
       "// you may not use this file except in compliance with the License.\n",
       "// You may obtain a copy of the License at\n",
       "//\n",
       "//      http://www.apache.org/licenses/LICENSE-2.0\n",
       "//\n",
       "// Unless required by applicable law or agreed to in writing, software\n",
       "// distributed under the License is distributed on an \"AS IS\" BASIS,\n",
       "// WITHOUT WARRANTIES OR CONDITIONS OF ANY KIND, either express or implied.\n",
       "// See the License for the specific language governing permissions and\n",
       "// limitations under the License.\n",
       "\n",
       "/**\n",
       " * @fileoverview Helpers for google.colab Python module.\n",
       " */\n",
       "(function(scope) {\n",
       "function span(text, styleAttributes = {}) {\n",
       "  const element = document.createElement('span');\n",
       "  element.textContent = text;\n",
       "  for (const key of Object.keys(styleAttributes)) {\n",
       "    element.style[key] = styleAttributes[key];\n",
       "  }\n",
       "  return element;\n",
       "}\n",
       "\n",
       "// Max number of bytes which will be uploaded at a time.\n",
       "const MAX_PAYLOAD_SIZE = 100 * 1024;\n",
       "\n",
       "function _uploadFiles(inputId, outputId) {\n",
       "  const steps = uploadFilesStep(inputId, outputId);\n",
       "  const outputElement = document.getElementById(outputId);\n",
       "  // Cache steps on the outputElement to make it available for the next call\n",
       "  // to uploadFilesContinue from Python.\n",
       "  outputElement.steps = steps;\n",
       "\n",
       "  return _uploadFilesContinue(outputId);\n",
       "}\n",
       "\n",
       "// This is roughly an async generator (not supported in the browser yet),\n",
       "// where there are multiple asynchronous steps and the Python side is going\n",
       "// to poll for completion of each step.\n",
       "// This uses a Promise to block the python side on completion of each step,\n",
       "// then passes the result of the previous step as the input to the next step.\n",
       "function _uploadFilesContinue(outputId) {\n",
       "  const outputElement = document.getElementById(outputId);\n",
       "  const steps = outputElement.steps;\n",
       "\n",
       "  const next = steps.next(outputElement.lastPromiseValue);\n",
       "  return Promise.resolve(next.value.promise).then((value) => {\n",
       "    // Cache the last promise value to make it available to the next\n",
       "    // step of the generator.\n",
       "    outputElement.lastPromiseValue = value;\n",
       "    return next.value.response;\n",
       "  });\n",
       "}\n",
       "\n",
       "/**\n",
       " * Generator function which is called between each async step of the upload\n",
       " * process.\n",
       " * @param {string} inputId Element ID of the input file picker element.\n",
       " * @param {string} outputId Element ID of the output display.\n",
       " * @return {!Iterable<!Object>} Iterable of next steps.\n",
       " */\n",
       "function* uploadFilesStep(inputId, outputId) {\n",
       "  const inputElement = document.getElementById(inputId);\n",
       "  inputElement.disabled = false;\n",
       "\n",
       "  const outputElement = document.getElementById(outputId);\n",
       "  outputElement.innerHTML = '';\n",
       "\n",
       "  const pickedPromise = new Promise((resolve) => {\n",
       "    inputElement.addEventListener('change', (e) => {\n",
       "      resolve(e.target.files);\n",
       "    });\n",
       "  });\n",
       "\n",
       "  const cancel = document.createElement('button');\n",
       "  inputElement.parentElement.appendChild(cancel);\n",
       "  cancel.textContent = 'Cancel upload';\n",
       "  const cancelPromise = new Promise((resolve) => {\n",
       "    cancel.onclick = () => {\n",
       "      resolve(null);\n",
       "    };\n",
       "  });\n",
       "\n",
       "  // Wait for the user to pick the files.\n",
       "  const files = yield {\n",
       "    promise: Promise.race([pickedPromise, cancelPromise]),\n",
       "    response: {\n",
       "      action: 'starting',\n",
       "    }\n",
       "  };\n",
       "\n",
       "  cancel.remove();\n",
       "\n",
       "  // Disable the input element since further picks are not allowed.\n",
       "  inputElement.disabled = true;\n",
       "\n",
       "  if (!files) {\n",
       "    return {\n",
       "      response: {\n",
       "        action: 'complete',\n",
       "      }\n",
       "    };\n",
       "  }\n",
       "\n",
       "  for (const file of files) {\n",
       "    const li = document.createElement('li');\n",
       "    li.append(span(file.name, {fontWeight: 'bold'}));\n",
       "    li.append(span(\n",
       "        `(${file.type || 'n/a'}) - ${file.size} bytes, ` +\n",
       "        `last modified: ${\n",
       "            file.lastModifiedDate ? file.lastModifiedDate.toLocaleDateString() :\n",
       "                                    'n/a'} - `));\n",
       "    const percent = span('0% done');\n",
       "    li.appendChild(percent);\n",
       "\n",
       "    outputElement.appendChild(li);\n",
       "\n",
       "    const fileDataPromise = new Promise((resolve) => {\n",
       "      const reader = new FileReader();\n",
       "      reader.onload = (e) => {\n",
       "        resolve(e.target.result);\n",
       "      };\n",
       "      reader.readAsArrayBuffer(file);\n",
       "    });\n",
       "    // Wait for the data to be ready.\n",
       "    let fileData = yield {\n",
       "      promise: fileDataPromise,\n",
       "      response: {\n",
       "        action: 'continue',\n",
       "      }\n",
       "    };\n",
       "\n",
       "    // Use a chunked sending to avoid message size limits. See b/62115660.\n",
       "    let position = 0;\n",
       "    do {\n",
       "      const length = Math.min(fileData.byteLength - position, MAX_PAYLOAD_SIZE);\n",
       "      const chunk = new Uint8Array(fileData, position, length);\n",
       "      position += length;\n",
       "\n",
       "      const base64 = btoa(String.fromCharCode.apply(null, chunk));\n",
       "      yield {\n",
       "        response: {\n",
       "          action: 'append',\n",
       "          file: file.name,\n",
       "          data: base64,\n",
       "        },\n",
       "      };\n",
       "\n",
       "      let percentDone = fileData.byteLength === 0 ?\n",
       "          100 :\n",
       "          Math.round((position / fileData.byteLength) * 100);\n",
       "      percent.textContent = `${percentDone}% done`;\n",
       "\n",
       "    } while (position < fileData.byteLength);\n",
       "  }\n",
       "\n",
       "  // All done.\n",
       "  yield {\n",
       "    response: {\n",
       "      action: 'complete',\n",
       "    }\n",
       "  };\n",
       "}\n",
       "\n",
       "scope.google = scope.google || {};\n",
       "scope.google.colab = scope.google.colab || {};\n",
       "scope.google.colab._files = {\n",
       "  _uploadFiles,\n",
       "  _uploadFilesContinue,\n",
       "};\n",
       "})(self);\n",
       "</script> "
      ],
      "text/plain": [
       "<IPython.core.display.HTML object>"
      ]
     },
     "metadata": {},
     "output_type": "display_data"
    },
    {
     "name": "stdout",
     "output_type": "stream",
     "text": [
      "Saving crimes.csv to crimes (1).csv\n",
      "    Year  Population     Total  Violent  Property  Murder  Forcible_Rape  \\\n",
      "0   1960   179323175   3384200   288460   3095700    9110          17190   \n",
      "1   1961   182992000   3488000   289390   3198600    8740          17220   \n",
      "2   1962   185771000   3752200   301510   3450700    8530          17550   \n",
      "3   1963   188483000   4109500   316970   3792500    8640          17650   \n",
      "4   1964   191141000   4564600   364220   4200400    9360          21420   \n",
      "5   1965   193526000   4739400   387390   4352000    9960          23410   \n",
      "6   1966   195576000   5223500   430180   4793300   11040          25820   \n",
      "7   1967   197457000   5903400   499930   5403500   12240          27620   \n",
      "8   1968   199399000   6720200   595010   6125200   13800          31670   \n",
      "9   1969   201385000   7410900   661870   6749000   14760          37170   \n",
      "10  1970   203235298   8098000   738820   7359200   16000          37990   \n",
      "11  1971   206212000   8588200   816500   7771700   17780          42260   \n",
      "12  1972   208230000   8248800   834900   7413900   18670          46850   \n",
      "13  1973   209851000   8718100   875910   7842200   19640          51400   \n",
      "14  1974   211392000  10253400   974720   9278700   20710          55400   \n",
      "15  1975   213124000  11292400  1039710  10252700   20510          56090   \n",
      "16  1976   214659000  11349700  1004210  10345500   18780          57080   \n",
      "17  1977   216332000  10984500  1029580   9955000   19120          63500   \n",
      "18  1978   218059000  11209000  1085550  10123400   19560          67610   \n",
      "19  1979   220099000  12249500  1208030  11041500   21460          76390   \n",
      "20  1980   225349264  13408300  1344520  12063700   23040          82990   \n",
      "21  1981   229146000  13423800  1361820  12061900   22520          82500   \n",
      "22  1982   231534000  12974400  1322390  11652000   21010          78770   \n",
      "23  1983   233981000  12108600  1258090  10850500   19310          78920   \n",
      "24  1984   236158000  11881800  1273280  10608500   18690          84230   \n",
      "25  1985   238740000  12431400  1328800  11102600   18980          88670   \n",
      "26  1986   240132887  13211869  1489169  11722700   20613          91459   \n",
      "27  1987   242282918  13508700  1483999  12024700   20096          91110   \n",
      "28  1988   245807000  13923100  1566220  12356900   20680          92490   \n",
      "29  1989   248239000  14251400  1646040  12605400   21500          94500   \n",
      "30  1990   248709873  14475600  1820130  12655500   23440         102560   \n",
      "31  1991   252177000  14872900  1911770  12961100   24700         106590   \n",
      "32  1992   255082000  14438200  1932270  12505900   23760         109060   \n",
      "33  1993   257908000  14144800  1926020  12218800   24530         106010   \n",
      "34  1994   260341000  13989500  1857670  12131900   23330         102220   \n",
      "35  1995   262755000  13862700  1798790  12063900   21610          97470   \n",
      "36  1996   265228572  13493863  1688540  11805300   19650          96250   \n",
      "37  1997   267637000  13194571  1634770  11558175   18208          96153   \n",
      "38  1998   270296000  12475634  1531044  10944590   16914          93103   \n",
      "39  1999   272690813  11634378  1426044  10208334   15522          89411   \n",
      "40  2000   281421906  11608072  1425486  10182586   15586          90178   \n",
      "41  2001   285317559  11876669  1439480  10437480   16037          90863   \n",
      "42  2002   287973924  11878954  1423677  10455277   16229          95235   \n",
      "43  2003   290690788  11826538  1383676  10442862   16528          93883   \n",
      "44  2004   293656842  11679474  1360088  10319386   16148          95089   \n",
      "45  2005   296507061  11565499  1390745  10174754   16740          94347   \n",
      "46  2006   299398484  11401511  1418043   9983568   17030          92757   \n",
      "47  2007   301621157  11251828  1408337   9843481   16929          90427   \n",
      "48  2008   304374846  11160543  1392628   9767915   16442          90479   \n",
      "49  2009   307006550  10762956  1325896   9337060   15399          89241   \n",
      "50  2010   309330219  10363873  1251248   9112625   14772          85593   \n",
      "51  2011   311587816  10258774  1206031   9052743   14661          84175   \n",
      "52  2012   313873685  10219059  1217067   9001992   14866          85141   \n",
      "53  2013   316497531   9850445  1199684   8650761   14319          82109   \n",
      "54  2014   318857056   9475816  1197987   8277829   14249          84041   \n",
      "\n",
      "    Robbery  Aggravated_assault  Burglary  Larceny_Theft  Vehicle_Theft  \n",
      "0    107840              154320    912100        1855400         328200  \n",
      "1    106670              156760    949600        1913000         336000  \n",
      "2    110860              164570    994300        2089600         366800  \n",
      "3    116470              174210   1086400        2297800         408300  \n",
      "4    130390              203050   1213200        2514400         472800  \n",
      "5    138690              215330   1282500        2572600         496900  \n",
      "6    157990              235330   1410100        2822000         561200  \n",
      "7    202910              257160   1632100        3111600         659800  \n",
      "8    262840              286700   1858900        3482700         783600  \n",
      "9    298850              311090   1981900        3888600         878500  \n",
      "10   349860              334970   2205000        4225800         928400  \n",
      "11   387700              368760   2399300        4424200         948200  \n",
      "12   376290              393090   2375500        4151200         887200  \n",
      "13   384220              420650   2565500        4347900         928800  \n",
      "14   442400              456210   3039200        5262500         977100  \n",
      "15   470500              492620   3265300        5977700        1009600  \n",
      "16   427810              500530   3108700        6270800         966000  \n",
      "17   412610              534350   3071500        5905700         977700  \n",
      "18   426930              571460   3128300        5991000        1004100  \n",
      "19   480700              629480   3327700        6601000        1112800  \n",
      "20   565840              672650   3795200        7136900        1131700  \n",
      "21   592910              663900   3779700        7194400        1087800  \n",
      "22   553130              669480   3447100        7142500        1062400  \n",
      "23   506570              653290   3129900        6712800        1007900  \n",
      "24   485010              685350   2984400        6591900        1032200  \n",
      "25   497870              723250   3073300        6926400        1102900  \n",
      "26   542775              834322   3241410        7257153        1224137  \n",
      "27   517704              855088   3236184        7499900        1288674  \n",
      "28   542970              910090   3218100        7705900        1432900  \n",
      "29   578330              951710   3168200        7872400        1564800  \n",
      "30   639270             1054860   3073900        7945700        1635900  \n",
      "31   687730             1092740   3157200        8142200        1661700  \n",
      "32   672480             1126970   2979900        7915200        1610800  \n",
      "33   659870             1135610   2834800        7820900        1563100  \n",
      "34   618950             1113180   2712800        7879800        1539300  \n",
      "35   580510             1099210   2593800        7997700        1472400  \n",
      "36   535590             1037050   2506400        7904700        1394200  \n",
      "37   498534             1023201   2460526        7743760        1354189  \n",
      "38   446625              974402   2329950        7373886        1240754  \n",
      "39   409371              911740   2100739        6955520        1152075  \n",
      "40   408016              911706   2050992        6971590        1160002  \n",
      "41   423557              909023   2116531        7092267        1228391  \n",
      "42   420806              891407   2151252        7057370        1246646  \n",
      "43   414235              859030   2154834        7026802        1261226  \n",
      "44   401470              847381   2144446        6937089        1237851  \n",
      "45   417438              862220   2155448        6783447        1235859  \n",
      "46   447403              860853   2183746        6607013        1192809  \n",
      "47   445125              855856   2176140        6568572        1095769  \n",
      "48   443574              842134   2228474        6588046         958629  \n",
      "49   408742              812514   2203313        6338095         795652  \n",
      "50   369089              781844   2168457        6204601         739565  \n",
      "51   354772              752423   2185140        6151095         716508  \n",
      "52   355051              762009   2109932        6168874         723186  \n",
      "53   345095              726575   1931835        6018632         700294  \n",
      "54   325802              741291   1729806        5858496         689527  \n"
     ]
    }
   ],
   "source": [
    "uploaded = files.upload()\n",
    "crimes = pd.read_csv('crimes.csv')\n",
    "print(crimes)"
   ]
  },
  {
   "cell_type": "markdown",
   "metadata": {
    "id": "jl-ZWhy4CRRI"
   },
   "source": [
    "What is the type of the columns ?"
   ]
  },
  {
   "cell_type": "code",
   "execution_count": null,
   "metadata": {
    "colab": {
     "base_uri": "https://localhost:8080/"
    },
    "id": "2a7keqd0CULG",
    "outputId": "e78a460d-dbc0-45cf-88f2-91204bcd2aef"
   },
   "outputs": [
    {
     "name": "stdout",
     "output_type": "stream",
     "text": [
      "Year                  int64\n",
      "Population            int64\n",
      "Total                 int64\n",
      "Violent               int64\n",
      "Property              int64\n",
      "Murder                int64\n",
      "Forcible_Rape         int64\n",
      "Robbery               int64\n",
      "Aggravated_assault    int64\n",
      "Burglary              int64\n",
      "Larceny_Theft         int64\n",
      "Vehicle_Theft         int64\n",
      "dtype: object\n"
     ]
    }
   ],
   "source": [
    "print(crimes.dtypes)"
   ]
  },
  {
   "cell_type": "markdown",
   "metadata": {
    "id": "vpI8pJZvCXcz"
   },
   "source": [
    "Convert the type of the column Year to datetime64"
   ]
  },
  {
   "cell_type": "code",
   "execution_count": null,
   "metadata": {
    "colab": {
     "base_uri": "https://localhost:8080/"
    },
    "id": "TFq8VUgCCYL3",
    "outputId": "c741632f-1dbd-4260-bf70-7fdb56011f85"
   },
   "outputs": [
    {
     "name": "stdout",
     "output_type": "stream",
     "text": [
      "Year                  datetime64[ns]\n",
      "Population                     int64\n",
      "Total                          int64\n",
      "Violent                        int64\n",
      "Property                       int64\n",
      "Murder                         int64\n",
      "Forcible_Rape                  int64\n",
      "Robbery                        int64\n",
      "Aggravated_assault             int64\n",
      "Burglary                       int64\n",
      "Larceny_Theft                  int64\n",
      "Vehicle_Theft                  int64\n",
      "dtype: object\n"
     ]
    }
   ],
   "source": [
    "crimes['Year'] = pd.to_datetime(crimes['Year'], format='%Y')\n",
    "print(crimes.dtypes)"
   ]
  },
  {
   "cell_type": "markdown",
   "metadata": {
    "id": "HioVulX0Cb2j"
   },
   "source": [
    "Set the Year column as the index of the dataframe"
   ]
  },
  {
   "cell_type": "code",
   "execution_count": null,
   "metadata": {
    "colab": {
     "base_uri": "https://localhost:8080/"
    },
    "id": "wcsWnaBZCcU-",
    "outputId": "a3b0ef72-9c74-4a85-98d6-6308d5c83946"
   },
   "outputs": [
    {
     "name": "stdout",
     "output_type": "stream",
     "text": [
      "            Population    Total  Violent  Property  Murder  Forcible_Rape  \\\n",
      "Year                                                                        \n",
      "1960-01-01   179323175  3384200   288460   3095700    9110          17190   \n",
      "1961-01-01   182992000  3488000   289390   3198600    8740          17220   \n",
      "1962-01-01   185771000  3752200   301510   3450700    8530          17550   \n",
      "1963-01-01   188483000  4109500   316970   3792500    8640          17650   \n",
      "1964-01-01   191141000  4564600   364220   4200400    9360          21420   \n",
      "\n",
      "            Robbery  Aggravated_assault  Burglary  Larceny_Theft  \\\n",
      "Year                                                               \n",
      "1960-01-01   107840              154320    912100        1855400   \n",
      "1961-01-01   106670              156760    949600        1913000   \n",
      "1962-01-01   110860              164570    994300        2089600   \n",
      "1963-01-01   116470              174210   1086400        2297800   \n",
      "1964-01-01   130390              203050   1213200        2514400   \n",
      "\n",
      "            Vehicle_Theft  \n",
      "Year                       \n",
      "1960-01-01         328200  \n",
      "1961-01-01         336000  \n",
      "1962-01-01         366800  \n",
      "1963-01-01         408300  \n",
      "1964-01-01         472800  \n"
     ]
    }
   ],
   "source": [
    "crimes.set_index('Year', inplace=True)\n",
    "print(crimes.head())"
   ]
  },
  {
   "cell_type": "markdown",
   "metadata": {
    "id": "MPhW-2eZCeoq"
   },
   "source": [
    "Delete the Total column"
   ]
  },
  {
   "cell_type": "code",
   "execution_count": null,
   "metadata": {
    "colab": {
     "base_uri": "https://localhost:8080/"
    },
    "id": "qmnV4h7uCe-B",
    "outputId": "ceabaeb7-4c5a-4504-ec64-5d60ba786896"
   },
   "outputs": [
    {
     "name": "stdout",
     "output_type": "stream",
     "text": [
      "            Population  Violent  Property  Murder  Forcible_Rape  Robbery  \\\n",
      "Year                                                                        \n",
      "1960-01-01   179323175   288460   3095700    9110          17190   107840   \n",
      "1961-01-01   182992000   289390   3198600    8740          17220   106670   \n",
      "1962-01-01   185771000   301510   3450700    8530          17550   110860   \n",
      "1963-01-01   188483000   316970   3792500    8640          17650   116470   \n",
      "1964-01-01   191141000   364220   4200400    9360          21420   130390   \n",
      "\n",
      "            Aggravated_assault  Burglary  Larceny_Theft  Vehicle_Theft  \n",
      "Year                                                                    \n",
      "1960-01-01              154320    912100        1855400         328200  \n",
      "1961-01-01              156760    949600        1913000         336000  \n",
      "1962-01-01              164570    994300        2089600         366800  \n",
      "1963-01-01              174210   1086400        2297800         408300  \n",
      "1964-01-01              203050   1213200        2514400         472800  \n"
     ]
    }
   ],
   "source": [
    "crimes.drop(columns='Total', inplace=True)\n",
    "print(crimes.head())"
   ]
  },
  {
   "cell_type": "markdown",
   "metadata": {
    "id": "rDvwvsS6Ch6G"
   },
   "source": [
    "Group the year by decades and sum the values"
   ]
  },
  {
   "cell_type": "code",
   "execution_count": null,
   "metadata": {
    "colab": {
     "base_uri": "https://localhost:8080/"
    },
    "id": "-00sFsDaCiTi",
    "outputId": "97368626-57d6-4ac8-c4e6-5de6a6b96696"
   },
   "outputs": [
    {
     "name": "stdout",
     "output_type": "stream",
     "text": [
      "            Population   Violent   Property  Murder  Forcible_Rape  Robbery  \\\n",
      "Year                                                                          \n",
      "1960-01-01  1915053175   4134930   45160900  106180         236720  1633510   \n",
      "1970-01-01  2121193298   9607930   91383800  192230         554570  4159020   \n",
      "1980-01-01  2371370069  14074328  117048900  206439         865639  5383109   \n",
      "1990-01-01  2612825258  17527048  119053499  211664         998827  5748930   \n",
      "2000-01-01  2947969117  13968056  100944369  163068         922499  4230366   \n",
      "2010-01-01  1570146307   6072017   44095950   72867         421059  1749809   \n",
      "\n",
      "            Aggravated_assault  Burglary  Larceny_Theft  Vehicle_Theft  \n",
      "Year                                                                    \n",
      "1960-01-01             2158520  13321100       26547700        5292100  \n",
      "1970-01-01             4702120  28486000       53157800        9739900  \n",
      "1980-01-01             7619130  33073494       72040253       11935411  \n",
      "1990-01-01            10568963  26750015       77679366       14624418  \n",
      "2000-01-01             8652124  21565176       67970291       11412834  \n",
      "2010-01-01             3764142  10125170       30401698        3569080  \n"
     ]
    }
   ],
   "source": [
    "crimes_decade = crimes.resample('10AS').sum()\n",
    "print(crimes_decade)"
   ]
  },
  {
   "cell_type": "markdown",
   "metadata": {
    "id": "Wi3ewKocCoDv"
   },
   "source": [
    "What is the most dangerous decade to live in the US ?"
   ]
  },
  {
   "cell_type": "code",
   "execution_count": null,
   "metadata": {
    "colab": {
     "base_uri": "https://localhost:8080/"
    },
    "id": "GWpb9ZjrCpjE",
    "outputId": "45c66c14-40b0-493e-d337-0815110733ed"
   },
   "outputs": [
    {
     "data": {
      "text/plain": [
       "2000"
      ]
     },
     "execution_count": 136,
     "metadata": {},
     "output_type": "execute_result"
    }
   ],
   "source": [
    "most_dangerous_decade = crimes_decade.sum(axis=1).idxmax()\n",
    "most_dangerous_decade.year"
   ]
  },
  {
   "cell_type": "markdown",
   "metadata": {
    "id": "8unJ5jGQDiCk"
   },
   "source": [
    "Create 3 differents Series, each of length 100, as follows:\n",
    "\n",
    "1. The first a random number from 1 to 4\n",
    "2. The second a random number from 1 to 3\n",
    "3. The third a random number from 10,000 to 30,000"
   ]
  },
  {
   "cell_type": "code",
   "execution_count": null,
   "metadata": {
    "colab": {
     "base_uri": "https://localhost:8080/"
    },
    "id": "jvj_jC_pDleT",
    "outputId": "5fcd51f7-a2cc-43e7-c3a1-8db13dc11f53"
   },
   "outputs": [
    {
     "name": "stdout",
     "output_type": "stream",
     "text": [
      "0     2\n",
      "1     3\n",
      "2     1\n",
      "3     2\n",
      "4     3\n",
      "     ..\n",
      "95    4\n",
      "96    2\n",
      "97    4\n",
      "98    3\n",
      "99    4\n",
      "Length: 100, dtype: int64\n",
      "0     1\n",
      "1     2\n",
      "2     3\n",
      "3     2\n",
      "4     1\n",
      "     ..\n",
      "95    1\n",
      "96    2\n",
      "97    2\n",
      "98    1\n",
      "99    2\n",
      "Length: 100, dtype: int64\n",
      "0     22824\n",
      "1     29661\n",
      "2     25045\n",
      "3     11276\n",
      "4     10000\n",
      "      ...  \n",
      "95    16359\n",
      "96    23542\n",
      "97    23607\n",
      "98    11969\n",
      "99    15026\n",
      "Length: 100, dtype: int64\n"
     ]
    }
   ],
   "source": [
    "series1 = pd.Series(np.random.randint(1, 5, size=100))\n",
    "series2 = pd.Series(np.random.randint(1, 4, size=100))\n",
    "series3 = pd.Series(np.random.randint(10000, 30001, size=100))\n",
    "print(series1)\n",
    "print(series2)\n",
    "print(series3)"
   ]
  },
  {
   "cell_type": "markdown",
   "metadata": {
    "id": "Zd3U_GFqDpwy"
   },
   "source": [
    "Let's create a DataFrame by joinning the Series by column"
   ]
  },
  {
   "cell_type": "code",
   "execution_count": null,
   "metadata": {
    "colab": {
     "base_uri": "https://localhost:8080/"
    },
    "id": "IFFGpyXXDqMh",
    "outputId": "9f747993-f19b-4614-b29a-f9f779d58c43"
   },
   "outputs": [
    {
     "name": "stdout",
     "output_type": "stream",
     "text": [
      "    Series1  Series2  Series3\n",
      "0         2        1    22824\n",
      "1         3        2    29661\n",
      "2         1        3    25045\n",
      "3         2        2    11276\n",
      "4         3        1    10000\n",
      "..      ...      ...      ...\n",
      "95        4        1    16359\n",
      "96        2        2    23542\n",
      "97        4        2    23607\n",
      "98        3        1    11969\n",
      "99        4        2    15026\n",
      "\n",
      "[100 rows x 3 columns]\n"
     ]
    }
   ],
   "source": [
    "df = pd.DataFrame({\n",
    "    'Series1': series1,\n",
    "    'Series2': series2,\n",
    "    'Series3': series3\n",
    "})\n",
    "\n",
    "print(df)"
   ]
  },
  {
   "cell_type": "markdown",
   "metadata": {
    "id": "rPNC3c-dDsiR"
   },
   "source": [
    "Change the name of the columns to bedrooms, bathrooms, price_sqr_meter"
   ]
  },
  {
   "cell_type": "code",
   "execution_count": null,
   "metadata": {
    "colab": {
     "base_uri": "https://localhost:8080/"
    },
    "id": "mrGzwZ9LDvyp",
    "outputId": "a721ada8-fdc7-4b94-9728-e9f1f2dab56f"
   },
   "outputs": [
    {
     "name": "stdout",
     "output_type": "stream",
     "text": [
      "    bedrooms  bathrooms  price_sqr_meter\n",
      "0          2          1            22824\n",
      "1          3          2            29661\n",
      "2          1          3            25045\n",
      "3          2          2            11276\n",
      "4          3          1            10000\n",
      "..       ...        ...              ...\n",
      "95         4          1            16359\n",
      "96         2          2            23542\n",
      "97         4          2            23607\n",
      "98         3          1            11969\n",
      "99         4          2            15026\n",
      "\n",
      "[100 rows x 3 columns]\n"
     ]
    }
   ],
   "source": [
    "df.columns = ['bedrooms', 'bathrooms', 'price_sqr_meter']\n",
    "print(df)"
   ]
  },
  {
   "cell_type": "markdown",
   "metadata": {
    "id": "1Ofngvk-D13Y"
   },
   "source": [
    "Create a one column DataFrame with the values of the 3 Series and assign it to 'bigcolumn'"
   ]
  },
  {
   "cell_type": "code",
   "execution_count": null,
   "metadata": {
    "colab": {
     "base_uri": "https://localhost:8080/"
    },
    "id": "ovvBzbeTD2cn",
    "outputId": "50298fec-a781-4444-fdc3-3617c52e8910"
   },
   "outputs": [
    {
     "name": "stdout",
     "output_type": "stream",
     "text": [
      "     bigcolumn\n",
      "0            2\n",
      "1            3\n",
      "2            1\n",
      "3            2\n",
      "4            3\n",
      "..         ...\n",
      "295      16359\n",
      "296      23542\n",
      "297      23607\n",
      "298      11969\n",
      "299      15026\n",
      "\n",
      "[300 rows x 1 columns]\n"
     ]
    }
   ],
   "source": [
    "bigcolumn = pd.concat([series1, series2, series3], axis=0).reset_index(drop=True)\n",
    "bigcolumn_df = pd.DataFrame({'bigcolumn': bigcolumn})\n",
    "print(bigcolumn_df)"
   ]
  },
  {
   "cell_type": "markdown",
   "metadata": {
    "id": "4Kba_CLgD5UZ"
   },
   "source": [
    "Oops, it seems it is going only until index 99. Is it true ?"
   ]
  },
  {
   "cell_type": "code",
   "execution_count": null,
   "metadata": {
    "colab": {
     "base_uri": "https://localhost:8080/"
    },
    "id": "UhOqZwyLD6Lu",
    "outputId": "06abba94-7050-4097-ce1c-f6b3f2404f94"
   },
   "outputs": [
    {
     "name": "stdout",
     "output_type": "stream",
     "text": [
      "     bigcolumn\n",
      "0            2\n",
      "1            3\n",
      "2            1\n",
      "3            2\n",
      "4            3\n",
      "..         ...\n",
      "295      16359\n",
      "296      23542\n",
      "297      23607\n",
      "298      11969\n",
      "299      15026\n",
      "\n",
      "[300 rows x 1 columns]\n"
     ]
    }
   ],
   "source": [
    "bigcolumn = pd.concat([series1, series2, series3], axis=0).reset_index(drop=True)\n",
    "bigcolumn_df = pd.DataFrame({'bigcolumn': bigcolumn})\n",
    "print(bigcolumn_df)"
   ]
  },
  {
   "cell_type": "markdown",
   "metadata": {
    "id": "WEO2gEpDD78R"
   },
   "source": [
    "Reindex the DataFrame so it goes from 0 to 299"
   ]
  },
  {
   "cell_type": "code",
   "execution_count": null,
   "metadata": {
    "colab": {
     "base_uri": "https://localhost:8080/"
    },
    "id": "csL5SmlvD8h0",
    "outputId": "b5bf3aeb-b48a-4bd9-81ad-facf3c05bcae"
   },
   "outputs": [
    {
     "name": "stdout",
     "output_type": "stream",
     "text": [
      "     bigcolumn\n",
      "0            2\n",
      "1            3\n",
      "2            1\n",
      "3            2\n",
      "4            3\n",
      "..         ...\n",
      "295      16359\n",
      "296      23542\n",
      "297      23607\n",
      "298      11969\n",
      "299      15026\n",
      "\n",
      "[300 rows x 1 columns]\n"
     ]
    }
   ],
   "source": [
    "bigcolumn_df = bigcolumn_df.reset_index(drop=True)\n",
    "bigcolumn_df.index = range(300)\n",
    "print(bigcolumn_df)"
   ]
  },
  {
   "cell_type": "markdown",
   "metadata": {
    "id": "ji-0PBzjHDME"
   },
   "source": [
    "Download the data from the following URL\n",
    "\n",
    "https://drive.google.com/file/d/1skwO4O-iRqns3i2EsGe6LQcxwQX53vTi/view?usp=sharing\n",
    "\n",
    "\n",
    "Read and assign it to a variable called baby_names."
   ]
  },
  {
   "cell_type": "code",
   "execution_count": null,
   "metadata": {
    "colab": {
     "base_uri": "https://localhost:8080/",
     "height": 324
    },
    "id": "WJTnjjoLHDyx",
    "outputId": "2755730a-bfad-4ad1-a49a-5b10d93542c0"
   },
   "outputs": [
    {
     "data": {
      "text/html": [
       "\n",
       "     <input type=\"file\" id=\"files-401c4ca5-8357-48e9-be14-31ac8787d146\" name=\"files[]\" multiple disabled\n",
       "        style=\"border:none\" />\n",
       "     <output id=\"result-401c4ca5-8357-48e9-be14-31ac8787d146\">\n",
       "      Upload widget is only available when the cell has been executed in the\n",
       "      current browser session. Please rerun this cell to enable.\n",
       "      </output>\n",
       "      <script>// Copyright 2017 Google LLC\n",
       "//\n",
       "// Licensed under the Apache License, Version 2.0 (the \"License\");\n",
       "// you may not use this file except in compliance with the License.\n",
       "// You may obtain a copy of the License at\n",
       "//\n",
       "//      http://www.apache.org/licenses/LICENSE-2.0\n",
       "//\n",
       "// Unless required by applicable law or agreed to in writing, software\n",
       "// distributed under the License is distributed on an \"AS IS\" BASIS,\n",
       "// WITHOUT WARRANTIES OR CONDITIONS OF ANY KIND, either express or implied.\n",
       "// See the License for the specific language governing permissions and\n",
       "// limitations under the License.\n",
       "\n",
       "/**\n",
       " * @fileoverview Helpers for google.colab Python module.\n",
       " */\n",
       "(function(scope) {\n",
       "function span(text, styleAttributes = {}) {\n",
       "  const element = document.createElement('span');\n",
       "  element.textContent = text;\n",
       "  for (const key of Object.keys(styleAttributes)) {\n",
       "    element.style[key] = styleAttributes[key];\n",
       "  }\n",
       "  return element;\n",
       "}\n",
       "\n",
       "// Max number of bytes which will be uploaded at a time.\n",
       "const MAX_PAYLOAD_SIZE = 100 * 1024;\n",
       "\n",
       "function _uploadFiles(inputId, outputId) {\n",
       "  const steps = uploadFilesStep(inputId, outputId);\n",
       "  const outputElement = document.getElementById(outputId);\n",
       "  // Cache steps on the outputElement to make it available for the next call\n",
       "  // to uploadFilesContinue from Python.\n",
       "  outputElement.steps = steps;\n",
       "\n",
       "  return _uploadFilesContinue(outputId);\n",
       "}\n",
       "\n",
       "// This is roughly an async generator (not supported in the browser yet),\n",
       "// where there are multiple asynchronous steps and the Python side is going\n",
       "// to poll for completion of each step.\n",
       "// This uses a Promise to block the python side on completion of each step,\n",
       "// then passes the result of the previous step as the input to the next step.\n",
       "function _uploadFilesContinue(outputId) {\n",
       "  const outputElement = document.getElementById(outputId);\n",
       "  const steps = outputElement.steps;\n",
       "\n",
       "  const next = steps.next(outputElement.lastPromiseValue);\n",
       "  return Promise.resolve(next.value.promise).then((value) => {\n",
       "    // Cache the last promise value to make it available to the next\n",
       "    // step of the generator.\n",
       "    outputElement.lastPromiseValue = value;\n",
       "    return next.value.response;\n",
       "  });\n",
       "}\n",
       "\n",
       "/**\n",
       " * Generator function which is called between each async step of the upload\n",
       " * process.\n",
       " * @param {string} inputId Element ID of the input file picker element.\n",
       " * @param {string} outputId Element ID of the output display.\n",
       " * @return {!Iterable<!Object>} Iterable of next steps.\n",
       " */\n",
       "function* uploadFilesStep(inputId, outputId) {\n",
       "  const inputElement = document.getElementById(inputId);\n",
       "  inputElement.disabled = false;\n",
       "\n",
       "  const outputElement = document.getElementById(outputId);\n",
       "  outputElement.innerHTML = '';\n",
       "\n",
       "  const pickedPromise = new Promise((resolve) => {\n",
       "    inputElement.addEventListener('change', (e) => {\n",
       "      resolve(e.target.files);\n",
       "    });\n",
       "  });\n",
       "\n",
       "  const cancel = document.createElement('button');\n",
       "  inputElement.parentElement.appendChild(cancel);\n",
       "  cancel.textContent = 'Cancel upload';\n",
       "  const cancelPromise = new Promise((resolve) => {\n",
       "    cancel.onclick = () => {\n",
       "      resolve(null);\n",
       "    };\n",
       "  });\n",
       "\n",
       "  // Wait for the user to pick the files.\n",
       "  const files = yield {\n",
       "    promise: Promise.race([pickedPromise, cancelPromise]),\n",
       "    response: {\n",
       "      action: 'starting',\n",
       "    }\n",
       "  };\n",
       "\n",
       "  cancel.remove();\n",
       "\n",
       "  // Disable the input element since further picks are not allowed.\n",
       "  inputElement.disabled = true;\n",
       "\n",
       "  if (!files) {\n",
       "    return {\n",
       "      response: {\n",
       "        action: 'complete',\n",
       "      }\n",
       "    };\n",
       "  }\n",
       "\n",
       "  for (const file of files) {\n",
       "    const li = document.createElement('li');\n",
       "    li.append(span(file.name, {fontWeight: 'bold'}));\n",
       "    li.append(span(\n",
       "        `(${file.type || 'n/a'}) - ${file.size} bytes, ` +\n",
       "        `last modified: ${\n",
       "            file.lastModifiedDate ? file.lastModifiedDate.toLocaleDateString() :\n",
       "                                    'n/a'} - `));\n",
       "    const percent = span('0% done');\n",
       "    li.appendChild(percent);\n",
       "\n",
       "    outputElement.appendChild(li);\n",
       "\n",
       "    const fileDataPromise = new Promise((resolve) => {\n",
       "      const reader = new FileReader();\n",
       "      reader.onload = (e) => {\n",
       "        resolve(e.target.result);\n",
       "      };\n",
       "      reader.readAsArrayBuffer(file);\n",
       "    });\n",
       "    // Wait for the data to be ready.\n",
       "    let fileData = yield {\n",
       "      promise: fileDataPromise,\n",
       "      response: {\n",
       "        action: 'continue',\n",
       "      }\n",
       "    };\n",
       "\n",
       "    // Use a chunked sending to avoid message size limits. See b/62115660.\n",
       "    let position = 0;\n",
       "    do {\n",
       "      const length = Math.min(fileData.byteLength - position, MAX_PAYLOAD_SIZE);\n",
       "      const chunk = new Uint8Array(fileData, position, length);\n",
       "      position += length;\n",
       "\n",
       "      const base64 = btoa(String.fromCharCode.apply(null, chunk));\n",
       "      yield {\n",
       "        response: {\n",
       "          action: 'append',\n",
       "          file: file.name,\n",
       "          data: base64,\n",
       "        },\n",
       "      };\n",
       "\n",
       "      let percentDone = fileData.byteLength === 0 ?\n",
       "          100 :\n",
       "          Math.round((position / fileData.byteLength) * 100);\n",
       "      percent.textContent = `${percentDone}% done`;\n",
       "\n",
       "    } while (position < fileData.byteLength);\n",
       "  }\n",
       "\n",
       "  // All done.\n",
       "  yield {\n",
       "    response: {\n",
       "      action: 'complete',\n",
       "    }\n",
       "  };\n",
       "}\n",
       "\n",
       "scope.google = scope.google || {};\n",
       "scope.google.colab = scope.google.colab || {};\n",
       "scope.google.colab._files = {\n",
       "  _uploadFiles,\n",
       "  _uploadFilesContinue,\n",
       "};\n",
       "})(self);\n",
       "</script> "
      ],
      "text/plain": [
       "<IPython.core.display.HTML object>"
      ]
     },
     "metadata": {},
     "output_type": "display_data"
    },
    {
     "name": "stdout",
     "output_type": "stream",
     "text": [
      "Saving BabyNames.csv to BabyNames (1).csv\n",
      "         Unnamed: 0       Id     Name  Year Gender State  Count\n",
      "0             11349    11350     Emma  2004      F    AK     62\n",
      "1             11350    11351  Madison  2004      F    AK     48\n",
      "2             11351    11352   Hannah  2004      F    AK     46\n",
      "3             11352    11353    Grace  2004      F    AK     44\n",
      "4             11353    11354    Emily  2004      F    AK     41\n",
      "...             ...      ...      ...   ...    ...   ...    ...\n",
      "1016390     5647421  5647422     Seth  2014      M    WY      5\n",
      "1016391     5647422  5647423  Spencer  2014      M    WY      5\n",
      "1016392     5647423  5647424     Tyce  2014      M    WY      5\n",
      "1016393     5647424  5647425   Victor  2014      M    WY      5\n",
      "1016394     5647425  5647426   Waylon  2014      M    WY      5\n",
      "\n",
      "[1016395 rows x 7 columns]\n"
     ]
    }
   ],
   "source": [
    "uploaded = files.upload()\n",
    "baby_names = pd.read_csv('BabyNames.csv')\n",
    "print(baby_names)"
   ]
  },
  {
   "cell_type": "markdown",
   "metadata": {
    "id": "0fcNiLwAZ4P7"
   },
   "source": [
    "See the first 10 entries"
   ]
  },
  {
   "cell_type": "code",
   "execution_count": null,
   "metadata": {
    "colab": {
     "base_uri": "https://localhost:8080/"
    },
    "id": "5oQDhiCEZ5b7",
    "outputId": "e0ea9c3c-a79c-4b17-bbd7-d2ddc5d9e87c"
   },
   "outputs": [
    {
     "name": "stdout",
     "output_type": "stream",
     "text": [
      "   Unnamed: 0     Id      Name  Year Gender State  Count\n",
      "0       11349  11350      Emma  2004      F    AK     62\n",
      "1       11350  11351   Madison  2004      F    AK     48\n",
      "2       11351  11352    Hannah  2004      F    AK     46\n",
      "3       11352  11353     Grace  2004      F    AK     44\n",
      "4       11353  11354     Emily  2004      F    AK     41\n",
      "5       11354  11355   Abigail  2004      F    AK     37\n",
      "6       11355  11356    Olivia  2004      F    AK     33\n",
      "7       11356  11357  Isabella  2004      F    AK     30\n",
      "8       11357  11358    Alyssa  2004      F    AK     29\n",
      "9       11358  11359    Sophia  2004      F    AK     28\n"
     ]
    }
   ],
   "source": [
    "print(baby_names.head(10))"
   ]
  },
  {
   "cell_type": "markdown",
   "metadata": {
    "id": "L1Ckj2HhZ-Ty"
   },
   "source": [
    "Delete the column 'Unnamed: 0' and 'Id'"
   ]
  },
  {
   "cell_type": "code",
   "execution_count": null,
   "metadata": {
    "colab": {
     "base_uri": "https://localhost:8080/"
    },
    "id": "GivayIMGZ-4I",
    "outputId": "675286ca-99d8-4856-c205-3761866dcaf8"
   },
   "outputs": [
    {
     "name": "stdout",
     "output_type": "stream",
     "text": [
      "       Name  Year Gender State  Count\n",
      "0      Emma  2004      F    AK     62\n",
      "1   Madison  2004      F    AK     48\n",
      "2    Hannah  2004      F    AK     46\n",
      "3     Grace  2004      F    AK     44\n",
      "4     Emily  2004      F    AK     41\n",
      "5   Abigail  2004      F    AK     37\n",
      "6    Olivia  2004      F    AK     33\n",
      "7  Isabella  2004      F    AK     30\n",
      "8    Alyssa  2004      F    AK     29\n",
      "9    Sophia  2004      F    AK     28\n"
     ]
    }
   ],
   "source": [
    "baby_names = baby_names.drop(['Unnamed: 0', 'Id'], axis=1)\n",
    "print(baby_names.head(10))"
   ]
  },
  {
   "cell_type": "markdown",
   "metadata": {
    "id": "p6-MZpZpaB3-"
   },
   "source": [
    "Is there more male or female names in the dataset ?\n",
    "\n",
    "Answer:\n",
    "1. F    558846\n",
    "2. M    457549"
   ]
  },
  {
   "cell_type": "code",
   "execution_count": null,
   "metadata": {
    "colab": {
     "base_uri": "https://localhost:8080/"
    },
    "id": "IfmgmiSWaCsT",
    "outputId": "9f03bf12-cfae-46a2-a073-ec0d9441eae7"
   },
   "outputs": [
    {
     "name": "stdout",
     "output_type": "stream",
     "text": [
      "1. F 558846\n",
      "2. M 457549\n"
     ]
    }
   ],
   "source": [
    "gender_counts = baby_names['Gender'].value_counts()\n",
    "for i, (gender, count) in enumerate(gender_counts.items(), 1):\n",
    "    print(f\"{i}. {gender} {count}\")"
   ]
  },
  {
   "cell_type": "markdown",
   "metadata": {
    "id": "6zXSshPgaFX5"
   },
   "source": [
    "Group the dataset by name and assign to names"
   ]
  },
  {
   "cell_type": "code",
   "execution_count": null,
   "metadata": {
    "colab": {
     "base_uri": "https://localhost:8080/"
    },
    "id": "0QV541TJaGAH",
    "outputId": "971965c3-4735-4ce8-b969-1bf82766d8b6"
   },
   "outputs": [
    {
     "name": "stdout",
     "output_type": "stream",
     "text": [
      "            Name  Year Gender State  Count\n",
      "0           Emma  2004      F    AK     62\n",
      "1        Madison  2004      F    AK     48\n",
      "2         Hannah  2004      F    AK     46\n",
      "3          Grace  2004      F    AK     44\n",
      "4          Emily  2004      F    AK     41\n",
      "...          ...   ...    ...   ...    ...\n",
      "1004923  Gryffin  2014      M    WI      5\n",
      "1004950     Kroy  2014      M    WI      5\n",
      "1004973     Owyn  2014      M    WI      5\n",
      "1005707   Haylea  2005      F    WV      5\n",
      "1012216  Coalton  2012      M    WV      7\n",
      "\n",
      "[65502 rows x 5 columns]\n"
     ]
    }
   ],
   "source": [
    "names = baby_names.groupby('Name')\n",
    "print(names.head())"
   ]
  },
  {
   "cell_type": "markdown",
   "metadata": {
    "id": "EUa9R3UgaGyF"
   },
   "source": [
    "How many different names exist in the dataset ?\n",
    "\n",
    "Answer: 17632"
   ]
  },
  {
   "cell_type": "code",
   "execution_count": null,
   "metadata": {
    "colab": {
     "base_uri": "https://localhost:8080/"
    },
    "id": "wCRlajQHaJDI",
    "outputId": "472a28ea-bd15-4252-8bd7-e26160223e0d"
   },
   "outputs": [
    {
     "data": {
      "text/plain": [
       "17632"
      ]
     },
     "execution_count": 148,
     "metadata": {},
     "output_type": "execute_result"
    }
   ],
   "source": [
    "num_unique_names = baby_names['Name'].nunique()\n",
    "num_unique_names"
   ]
  },
  {
   "cell_type": "markdown",
   "metadata": {
    "id": "whytWzVaaM_S"
   },
   "source": [
    "What is the name with most occurrences ?\n",
    "\n",
    "Answer: 'Jacob'"
   ]
  },
  {
   "cell_type": "code",
   "execution_count": null,
   "metadata": {
    "colab": {
     "base_uri": "https://localhost:8080/",
     "height": 35
    },
    "id": "-5dohNKgaNsa",
    "outputId": "44712c92-122e-4832-cb42-f20f3a1cb20d"
   },
   "outputs": [
    {
     "data": {
      "application/vnd.google.colaboratory.intrinsic+json": {
       "type": "string"
      },
      "text/plain": [
       "'Jacob'"
      ]
     },
     "execution_count": 149,
     "metadata": {},
     "output_type": "execute_result"
    }
   ],
   "source": [
    "name_counts = baby_names.groupby('Name')['Count'].sum()\n",
    "most_common_name = name_counts.idxmax()\n",
    "most_common_name"
   ]
  },
  {
   "cell_type": "markdown",
   "metadata": {
    "id": "l3Oadn0TaQbT"
   },
   "source": [
    "How many different names have the least occurrences ?\n",
    "\n",
    "Answer: 2578"
   ]
  },
  {
   "cell_type": "code",
   "execution_count": null,
   "metadata": {
    "colab": {
     "base_uri": "https://localhost:8080/"
    },
    "id": "TFqviWIHaRJI",
    "outputId": "ecf6d4e9-838b-4d67-82bc-2ed863fd12c1"
   },
   "outputs": [
    {
     "data": {
      "text/plain": [
       "2578"
      ]
     },
     "execution_count": 150,
     "metadata": {},
     "output_type": "execute_result"
    }
   ],
   "source": [
    "min_count = name_counts.min()\n",
    "names_with_min_count = name_counts[name_counts == min_count].count()\n",
    "names_with_min_count"
   ]
  },
  {
   "cell_type": "markdown",
   "metadata": {
    "id": "-lA928AsaTjr"
   },
   "source": [
    "What is the median name occurrence ?"
   ]
  },
  {
   "cell_type": "code",
   "execution_count": null,
   "metadata": {
    "colab": {
     "base_uri": "https://localhost:8080/"
    },
    "id": "7kT7fUnWaUS0",
    "outputId": "f20d78f0-a349-4c8f-c35e-26acc254d56c"
   },
   "outputs": [
    {
     "data": {
      "text/plain": [
       "49.0"
      ]
     },
     "execution_count": 151,
     "metadata": {},
     "output_type": "execute_result"
    }
   ],
   "source": [
    "median_occurrence = name_counts.median()\n",
    "median_occurrence"
   ]
  },
  {
   "cell_type": "markdown",
   "metadata": {
    "id": "B5mSN56NaWuD"
   },
   "source": [
    "What is the standard deviation of names ?\n",
    "\n",
    "Answer: 11006.069467891111"
   ]
  },
  {
   "cell_type": "code",
   "execution_count": null,
   "metadata": {
    "colab": {
     "base_uri": "https://localhost:8080/"
    },
    "id": "D3eSqexLaXZz",
    "outputId": "bc1a2c3a-4b7e-4d5d-9879-e34878db3d76"
   },
   "outputs": [
    {
     "data": {
      "text/plain": [
       "11006.06946789057"
      ]
     },
     "execution_count": 152,
     "metadata": {},
     "output_type": "execute_result"
    }
   ],
   "source": [
    "std_dev_occurrence = name_counts.std()\n",
    "std_dev_occurrence"
   ]
  },
  {
   "cell_type": "markdown",
   "metadata": {
    "id": "H6s-prwPaZ90"
   },
   "source": [
    "Get a summary with the mean, min, max, std and quartiles."
   ]
  },
  {
   "cell_type": "code",
   "execution_count": null,
   "metadata": {
    "colab": {
     "base_uri": "https://localhost:8080/"
    },
    "id": "7N5puS2daas7",
    "outputId": "388b1471-1915-407b-aebc-84c081ceb628"
   },
   "outputs": [
    {
     "name": "stdout",
     "output_type": "stream",
     "text": [
      "count     17632.000000\n",
      "mean       2008.932169\n",
      "std       11006.069468\n",
      "min           5.000000\n",
      "25%          11.000000\n",
      "50%          49.000000\n",
      "75%         337.000000\n",
      "max      242874.000000\n",
      "Name: Count, dtype: float64\n"
     ]
    }
   ],
   "source": [
    "summary_stats = name_counts.describe()\n",
    "print(summary_stats)"
   ]
  }
 ],
 "metadata": {
  "colab": {
   "provenance": []
  },
  "kernelspec": {
   "display_name": "Python 3",
   "name": "python3"
  },
  "language_info": {
   "name": "python"
  }
 },
 "nbformat": 4,
 "nbformat_minor": 0
}
