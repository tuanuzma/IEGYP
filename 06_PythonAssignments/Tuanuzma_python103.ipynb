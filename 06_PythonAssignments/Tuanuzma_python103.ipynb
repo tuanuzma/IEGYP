{
 "cells": [
  {
   "cell_type": "markdown",
   "metadata": {
    "id": "sh59bu-cmHQf"
   },
   "source": [
    "# This exercise is to test your knowledge in\n",
    "\n",
    "1.   For Loop\n",
    "2.   While Loop\n",
    "\n"
   ]
  },
  {
   "cell_type": "markdown",
   "metadata": {
    "id": "NUBr3r3Er9Ub"
   },
   "source": [
    "**Problem 1**\n",
    "\n",
    "Print first 10 natural numbers using while loop"
   ]
  },
  {
   "cell_type": "code",
   "execution_count": null,
   "metadata": {
    "colab": {
     "base_uri": "https://localhost:8080/"
    },
    "id": "J-YS3jigr6bo",
    "outputId": "405631bc-f5bc-4589-eaf6-9557d7ab6b71"
   },
   "outputs": [
    {
     "name": "stdout",
     "output_type": "stream",
     "text": [
      "1\n",
      "2\n",
      "3\n",
      "4\n",
      "5\n",
      "6\n",
      "7\n",
      "8\n",
      "9\n",
      "10\n"
     ]
    }
   ],
   "source": [
    "numbers = 1\n",
    "while numbers < 11:\n",
    "  print(numbers)\n",
    "  numbers += 1"
   ]
  },
  {
   "cell_type": "code",
   "execution_count": 1,
   "metadata": {},
   "outputs": [
    {
     "name": "stdout",
     "output_type": "stream",
     "text": [
      "1\n",
      "2\n",
      "3\n",
      "4\n",
      "5\n",
      "6\n",
      "7\n",
      "8\n",
      "9\n",
      "10\n"
     ]
    }
   ],
   "source": [
    "# Initialize the counter\n",
    "number = 1\n",
    "\n",
    "# Use a while loop to print the first 10 natural numbers\n",
    "while number <= 10:\n",
    "    print(number)\n",
    "    number += 1"
   ]
  },
  {
   "cell_type": "markdown",
   "metadata": {
    "id": "VSmefGGDsDr0"
   },
   "source": [
    "**Problem 2**\n",
    "\n",
    "Print first 10 prime numbers using for loop"
   ]
  },
  {
   "cell_type": "code",
   "execution_count": null,
   "metadata": {
    "colab": {
     "base_uri": "https://localhost:8080/"
    },
    "id": "xnXhQAK7sMRY",
    "outputId": "02c3d805-97c3-4a4d-ac11-b6af7bf06105"
   },
   "outputs": [
    {
     "name": "stdout",
     "output_type": "stream",
     "text": [
      "2\n",
      "3\n",
      "5\n",
      "7\n"
     ]
    }
   ],
   "source": [
    "# Prime number is number that can be divided by itself and 1.\n",
    "# Step 1: Loop through all the elements in the given range.\n",
    "# Step 2: Check for each number if it has any factor between 1 and itself.\n",
    "# Step 3: If yes, then the number is not prime number,\n",
    "# and it will move to the next number.\n",
    "# Step 4: If no, it is the prime number, and the program\n",
    "# will print it and check for the next number.\n",
    "\n",
    "# Define the range of numbers you want to check\n",
    "start = 1\n",
    "end = 10\n",
    "for num in range(start, end + 1): #Use range() to generate iterable numbers\n",
    "  if num > 1:\n",
    "    for a in range(2, num):\n",
    "      if (num % a) == 0:\n",
    "        break\n",
    "    else:\n",
    "      print(num)"
   ]
  },
  {
   "cell_type": "code",
   "execution_count": 2,
   "metadata": {},
   "outputs": [
    {
     "name": "stdout",
     "output_type": "stream",
     "text": [
      "First 10 prime numbers:\n",
      "2\n",
      "3\n",
      "5\n",
      "7\n",
      "11\n",
      "13\n",
      "17\n",
      "19\n",
      "23\n",
      "29\n"
     ]
    }
   ],
   "source": [
    "# Function to check if a number is prime\n",
    "def is_prime(num):\n",
    "    if num < 2:\n",
    "        return False\n",
    "    for i in range(2, int(num ** 0.5) + 1):\n",
    "        if num % i == 0:\n",
    "            return False\n",
    "    return True\n",
    "\n",
    "# Print the first 10 prime numbers using a for loop\n",
    "print(\"First 10 prime numbers:\")\n",
    "prime_count = 0\n",
    "current_number = 2\n",
    "\n",
    "for _ in range(10):  # Loop runs exactly 10 times\n",
    "    while not is_prime(current_number):\n",
    "        current_number += 1\n",
    "    print(current_number)\n",
    "    current_number += 1"
   ]
  },
  {
   "cell_type": "markdown",
   "metadata": {
    "id": "9TXi2WCNsNTg"
   },
   "source": [
    "**Problem 3**\n",
    "\n",
    "Get number of items as input and generate that many ADAM Numbers"
   ]
  },
  {
   "cell_type": "code",
   "execution_count": null,
   "metadata": {
    "colab": {
     "base_uri": "https://localhost:8080/"
    },
    "id": "tbdnHb5qajI3",
    "outputId": "67065bc0-ac15-451b-e3e7-c10ea481c55a"
   },
   "outputs": [
    {
     "name": "stdout",
     "output_type": "stream",
     "text": [
      "enter a number: 11\n",
      "ADAM Numbers: [1, 2, 3, 11, 12, 13, 21, 22, 31, 101, 102]\n"
     ]
    }
   ],
   "source": [
    "number = int(input(\"enter a number: \"))\n",
    "adam_numbers = []\n",
    "num = 1\n",
    "while len(adam_numbers) < number:\n",
    "    reversed_num = 0\n",
    "    temp = num\n",
    "    while temp > 0:\n",
    "        reversed_num = reversed_num * 10 + temp % 10\n",
    "        temp = temp // 10\n",
    "\n",
    "    square = num * num\n",
    "    reversed_square = reversed_num * reversed_num\n",
    "\n",
    "    reversed_result = 0\n",
    "    temp = reversed_square\n",
    "    while temp > 0:\n",
    "        reversed_result = reversed_result * 10 + temp % 10\n",
    "        temp = temp // 10\n",
    "\n",
    "    if square == reversed_result:\n",
    "        adam_numbers.append(num)\n",
    "\n",
    "    num += 1\n",
    "\n",
    "print(\"ADAM Numbers:\", adam_numbers)"
   ]
  },
  {
   "cell_type": "code",
   "execution_count": 4,
   "metadata": {},
   "outputs": [
    {
     "name": "stdin",
     "output_type": "stream",
     "text": [
      "Enter the number of Adam numbers to generate:  5\n"
     ]
    },
    {
     "name": "stdout",
     "output_type": "stream",
     "text": [
      "The first 5 Adam numbers are: [1, 2, 3, 11, 12]\n"
     ]
    }
   ],
   "source": [
    "# Function to reverse a number\n",
    "def reverse_number(num):\n",
    "    reversed_num = 0\n",
    "    while num > 0:\n",
    "        reversed_num = reversed_num * 10 + num % 10\n",
    "        num //= 10\n",
    "    return reversed_num\n",
    "\n",
    "# Function to check if a number is an Adam number\n",
    "def is_adam_number(num):\n",
    "    # Square of the number and its reverse\n",
    "    original_square = num ** 2\n",
    "    reversed_square = reverse_number(reverse_number(num) ** 2)\n",
    "    # Check if the squares are reverses of each other\n",
    "    return original_square == reversed_square\n",
    "\n",
    "# Get the number of Adam numbers to generate\n",
    "n = int(input(\"Enter the number of Adam numbers to generate: \"))\n",
    "\n",
    "# Generate Adam numbers\n",
    "adam_numbers = []\n",
    "current_number = 1\n",
    "while len(adam_numbers) < n:\n",
    "    if is_adam_number(current_number):\n",
    "        adam_numbers.append(current_number)\n",
    "    current_number += 1\n",
    "\n",
    "# Print the generated Adam numbers\n",
    "print(f\"The first {n} Adam numbers are: {adam_numbers}\")"
   ]
  },
  {
   "cell_type": "markdown",
   "metadata": {
    "id": "1NtR4H83sWRd"
   },
   "source": [
    "**Problem 4**\n",
    "\n",
    "Get number of items as input and generate that many Armstrong Numbers"
   ]
  },
  {
   "cell_type": "code",
   "execution_count": null,
   "metadata": {
    "colab": {
     "base_uri": "https://localhost:8080/"
    },
    "id": "kTHyEZhosohS",
    "outputId": "164dc01d-26bd-48a6-dc43-3f0f082d3251"
   },
   "outputs": [
    {
     "name": "stdout",
     "output_type": "stream",
     "text": [
      "Enter the number of Armstrong numbers to generate: 15\n",
      "1 2 3 4 5 6 7 8 9 153 370 371 407 1634 8208 "
     ]
    }
   ],
   "source": [
    "# Get the number of Armstrong numbers to generate\n",
    "num_armstrong = int(input(\"Enter the number of Armstrong numbers to generate: \"))\n",
    "\n",
    "# Initialize variables\n",
    "count = 0\n",
    "num = 1\n",
    "\n",
    "# Generate Armstrong numbers\n",
    "while num_armstrong > 0:\n",
    "  order = len(str(num))\n",
    "  sum = 0\n",
    "  temp = num\n",
    "  while temp > 0:\n",
    "    digit = temp % 10\n",
    "    sum += digit ** order\n",
    "    temp //= 10\n",
    "\n",
    "  if num == sum:\n",
    "    print(num, end=\" \")\n",
    "    count += 1\n",
    "\n",
    "  num += 1"
   ]
  },
  {
   "cell_type": "code",
   "execution_count": 6,
   "metadata": {},
   "outputs": [
    {
     "name": "stdin",
     "output_type": "stream",
     "text": [
      "Enter the number of Armstrong numbers to generate:  15\n"
     ]
    },
    {
     "name": "stdout",
     "output_type": "stream",
     "text": [
      "The first 15 Armstrong numbers are: [1, 2, 3, 4, 5, 6, 7, 8, 9, 153, 370, 371, 407, 1634, 8208]\n"
     ]
    }
   ],
   "source": [
    "# Function to check if a number is an Armstrong number\n",
    "def is_armstrong_number(num):\n",
    "    # Convert number to string to easily get the number of digits\n",
    "    num_str = str(num)\n",
    "    num_digits = len(num_str)\n",
    "    # Calculate the sum of the digits raised to the power of the number of digits\n",
    "    sum_of_powers = sum(int(digit) ** num_digits for digit in num_str)\n",
    "    # Check if the sum is equal to the original number\n",
    "    return sum_of_powers == num\n",
    "\n",
    "# Get the number of Armstrong numbers to generate\n",
    "n = int(input(\"Enter the number of Armstrong numbers to generate: \"))\n",
    "\n",
    "# Generate Armstrong numbers\n",
    "armstrong_numbers = []\n",
    "current_number = 1\n",
    "while len(armstrong_numbers) < n:\n",
    "    if is_armstrong_number(current_number):\n",
    "        armstrong_numbers.append(current_number)\n",
    "    current_number += 1\n",
    "\n",
    "# Print the generated Armstrong numbers\n",
    "print(f\"The first {n} Armstrong numbers are: {armstrong_numbers}\")"
   ]
  },
  {
   "cell_type": "markdown",
   "metadata": {
    "id": "YSye6ju2s4Rd"
   },
   "source": [
    "**Problem 5**\n",
    "\n",
    "Write a program to print the following pattern using a loop.\n",
    "\n",
    "o\n",
    "\n",
    "oo\n",
    "\n",
    "ooo\n",
    "\n",
    "oooo\n",
    "\n",
    "ooooo"
   ]
  },
  {
   "cell_type": "code",
   "execution_count": null,
   "metadata": {
    "colab": {
     "base_uri": "https://localhost:8080/"
    },
    "id": "UY1ml3TotBI7",
    "outputId": "b5f00dfd-22a6-420d-d9d5-6dc949f8d3d8"
   },
   "outputs": [
    {
     "name": "stdout",
     "output_type": "stream",
     "text": [
      "o\n",
      "oo\n",
      "ooo\n",
      "oooo\n",
      "ooooo\n"
     ]
    }
   ],
   "source": [
    "character = \"o\"\n",
    "for i in range(1,6):\n",
    "  print(character * i)"
   ]
  },
  {
   "cell_type": "code",
   "execution_count": 7,
   "metadata": {},
   "outputs": [
    {
     "name": "stdout",
     "output_type": "stream",
     "text": [
      "o\n",
      "oo\n",
      "ooo\n",
      "oooo\n",
      "ooooo\n"
     ]
    }
   ],
   "source": [
    "# Number of rows\n",
    "n = 5\n",
    "\n",
    "# Loop to print each row\n",
    "for i in range(1, n + 1):\n",
    "    # Print 'o' repeated i times\n",
    "    print('o' * i)"
   ]
  },
  {
   "cell_type": "markdown",
   "metadata": {
    "id": "1SkSXbQbtUEW"
   },
   "source": [
    "**Problem 6**\n",
    "\n",
    "Write a program to print the following pattern using a loop\n",
    "\n",
    "1\n",
    "\n",
    "1 2\n",
    "\n",
    "1 2 3\n",
    "\n",
    "1 2 3 4\n",
    "\n",
    "1 2 3 4 5"
   ]
  },
  {
   "cell_type": "code",
   "execution_count": null,
   "metadata": {
    "colab": {
     "base_uri": "https://localhost:8080/"
    },
    "id": "Skgk8etGesOi",
    "outputId": "0bb8f685-220a-4de7-e891-f82570f2c6de"
   },
   "outputs": [
    {
     "name": "stdout",
     "output_type": "stream",
     "text": [
      "1 \n",
      "1 2 \n",
      "1 2 3 \n",
      "1 2 3 4 \n",
      "1 2 3 4 5 \n"
     ]
    }
   ],
   "source": [
    "# prompt: Write a program to print the following pattern using a loop\n",
    "\n",
    "for i in range(1, 6):\n",
    "  for j in range(1, i + 1):\n",
    "    print(j, end=\" \")\n",
    "  print()"
   ]
  },
  {
   "cell_type": "code",
   "execution_count": 8,
   "metadata": {},
   "outputs": [
    {
     "name": "stdout",
     "output_type": "stream",
     "text": [
      "1 \n",
      "1 2 \n",
      "1 2 3 \n",
      "1 2 3 4 \n",
      "1 2 3 4 5 \n"
     ]
    }
   ],
   "source": [
    "# Number of rows\n",
    "n = 5\n",
    "\n",
    "# Loop to print each row\n",
    "for i in range(1, n + 1):\n",
    "    # Print numbers from 1 to i\n",
    "    for j in range(1, i + 1):\n",
    "        print(j, end=\" \")\n",
    "    print()  # New line after each row"
   ]
  },
  {
   "cell_type": "markdown",
   "metadata": {
    "id": "WWKQLhpptmeb"
   },
   "source": [
    "**Problem 7**\n",
    "\n",
    "Get a number as input and calculate the sum of all numbers from 1 to the given number."
   ]
  },
  {
   "cell_type": "code",
   "execution_count": null,
   "metadata": {
    "colab": {
     "base_uri": "https://localhost:8080/"
    },
    "id": "ps0pUcEDtzkb",
    "outputId": "ef54d95a-05a4-41a6-a2f1-bc107f1a26d3"
   },
   "outputs": [
    {
     "name": "stdout",
     "output_type": "stream",
     "text": [
      "Enter a number: 25\n",
      "The sum of all numbers from 1 to 25 is: 325\n"
     ]
    }
   ],
   "source": [
    "# Get the number as input\n",
    "number = int(input(\"Enter a number: \"))\n",
    "\n",
    "# Calculate the sum of all numbers from 1 to the given number\n",
    "sum = 0\n",
    "for i in range(1, number + 1):\n",
    "  sum += i\n",
    "\n",
    "# Print the sum\n",
    "print(\"The sum of all numbers from 1 to\", number, \"is:\", sum)\n",
    "\n"
   ]
  },
  {
   "cell_type": "code",
   "execution_count": 9,
   "metadata": {},
   "outputs": [
    {
     "name": "stdin",
     "output_type": "stream",
     "text": [
      "Enter a number:  5\n"
     ]
    },
    {
     "name": "stdout",
     "output_type": "stream",
     "text": [
      "The sum of all numbers from 1 to 5 is: 15\n"
     ]
    }
   ],
   "source": [
    "# Take input from the user\n",
    "n = int(input(\"Enter a number: \"))\n",
    "\n",
    "# Calculate the sum of numbers from 1 to n using the sum function\n",
    "total_sum = sum(range(1, n + 1))\n",
    "\n",
    "# Print the result\n",
    "print(f\"The sum of all numbers from 1 to {n} is: {total_sum}\")"
   ]
  },
  {
   "cell_type": "markdown",
   "metadata": {
    "id": "S4OA1NOB1EBt"
   },
   "source": [
    "**Problem 8**\n",
    "\n",
    "Write a python program that takes few numbers as command line argument. Use a loop to display all elements. Use another loop to display all elements in the even position. Use another loop to display all elements in the odd position."
   ]
  },
  {
   "cell_type": "code",
   "execution_count": null,
   "metadata": {
    "colab": {
     "base_uri": "https://localhost:8080/"
    },
    "id": "Uqj0JJrFAYCy",
    "outputId": "0f46415d-bd22-4e45-fdde-43ba9a1538f6"
   },
   "outputs": [
    {
     "name": "stdout",
     "output_type": "stream",
     "text": [
      "Overwriting elements.py\n"
     ]
    }
   ],
   "source": [
    "%%writefile elements.py\n",
    "#!usr/bin/bash python\n",
    "\n",
    "import sys\n",
    "\n",
    "# Exclude the script name from the arguments\n",
    "numbers = sys.argv[1:]\n",
    "\n",
    "# Convert all arguments to integers\n",
    "numbers = [int(num) for num in numbers]\n",
    "\n",
    "# Display all elements\n",
    "print(\"All elements:\")\n",
    "for num in numbers:\n",
    "    print(num)\n",
    "\n",
    "# Display elements at even positions (index 0, 2, 4, ...)\n",
    "print(\"\\nElements in even positions (0-based index):\")\n",
    "for i in range(1, len(numbers), 2):\n",
    "    print(numbers[i])\n",
    "\n",
    "# Display elements at odd positions (index 1, 3, 5, ...)\n",
    "print(\"\\nElements in odd positions (0-based index):\")\n",
    "for i in range(0, len(numbers), 2):\n",
    "    print(numbers[i])"
   ]
  },
  {
   "cell_type": "code",
   "execution_count": null,
   "metadata": {
    "colab": {
     "base_uri": "https://localhost:8080/"
    },
    "id": "ZAs9VGn_CpxJ",
    "outputId": "e052873e-1e6a-4134-89ee-fee8c3e431cf"
   },
   "outputs": [
    {
     "name": "stdout",
     "output_type": "stream",
     "text": [
      "All elements:\n",
      "1\n",
      "2\n",
      "3\n",
      "4\n",
      "5\n",
      "6\n",
      "\n",
      "Elements in even positions (0-based index):\n",
      "2\n",
      "4\n",
      "6\n",
      "\n",
      "Elements in odd positions (0-based index):\n",
      "1\n",
      "3\n",
      "5\n"
     ]
    }
   ],
   "source": [
    "%run elements.py 1 2 3 4 5 6"
   ]
  },
  {
   "cell_type": "markdown",
   "metadata": {
    "id": "DAgEW9F75Jf2"
   },
   "source": [
    "**Problem 9**\n",
    "\n",
    "Write a python program that takes few numbers as command line argument. Find the average of those numbers."
   ]
  },
  {
   "cell_type": "code",
   "execution_count": null,
   "metadata": {
    "colab": {
     "base_uri": "https://localhost:8080/"
    },
    "id": "L0LrKrKFAl-f",
    "outputId": "18d1e959-6ccf-4650-bd3f-dcf87e5ccddd"
   },
   "outputs": [
    {
     "name": "stdout",
     "output_type": "stream",
     "text": [
      "Overwriting average_calculator.py\n"
     ]
    }
   ],
   "source": [
    "%%writefile average_calculator.py\n",
    "#!usr/bin/bash python\n",
    "\n",
    "\n",
    "import sys\n",
    "\n",
    "# Exclude the script name from the arguments\n",
    "numbers = sys.argv[1:]\n",
    "\n",
    "# Convert all arguments to integers\n",
    "numbers = [int(num) for num in numbers]\n",
    "\n",
    "# Calculate the sum of the numbers\n",
    "sum_numbers = sum(numbers)\n",
    "\n",
    "# Calculate the average\n",
    "average = sum_numbers / len(numbers) if numbers else 0  # Handle the case of no input numbers\n",
    "\n",
    "# Print the average\n",
    "print(\"Average:\", average)\n"
   ]
  },
  {
   "cell_type": "code",
   "execution_count": null,
   "metadata": {
    "colab": {
     "base_uri": "https://localhost:8080/"
    },
    "id": "3AtzjEI4AzqX",
    "outputId": "876e783d-1a17-4b07-c946-811b1d371d34"
   },
   "outputs": [
    {
     "name": "stdout",
     "output_type": "stream",
     "text": [
      "Average: 35.0\n"
     ]
    }
   ],
   "source": [
    "%run average_calculator.py 10 20 30 40 50 60"
   ]
  },
  {
   "cell_type": "markdown",
   "metadata": {
    "id": "rZP_eg_XuKwO"
   },
   "source": [
    "**Problem 10**\n",
    "\n",
    "Write a Python program that takes a string as input, which contains numbers separated by commas. Convert the string to a list of numbers and determine whether all the numbers are different from each other."
   ]
  },
  {
   "cell_type": "code",
   "execution_count": null,
   "metadata": {
    "colab": {
     "base_uri": "https://localhost:8080/"
    },
    "id": "bNPr3EahC-Hw",
    "outputId": "e2f7e5ca-ca1d-476a-d0f9-88389ad5b0fb"
   },
   "outputs": [
    {
     "name": "stdout",
     "output_type": "stream",
     "text": [
      "Enter numbers separated by commas: 17, 25, 10, 40, 33, 45\n",
      "All numbers are different.\n"
     ]
    }
   ],
   "source": [
    "# prompt: Write a Python program that takes a string as input, which contains numbers separated by commas. Convert the string to a list of numbers and determine whether all the numbers are different from each other.\n",
    "\n",
    "# Get the string input from the user\n",
    "numbers_string = input(\"Enter numbers separated by commas: \")\n",
    "\n",
    "# Split the string into a list of numbers\n",
    "numbers_list = [int(num) for num in numbers_string.split(\",\")]\n",
    "\n",
    "# Check if all numbers are different\n",
    "if len(numbers_list) == len(set(numbers_list)):\n",
    "  print(\"All numbers are different.\")\n",
    "else:\n",
    "  print(\"Not all numbers are different.\")\n"
   ]
  },
  {
   "cell_type": "code",
   "execution_count": 16,
   "metadata": {},
   "outputs": [
    {
     "name": "stdin",
     "output_type": "stream",
     "text": [
      "Enter numbers separated by commas:  1,2,3,4,4\n"
     ]
    },
    {
     "name": "stdout",
     "output_type": "stream",
     "text": [
      "There are duplicate numbers.\n"
     ]
    }
   ],
   "source": [
    "# Take the input string of numbers separated by commas\n",
    "input_string = input(\"Enter numbers separated by commas: \")\n",
    "\n",
    "# Convert the input string to a list of numbers\n",
    "number_list = [int(num) for num in input_string.split(',')]\n",
    "\n",
    "# Check if all numbers are different (using a set)\n",
    "if len(number_list) == len(set(number_list)):\n",
    "    print(\"All numbers are different.\")\n",
    "else:\n",
    "    print(\"There are duplicate numbers.\")"
   ]
  },
  {
   "cell_type": "markdown",
   "metadata": {
    "id": "KgTnX2_eu6l1"
   },
   "source": [
    "**Problem 11**\n",
    "\n",
    "Write a Python program that takes a string as input, which contains numbers separated by commas. Convert the string to a list of numbers. Now pick 3 unique numbers from the list whose sum is 100."
   ]
  },
  {
   "cell_type": "code",
   "execution_count": null,
   "metadata": {
    "colab": {
     "base_uri": "https://localhost:8080/"
    },
    "id": "4nqI8ovJE72e",
    "outputId": "db032906-6858-449a-fcec-c4e76f1e4e72"
   },
   "outputs": [
    {
     "name": "stdout",
     "output_type": "stream",
     "text": [
      "Enter numbers separated by commas: 25, 35, 45, 30, 20\n",
      "25 45 30\n"
     ]
    }
   ],
   "source": [
    "# prompt: Write a Python program that takes a string as input, which contains numbers separated by commas. Convert the string to a list of numbers. Now pick 3 unique numbers from the list whose sum is 100.\n",
    "\n",
    "# Get the string input from the user\n",
    "numbers_string = input(\"Enter numbers separated by commas: \")\n",
    "\n",
    "# Split the string into a list of numbers\n",
    "numbers_list = [int(num) for num in numbers_string.split(\",\")]\n",
    "\n",
    "# Find three unique numbers that sum to 100\n",
    "found = False\n",
    "for i in range(len(numbers_list)):\n",
    "  for j in range(i + 1, len(numbers_list)):\n",
    "    for k in range(j + 1, len(numbers_list)):\n",
    "      if numbers_list[i] + numbers_list[j] + numbers_list[k] == 100:\n",
    "        print(numbers_list[i], numbers_list[j], numbers_list[k])\n",
    "        found = True\n",
    "        break\n",
    "    if found:\n",
    "      break\n",
    "  if found:\n",
    "    break\n",
    "\n",
    "if not found:\n",
    "  print(\"No three unique numbers found that sum to 100.\")\n"
   ]
  },
  {
   "cell_type": "code",
   "execution_count": 17,
   "metadata": {},
   "outputs": [
    {
     "name": "stdin",
     "output_type": "stream",
     "text": [
      "Enter numbers separated by commas:  20,30,50,10,25,35,40,15\n"
     ]
    },
    {
     "name": "stdout",
     "output_type": "stream",
     "text": [
      "3 unique numbers whose sum is 100: 20, 30, 50\n"
     ]
    }
   ],
   "source": [
    "# Take the input string of numbers separated by commas\n",
    "input_string = input(\"Enter numbers separated by commas: \")\n",
    "\n",
    "# Convert the input string to a list of numbers\n",
    "number_list = [int(num) for num in input_string.split(',')]\n",
    "\n",
    "# Find 3 unique numbers whose sum is 100\n",
    "found = False\n",
    "\n",
    "# Use a nested loop to check all combinations of 3 unique numbers\n",
    "for i in range(len(number_list)):\n",
    "    for j in range(i + 1, len(number_list)):\n",
    "        for k in range(j + 1, len(number_list)):\n",
    "            if number_list[i] + number_list[j] + number_list[k] == 100:\n",
    "                print(f\"3 unique numbers whose sum is 100: {number_list[i]}, {number_list[j]}, {number_list[k]}\")\n",
    "                found = True\n",
    "                break\n",
    "        if found:\n",
    "            break\n",
    "    if found:\n",
    "        break\n",
    "\n",
    "if not found:\n",
    "    print(\"No three unique numbers sum to 100.\")"
   ]
  },
  {
   "cell_type": "markdown",
   "metadata": {
    "id": "6tRt53BBz25I"
   },
   "source": [
    "**Problem 12**\n",
    "\n",
    "Write a Python program to get 2 positive numbers as input and multiply them without using the '*' operator."
   ]
  },
  {
   "cell_type": "code",
   "execution_count": null,
   "metadata": {
    "colab": {
     "base_uri": "https://localhost:8080/"
    },
    "id": "5WIRg5fw0Fi5",
    "outputId": "1f138cf5-0361-4592-fdbc-2b959e24b9cd"
   },
   "outputs": [
    {
     "name": "stdout",
     "output_type": "stream",
     "text": [
      "Enter first positive number1: 6\n",
      "Enter second positive number2: 5\n",
      "The multiply of two positive number without using * operator is:  30\n"
     ]
    }
   ],
   "source": [
    "num1 = int(input(\"Enter first positive number1: \"))\n",
    "num2 = int(input(\"Enter second positive number2: \"))\n",
    "\n",
    "item = 0\n",
    "\n",
    "for i in range(1, num2 + 1):\n",
    "  item = item + num1\n",
    "\n",
    "print(\"The multiply of two positive number without using * operator is: \", item)\n"
   ]
  },
  {
   "cell_type": "code",
   "execution_count": 18,
   "metadata": {},
   "outputs": [
    {
     "name": "stdin",
     "output_type": "stream",
     "text": [
      "Enter the first positive number:  5\n",
      "Enter the second positive number:  3\n"
     ]
    },
    {
     "name": "stdout",
     "output_type": "stream",
     "text": [
      "The result of multiplying 5 and 3 is: 15\n"
     ]
    }
   ],
   "source": [
    "# Get two positive numbers as input\n",
    "num1 = int(input(\"Enter the first positive number: \"))\n",
    "num2 = int(input(\"Enter the second positive number: \"))\n",
    "\n",
    "# Initialize the result to 0\n",
    "result = 0\n",
    "\n",
    "# Multiply num1 by num2 using a loop\n",
    "for _ in range(num2):\n",
    "    result += num1\n",
    "\n",
    "# Print the result\n",
    "print(f\"The result of multiplying {num1} and {num2} is: {result}\")"
   ]
  },
  {
   "cell_type": "markdown",
   "metadata": {
    "id": "EnXIYV3B0vEi"
   },
   "source": [
    "**Problem 13**\n",
    "\n",
    "Write a python program to print first 10 terms in a Fibonacci series"
   ]
  },
  {
   "cell_type": "code",
   "execution_count": null,
   "metadata": {
    "colab": {
     "base_uri": "https://localhost:8080/"
    },
    "id": "TUhnDqOPGS17",
    "outputId": "a963423e-115d-4207-d084-2de5e9abe146"
   },
   "outputs": [
    {
     "name": "stdout",
     "output_type": "stream",
     "text": [
      "Fibonacci series: \n",
      "0 1 1 2 3 5 8 13 21 34 "
     ]
    }
   ],
   "source": [
    "# prompt: Write a python program to print first 10 terms in a Fibonacci series\n",
    "\n",
    "# Initialize the first two terms\n",
    "num1, num2 = 0, 1\n",
    "\n",
    "# Print the first 10 terms\n",
    "print(\"Fibonacci series: \")\n",
    "for i in range(10):\n",
    "  print(num1, end=\" \")\n",
    "  nth = num1 + num2\n",
    "  # Update values\n",
    "  num1 = num2\n",
    "  num2 = nth\n",
    "\n"
   ]
  },
  {
   "cell_type": "code",
   "execution_count": 19,
   "metadata": {},
   "outputs": [
    {
     "name": "stdout",
     "output_type": "stream",
     "text": [
      "First 10 terms of the Fibonacci series:\n",
      "0 1 1 2 3 5 8 13 21 34 "
     ]
    }
   ],
   "source": [
    "# Initialize the first two terms of the Fibonacci sequence\n",
    "a, b = 0, 1\n",
    "\n",
    "# Print the first 10 terms in the Fibonacci series\n",
    "print(\"First 10 terms of the Fibonacci series:\")\n",
    "for _ in range(10):\n",
    "    print(a, end=\" \")\n",
    "    a, b = b, a + b  # Update a and b for the next term"
   ]
  },
  {
   "cell_type": "markdown",
   "metadata": {
    "id": "UvfmEmtZ6_EW"
   },
   "source": [
    "**Problem 14**\n",
    "\n",
    "Write a python program which takes a number as input and convert the number to binary. Note: Don't use any builtin functions."
   ]
  },
  {
   "cell_type": "code",
   "execution_count": null,
   "metadata": {
    "colab": {
     "base_uri": "https://localhost:8080/"
    },
    "id": "0P3rYOV6IK_Z",
    "outputId": "952931c6-c98a-4e4f-e1bf-b0d2ec433802"
   },
   "outputs": [
    {
     "name": "stdout",
     "output_type": "stream",
     "text": [
      "Enter a number: 35\n",
      "The binary representation is:  100011 \n"
     ]
    }
   ],
   "source": [
    "number = int(input(\"Enter a number: \"))\n",
    "binary = \" \"\n",
    "\n",
    "while number > 0:\n",
    "  remainder = number % 2\n",
    "  binary = str(remainder) + binary\n",
    "  number = number // 2\n",
    "\n",
    "print(\"The binary representation is: \", binary)"
   ]
  },
  {
   "cell_type": "code",
   "execution_count": 20,
   "metadata": {},
   "outputs": [
    {
     "name": "stdin",
     "output_type": "stream",
     "text": [
      "Enter a positive integer:  64\n"
     ]
    },
    {
     "name": "stdout",
     "output_type": "stream",
     "text": [
      "The binary representation of 64 is: 1000000\n"
     ]
    }
   ],
   "source": [
    "# Function to convert a number to binary\n",
    "def to_binary(number):\n",
    "    binary = \"\"  # To store the binary representation\n",
    "    if number == 0:  \n",
    "        return \"0\"  # Special case for input 0\n",
    "    \n",
    "    # Loop to divide the number and get remainders\n",
    "    while number > 0:\n",
    "        remainder = number % 2  # Get the remainder (0 or 1)\n",
    "        binary = str(remainder) + binary  # Add remainder to the left of the binary string\n",
    "        number = number // 2  # Reduce the number by dividing it by 2\n",
    "    \n",
    "    return binary\n",
    "\n",
    "# Input: Take a number from the user\n",
    "num = int(input(\"Enter a positive integer: \"))\n",
    "\n",
    "# Check if input is valid\n",
    "if num < 0:\n",
    "    print(\"Please enter a positive integer.\")\n",
    "else:\n",
    "    # Convert and print the binary representation\n",
    "    binary_result = to_binary(num)\n",
    "    print(f\"The binary representation of {num} is: {binary_result}\")"
   ]
  },
  {
   "cell_type": "markdown",
   "metadata": {
    "id": "mRHDuUD27_E-"
   },
   "source": [
    "**Problem 15**\n",
    "\n",
    "Write a python program which takes a binary number as input and convert the number to decimal. Note: Don't use any builtin functions."
   ]
  },
  {
   "cell_type": "code",
   "execution_count": null,
   "metadata": {
    "colab": {
     "base_uri": "https://localhost:8080/"
    },
    "id": "ZvVJ0sbUJhrL",
    "outputId": "48e478f3-4ec1-4f1d-9fcc-373d119406f3"
   },
   "outputs": [
    {
     "name": "stdout",
     "output_type": "stream",
     "text": [
      "Enter a binary number: 1100011\n",
      "The decimal representation is:  99\n"
     ]
    }
   ],
   "source": [
    "# prompt: Write a python program which takes a binary number as input and convert the number to decimal. Note: Don't use any builtin functions.\n",
    "\n",
    "binary_number = input(\"Enter a binary number: \")\n",
    "decimal = 0\n",
    "power = 0\n",
    "\n",
    "for digit in binary_number[::-1]:\n",
    "  decimal = decimal + int(digit) * (2 ** power)\n",
    "  power = power + 1\n",
    "\n",
    "print(\"The decimal representation is: \", decimal)\n"
   ]
  },
  {
   "cell_type": "code",
   "execution_count": 21,
   "metadata": {},
   "outputs": [
    {
     "name": "stdin",
     "output_type": "stream",
     "text": [
      "Enter a binary number:  1100011\n"
     ]
    },
    {
     "name": "stdout",
     "output_type": "stream",
     "text": [
      "The decimal equivalent of 1100011 is: 99\n"
     ]
    }
   ],
   "source": [
    "# Function to convert binary to decimal\n",
    "def binary_to_decimal(binary_str):\n",
    "    decimal = 0  # To store the decimal value\n",
    "    power = 0  # To track the position (powers of 2)\n",
    "    \n",
    "    # Loop through the binary digits from right to left\n",
    "    for digit in binary_str[::-1]:\n",
    "        if digit == '1':  # If the digit is 1, add the corresponding power of 2\n",
    "            decimal += 2 ** power\n",
    "        elif digit != '0':  # If input contains characters other than 0 and 1\n",
    "            return \"Invalid binary number\"\n",
    "        power += 1  # Move to the next power of 2\n",
    "    \n",
    "    return decimal\n",
    "\n",
    "# Input: Take a binary number as a string\n",
    "binary_input = input(\"Enter a binary number: \")\n",
    "\n",
    "# Validate and process the input\n",
    "if not binary_input:  # Check for empty input\n",
    "    print(\"Invalid input! Please enter a binary number.\")\n",
    "else:\n",
    "    result = binary_to_decimal(binary_input)\n",
    "    if isinstance(result, str):  # If invalid input\n",
    "        print(result)\n",
    "    else:\n",
    "        print(f\"The decimal equivalent of {binary_input} is: {result}\")"
   ]
  },
  {
   "cell_type": "markdown",
   "metadata": {
    "id": "Pn3i07JVHqEk"
   },
   "source": [
    "**Problem 16**\n",
    "\n",
    "Write a Python program that asks the user to input a positive integer n and then prints the multiplication table of n up to 12."
   ]
  },
  {
   "cell_type": "code",
   "execution_count": null,
   "metadata": {
    "colab": {
     "base_uri": "https://localhost:8080/"
    },
    "id": "_VaYfi7lH01X",
    "outputId": "2f418406-37f2-463d-8f7e-4e846a8cfb53"
   },
   "outputs": [
    {
     "name": "stdout",
     "output_type": "stream",
     "text": [
      "Enter a positive integer: 10\n",
      "10 x 1 = 10\n",
      "10 x 2 = 20\n",
      "10 x 3 = 30\n",
      "10 x 4 = 40\n",
      "10 x 5 = 50\n",
      "10 x 6 = 60\n",
      "10 x 7 = 70\n",
      "10 x 8 = 80\n",
      "10 x 9 = 90\n",
      "10 x 10 = 100\n",
      "10 x 11 = 110\n",
      "10 x 12 = 120\n"
     ]
    }
   ],
   "source": [
    "# Get the user input\n",
    "n = int(input(\"Enter a positive integer: \"))\n",
    "\n",
    "# Print the multiplication table\n",
    "for i in range(1, 13):\n",
    "  print(n, \"x\", i, \"=\", n*i)"
   ]
  },
  {
   "cell_type": "code",
   "execution_count": 22,
   "metadata": {},
   "outputs": [
    {
     "name": "stdin",
     "output_type": "stream",
     "text": [
      "Enter a positive integer:  22\n"
     ]
    },
    {
     "name": "stdout",
     "output_type": "stream",
     "text": [
      "Multiplication Table of 22 up to 12:\n",
      "22 x 1 = 22\n",
      "22 x 2 = 44\n",
      "22 x 3 = 66\n",
      "22 x 4 = 88\n",
      "22 x 5 = 110\n",
      "22 x 6 = 132\n",
      "22 x 7 = 154\n",
      "22 x 8 = 176\n",
      "22 x 9 = 198\n",
      "22 x 10 = 220\n",
      "22 x 11 = 242\n",
      "22 x 12 = 264\n"
     ]
    }
   ],
   "source": [
    "# Input: Ask the user to enter a positive integer\n",
    "n = int(input(\"Enter a positive integer: \"))\n",
    "\n",
    "# Check if the input is positive\n",
    "if n > 0:\n",
    "    print(f\"Multiplication Table of {n} up to 12:\")\n",
    "    for i in range(1, 13):  # Loop from 1 to 12\n",
    "        print(f\"{n} x {i} = {n * i}\")\n",
    "else:\n",
    "    print(\"Please enter a positive integer!\")"
   ]
  },
  {
   "cell_type": "markdown",
   "metadata": {
    "id": "Uv1TuM37H18U"
   },
   "source": [
    "**Problem 17**\n",
    "\n",
    "Write a Python program that asks the user to input a positive integer n and then counts and prints the number of digits in n."
   ]
  },
  {
   "cell_type": "code",
   "execution_count": null,
   "metadata": {
    "colab": {
     "base_uri": "https://localhost:8080/"
    },
    "id": "5nZOLEh9H_Cp",
    "outputId": "73f9396d-ce0d-4164-b242-06feaf0c71d0"
   },
   "outputs": [
    {
     "name": "stdout",
     "output_type": "stream",
     "text": [
      "Enter a positive integer: 456\n",
      "The number of digits in 0 is: 3\n"
     ]
    }
   ],
   "source": [
    "# Get input from user\n",
    "n = int(input(\"Enter a positive integer: \"))\n",
    "\n",
    "# Initialize count to 0\n",
    "count = 0\n",
    "\n",
    "# Count the number of digits in n\n",
    "while n > 0:\n",
    "  n //= 10\n",
    "  count += 1\n",
    "\n",
    "# Print the count of digits\n",
    "print(\"The number of digits in\", n, \"is:\", count)"
   ]
  },
  {
   "cell_type": "code",
   "execution_count": 23,
   "metadata": {},
   "outputs": [
    {
     "name": "stdin",
     "output_type": "stream",
     "text": [
      "Enter a positive integer:  456\n"
     ]
    },
    {
     "name": "stdout",
     "output_type": "stream",
     "text": [
      "The number of digits in 456 is: 3\n"
     ]
    }
   ],
   "source": [
    "# Input: Ask the user to enter a positive integer\n",
    "n = input(\"Enter a positive integer: \")\n",
    "\n",
    "# Check if the input is a positive integer\n",
    "if n.isdigit() and int(n) > 0:\n",
    "    num_digits = len(n)  # Count the number of digits using len()\n",
    "    print(f\"The number of digits in {n} is: {num_digits}\")\n",
    "else:\n",
    "    print(\"Please enter a valid positive integer!\")"
   ]
  },
  {
   "cell_type": "markdown",
   "metadata": {
    "id": "aTrir6SzIUc8"
   },
   "source": [
    "**Problem 18**\n",
    "\n",
    "Write a Python program that asks the user to input a positive integer n and then calculates and prints the sum of its digits."
   ]
  },
  {
   "cell_type": "code",
   "execution_count": null,
   "metadata": {
    "colab": {
     "base_uri": "https://localhost:8080/"
    },
    "id": "F3QXAF4xIWrl",
    "outputId": "27212546-1e37-468a-c436-1756ca3f5b58"
   },
   "outputs": [
    {
     "name": "stdout",
     "output_type": "stream",
     "text": [
      "Enter a positive integer: 53\n",
      "The sum of the digits is: 8\n"
     ]
    },
    {
     "data": {
      "text/plain": [
       "int"
      ]
     },
     "execution_count": 8,
     "metadata": {},
     "output_type": "execute_result"
    }
   ],
   "source": [
    "# Get input from the user\n",
    "n = int(input(\"Enter a positive integer: \"))\n",
    "\n",
    "# Initialize sum to 0\n",
    "sum_of_digits = 0\n",
    "\n",
    "# Calculate the sum of digits\n",
    "while n > 0:\n",
    "  digit = n % 10\n",
    "  sum_of_digits += digit\n",
    "  n //= 10\n",
    "\n",
    "# Print the sum of digits\n",
    "print(\"The sum of the digits is:\", sum_of_digits)\n"
   ]
  },
  {
   "cell_type": "code",
   "execution_count": 24,
   "metadata": {},
   "outputs": [
    {
     "name": "stdin",
     "output_type": "stream",
     "text": [
      "Enter a positive integer:  13\n"
     ]
    },
    {
     "name": "stdout",
     "output_type": "stream",
     "text": [
      "The sum of the digits in 13 is: 4\n"
     ]
    }
   ],
   "source": [
    "# Input: Ask the user to enter a positive integer\n",
    "n = input(\"Enter a positive integer: \")\n",
    "\n",
    "# Check if the input is a positive integer\n",
    "if n.isdigit() and int(n) > 0:\n",
    "    # Calculate the sum of digits\n",
    "    sum_of_digits = sum(int(digit) for digit in n)\n",
    "    print(f\"The sum of the digits in {n} is: {sum_of_digits}\")\n",
    "else:\n",
    "    print(\"Please enter a valid positive integer!\")"
   ]
  },
  {
   "cell_type": "markdown",
   "metadata": {
    "id": "SU0SPQYNIehv"
   },
   "source": [
    "**Problem 19**\n",
    "\n",
    "Write a Python program that asks the user to input two positive integers a and b, and then calculates and prints the greatest common divisor (GCD) of a and b using a loop."
   ]
  },
  {
   "cell_type": "code",
   "execution_count": null,
   "metadata": {
    "colab": {
     "base_uri": "https://localhost:8080/"
    },
    "id": "BIEkSttXIgzP",
    "outputId": "a240e94f-8351-432a-e4b4-8e44d4a62fc6"
   },
   "outputs": [
    {
     "name": "stdout",
     "output_type": "stream",
     "text": [
      "Enter first positive integer:24\n",
      "Enter second positive integer: 18\n",
      "The GCD of 0 and 6 is 6\n"
     ]
    }
   ],
   "source": [
    "a = int(input(\"Enter first positive integer:\")) #24\n",
    "b = int(input(\"Enter second positive integer: \")) #18\n",
    "\n",
    "if a > b:\n",
    "  a, b = b, a #swap two positive integers\n",
    "\n",
    "while a != 0:\n",
    "  a, b = b % a, a\n",
    "\n",
    "print(\"The GCD of\", a, \"and\", b, \"is\", b)"
   ]
  },
  {
   "cell_type": "code",
   "execution_count": 25,
   "metadata": {},
   "outputs": [
    {
     "name": "stdin",
     "output_type": "stream",
     "text": [
      "Enter the first positive integer:  8\n",
      "Enter the second positive integer:  25\n"
     ]
    },
    {
     "name": "stdout",
     "output_type": "stream",
     "text": [
      "The GCD of 8 and 25 is: 1\n"
     ]
    }
   ],
   "source": [
    "# Input: Ask the user to enter two positive integers\n",
    "a = int(input(\"Enter the first positive integer: \"))\n",
    "b = int(input(\"Enter the second positive integer: \"))\n",
    "\n",
    "# Check if the input values are positive\n",
    "if a > 0 and b > 0:\n",
    "    # Find the GCD using a loop\n",
    "    gcd = 1\n",
    "    for i in range(1, min(a, b) + 1):  # Loop from 1 to the smaller of the two numbers\n",
    "        if a % i == 0 and b % i == 0:  # Check if 'i' divides both numbers\n",
    "            gcd = i  # Update GCD\n",
    "    print(f\"The GCD of {a} and {b} is: {gcd}\")\n",
    "else:\n",
    "    print(\"Please enter valid positive integers!\")"
   ]
  },
  {
   "cell_type": "markdown",
   "metadata": {
    "id": "w63hobswImCa"
   },
   "source": [
    "**Problem 20**\n",
    "\n",
    "Write a Python program that asks the user to input a positive integer n and then calculates and prints the sum of the following sequence:\n",
    "\n",
    "1 + 1/2 + 1/3 + ... + 1/n."
   ]
  },
  {
   "cell_type": "code",
   "execution_count": null,
   "metadata": {
    "colab": {
     "base_uri": "https://localhost:8080/"
    },
    "id": "ao5UL82nIoq-",
    "outputId": "e11cdd90-a795-442a-9261-cc414f9e51fe"
   },
   "outputs": [
    {
     "name": "stdout",
     "output_type": "stream",
     "text": [
      "Enter a positive integer: 7\n",
      "The sum of the sequence is:  2.5928571428571425\n"
     ]
    }
   ],
   "source": [
    "# Get input from the user\n",
    "n = int(input(\"Enter a positive integer: \"))\n",
    "\n",
    "# Initialize sum to 0\n",
    "sum_of_sequence = 0\n",
    "\n",
    "# Calculate the sum of the sequence\n",
    "# The for loop is used to find the sum and the number is incremented for each iteration.\n",
    "# The numbers are added to the sum variable and this continues till\n",
    "# the value of i reaches the sum of sequence.\n",
    "for i in range(1, n+1):\n",
    "  sum_of_sequence += 1/i\n",
    "\n",
    "# Print the sum of the sequence\n",
    "print(\"The sum of the sequence is: \", sum_of_sequence)"
   ]
  },
  {
   "cell_type": "code",
   "execution_count": 29,
   "metadata": {},
   "outputs": [
    {
     "name": "stdin",
     "output_type": "stream",
     "text": [
      "Enter a positive integer:  5\n"
     ]
    },
    {
     "name": "stdout",
     "output_type": "stream",
     "text": [
      "The sum of the sequence 1 + 1/2 + ... + 1/5 is: 2.2833\n"
     ]
    }
   ],
   "source": [
    "# Input: Ask the user to enter a positive integer\n",
    "n = int(input(\"Enter a positive integer: \"))\n",
    "\n",
    "# Check if the input value is positive\n",
    "if n > 0:\n",
    "    # Initialize the sum\n",
    "    total_sum = 0.0\n",
    "    \n",
    "    # Calculate the sum of the sequence\n",
    "    for i in range(1, n + 1):  # Loop from 1 to n\n",
    "        total_sum += 1 / i  # Add the reciprocal of i to the sum\n",
    "    \n",
    "    # Print the result\n",
    "    print(f\"The sum of the sequence 1 + 1/2 + ... + 1/{n} is: {total_sum:.4f}\")\n",
    "else:\n",
    "    print(\"Please enter a valid positive integer!\")"
   ]
  }
 ],
 "metadata": {
  "colab": {
   "provenance": []
  },
  "kernelspec": {
   "display_name": "Python 3 (ipykernel)",
   "language": "python",
   "name": "python3"
  },
  "language_info": {
   "codemirror_mode": {
    "name": "ipython",
    "version": 3
   },
   "file_extension": ".py",
   "mimetype": "text/x-python",
   "name": "python",
   "nbconvert_exporter": "python",
   "pygments_lexer": "ipython3",
   "version": "3.13.0"
  }
 },
 "nbformat": 4,
 "nbformat_minor": 4
}
